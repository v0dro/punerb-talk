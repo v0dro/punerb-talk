{
 "cells": [
  {
   "cell_type": "markdown",
   "metadata": {
    "collapsed": false
   },
   "source": [
    "# Introduction to daru (Data Analysis in RUby)\n",
    "\n",
    "## Sameer Deshmukh\n",
    "\n",
    "### Deccan Ruby Conf 2015, Pune, India."
   ]
  },
  {
   "cell_type": "code",
   "execution_count": 1,
   "metadata": {
    "collapsed": false,
    "scrolled": true
   },
   "outputs": [
    {
     "data": {
      "application/javascript": [
       "if(window['d3'] === undefined ||\n",
       "   window['Nyaplot'] === undefined){\n",
       "    var path = {\"d3\":\"http://d3js.org/d3.v3.min\",\"downloadable\":\"http://cdn.rawgit.com/domitry/d3-downloadable/master/d3-downloadable\"};\n",
       "\n",
       "\n",
       "\n",
       "    var shim = {\"d3\":{\"exports\":\"d3\"},\"downloadable\":{\"exports\":\"downloadable\"}};\n",
       "\n",
       "    require.config({paths: path, shim:shim});\n",
       "\n",
       "\n",
       "require(['d3'], function(d3){window['d3']=d3;console.log('finished loading d3');require(['downloadable'], function(downloadable){window['downloadable']=downloadable;console.log('finished loading downloadable');\n",
       "\n",
       "\tvar script = d3.select(\"head\")\n",
       "\t    .append(\"script\")\n",
       "\t    .attr(\"src\", \"http://cdn.rawgit.com/domitry/Nyaplotjs/master/release/nyaplot.js\")\n",
       "\t    .attr(\"async\", true);\n",
       "\n",
       "\tscript[0][0].onload = script[0][0].onreadystatechange = function(){\n",
       "\n",
       "\n",
       "\t    var event = document.createEvent(\"HTMLEvents\");\n",
       "\t    event.initEvent(\"load_nyaplot\",false,false);\n",
       "\t    window.dispatchEvent(event);\n",
       "\t    console.log('Finished loading Nyaplotjs');\n",
       "\n",
       "\t};\n",
       "\n",
       "\n",
       "});});\n",
       "}\n"
      ],
      "text/plain": [
       "\"if(window['d3'] === undefined ||\\n   window['Nyaplot'] === undefined){\\n    var path = {\\\"d3\\\":\\\"http://d3js.org/d3.v3.min\\\",\\\"downloadable\\\":\\\"http://cdn.rawgit.com/domitry/d3-downloadable/master/d3-downloadable\\\"};\\n\\n\\n\\n    var shim = {\\\"d3\\\":{\\\"exports\\\":\\\"d3\\\"},\\\"downloadable\\\":{\\\"exports\\\":\\\"downloadable\\\"}};\\n\\n    require.config({paths: path, shim:shim});\\n\\n\\nrequire(['d3'], function(d3){window['d3']=d3;console.log('finished loading d3');require(['downloadable'], function(downloadable){window['downloadable']=downloadable;console.log('finished loading downloadable');\\n\\n\\tvar script = d3.select(\\\"head\\\")\\n\\t    .append(\\\"script\\\")\\n\\t    .attr(\\\"src\\\", \\\"http://cdn.rawgit.com/domitry/Nyaplotjs/master/release/nyaplot.js\\\")\\n\\t    .attr(\\\"async\\\", true);\\n\\n\\tscript[0][0].onload = script[0][0].onreadystatechange = function(){\\n\\n\\n\\t    var event = document.createEvent(\\\"HTMLEvents\\\");\\n\\t    event.initEvent(\\\"load_nyaplot\\\",false,false);\\n\\t    window.dispatchEvent(event);\\n\\t    console.log('Finished loading Nyaplotjs');\\n\\n\\t};\\n\\n\\n});});\\n}\\n\""
      ]
     },
     "metadata": {},
     "output_type": "display_data"
    },
    {
     "data": {
      "text/plain": [
       "true"
      ]
     },
     "execution_count": 1,
     "metadata": {},
     "output_type": "execute_result"
    }
   ],
   "source": [
    "require 'daru'\n",
    "require 'distribution'\n",
    "require 'gnuplotrb'"
   ]
  },
  {
   "cell_type": "markdown",
   "metadata": {},
   "source": [
    "### Creating a Daru::Vector\n",
    "\n",
    "**Vectors are indexed by passing data using the `index` option, and named with `name`**"
   ]
  },
  {
   "cell_type": "code",
   "execution_count": 2,
   "metadata": {
    "collapsed": false
   },
   "outputs": [
    {
     "data": {
      "text/html": [
       "<table><tr><th colspan=\"2\">Daru::Vector:89452810  size: 6</th></tr><tr><th> </th><th>Prices of stuff.</th></tr><tr><td>cherry</td><td>20</td></tr><tr><td>apple</td><td>40</td></tr><tr><td>barley</td><td>25</td></tr><tr><td>wheat</td><td>50</td></tr><tr><td>rice</td><td>45</td></tr><tr><td>sugar</td><td>12</td></tr></table>"
      ],
      "text/plain": [
       "\n",
       "#<Daru::Vector:89452810 @name = Prices of stuff. @size = 6 >\n",
       "                 Prices of stuff.\n",
       "          cherry               20\n",
       "           apple               40\n",
       "          barley               25\n",
       "           wheat               50\n",
       "            rice               45\n",
       "           sugar               12\n"
      ]
     },
     "execution_count": 2,
     "metadata": {},
     "output_type": "execute_result"
    }
   ],
   "source": [
    "vector = Daru::Vector.new(\n",
    "  [20,40,25,50,45,12], index: ['cherry', 'apple', 'barley', 'wheat', 'rice', 'sugar'], \n",
    "  name: \"Prices of stuff.\")"
   ]
  },
  {
   "cell_type": "markdown",
   "metadata": {},
   "source": [
    "### Retreive a single value\n",
    "\n",
    "**Specify the index you want to retrieve in the `#[]` operator**"
   ]
  },
  {
   "cell_type": "code",
   "execution_count": 3,
   "metadata": {
    "collapsed": false
   },
   "outputs": [
    {
     "data": {
      "text/plain": [
       "45"
      ]
     },
     "execution_count": 3,
     "metadata": {},
     "output_type": "execute_result"
    }
   ],
   "source": [
    "vector['rice']"
   ]
  },
  {
   "cell_type": "markdown",
   "metadata": {},
   "source": [
    "### Retreive multiple values\n",
    "\n",
    "**Multiple values can be retreived at the same time as another Daru::Vector by separating them with commas.**"
   ]
  },
  {
   "cell_type": "code",
   "execution_count": 4,
   "metadata": {
    "collapsed": false
   },
   "outputs": [
    {
     "data": {
      "text/html": [
       "<table><tr><th colspan=\"2\">Daru::Vector:89680340  size: 3</th></tr><tr><th> </th><th>Prices of stuff.</th></tr><tr><td>rice</td><td>45</td></tr><tr><td>wheat</td><td>50</td></tr><tr><td>sugar</td><td>12</td></tr></table>"
      ],
      "text/plain": [
       "\n",
       "#<Daru::Vector:89680340 @name = Prices of stuff. @size = 3 >\n",
       "                 Prices of stuff.\n",
       "            rice               45\n",
       "           wheat               50\n",
       "           sugar               12\n"
      ]
     },
     "execution_count": 4,
     "metadata": {},
     "output_type": "execute_result"
    }
   ],
   "source": [
    "vector['rice', 'wheat', 'sugar']"
   ]
  },
  {
   "cell_type": "markdown",
   "metadata": {},
   "source": [
    "### Retreive a slice with a Range\n",
    "\n",
    "**Specifying a range of indexes will retrieve a slice of the Daru::Vector**"
   ]
  },
  {
   "cell_type": "code",
   "execution_count": 5,
   "metadata": {
    "collapsed": false
   },
   "outputs": [
    {
     "data": {
      "text/html": [
       "<table><tr><th colspan=\"2\">Daru::Vector:78312100  size: 4</th></tr><tr><th> </th><th>Prices of stuff.</th></tr><tr><td>barley</td><td>25</td></tr><tr><td>wheat</td><td>50</td></tr><tr><td>rice</td><td>45</td></tr><tr><td>sugar</td><td>12</td></tr></table>"
      ],
      "text/plain": [
       "\n",
       "#<Daru::Vector:78312100 @name = Prices of stuff. @size = 4 >\n",
       "                 Prices of stuff.\n",
       "          barley               25\n",
       "           wheat               50\n",
       "            rice               45\n",
       "           sugar               12\n"
      ]
     },
     "execution_count": 5,
     "metadata": {},
     "output_type": "execute_result"
    }
   ],
   "source": [
    "vector['barley'..'sugar']"
   ]
  },
  {
   "cell_type": "markdown",
   "metadata": {},
   "source": [
    "### Assign a value\n",
    "\n",
    "**Assign a value by specifying the index directly to the #[]= operator**"
   ]
  },
  {
   "cell_type": "code",
   "execution_count": 6,
   "metadata": {
    "collapsed": false
   },
   "outputs": [
    {
     "data": {
      "text/html": [
       "<table><tr><th colspan=\"2\">Daru::Vector:89452810  size: 6</th></tr><tr><th> </th><th>Prices of stuff.</th></tr><tr><td>cherry</td><td>20</td></tr><tr><td>apple</td><td>40</td></tr><tr><td>barley</td><td>1500</td></tr><tr><td>wheat</td><td>50</td></tr><tr><td>rice</td><td>45</td></tr><tr><td>sugar</td><td>12</td></tr></table>"
      ],
      "text/plain": [
       "\n",
       "#<Daru::Vector:89452810 @name = Prices of stuff. @size = 6 >\n",
       "                 Prices of stuff.\n",
       "          cherry               20\n",
       "           apple               40\n",
       "          barley             1500\n",
       "           wheat               50\n",
       "            rice               45\n",
       "           sugar               12\n"
      ]
     },
     "execution_count": 6,
     "metadata": {},
     "output_type": "execute_result"
    }
   ],
   "source": [
    "vector['barley'] = 1500\n",
    "vector"
   ]
  },
  {
   "cell_type": "markdown",
   "metadata": {},
   "source": [
    "### Creating a Daru::DataFrame\n",
    "\n",
    "**The `:index` option is used for specifying the row index of the DataFrame and the `:order` option determines the order in which they will be stored.**\n",
    "\n",
    "**Note that this is only one way of creating a DataFrame. There are around 8 different ways you can do so, depending on your use case.**"
   ]
  },
  {
   "cell_type": "code",
   "execution_count": 7,
   "metadata": {
    "collapsed": false
   },
   "outputs": [
    {
     "data": {
      "text/html": [
       "<table><tr><th colspan=\"4\">Daru::DataFrame:78186750  rows: 6  cols: 3<tr><th></th><th>col0</th><th>col1</th><th>col2</th></tr><tr><td>one</td><td>1</td><td>11</td><td>a</td></tr><tr><td>two</td><td>2</td><td>22</td><td>b</td></tr><tr><td>three</td><td>3</td><td>33</td><td>c</td></tr><tr><td>four</td><td>4</td><td>44</td><td>d</td></tr><tr><td>five</td><td>5</td><td>55</td><td>e</td></tr><tr><td>six</td><td>6</td><td>66</td><td>f</td></tr></table>"
      ],
      "text/plain": [
       "\n",
       "#<Daru::DataFrame:78186750 @name = 14c1b6ea-3d0a-411a-90a0-7559058d6e41 @size = 6>\n",
       "                 col0       col1       col2 \n",
       "       one          1         11          a \n",
       "       two          2         22          b \n",
       "     three          3         33          c \n",
       "      four          4         44          d \n",
       "      five          5         55          e \n",
       "       six          6         66          f \n"
      ]
     },
     "execution_count": 7,
     "metadata": {},
     "output_type": "execute_result"
    }
   ],
   "source": [
    "df = Daru::DataFrame.new({\n",
    "  'col0' => [1,2,3,4,5,6],\n",
    "  'col2' => ['a','b','c','d','e','f'],\n",
    "  'col1' => [11,22,33,44,55,66]\n",
    "  }, \n",
    "  index: ['one', 'two', 'three', 'four', 'five', 'six'], \n",
    "  order: ['col0', 'col1', 'col2']\n",
    ")"
   ]
  },
  {
   "cell_type": "markdown",
   "metadata": {},
   "source": [
    "### Accessing a Column\n",
    "\n",
    "**A DataFrame column can be accessed using the DataFrame#[] operator.**\n",
    "\n",
    "**Note that it returns a Daru::Vector**"
   ]
  },
  {
   "cell_type": "code",
   "execution_count": 8,
   "metadata": {
    "collapsed": false
   },
   "outputs": [
    {
     "data": {
      "text/html": [
       "<table><tr><th colspan=\"2\">Daru::Vector:90053990  size: 6</th></tr><tr><th> </th><th>col1</th></tr><tr><td>one</td><td>11</td></tr><tr><td>two</td><td>22</td></tr><tr><td>three</td><td>33</td></tr><tr><td>four</td><td>44</td></tr><tr><td>five</td><td>55</td></tr><tr><td>six</td><td>66</td></tr></table>"
      ],
      "text/plain": [
       "\n",
       "#<Daru::Vector:90053990 @name = col1 @size = 6 >\n",
       "       col1\n",
       "  one    11\n",
       "  two    22\n",
       "three    33\n",
       " four    44\n",
       " five    55\n",
       "  six    66\n"
      ]
     },
     "execution_count": 8,
     "metadata": {},
     "output_type": "execute_result"
    }
   ],
   "source": [
    "df['col1']"
   ]
  },
  {
   "cell_type": "markdown",
   "metadata": {},
   "source": [
    "### Accessing multiple Columns\n",
    "\n",
    "**Multiple columns can be accessed by separating them with a comma. The result is another DataFrame.**"
   ]
  },
  {
   "cell_type": "code",
   "execution_count": 9,
   "metadata": {
    "collapsed": false
   },
   "outputs": [
    {
     "data": {
      "text/html": [
       "<table><tr><th colspan=\"3\">Daru::DataFrame:90262730  rows: 6  cols: 2<tr><th></th><th>col2</th><th>col0</th></tr><tr><td>one</td><td>a</td><td>1</td></tr><tr><td>two</td><td>b</td><td>2</td></tr><tr><td>three</td><td>c</td><td>3</td></tr><tr><td>four</td><td>d</td><td>4</td></tr><tr><td>five</td><td>e</td><td>5</td></tr><tr><td>six</td><td>f</td><td>6</td></tr></table>"
      ],
      "text/plain": [
       "\n",
       "#<Daru::DataFrame:90262730 @name = 14c1b6ea-3d0a-411a-90a0-7559058d6e41 @size = 6>\n",
       "                 col2       col0 \n",
       "       one          a          1 \n",
       "       two          b          2 \n",
       "     three          c          3 \n",
       "      four          d          4 \n",
       "      five          e          5 \n",
       "       six          f          6 \n"
      ]
     },
     "execution_count": 9,
     "metadata": {},
     "output_type": "execute_result"
    }
   ],
   "source": [
    "df['col2', 'col0']"
   ]
  },
  {
   "cell_type": "markdown",
   "metadata": {},
   "source": [
    "### Accessing a Range of Columns\n",
    "\n",
    "**A slice of the DataFrame by columns can be obtained by specifying a Range in #[]**"
   ]
  },
  {
   "cell_type": "code",
   "execution_count": 10,
   "metadata": {
    "collapsed": false
   },
   "outputs": [
    {
     "data": {
      "text/html": [
       "<table><tr><th colspan=\"3\">Daru::DataFrame:77952450  rows: 6  cols: 2<tr><th></th><th>col1</th><th>col2</th></tr><tr><td>one</td><td>11</td><td>a</td></tr><tr><td>two</td><td>22</td><td>b</td></tr><tr><td>three</td><td>33</td><td>c</td></tr><tr><td>four</td><td>44</td><td>d</td></tr><tr><td>five</td><td>55</td><td>e</td></tr><tr><td>six</td><td>66</td><td>f</td></tr></table>"
      ],
      "text/plain": [
       "\n",
       "#<Daru::DataFrame:77952450 @name = 14c1b6ea-3d0a-411a-90a0-7559058d6e41 @size = 6>\n",
       "                 col1       col2 \n",
       "       one         11          a \n",
       "       two         22          b \n",
       "     three         33          c \n",
       "      four         44          d \n",
       "      five         55          e \n",
       "       six         66          f \n"
      ]
     },
     "execution_count": 10,
     "metadata": {},
     "output_type": "execute_result"
    }
   ],
   "source": [
    "df['col1'..'col2']"
   ]
  },
  {
   "cell_type": "markdown",
   "metadata": {},
   "source": [
    "### Assigning a Column\n",
    "\n",
    "**You can assign a Daru::Vector to a column and the indexes of the Vector will be automatically matched to that of the DataFrame.**"
   ]
  },
  {
   "cell_type": "code",
   "execution_count": 11,
   "metadata": {
    "collapsed": false
   },
   "outputs": [
    {
     "data": {
      "text/html": [
       "<table><tr><th colspan=\"4\">Daru::DataFrame:78186750  rows: 6  cols: 3<tr><th></th><th>col0</th><th>col1</th><th>col2</th></tr><tr><td>one</td><td>1</td><td>this</td><td>a</td></tr><tr><td>two</td><td>2</td><td>some</td><td>b</td></tr><tr><td>three</td><td>3</td><td>is</td><td>c</td></tr><tr><td>four</td><td>4</td><td>data</td><td>d</td></tr><tr><td>five</td><td>5</td><td>here</td><td>e</td></tr><tr><td>six</td><td>6</td><td>new</td><td>f</td></tr></table>"
      ],
      "text/plain": [
       "\n",
       "#<Daru::DataFrame:78186750 @name = 14c1b6ea-3d0a-411a-90a0-7559058d6e41 @size = 6>\n",
       "                 col0       col1       col2 \n",
       "       one          1       this          a \n",
       "       two          2       some          b \n",
       "     three          3         is          c \n",
       "      four          4       data          d \n",
       "      five          5       here          e \n",
       "       six          6        new          f \n"
      ]
     },
     "execution_count": 11,
     "metadata": {},
     "output_type": "execute_result"
    }
   ],
   "source": [
    "df['col1'] = Daru::Vector.new(['this', 'is', 'some','new','data','here'], \n",
    "  index: ['one', 'three','two','six','four', 'five'])\n",
    "df"
   ]
  },
  {
   "cell_type": "markdown",
   "metadata": {},
   "source": [
    "### Accessing a Row\n",
    "\n",
    "**A single row can be accessed using the `#row[]` function.**"
   ]
  },
  {
   "cell_type": "code",
   "execution_count": 12,
   "metadata": {
    "collapsed": false
   },
   "outputs": [
    {
     "data": {
      "text/html": [
       "<table><tr><th colspan=\"2\">Daru::Vector:90685570  size: 3</th></tr><tr><th> </th><th>four</th></tr><tr><td>col0</td><td>4</td></tr><tr><td>col1</td><td>data</td></tr><tr><td>col2</td><td>d</td></tr></table>"
      ],
      "text/plain": [
       "\n",
       "#<Daru::Vector:90685570 @name = four @size = 3 >\n",
       "     four\n",
       "col0    4\n",
       "col1 data\n",
       "col2    d\n"
      ]
     },
     "execution_count": 12,
     "metadata": {},
     "output_type": "execute_result"
    }
   ],
   "source": [
    "df.row['four']"
   ]
  },
  {
   "cell_type": "markdown",
   "metadata": {},
   "source": [
    "### Accessing a Range of Rows\n",
    "\n",
    "**Specifying a Range of Row indexes in `#row[]` will select a DataFrame with those rows**"
   ]
  },
  {
   "cell_type": "code",
   "execution_count": 13,
   "metadata": {
    "collapsed": false
   },
   "outputs": [
    {
     "data": {
      "text/html": [
       "<table><tr><th colspan=\"4\">Daru::DataFrame:90855860  rows: 3  cols: 3<tr><th></th><th>col0</th><th>col1</th><th>col2</th></tr><tr><td>three</td><td>3</td><td>is</td><td>c</td></tr><tr><td>four</td><td>4</td><td>data</td><td>d</td></tr><tr><td>five</td><td>5</td><td>here</td><td>e</td></tr></table>"
      ],
      "text/plain": [
       "\n",
       "#<Daru::DataFrame:90855860 @name = 14c1b6ea-3d0a-411a-90a0-7559058d6e41 @size = 3>\n",
       "                 col0       col1       col2 \n",
       "     three          3         is          c \n",
       "      four          4       data          d \n",
       "      five          5       here          e \n"
      ]
     },
     "execution_count": 13,
     "metadata": {},
     "output_type": "execute_result"
    }
   ],
   "source": [
    "df.row['three'..'five']"
   ]
  },
  {
   "cell_type": "markdown",
   "metadata": {},
   "source": [
    "### Assigning a Row\n",
    "\n",
    "**You can also assign a Row with Daru::Vector. Notice that indexes are mathced according to the order of the DataFrame.**"
   ]
  },
  {
   "cell_type": "code",
   "execution_count": 14,
   "metadata": {
    "collapsed": false
   },
   "outputs": [
    {
     "data": {
      "text/plain": [
       "[666, 555, 333]"
      ]
     },
     "execution_count": 14,
     "metadata": {},
     "output_type": "execute_result"
    }
   ],
   "source": [
    "df.row['five'] = [666,555,333]"
   ]
  },
  {
   "cell_type": "markdown",
   "metadata": {},
   "source": [
    "### Statistics on Vector with missing data\n",
    "\n",
    "**A host of static and rolling statistics methods are provided on Daru::Vector.**\n",
    "\n",
    "**Note that missing data (very common in most real world scenarios) is gracefully handled**"
   ]
  },
  {
   "cell_type": "code",
   "execution_count": 15,
   "metadata": {
    "collapsed": false
   },
   "outputs": [
    {
     "data": {
      "text/plain": [
       "12.8"
      ]
     },
     "execution_count": 15,
     "metadata": {},
     "output_type": "execute_result"
    }
   ],
   "source": [
    "vector = Daru::Vector.new([1,3,5,nil,2,53,nil])\n",
    "vector.mean"
   ]
  },
  {
   "cell_type": "markdown",
   "metadata": {},
   "source": [
    "### Statistics on DataFrame\n",
    "\n",
    "**DataFrame statistics will basically apply the concerned method on all numerical columns of the DataFrame.**"
   ]
  },
  {
   "cell_type": "code",
   "execution_count": 16,
   "metadata": {
    "collapsed": false
   },
   "outputs": [
    {
     "data": {
      "text/html": [
       "<table><tr><th colspan=\"2\">Daru::Vector:91170160  size: 1</th></tr><tr><th> </th><th>mean</th></tr><tr><td>col0</td><td>113.66666666666667</td></tr></table>"
      ],
      "text/plain": [
       "\n",
       "#<Daru::Vector:91170160 @name = mean @size = 1 >\n",
       "                                 mean\n",
       "              col0 113.66666666666667\n"
      ]
     },
     "execution_count": 16,
     "metadata": {},
     "output_type": "execute_result"
    }
   ],
   "source": [
    "df.mean"
   ]
  },
  {
   "cell_type": "markdown",
   "metadata": {},
   "source": [
    "**Useful statistics about the vectors in a DataFrame can be observed with `#describe`**"
   ]
  },
  {
   "cell_type": "code",
   "execution_count": 17,
   "metadata": {
    "collapsed": false
   },
   "outputs": [
    {
     "data": {
      "text/html": [
       "<table><tr><th colspan=\"2\">Daru::DataFrame:91315900  rows: 5  cols: 1<tr><th></th><th>col0</th></tr><tr><td>count</td><td>6</td></tr><tr><td>mean</td><td>113.66666666666667</td></tr><tr><td>std</td><td>270.5924364550249</td></tr><tr><td>min</td><td>1</td></tr><tr><td>max</td><td>666</td></tr></table>"
      ],
      "text/plain": [
       "\n",
       "#<Daru::DataFrame:91315900 @name = 3795ea0d-d444-4e61-9341-e6ae095ed20a @size = 5>\n",
       "                 col0 \n",
       "     count          6 \n",
       "      mean 113.666666 \n",
       "       std 270.592436 \n",
       "       min          1 \n",
       "       max        666 \n"
      ]
     },
     "execution_count": 17,
     "metadata": {},
     "output_type": "execute_result"
    }
   ],
   "source": [
    "df.describe"
   ]
  },
  {
   "cell_type": "markdown",
   "metadata": {},
   "source": [
    "## Time Series Support\n",
    "\n",
    "**Daru offers a robust time series manipulation API for indexing data based on timestamps. This makes daru a viable tool for analyzing financial data (or any data that changes with time)**"
   ]
  },
  {
   "cell_type": "markdown",
   "metadata": {},
   "source": [
    "### The DateTimeIndex\n",
    "\n",
    "**The DateTimeIndex is a special index for indexing data based on timestamps.**\n",
    "\n",
    "**A date index range can be created using the DateTimeIndex.date_range function. The `:freq` option decides the time frequency between each timestamp in the date index.**"
   ]
  },
  {
   "cell_type": "code",
   "execution_count": 18,
   "metadata": {
    "collapsed": false
   },
   "outputs": [
    {
     "data": {
      "text/plain": [
       "#<DateTimeIndex:91450160 offset=3D periods=1000 data=[2012-01-01T00:00:00+00:00...2020-03-16T00:00:00+00:00]>"
      ]
     },
     "execution_count": 18,
     "metadata": {},
     "output_type": "execute_result"
    }
   ],
   "source": [
    "index = Daru::DateTimeIndex.date_range(:start => '2012', :periods => 1000, :freq => '3D')"
   ]
  },
  {
   "cell_type": "markdown",
   "metadata": {},
   "source": [
    "**A Daru::Vector can be created by simply passing the newly created index object into the `:index` argument.**"
   ]
  },
  {
   "cell_type": "code",
   "execution_count": 19,
   "metadata": {
    "collapsed": false
   },
   "outputs": [
    {
     "data": {
      "text/html": [
       "<table><tr><th colspan=\"2\">Daru::Vector:91598600  size: 1000</th></tr><tr><th> </th><th>nil</th></tr><tr><td>2012-01-01T00:00:00+00:00</td><td>0.06432760231439416</td></tr><tr><td>2012-01-04T00:00:00+00:00</td><td>0.21570630053598872</td></tr><tr><td>2012-01-07T00:00:00+00:00</td><td>0.5101235668081691</td></tr><tr><td>2012-01-10T00:00:00+00:00</td><td>0.404505665174268</td></tr><tr><td>2012-01-13T00:00:00+00:00</td><td>0.7547853067373365</td></tr><tr><td>2012-01-16T00:00:00+00:00</td><td>0.22975839435256395</td></tr><tr><td>2012-01-19T00:00:00+00:00</td><td>0.8555217457567347</td></tr><tr><td>2012-01-22T00:00:00+00:00</td><td>0.5213372476755825</td></tr><tr><td>2012-01-25T00:00:00+00:00</td><td>0.9845856112314653</td></tr><tr><td>2012-01-28T00:00:00+00:00</td><td>0.5877276034836173</td></tr><tr><td>2012-01-31T00:00:00+00:00</td><td>0.3476004201665428</td></tr><tr><td>2012-02-03T00:00:00+00:00</td><td>0.6933956470425853</td></tr><tr><td>2012-02-06T00:00:00+00:00</td><td>0.8820849847497902</td></tr><tr><td>2012-02-09T00:00:00+00:00</td><td>0.16274513982900884</td></tr><tr><td>2012-02-12T00:00:00+00:00</td><td>0.3445045913600904</td></tr><tr><td>2012-02-15T00:00:00+00:00</td><td>0.5264949818224421</td></tr><tr><td>2012-02-18T00:00:00+00:00</td><td>0.7314171300426558</td></tr><tr><td>2012-02-21T00:00:00+00:00</td><td>0.01372400804878604</td></tr><tr><td>2012-02-24T00:00:00+00:00</td><td>0.6165265988764144</td></tr><tr><td>2012-02-27T00:00:00+00:00</td><td>0.062123219490075265</td></tr><tr><td>2012-03-01T00:00:00+00:00</td><td>0.20394638540933607</td></tr><tr><td>2012-03-04T00:00:00+00:00</td><td>0.7338861847638259</td></tr><tr><td>2012-03-07T00:00:00+00:00</td><td>0.7176222732232334</td></tr><tr><td>2012-03-10T00:00:00+00:00</td><td>0.20373371452624167</td></tr><tr><td>2012-03-13T00:00:00+00:00</td><td>0.13984099805443062</td></tr><tr><td>2012-03-16T00:00:00+00:00</td><td>0.024286944421306855</td></tr><tr><td>2012-03-19T00:00:00+00:00</td><td>0.7549682932649356</td></tr><tr><td>2012-03-22T00:00:00+00:00</td><td>0.649031311654988</td></tr><tr><td>2012-03-25T00:00:00+00:00</td><td>0.6008138470038575</td></tr><tr><td>2012-03-28T00:00:00+00:00</td><td>0.07162815663653599</td></tr><tr><td>2012-03-31T00:00:00+00:00</td><td>0.17952283586638107</td></tr><tr><td>2012-04-03T00:00:00+00:00</td><td>0.9212615178730291</td></tr><tr><td>...</td><td>...</td></tr><tr><td>2020-03-16T00:00:00+00:00</td><td>0.94293200980562</td></tr></table>"
      ],
      "text/plain": [
       "\n",
       "#<Daru::Vector:91598600 @name = nil @size = 1000 >\n",
       "                                      nil\n",
       "2012-01-01T00:00:00+  0.06432760231439416\n",
       "2012-01-04T00:00:00+  0.21570630053598872\n",
       "2012-01-07T00:00:00+   0.5101235668081691\n",
       "2012-01-10T00:00:00+    0.404505665174268\n",
       "2012-01-13T00:00:00+   0.7547853067373365\n",
       "2012-01-16T00:00:00+  0.22975839435256395\n",
       "2012-01-19T00:00:00+   0.8555217457567347\n",
       "2012-01-22T00:00:00+   0.5213372476755825\n",
       "2012-01-25T00:00:00+   0.9845856112314653\n",
       "2012-01-28T00:00:00+   0.5877276034836173\n",
       "2012-01-31T00:00:00+   0.3476004201665428\n",
       "2012-02-03T00:00:00+   0.6933956470425853\n",
       "2012-02-06T00:00:00+   0.8820849847497902\n",
       "2012-02-09T00:00:00+  0.16274513982900884\n",
       "2012-02-12T00:00:00+   0.3445045913600904\n",
       "2012-02-15T00:00:00+   0.5264949818224421\n",
       "2012-02-18T00:00:00+   0.7314171300426558\n",
       "                 ...                  ...\n"
      ]
     },
     "execution_count": 19,
     "metadata": {},
     "output_type": "execute_result"
    }
   ],
   "source": [
    "timeseries = Daru::Vector.new(1000.times.map {rand}, index: index)"
   ]
  },
  {
   "cell_type": "markdown",
   "metadata": {},
   "source": [
    "### Accessing data by partial timestamps\n",
    "\n",
    "**When a Vector or DataFrame is indexed by a DateTimeIndex, it allows you to partially specify the date to retreive all the data that belongs to that date.**\n",
    "\n",
    "**For example, to access all the data belonging to the year 2012.**"
   ]
  },
  {
   "cell_type": "code",
   "execution_count": 20,
   "metadata": {
    "collapsed": false
   },
   "outputs": [
    {
     "data": {
      "text/html": [
       "<table><tr><th colspan=\"2\">Daru::Vector:91857140  size: 122</th></tr><tr><th> </th><th>nil</th></tr><tr><td>2012-01-01T00:00:00+00:00</td><td>0.06432760231439416</td></tr><tr><td>2012-01-04T00:00:00+00:00</td><td>0.21570630053598872</td></tr><tr><td>2012-01-07T00:00:00+00:00</td><td>0.5101235668081691</td></tr><tr><td>2012-01-10T00:00:00+00:00</td><td>0.404505665174268</td></tr><tr><td>2012-01-13T00:00:00+00:00</td><td>0.7547853067373365</td></tr><tr><td>2012-01-16T00:00:00+00:00</td><td>0.22975839435256395</td></tr><tr><td>2012-01-19T00:00:00+00:00</td><td>0.8555217457567347</td></tr><tr><td>2012-01-22T00:00:00+00:00</td><td>0.5213372476755825</td></tr><tr><td>2012-01-25T00:00:00+00:00</td><td>0.9845856112314653</td></tr><tr><td>2012-01-28T00:00:00+00:00</td><td>0.5877276034836173</td></tr><tr><td>2012-01-31T00:00:00+00:00</td><td>0.3476004201665428</td></tr><tr><td>2012-02-03T00:00:00+00:00</td><td>0.6933956470425853</td></tr><tr><td>2012-02-06T00:00:00+00:00</td><td>0.8820849847497902</td></tr><tr><td>2012-02-09T00:00:00+00:00</td><td>0.16274513982900884</td></tr><tr><td>2012-02-12T00:00:00+00:00</td><td>0.3445045913600904</td></tr><tr><td>2012-02-15T00:00:00+00:00</td><td>0.5264949818224421</td></tr><tr><td>2012-02-18T00:00:00+00:00</td><td>0.7314171300426558</td></tr><tr><td>2012-02-21T00:00:00+00:00</td><td>0.01372400804878604</td></tr><tr><td>2012-02-24T00:00:00+00:00</td><td>0.6165265988764144</td></tr><tr><td>2012-02-27T00:00:00+00:00</td><td>0.062123219490075265</td></tr><tr><td>2012-03-01T00:00:00+00:00</td><td>0.20394638540933607</td></tr><tr><td>2012-03-04T00:00:00+00:00</td><td>0.7338861847638259</td></tr><tr><td>2012-03-07T00:00:00+00:00</td><td>0.7176222732232334</td></tr><tr><td>2012-03-10T00:00:00+00:00</td><td>0.20373371452624167</td></tr><tr><td>2012-03-13T00:00:00+00:00</td><td>0.13984099805443062</td></tr><tr><td>2012-03-16T00:00:00+00:00</td><td>0.024286944421306855</td></tr><tr><td>2012-03-19T00:00:00+00:00</td><td>0.7549682932649356</td></tr><tr><td>2012-03-22T00:00:00+00:00</td><td>0.649031311654988</td></tr><tr><td>2012-03-25T00:00:00+00:00</td><td>0.6008138470038575</td></tr><tr><td>2012-03-28T00:00:00+00:00</td><td>0.07162815663653599</td></tr><tr><td>2012-03-31T00:00:00+00:00</td><td>0.17952283586638107</td></tr><tr><td>2012-04-03T00:00:00+00:00</td><td>0.9212615178730291</td></tr><tr><td>...</td><td>...</td></tr><tr><td>2012-12-29T00:00:00+00:00</td><td>0.15457716361795704</td></tr></table>"
      ],
      "text/plain": [
       "\n",
       "#<Daru::Vector:91857140 @name = nil @size = 122 >\n",
       "                                      nil\n",
       "2012-01-01T00:00:00+  0.06432760231439416\n",
       "2012-01-04T00:00:00+  0.21570630053598872\n",
       "2012-01-07T00:00:00+   0.5101235668081691\n",
       "2012-01-10T00:00:00+    0.404505665174268\n",
       "2012-01-13T00:00:00+   0.7547853067373365\n",
       "2012-01-16T00:00:00+  0.22975839435256395\n",
       "2012-01-19T00:00:00+   0.8555217457567347\n",
       "2012-01-22T00:00:00+   0.5213372476755825\n",
       "2012-01-25T00:00:00+   0.9845856112314653\n",
       "2012-01-28T00:00:00+   0.5877276034836173\n",
       "2012-01-31T00:00:00+   0.3476004201665428\n",
       "2012-02-03T00:00:00+   0.6933956470425853\n",
       "2012-02-06T00:00:00+   0.8820849847497902\n",
       "2012-02-09T00:00:00+  0.16274513982900884\n",
       "2012-02-12T00:00:00+   0.3445045913600904\n",
       "2012-02-15T00:00:00+   0.5264949818224421\n",
       "2012-02-18T00:00:00+   0.7314171300426558\n",
       "                 ...                  ...\n"
      ]
     },
     "execution_count": 20,
     "metadata": {},
     "output_type": "execute_result"
    }
   ],
   "source": [
    "timeseries['2012']"
   ]
  },
  {
   "cell_type": "markdown",
   "metadata": {},
   "source": [
    "**Or to access data whose time stamp is March 2012...**"
   ]
  },
  {
   "cell_type": "code",
   "execution_count": 21,
   "metadata": {
    "collapsed": false
   },
   "outputs": [
    {
     "data": {
      "text/html": [
       "<table><tr><th colspan=\"2\">Daru::Vector:92006600  size: 11</th></tr><tr><th> </th><th>nil</th></tr><tr><td>2012-03-01T00:00:00+00:00</td><td>0.20394638540933607</td></tr><tr><td>2012-03-04T00:00:00+00:00</td><td>0.7338861847638259</td></tr><tr><td>2012-03-07T00:00:00+00:00</td><td>0.7176222732232334</td></tr><tr><td>2012-03-10T00:00:00+00:00</td><td>0.20373371452624167</td></tr><tr><td>2012-03-13T00:00:00+00:00</td><td>0.13984099805443062</td></tr><tr><td>2012-03-16T00:00:00+00:00</td><td>0.024286944421306855</td></tr><tr><td>2012-03-19T00:00:00+00:00</td><td>0.7549682932649356</td></tr><tr><td>2012-03-22T00:00:00+00:00</td><td>0.649031311654988</td></tr><tr><td>2012-03-25T00:00:00+00:00</td><td>0.6008138470038575</td></tr><tr><td>2012-03-28T00:00:00+00:00</td><td>0.07162815663653599</td></tr><tr><td>2012-03-31T00:00:00+00:00</td><td>0.17952283586638107</td></tr></table>"
      ],
      "text/plain": [
       "\n",
       "#<Daru::Vector:92006600 @name = nil @size = 11 >\n",
       "                                      nil\n",
       "2012-03-01T00:00:00+  0.20394638540933607\n",
       "2012-03-04T00:00:00+   0.7338861847638259\n",
       "2012-03-07T00:00:00+   0.7176222732232334\n",
       "2012-03-10T00:00:00+  0.20373371452624167\n",
       "2012-03-13T00:00:00+  0.13984099805443062\n",
       "2012-03-16T00:00:00+ 0.024286944421306855\n",
       "2012-03-19T00:00:00+   0.7549682932649356\n",
       "2012-03-22T00:00:00+    0.649031311654988\n",
       "2012-03-25T00:00:00+   0.6008138470038575\n",
       "2012-03-28T00:00:00+  0.07162815663653599\n",
       "2012-03-31T00:00:00+  0.17952283586638107\n"
      ]
     },
     "execution_count": 21,
     "metadata": {},
     "output_type": "execute_result"
    }
   ],
   "source": [
    "timeseries['2012-3']"
   ]
  },
  {
   "cell_type": "markdown",
   "metadata": {},
   "source": [
    "**Specifying the date precisely will return the exact data point (You can also pass a ruby DateTime object for precisely obtaining data).**"
   ]
  },
  {
   "cell_type": "code",
   "execution_count": 22,
   "metadata": {
    "collapsed": false
   },
   "outputs": [
    {
     "data": {
      "text/plain": [
       "0.20373371452624167"
      ]
     },
     "execution_count": 22,
     "metadata": {},
     "output_type": "execute_result"
    }
   ],
   "source": [
    "timeseries['2012-3-10']"
   ]
  },
  {
   "cell_type": "markdown",
   "metadata": {},
   "source": [
    "**Say you have per second data about the price of a commodity and want to access the prices for the minute on 23rd of March 2012 at 12:42 pm**"
   ]
  },
  {
   "cell_type": "code",
   "execution_count": 23,
   "metadata": {
    "collapsed": false
   },
   "outputs": [
    {
     "data": {
      "text/html": [
       "<table><tr><th colspan=\"2\">Daru::Vector:89400190  size: 60</th></tr><tr><th> </th><th>nil</th></tr><tr><td>2012-03-23T12:42:00+00:00</td><td>6</td></tr><tr><td>2012-03-23T12:42:01+00:00</td><td>41</td></tr><tr><td>2012-03-23T12:42:02+00:00</td><td>35</td></tr><tr><td>2012-03-23T12:42:03+00:00</td><td>48</td></tr><tr><td>2012-03-23T12:42:04+00:00</td><td>4</td></tr><tr><td>2012-03-23T12:42:05+00:00</td><td>8</td></tr><tr><td>2012-03-23T12:42:06+00:00</td><td>14</td></tr><tr><td>2012-03-23T12:42:07+00:00</td><td>37</td></tr><tr><td>2012-03-23T12:42:08+00:00</td><td>12</td></tr><tr><td>2012-03-23T12:42:09+00:00</td><td>45</td></tr><tr><td>2012-03-23T12:42:10+00:00</td><td>11</td></tr><tr><td>2012-03-23T12:42:11+00:00</td><td>14</td></tr><tr><td>2012-03-23T12:42:12+00:00</td><td>42</td></tr><tr><td>2012-03-23T12:42:13+00:00</td><td>26</td></tr><tr><td>2012-03-23T12:42:14+00:00</td><td>49</td></tr><tr><td>2012-03-23T12:42:15+00:00</td><td>27</td></tr><tr><td>2012-03-23T12:42:16+00:00</td><td>22</td></tr><tr><td>2012-03-23T12:42:17+00:00</td><td>47</td></tr><tr><td>2012-03-23T12:42:18+00:00</td><td>49</td></tr><tr><td>2012-03-23T12:42:19+00:00</td><td>2</td></tr><tr><td>2012-03-23T12:42:20+00:00</td><td>41</td></tr><tr><td>2012-03-23T12:42:21+00:00</td><td>12</td></tr><tr><td>2012-03-23T12:42:22+00:00</td><td>14</td></tr><tr><td>2012-03-23T12:42:23+00:00</td><td>27</td></tr><tr><td>2012-03-23T12:42:24+00:00</td><td>17</td></tr><tr><td>2012-03-23T12:42:25+00:00</td><td>39</td></tr><tr><td>2012-03-23T12:42:26+00:00</td><td>46</td></tr><tr><td>2012-03-23T12:42:27+00:00</td><td>28</td></tr><tr><td>2012-03-23T12:42:28+00:00</td><td>2</td></tr><tr><td>2012-03-23T12:42:29+00:00</td><td>10</td></tr><tr><td>2012-03-23T12:42:30+00:00</td><td>41</td></tr><tr><td>2012-03-23T12:42:31+00:00</td><td>33</td></tr><tr><td>...</td><td>...</td></tr><tr><td>2012-03-23T12:42:59+00:00</td><td>22</td></tr></table>"
      ],
      "text/plain": [
       "\n",
       "#<Daru::Vector:89400190 @name = nil @size = 60 >\n",
       "                                      nil\n",
       "2012-03-23T12:42:00+                    6\n",
       "2012-03-23T12:42:01+                   41\n",
       "2012-03-23T12:42:02+                   35\n",
       "2012-03-23T12:42:03+                   48\n",
       "2012-03-23T12:42:04+                    4\n",
       "2012-03-23T12:42:05+                    8\n",
       "2012-03-23T12:42:06+                   14\n",
       "2012-03-23T12:42:07+                   37\n",
       "2012-03-23T12:42:08+                   12\n",
       "2012-03-23T12:42:09+                   45\n",
       "2012-03-23T12:42:10+                   11\n",
       "2012-03-23T12:42:11+                   14\n",
       "2012-03-23T12:42:12+                   42\n",
       "2012-03-23T12:42:13+                   26\n",
       "2012-03-23T12:42:14+                   49\n",
       "2012-03-23T12:42:15+                   27\n",
       "2012-03-23T12:42:16+                   22\n",
       "                 ...                  ...\n"
      ]
     },
     "execution_count": 23,
     "metadata": {},
     "output_type": "execute_result"
    }
   ],
   "source": [
    "index      = Daru::DateTimeIndex.date_range(\n",
    "  :start => '2012-3-23 11:00', :periods => 20000, :freq => 'S')\n",
    "\n",
    "seconds_ts = Daru::Vector.new(20000.times.map { rand(50) }, index: index)\n",
    "seconds_ts['2012-3-23 12:42']"
   ]
  },
  {
   "cell_type": "markdown",
   "metadata": {},
   "source": [
    "## Visualization\n",
    "\n",
    "### Simple Visualization with interactive graphs\n",
    "\n",
    "**Plotting a simple scatter plot from a DataFrame. Nyaplot integration provides interactivity.**\n",
    "\n",
    "**DataFrame denoting Ice Cream sales of a particular food chain in a city according to the maximum recorded temperature in that city. It also lists the staff strength present in each city.**"
   ]
  },
  {
   "cell_type": "code",
   "execution_count": 24,
   "metadata": {
    "collapsed": false
   },
   "outputs": [
    {
     "data": {
      "text/html": [
       "<table><tr><th colspan=\"5\">Daru::DataFrame:91880960  rows: 10  cols: 4<tr><th></th><th>city</th><th>sales</th><th>staff</th><th>temperature</th></tr><tr><td>0</td><td>Pune</td><td>350</td><td>15</td><td>30.4</td></tr><tr><td>1</td><td>Delhi</td><td>150</td><td>20</td><td>23.5</td></tr><tr><td>2</td><td>Pune</td><td>500</td><td>15</td><td>44.5</td></tr><tr><td>3</td><td>Delhi</td><td>200</td><td>20</td><td>20.3</td></tr><tr><td>4</td><td>Pune</td><td>480</td><td>15</td><td>34</td></tr><tr><td>5</td><td>Delhi</td><td>250</td><td>20</td><td>24</td></tr><tr><td>6</td><td>Pune</td><td>330</td><td>15</td><td>31.45</td></tr><tr><td>7</td><td>Delhi</td><td>400</td><td>20</td><td>28.34</td></tr><tr><td>8</td><td>Pune</td><td>420</td><td>15</td><td>37</td></tr><tr><td>9</td><td>Delhi</td><td>560</td><td>20</td><td>24</td></tr></table>"
      ],
      "text/plain": [
       "\n",
       "#<Daru::DataFrame:91880960 @name = 9557ceec-f6c8-4dea-bc97-31e39edf7160 @size = 10>\n",
       "                 city      sales      staff temperatur \n",
       "         0       Pune        350         15       30.4 \n",
       "         1      Delhi        150         20       23.5 \n",
       "         2       Pune        500         15       44.5 \n",
       "         3      Delhi        200         20       20.3 \n",
       "         4       Pune        480         15         34 \n",
       "         5      Delhi        250         20         24 \n",
       "         6       Pune        330         15      31.45 \n",
       "         7      Delhi        400         20      28.34 \n",
       "         8       Pune        420         15         37 \n",
       "         9      Delhi        560         20         24 \n"
      ]
     },
     "execution_count": 24,
     "metadata": {},
     "output_type": "execute_result"
    }
   ],
   "source": [
    "df = Daru::DataFrame.new({\n",
    "  :temperature => [30.4, 23.5, 44.5, 20.3, 34, 24, 31.45, 28.34, 37, 24],\n",
    "  :sales       => [350, 150, 500, 200, 480, 250, 330, 400, 420, 560],\n",
    "  :city        => ['Pune', 'Delhi']*5,\n",
    "  :staff       => [15,20]*5\n",
    "})\n",
    "df"
   ]
  },
  {
   "cell_type": "markdown",
   "metadata": {},
   "source": [
    "**The plot below is between Temperature in the city and the sales of ice cream.**"
   ]
  },
  {
   "cell_type": "code",
   "execution_count": 25,
   "metadata": {
    "collapsed": false
   },
   "outputs": [
    {
     "data": {
      "text/html": [
       "<div id='vis-15632833-1c5b-4820-9a6c-8083b66798fb'></div>\n",
       "<script>\n",
       "(function(){\n",
       "    var render = function(){\n",
       "        var model = {\"panes\":[{\"diagrams\":[{\"type\":\"scatter\",\"options\":{\"x\":\"temperature\",\"y\":\"sales\",\"tooltip_contents\":[\"city\",\"staff\"],\"color\":[\"rgb(179,226,205)\",\"rgb(253,205,172)\",\"rgb(203,213,232)\",\"rgb(244,202,228)\",\"rgb(230,245,201)\",\"rgb(255,242,174)\",\"rgb(241,226,204)\",\"rgb(204,204,204)\"],\"fill_by\":\"city\",\"shape_by\":\"city\"},\"data\":\"a907295f-4985-42de-a772-d7fb62ae05d1\"}],\"options\":{\"x_label\":\"Temperature\",\"y_label\":\"Sales\",\"yrange\":[100,600],\"xrange\":[15,50],\"zoom\":true,\"width\":700}}],\"data\":{\"a907295f-4985-42de-a772-d7fb62ae05d1\":[{\"city\":\"Pune\",\"sales\":350,\"staff\":15,\"temperature\":30.4},{\"city\":\"Delhi\",\"sales\":150,\"staff\":20,\"temperature\":23.5},{\"city\":\"Pune\",\"sales\":500,\"staff\":15,\"temperature\":44.5},{\"city\":\"Delhi\",\"sales\":200,\"staff\":20,\"temperature\":20.3},{\"city\":\"Pune\",\"sales\":480,\"staff\":15,\"temperature\":34},{\"city\":\"Delhi\",\"sales\":250,\"staff\":20,\"temperature\":24},{\"city\":\"Pune\",\"sales\":330,\"staff\":15,\"temperature\":31.45},{\"city\":\"Delhi\",\"sales\":400,\"staff\":20,\"temperature\":28.34},{\"city\":\"Pune\",\"sales\":420,\"staff\":15,\"temperature\":37},{\"city\":\"Delhi\",\"sales\":560,\"staff\":20,\"temperature\":24}]},\"extension\":[]}\n",
       "        var id_name = '#vis-15632833-1c5b-4820-9a6c-8083b66798fb';\n",
       "        Nyaplot.core.parse(model, id_name);\n",
       "\n",
       "        require(['downloadable'], function(downloadable){\n",
       "          var svg = d3.select(id_name).select(\"svg\");\n",
       "\t  if(!svg.empty())\n",
       "\t    svg.call(downloadable().filename('fig'));\n",
       "\t});\n",
       "    };\n",
       "    if(window['Nyaplot']==undefined){\n",
       "        window.addEventListener('load_nyaplot', render, false);\n",
       "\treturn;\n",
       "    } else {\n",
       "       render();\n",
       "    }\n",
       "})();\n",
       "</script>\n"
      ],
      "text/plain": [
       "#<Nyaplot::Frame:0xad83880 @properties={:panes=>[#<Nyaplot::Plot:0xade61c4 @properties={:diagrams=>[#<Nyaplot::Diagram:0xad9c6dc @properties={:type=>:scatter, :options=>{:x=>:temperature, :y=>:sales, :tooltip_contents=>[:city, :staff], :color=>#<Nyaplot::Color:0xad83948 @source=[\"rgb(179,226,205)\", \"rgb(253,205,172)\", \"rgb(203,213,232)\", \"rgb(244,202,228)\", \"rgb(230,245,201)\", \"rgb(255,242,174)\", \"rgb(241,226,204)\", \"rgb(204,204,204)\"]>, :fill_by=>:city, :shape_by=>:city}, :data=>\"a907295f-4985-42de-a772-d7fb62ae05d1\"}, @xrange=[20.3, 44.5], @yrange=[150, 560]>], :options=>{:x_label=>\"Temperature\", :y_label=>\"Sales\", :yrange=>[100, 600], :xrange=>[15, 50], :zoom=>true, :width=>700}}>], :data=>{\"a907295f-4985-42de-a772-d7fb62ae05d1\"=>#<Nyaplot::DataFrame:0xad9cefc @name=\"a907295f-4985-42de-a772-d7fb62ae05d1\", @rows=[{:city=>\"Pune\", :sales=>350, :staff=>15, :temperature=>30.4}, {:city=>\"Delhi\", :sales=>150, :staff=>20, :temperature=>23.5}, {:city=>\"Pune\", :sales=>500, :staff=>15, :temperature=>44.5}, {:city=>\"Delhi\", :sales=>200, :staff=>20, :temperature=>20.3}, {:city=>\"Pune\", :sales=>480, :staff=>15, :temperature=>34}, {:city=>\"Delhi\", :sales=>250, :staff=>20, :temperature=>24}, {:city=>\"Pune\", :sales=>330, :staff=>15, :temperature=>31.45}, {:city=>\"Delhi\", :sales=>400, :staff=>20, :temperature=>28.34}, {:city=>\"Pune\", :sales=>420, :staff=>15, :temperature=>37}, {:city=>\"Delhi\", :sales=>560, :staff=>20, :temperature=>24}]>}, :extension=>[]}>"
      ]
     },
     "metadata": {},
     "output_type": "display_data"
    }
   ],
   "source": [
    "df.plot(type: :scatter, x: :temperature, y: :sales) do |plot, diagram|\n",
    "  plot.x_label \"Temperature\"\n",
    "  plot.y_label \"Sales\"\n",
    "  plot.yrange [100, 600]\n",
    "  plot.xrange [15, 50]\n",
    "  diagram.tooltip_contents([:city, :staff])\n",
    "  # Set the color scheme for this diagram.\n",
    "  diagram.color(Nyaplot::Colors.qual) \n",
    "  # Change color of each point WRT to the city that it belongs to.\n",
    "  diagram.fill_by(:city)\n",
    "  # Shape each point WRT to the city that it belongs to.\n",
    "  diagram.shape_by(:city) \n",
    "end"
   ]
  },
  {
   "cell_type": "markdown",
   "metadata": {},
   "source": [
    "### Use with GNU plot\n",
    "\n",
    "#### Plotting a time series with it's rolling mean\n",
    "\n",
    "**Init a random number generator for creating a normal distribution **"
   ]
  },
  {
   "cell_type": "code",
   "execution_count": 26,
   "metadata": {
    "collapsed": false
   },
   "outputs": [
    {
     "data": {
      "text/plain": [
       "#<Proc:0xaa1b8c8@/home/sameer/.rvm/gems/ruby-2.2.1/gems/distribution-0.7.3/lib/distribution/normal/gsl.rb:8 (lambda)>"
      ]
     },
     "execution_count": 26,
     "metadata": {},
     "output_type": "execute_result"
    }
   ],
   "source": [
    "rng = Distribution::Normal.rng"
   ]
  },
  {
   "cell_type": "code",
   "execution_count": 27,
   "metadata": {
    "collapsed": false
   },
   "outputs": [
    {
     "data": {
      "image/svg+xml": [
       "<?xml version=\"1.0\" encoding=\"utf-8\"  standalone=\"no\"?>\n",
       "<!DOCTYPE svg PUBLIC \"-//W3C//DTD SVG 1.1//EN\"\n",
       " \"http://www.w3.org/Graphics/SVG/1.1/DTD/svg11.dtd\">\n",
       "<svg \n",
       " width=\"600\" height=\"480\"\n",
       " viewBox=\"0 0 600 480\"\n",
       " xmlns=\"http://www.w3.org/2000/svg\"\n",
       " xmlns:xlink=\"http://www.w3.org/1999/xlink\"\n",
       ">\n",
       "\n",
       "<title>Gnuplot</title>\n",
       "<desc>Produced by GNUPLOT 5.0 patchlevel rc2 </desc>\n",
       "\n",
       "<g id=\"gnuplot_canvas\">\n",
       "\n",
       "<rect x=\"0\" y=\"0\" width=\"600\" height=\"480\" fill=\"none\"/>\n",
       "<defs>\n",
       "\n",
       "\t<circle id='gpDot' r='0.5' stroke-width='0.5'/>\n",
       "\t<path id='gpPt0' stroke-width='0.222' stroke='currentColor' d='M-1,0 h2 M0,-1 v2'/>\n",
       "\t<path id='gpPt1' stroke-width='0.222' stroke='currentColor' d='M-1,-1 L1,1 M1,-1 L-1,1'/>\n",
       "\t<path id='gpPt2' stroke-width='0.222' stroke='currentColor' d='M-1,0 L1,0 M0,-1 L0,1 M-1,-1 L1,1 M-1,1 L1,-1'/>\n",
       "\t<rect id='gpPt3' stroke-width='0.222' stroke='currentColor' x='-1' y='-1' width='2' height='2'/>\n",
       "\t<rect id='gpPt4' stroke-width='0.222' stroke='currentColor' fill='currentColor' x='-1' y='-1' width='2' height='2'/>\n",
       "\t<circle id='gpPt5' stroke-width='0.222' stroke='currentColor' cx='0' cy='0' r='1'/>\n",
       "\t<use xlink:href='#gpPt5' id='gpPt6' fill='currentColor' stroke='none'/>\n",
       "\t<path id='gpPt7' stroke-width='0.222' stroke='currentColor' d='M0,-1.33 L-1.33,0.67 L1.33,0.67 z'/>\n",
       "\t<use xlink:href='#gpPt7' id='gpPt8' fill='currentColor' stroke='none'/>\n",
       "\t<use xlink:href='#gpPt7' id='gpPt9' stroke='currentColor' transform='rotate(180)'/>\n",
       "\t<use xlink:href='#gpPt9' id='gpPt10' fill='currentColor' stroke='none'/>\n",
       "\t<use xlink:href='#gpPt3' id='gpPt11' stroke='currentColor' transform='rotate(45)'/>\n",
       "\t<use xlink:href='#gpPt11' id='gpPt12' fill='currentColor' stroke='none'/>\n",
       "\t<path id='gpPt13' stroke-width='0.222' stroke='currentColor' d='M0,1.330 L1.265,0.411 L0.782,-1.067 L-0.782,-1.076 L-1.265,0.411 z'/>\n",
       "\t<use xlink:href='#gpPt13' id='gpPt14' fill='currentColor' stroke='none'/>\n",
       "\t<filter id='textbox' filterUnits='objectBoundingBox' x='0' y='0' height='1' width='1'>\n",
       "\t  <feFlood flood-color='white' flood-opacity='1' result='bgnd'/>\n",
       "\t  <feComposite in='SourceGraphic' in2='bgnd' operator='atop'/>\n",
       "\t</filter>\n",
       "\t<filter id='greybox' filterUnits='objectBoundingBox' x='0' y='0' height='1' width='1'>\n",
       "\t  <feFlood flood-color='lightgrey' flood-opacity='1' result='grey'/>\n",
       "\t  <feComposite in='SourceGraphic' in2='grey' operator='atop'/>\n",
       "\t</filter>\n",
       "</defs>\n",
       "<g fill=\"none\" color=\"white\" stroke=\"currentColor\" stroke-width=\"1.00\" stroke-linecap=\"butt\" stroke-linejoin=\"miter\">\n",
       "</g>\n",
       "<g fill=\"none\" color=\"black\" stroke=\"currentColor\" stroke-width=\"1.00\" stroke-linecap=\"butt\" stroke-linejoin=\"miter\">\n",
       "\t<path stroke='black'  d='M63.6,386.4 L72.6,386.4 M575.0,386.4 L566.0,386.4  '/>\t<g transform=\"translate(55.3,390.9)\" stroke=\"none\" fill=\"black\" font-family=\"Arial\" font-size=\"12.00\"  text-anchor=\"end\">\n",
       "\t\t<text><tspan font-family=\"Arial\" >-20</tspan></text>\n",
       "\t</g>\n",
       "</g>\n",
       "<g fill=\"none\" color=\"black\" stroke=\"currentColor\" stroke-width=\"1.00\" stroke-linecap=\"butt\" stroke-linejoin=\"miter\">\n",
       "\t<path stroke='black'  d='M63.6,333.6 L72.6,333.6 M575.0,333.6 L566.0,333.6  '/>\t<g transform=\"translate(55.3,338.1)\" stroke=\"none\" fill=\"black\" font-family=\"Arial\" font-size=\"12.00\"  text-anchor=\"end\">\n",
       "\t\t<text><tspan font-family=\"Arial\" >-15</tspan></text>\n",
       "\t</g>\n",
       "</g>\n",
       "<g fill=\"none\" color=\"black\" stroke=\"currentColor\" stroke-width=\"1.00\" stroke-linecap=\"butt\" stroke-linejoin=\"miter\">\n",
       "\t<path stroke='black'  d='M63.6,280.8 L72.6,280.8 M575.0,280.8 L566.0,280.8  '/>\t<g transform=\"translate(55.3,285.3)\" stroke=\"none\" fill=\"black\" font-family=\"Arial\" font-size=\"12.00\"  text-anchor=\"end\">\n",
       "\t\t<text><tspan font-family=\"Arial\" >-10</tspan></text>\n",
       "\t</g>\n",
       "</g>\n",
       "<g fill=\"none\" color=\"black\" stroke=\"currentColor\" stroke-width=\"1.00\" stroke-linecap=\"butt\" stroke-linejoin=\"miter\">\n",
       "\t<path stroke='black'  d='M63.6,228.0 L72.6,228.0 M575.0,228.0 L566.0,228.0  '/>\t<g transform=\"translate(55.3,232.5)\" stroke=\"none\" fill=\"black\" font-family=\"Arial\" font-size=\"12.00\"  text-anchor=\"end\">\n",
       "\t\t<text><tspan font-family=\"Arial\" >-5</tspan></text>\n",
       "\t</g>\n",
       "</g>\n",
       "<g fill=\"none\" color=\"black\" stroke=\"currentColor\" stroke-width=\"1.00\" stroke-linecap=\"butt\" stroke-linejoin=\"miter\">\n",
       "\t<path stroke='black'  d='M63.6,175.1 L72.6,175.1 M575.0,175.1 L566.0,175.1  '/>\t<g transform=\"translate(55.3,179.6)\" stroke=\"none\" fill=\"black\" font-family=\"Arial\" font-size=\"12.00\"  text-anchor=\"end\">\n",
       "\t\t<text><tspan font-family=\"Arial\" > 0</tspan></text>\n",
       "\t</g>\n",
       "</g>\n",
       "<g fill=\"none\" color=\"black\" stroke=\"currentColor\" stroke-width=\"1.00\" stroke-linecap=\"butt\" stroke-linejoin=\"miter\">\n",
       "\t<path stroke='black'  d='M63.6,122.3 L72.6,122.3 M575.0,122.3 L566.0,122.3  '/>\t<g transform=\"translate(55.3,126.8)\" stroke=\"none\" fill=\"black\" font-family=\"Arial\" font-size=\"12.00\"  text-anchor=\"end\">\n",
       "\t\t<text><tspan font-family=\"Arial\" > 5</tspan></text>\n",
       "\t</g>\n",
       "</g>\n",
       "<g fill=\"none\" color=\"black\" stroke=\"currentColor\" stroke-width=\"1.00\" stroke-linecap=\"butt\" stroke-linejoin=\"miter\">\n",
       "\t<path stroke='black'  d='M63.6,69.5 L72.6,69.5 M575.0,69.5 L566.0,69.5  '/>\t<g transform=\"translate(55.3,74.0)\" stroke=\"none\" fill=\"black\" font-family=\"Arial\" font-size=\"12.00\"  text-anchor=\"end\">\n",
       "\t\t<text><tspan font-family=\"Arial\" > 10</tspan></text>\n",
       "\t</g>\n",
       "</g>\n",
       "<g fill=\"none\" color=\"black\" stroke=\"currentColor\" stroke-width=\"1.00\" stroke-linecap=\"butt\" stroke-linejoin=\"miter\">\n",
       "\t<path stroke='black'  d='M63.6,16.7 L72.6,16.7 M575.0,16.7 L566.0,16.7  '/>\t<g transform=\"translate(55.3,21.2)\" stroke=\"none\" fill=\"black\" font-family=\"Arial\" font-size=\"12.00\"  text-anchor=\"end\">\n",
       "\t\t<text><tspan font-family=\"Arial\" > 15</tspan></text>\n",
       "\t</g>\n",
       "</g>\n",
       "<g fill=\"none\" color=\"black\" stroke=\"currentColor\" stroke-width=\"1.00\" stroke-linecap=\"butt\" stroke-linejoin=\"miter\">\n",
       "\t<path stroke='black'  d='M63.6,386.4 L63.6,377.4 M63.6,16.7 L63.6,25.7  '/>\t<g transform=\"translate(63.6,408.9)\" stroke=\"none\" fill=\"black\" font-family=\"Arial\" font-size=\"12.00\"  text-anchor=\"middle\">\n",
       "\t\t<text><tspan font-family=\"Arial\" >01</tspan></text>\n",
       "\t</g>\n",
       "\t<g transform=\"translate(63.6,426.9)\" stroke=\"none\" fill=\"black\" font-family=\"Arial\" font-size=\"12.00\"  text-anchor=\"middle\">\n",
       "\t\t<text><tspan font-family=\"Arial\" >Apr</tspan></text>\n",
       "\t</g>\n",
       "\t<g transform=\"translate(63.6,444.9)\" stroke=\"none\" fill=\"black\" font-family=\"Arial\" font-size=\"12.00\"  text-anchor=\"middle\">\n",
       "\t\t<text><tspan font-family=\"Arial\" >2012</tspan></text>\n",
       "\t</g>\n",
       "</g>\n",
       "<g fill=\"none\" color=\"black\" stroke=\"currentColor\" stroke-width=\"1.00\" stroke-linecap=\"butt\" stroke-linejoin=\"miter\">\n",
       "\t<path stroke='black'  d='M79.1,386.4 L79.1,381.9 M79.1,16.7 L79.1,21.2 M94.6,386.4 L94.6,381.9 M94.6,16.7 L94.6,21.2\n",
       "\t\tM109.6,386.4 L109.6,377.4 M109.6,16.7 L109.6,25.7  '/>\t<g transform=\"translate(109.6,408.9)\" stroke=\"none\" fill=\"black\" font-family=\"Arial\" font-size=\"12.00\"  text-anchor=\"middle\">\n",
       "\t\t<text><tspan font-family=\"Arial\" >01</tspan></text>\n",
       "\t</g>\n",
       "\t<g transform=\"translate(109.6,426.9)\" stroke=\"none\" fill=\"black\" font-family=\"Arial\" font-size=\"12.00\"  text-anchor=\"middle\">\n",
       "\t\t<text><tspan font-family=\"Arial\" >Jul</tspan></text>\n",
       "\t</g>\n",
       "\t<g transform=\"translate(109.6,444.9)\" stroke=\"none\" fill=\"black\" font-family=\"Arial\" font-size=\"12.00\"  text-anchor=\"middle\">\n",
       "\t\t<text><tspan font-family=\"Arial\" >2012</tspan></text>\n",
       "\t</g>\n",
       "</g>\n",
       "<g fill=\"none\" color=\"black\" stroke=\"currentColor\" stroke-width=\"1.00\" stroke-linecap=\"butt\" stroke-linejoin=\"miter\">\n",
       "\t<path stroke='black'  d='M125.1,386.4 L125.1,381.9 M125.1,16.7 L125.1,21.2 M140.6,386.4 L140.6,381.9 M140.6,16.7 L140.6,21.2\n",
       "\t\tM156.6,386.4 L156.6,377.4 M156.6,16.7 L156.6,25.7  '/>\t<g transform=\"translate(156.6,408.9)\" stroke=\"none\" fill=\"black\" font-family=\"Arial\" font-size=\"12.00\"  text-anchor=\"middle\">\n",
       "\t\t<text><tspan font-family=\"Arial\" >01</tspan></text>\n",
       "\t</g>\n",
       "\t<g transform=\"translate(156.6,426.9)\" stroke=\"none\" fill=\"black\" font-family=\"Arial\" font-size=\"12.00\"  text-anchor=\"middle\">\n",
       "\t\t<text><tspan font-family=\"Arial\" >Oct</tspan></text>\n",
       "\t</g>\n",
       "\t<g transform=\"translate(156.6,444.9)\" stroke=\"none\" fill=\"black\" font-family=\"Arial\" font-size=\"12.00\"  text-anchor=\"middle\">\n",
       "\t\t<text><tspan font-family=\"Arial\" >2012</tspan></text>\n",
       "\t</g>\n",
       "</g>\n",
       "<g fill=\"none\" color=\"black\" stroke=\"currentColor\" stroke-width=\"1.00\" stroke-linecap=\"butt\" stroke-linejoin=\"miter\">\n",
       "\t<path stroke='black'  d='M172.1,386.4 L172.1,381.9 M172.1,16.7 L172.1,21.2 M187.6,386.4 L187.6,381.9 M187.6,16.7 L187.6,21.2\n",
       "\t\tM203.6,386.4 L203.6,377.4 M203.6,16.7 L203.6,25.7  '/>\t<g transform=\"translate(203.6,408.9)\" stroke=\"none\" fill=\"black\" font-family=\"Arial\" font-size=\"12.00\"  text-anchor=\"middle\">\n",
       "\t\t<text><tspan font-family=\"Arial\" >01</tspan></text>\n",
       "\t</g>\n",
       "\t<g transform=\"translate(203.6,426.9)\" stroke=\"none\" fill=\"black\" font-family=\"Arial\" font-size=\"12.00\"  text-anchor=\"middle\">\n",
       "\t\t<text><tspan font-family=\"Arial\" >Jan</tspan></text>\n",
       "\t</g>\n",
       "\t<g transform=\"translate(203.6,444.9)\" stroke=\"none\" fill=\"black\" font-family=\"Arial\" font-size=\"12.00\"  text-anchor=\"middle\">\n",
       "\t\t<text><tspan font-family=\"Arial\" >2013</tspan></text>\n",
       "\t</g>\n",
       "</g>\n",
       "<g fill=\"none\" color=\"black\" stroke=\"currentColor\" stroke-width=\"1.00\" stroke-linecap=\"butt\" stroke-linejoin=\"miter\">\n",
       "\t<path stroke='black'  d='M219.1,386.4 L219.1,381.9 M219.1,16.7 L219.1,21.2 M234.6,386.4 L234.6,381.9 M234.6,16.7 L234.6,21.2\n",
       "\t\tM249.1,386.4 L249.1,377.4 M249.1,16.7 L249.1,25.7  '/>\t<g transform=\"translate(249.1,408.9)\" stroke=\"none\" fill=\"black\" font-family=\"Arial\" font-size=\"12.00\"  text-anchor=\"middle\">\n",
       "\t\t<text><tspan font-family=\"Arial\" >01</tspan></text>\n",
       "\t</g>\n",
       "\t<g transform=\"translate(249.1,426.9)\" stroke=\"none\" fill=\"black\" font-family=\"Arial\" font-size=\"12.00\"  text-anchor=\"middle\">\n",
       "\t\t<text><tspan font-family=\"Arial\" >Apr</tspan></text>\n",
       "\t</g>\n",
       "\t<g transform=\"translate(249.1,444.9)\" stroke=\"none\" fill=\"black\" font-family=\"Arial\" font-size=\"12.00\"  text-anchor=\"middle\">\n",
       "\t\t<text><tspan font-family=\"Arial\" >2013</tspan></text>\n",
       "\t</g>\n",
       "</g>\n",
       "<g fill=\"none\" color=\"black\" stroke=\"currentColor\" stroke-width=\"1.00\" stroke-linecap=\"butt\" stroke-linejoin=\"miter\">\n",
       "\t<path stroke='black'  d='M264.5,386.4 L264.5,381.9 M264.5,16.7 L264.5,21.2 M280.0,386.4 L280.0,381.9 M280.0,16.7 L280.0,21.2\n",
       "\t\tM295.6,386.4 L295.6,377.4 M295.6,16.7 L295.6,25.7  '/>\t<g transform=\"translate(295.6,408.9)\" stroke=\"none\" fill=\"black\" font-family=\"Arial\" font-size=\"12.00\"  text-anchor=\"middle\">\n",
       "\t\t<text><tspan font-family=\"Arial\" >01</tspan></text>\n",
       "\t</g>\n",
       "\t<g transform=\"translate(295.6,426.9)\" stroke=\"none\" fill=\"black\" font-family=\"Arial\" font-size=\"12.00\"  text-anchor=\"middle\">\n",
       "\t\t<text><tspan font-family=\"Arial\" >Jul</tspan></text>\n",
       "\t</g>\n",
       "\t<g transform=\"translate(295.6,444.9)\" stroke=\"none\" fill=\"black\" font-family=\"Arial\" font-size=\"12.00\"  text-anchor=\"middle\">\n",
       "\t\t<text><tspan font-family=\"Arial\" >2013</tspan></text>\n",
       "\t</g>\n",
       "</g>\n",
       "<g fill=\"none\" color=\"black\" stroke=\"currentColor\" stroke-width=\"1.00\" stroke-linecap=\"butt\" stroke-linejoin=\"miter\">\n",
       "\t<path stroke='black'  d='M311.0,386.4 L311.0,381.9 M311.0,16.7 L311.0,21.2 M326.5,386.4 L326.5,381.9 M326.5,16.7 L326.5,21.2\n",
       "\t\tM342.5,386.4 L342.5,377.4 M342.5,16.7 L342.5,25.7  '/>\t<g transform=\"translate(342.5,408.9)\" stroke=\"none\" fill=\"black\" font-family=\"Arial\" font-size=\"12.00\"  text-anchor=\"middle\">\n",
       "\t\t<text><tspan font-family=\"Arial\" >01</tspan></text>\n",
       "\t</g>\n",
       "\t<g transform=\"translate(342.5,426.9)\" stroke=\"none\" fill=\"black\" font-family=\"Arial\" font-size=\"12.00\"  text-anchor=\"middle\">\n",
       "\t\t<text><tspan font-family=\"Arial\" >Oct</tspan></text>\n",
       "\t</g>\n",
       "\t<g transform=\"translate(342.5,444.9)\" stroke=\"none\" fill=\"black\" font-family=\"Arial\" font-size=\"12.00\"  text-anchor=\"middle\">\n",
       "\t\t<text><tspan font-family=\"Arial\" >2013</tspan></text>\n",
       "\t</g>\n",
       "</g>\n",
       "<g fill=\"none\" color=\"black\" stroke=\"currentColor\" stroke-width=\"1.00\" stroke-linecap=\"butt\" stroke-linejoin=\"miter\">\n",
       "\t<path stroke='black'  d='M358.0,386.4 L358.0,381.9 M358.0,16.7 L358.0,21.2 M373.5,386.4 L373.5,381.9 M373.5,16.7 L373.5,21.2\n",
       "\t\tM389.0,386.4 L389.0,377.4 M389.0,16.7 L389.0,25.7  '/>\t<g transform=\"translate(389.0,408.9)\" stroke=\"none\" fill=\"black\" font-family=\"Arial\" font-size=\"12.00\"  text-anchor=\"middle\">\n",
       "\t\t<text><tspan font-family=\"Arial\" >01</tspan></text>\n",
       "\t</g>\n",
       "\t<g transform=\"translate(389.0,426.9)\" stroke=\"none\" fill=\"black\" font-family=\"Arial\" font-size=\"12.00\"  text-anchor=\"middle\">\n",
       "\t\t<text><tspan font-family=\"Arial\" >Jan</tspan></text>\n",
       "\t</g>\n",
       "\t<g transform=\"translate(389.0,444.9)\" stroke=\"none\" fill=\"black\" font-family=\"Arial\" font-size=\"12.00\"  text-anchor=\"middle\">\n",
       "\t\t<text><tspan font-family=\"Arial\" >2014</tspan></text>\n",
       "\t</g>\n",
       "</g>\n",
       "<g fill=\"none\" color=\"black\" stroke=\"currentColor\" stroke-width=\"1.00\" stroke-linecap=\"butt\" stroke-linejoin=\"miter\">\n",
       "\t<path stroke='black'  d='M404.5,386.4 L404.5,381.9 M404.5,16.7 L404.5,21.2 M420.0,386.4 L420.0,381.9 M420.0,16.7 L420.0,21.2\n",
       "\t\tM435.0,386.4 L435.0,377.4 M435.0,16.7 L435.0,25.7  '/>\t<g transform=\"translate(435.0,408.9)\" stroke=\"none\" fill=\"black\" font-family=\"Arial\" font-size=\"12.00\"  text-anchor=\"middle\">\n",
       "\t\t<text><tspan font-family=\"Arial\" >01</tspan></text>\n",
       "\t</g>\n",
       "\t<g transform=\"translate(435.0,426.9)\" stroke=\"none\" fill=\"black\" font-family=\"Arial\" font-size=\"12.00\"  text-anchor=\"middle\">\n",
       "\t\t<text><tspan font-family=\"Arial\" >Apr</tspan></text>\n",
       "\t</g>\n",
       "\t<g transform=\"translate(435.0,444.9)\" stroke=\"none\" fill=\"black\" font-family=\"Arial\" font-size=\"12.00\"  text-anchor=\"middle\">\n",
       "\t\t<text><tspan font-family=\"Arial\" >2014</tspan></text>\n",
       "\t</g>\n",
       "</g>\n",
       "<g fill=\"none\" color=\"black\" stroke=\"currentColor\" stroke-width=\"1.00\" stroke-linecap=\"butt\" stroke-linejoin=\"miter\">\n",
       "\t<path stroke='black'  d='M450.5,386.4 L450.5,381.9 M450.5,16.7 L450.5,21.2 M466.0,386.4 L466.0,381.9 M466.0,16.7 L466.0,21.2\n",
       "\t\tM481.5,386.4 L481.5,377.4 M481.5,16.7 L481.5,25.7  '/>\t<g transform=\"translate(481.5,408.9)\" stroke=\"none\" fill=\"black\" font-family=\"Arial\" font-size=\"12.00\"  text-anchor=\"middle\">\n",
       "\t\t<text><tspan font-family=\"Arial\" >01</tspan></text>\n",
       "\t</g>\n",
       "\t<g transform=\"translate(481.5,426.9)\" stroke=\"none\" fill=\"black\" font-family=\"Arial\" font-size=\"12.00\"  text-anchor=\"middle\">\n",
       "\t\t<text><tspan font-family=\"Arial\" >Jul</tspan></text>\n",
       "\t</g>\n",
       "\t<g transform=\"translate(481.5,444.9)\" stroke=\"none\" fill=\"black\" font-family=\"Arial\" font-size=\"12.00\"  text-anchor=\"middle\">\n",
       "\t\t<text><tspan font-family=\"Arial\" >2014</tspan></text>\n",
       "\t</g>\n",
       "</g>\n",
       "<g fill=\"none\" color=\"black\" stroke=\"currentColor\" stroke-width=\"1.00\" stroke-linecap=\"butt\" stroke-linejoin=\"miter\">\n",
       "\t<path stroke='black'  d='M497.0,386.4 L497.0,381.9 M497.0,16.7 L497.0,21.2 M512.5,386.4 L512.5,381.9 M512.5,16.7 L512.5,21.2\n",
       "\t\tM528.5,386.4 L528.5,377.4 M528.5,16.7 L528.5,25.7  '/>\t<g transform=\"translate(528.5,408.9)\" stroke=\"none\" fill=\"black\" font-family=\"Arial\" font-size=\"12.00\"  text-anchor=\"middle\">\n",
       "\t\t<text><tspan font-family=\"Arial\" >01</tspan></text>\n",
       "\t</g>\n",
       "\t<g transform=\"translate(528.5,426.9)\" stroke=\"none\" fill=\"black\" font-family=\"Arial\" font-size=\"12.00\"  text-anchor=\"middle\">\n",
       "\t\t<text><tspan font-family=\"Arial\" >Oct</tspan></text>\n",
       "\t</g>\n",
       "\t<g transform=\"translate(528.5,444.9)\" stroke=\"none\" fill=\"black\" font-family=\"Arial\" font-size=\"12.00\"  text-anchor=\"middle\">\n",
       "\t\t<text><tspan font-family=\"Arial\" >2014</tspan></text>\n",
       "\t</g>\n",
       "</g>\n",
       "<g fill=\"none\" color=\"black\" stroke=\"currentColor\" stroke-width=\"1.00\" stroke-linecap=\"butt\" stroke-linejoin=\"miter\">\n",
       "\t<path stroke='black'  d='M544.0,386.4 L544.0,381.9 M544.0,16.7 L544.0,21.2 M559.5,386.4 L559.5,381.9 M559.5,16.7 L559.5,21.2\n",
       "\t\tM575.0,386.4 L575.0,377.4 M575.0,16.7 L575.0,25.7  '/>\t<g transform=\"translate(575.0,408.9)\" stroke=\"none\" fill=\"black\" font-family=\"Arial\" font-size=\"12.00\"  text-anchor=\"middle\">\n",
       "\t\t<text><tspan font-family=\"Arial\" >01</tspan></text>\n",
       "\t</g>\n",
       "\t<g transform=\"translate(575.0,426.9)\" stroke=\"none\" fill=\"black\" font-family=\"Arial\" font-size=\"12.00\"  text-anchor=\"middle\">\n",
       "\t\t<text><tspan font-family=\"Arial\" >Jan</tspan></text>\n",
       "\t</g>\n",
       "\t<g transform=\"translate(575.0,444.9)\" stroke=\"none\" fill=\"black\" font-family=\"Arial\" font-size=\"12.00\"  text-anchor=\"middle\">\n",
       "\t\t<text><tspan font-family=\"Arial\" >2015</tspan></text>\n",
       "\t</g>\n",
       "</g>\n",
       "<g fill=\"none\" color=\"black\" stroke=\"currentColor\" stroke-width=\"1.00\" stroke-linecap=\"butt\" stroke-linejoin=\"miter\">\n",
       "</g>\n",
       "<g fill=\"none\" color=\"black\" stroke=\"currentColor\" stroke-width=\"1.00\" stroke-linecap=\"butt\" stroke-linejoin=\"miter\">\n",
       "\t<path stroke='black'  d='M63.6,16.7 L63.6,386.4 L575.0,386.4 L575.0,16.7 L63.6,16.7 Z  '/></g>\n",
       "<g fill=\"none\" color=\"black\" stroke=\"currentColor\" stroke-width=\"1.00\" stroke-linecap=\"butt\" stroke-linejoin=\"miter\">\n",
       "\t<g transform=\"translate(17.6,201.6) rotate(270)\" stroke=\"none\" fill=\"black\" font-family=\"Arial\" font-size=\"12.00\"  text-anchor=\"middle\">\n",
       "\t\t<text><tspan font-family=\"Arial\" >Value</tspan></text>\n",
       "\t</g>\n",
       "</g>\n",
       "<g fill=\"none\" color=\"black\" stroke=\"currentColor\" stroke-width=\"1.00\" stroke-linecap=\"butt\" stroke-linejoin=\"miter\">\n",
       "\t<g transform=\"translate(319.3,471.9)\" stroke=\"none\" fill=\"black\" font-family=\"Arial\" font-size=\"12.00\"  text-anchor=\"middle\">\n",
       "\t\t<text><tspan font-family=\"Arial\" >Time</tspan></text>\n",
       "\t</g>\n",
       "</g>\n",
       "<g fill=\"none\" color=\"black\" stroke=\"currentColor\" stroke-width=\"1.00\" stroke-linecap=\"butt\" stroke-linejoin=\"miter\">\n",
       "</g>\n",
       "\t<g id=\"gnuplot_plot_1\" ><title>Vector</title>\n",
       "<g fill=\"none\" color=\"black\" stroke=\"currentColor\" stroke-width=\"1.00\" stroke-linecap=\"butt\" stroke-linejoin=\"miter\">\n",
       "\t<g transform=\"translate(507.9,39.2)\" stroke=\"none\" fill=\"black\" font-family=\"Arial\" font-size=\"12.00\"  text-anchor=\"end\">\n",
       "\t\t<text><tspan font-family=\"Arial\" >Vector</tspan></text>\n",
       "\t</g>\n",
       "</g>\n",
       "<g fill=\"none\" color=\"black\" stroke=\"currentColor\" stroke-width=\"1.00\" stroke-linecap=\"butt\" stroke-linejoin=\"miter\">\n",
       "\t<path stroke='rgb(148,   0, 211)'  d='M516.2,34.7 L558.4,34.7 M63.7,194.8 L64.2,184.3 L64.7,174.3 L65.2,159.8 L65.7,170.9 L66.3,166.3\n",
       "\t\tL66.8,158.2 L67.3,142.7 L67.8,131.4 L68.3,132.4 L68.8,131.4 L69.3,129.1 L69.8,108.2 L70.3,107.8\n",
       "\t\tL70.8,99.8 L71.3,94.7 L71.9,98.4 L72.4,107.4 L72.9,101.4 L73.4,110.2 L73.9,113.9 L74.4,104.7\n",
       "\t\tL74.9,104.6 L75.4,125.0 L75.9,135.7 L76.4,141.1 L76.9,140.9 L77.5,131.2 L78.0,140.6 L78.5,131.8\n",
       "\t\tL79.0,112.0 L79.5,126.9 L80.0,119.9 L80.5,117.9 L81.0,121.6 L81.5,124.3 L82.0,156.2 L82.5,156.5\n",
       "\t\tL83.1,146.7 L83.6,142.5 L84.1,115.9 L84.6,104.8 L85.1,109.9 L85.6,114.1 L86.1,116.1 L86.6,112.7\n",
       "\t\tL87.1,110.3 L87.6,119.2 L88.1,121.1 L88.7,108.1 L89.2,125.5 L89.7,125.7 L90.2,130.9 L90.7,136.2\n",
       "\t\tL91.2,133.3 L91.7,146.6 L92.2,137.7 L92.7,123.6 L93.2,111.3 L93.7,116.8 L94.3,123.6 L94.8,95.4\n",
       "\t\tL95.3,104.9 L95.8,96.8 L96.3,103.1 L96.8,95.4 L97.3,90.1 L97.8,76.5 L98.3,69.8 L98.8,58.6\n",
       "\t\tL99.3,78.9 L99.9,87.3 L100.4,87.7 L100.9,103.6 L101.4,111.3 L101.9,104.2 L102.4,85.5 L102.9,91.9\n",
       "\t\tL103.4,78.7 L103.9,92.2 L104.4,103.1 L104.9,120.0 L105.5,112.6 L106.0,115.6 L106.5,104.5 L107.0,86.8\n",
       "\t\tL107.5,76.4 L108.0,69.6 L108.5,73.7 L109.0,80.5 L109.5,79.5 L110.0,81.0 L110.5,79.3 L111.1,67.5\n",
       "\t\tL111.6,67.6 L112.1,59.5 L112.6,46.0 L113.1,51.2 L113.6,64.0 L114.1,80.5 L114.6,84.9 L115.1,86.8\n",
       "\t\tL115.6,75.1 L116.1,86.4 L116.7,96.0 L117.2,118.0 L117.7,138.8 L118.2,149.3 L118.7,157.1 L119.2,140.6\n",
       "\t\tL119.7,142.4 L120.2,139.9 L120.7,135.2 L121.2,132.7 L121.7,145.8 L122.3,144.7 L122.8,146.9 L123.3,146.3\n",
       "\t\tL123.8,152.9 L124.3,137.2 L124.8,129.1 L125.3,153.2 L125.8,161.4 L126.3,168.3 L126.8,178.7 L127.3,166.9\n",
       "\t\tL127.9,152.1 L128.4,173.0 L128.9,172.1 L129.4,168.8 L129.9,148.3 L130.4,149.1 L130.9,165.5 L131.4,160.8\n",
       "\t\tL131.9,166.3 L132.4,167.3 L132.9,188.5 L133.5,205.3 L134.0,189.8 L134.5,189.0 L135.0,192.6 L135.5,187.9\n",
       "\t\tL136.0,183.0 L136.5,189.9 L137.0,174.4 L137.5,162.7 L138.0,172.9 L138.5,177.5 L139.1,179.1 L139.6,180.6\n",
       "\t\tL140.1,183.3 L140.6,192.5 L141.1,191.1 L141.6,201.5 L142.1,208.5 L142.6,213.5 L143.1,200.2 L143.6,208.4\n",
       "\t\tL144.1,200.6 L144.7,205.8 L145.2,200.5 L145.7,207.7 L146.2,197.0 L146.7,211.0 L147.2,215.3 L147.7,227.7\n",
       "\t\tL148.2,220.1 L148.7,218.7 L149.2,223.1 L149.7,222.8 L150.3,216.1 L150.8,228.5 L151.3,230.1 L151.8,213.3\n",
       "\t\tL152.3,209.6 L152.8,216.0 L153.3,225.6 L153.8,229.8 L154.3,241.6 L154.8,233.1 L155.3,217.9 L155.9,225.9\n",
       "\t\tL156.4,231.8 L156.9,238.2 L157.4,242.8 L157.9,232.3 L158.4,252.2 L158.9,250.2 L159.4,245.1 L159.9,252.8\n",
       "\t\tL160.4,257.2 L160.9,259.2 L161.5,259.3 L162.0,271.5 L162.5,295.8 L163.0,285.8 L163.5,274.9 L164.0,270.5\n",
       "\t\tL164.5,274.3 L165.0,262.4 L165.5,253.7 L166.0,259.6 L166.6,258.9 L167.1,259.6 L167.6,251.4 L168.1,247.7\n",
       "\t\tL168.6,256.4 L169.1,258.8 L169.6,258.4 L170.1,254.1 L170.6,237.7 L171.1,210.9 L171.6,216.9 L172.2,221.4\n",
       "\t\tL172.7,229.1 L173.2,221.8 L173.7,228.5 L174.2,238.8 L174.7,248.6 L175.2,262.6 L175.7,250.7 L176.2,236.3\n",
       "\t\tL176.7,232.3 L177.2,238.7 L177.8,242.3 L178.3,227.9 L178.8,203.2 L179.3,209.6 L179.8,193.8 L180.3,196.2\n",
       "\t\tL180.8,199.0 L181.3,202.3 L181.8,205.9 L182.3,213.4 L182.8,216.2 L183.4,219.3 L183.9,223.5 L184.4,219.6\n",
       "\t\tL184.9,217.6 L185.4,187.7 L185.9,168.5 L186.4,178.2 L186.9,157.6 L187.4,161.4 L187.9,163.0 L188.4,156.8\n",
       "\t\tL189.0,168.5 L189.5,177.9 L190.0,188.7 L190.5,202.4 L191.0,209.0 L191.5,214.4 L192.0,214.6 L192.5,206.7\n",
       "\t\tL193.0,195.6 L193.5,197.5 L194.0,185.5 L194.6,180.5 L195.1,175.4 L195.6,190.9 L196.1,185.2 L196.6,186.3\n",
       "\t\tL197.1,178.0 L197.6,190.5 L198.1,171.8 L198.6,152.1 L199.1,156.5 L199.6,159.8 L200.2,172.3 L200.7,166.3\n",
       "\t\tL201.2,185.0 L201.7,179.5 L202.2,176.7 L202.7,183.1 L203.2,182.6 L203.7,179.7 L204.2,186.4 L204.7,171.8\n",
       "\t\tL205.2,177.6 L205.8,184.4 L206.3,175.6 L206.8,161.2 L207.3,143.5 L207.8,153.7 L208.3,163.6 L208.8,156.7\n",
       "\t\tL209.3,141.8 L209.8,127.2 L210.3,131.7 L210.8,125.8 L211.4,124.2 L211.9,133.5 L212.4,146.5 L212.9,135.3\n",
       "\t\tL213.4,131.6 L213.9,114.4 L214.4,105.2 L214.9,101.0 L215.4,77.2 L215.9,69.8 L216.4,60.8 L217.0,87.5\n",
       "\t\tL217.5,96.1 L218.0,105.5 L218.5,113.4 L219.0,90.3 L219.5,79.8 L220.0,81.1 L220.5,90.6 L221.0,108.4\n",
       "\t\tL221.5,113.0 L222.0,120.7 L222.6,120.3 L223.1,109.5 L223.6,112.2 L224.1,119.3 L224.6,98.8 L225.1,105.5\n",
       "\t\tL225.6,100.2 L226.1,102.7 L226.6,100.2 L227.1,95.8 L227.6,111.3 L228.2,129.8 L228.7,136.1 L229.2,131.3\n",
       "\t\tL229.7,142.6 L230.2,119.2 L230.7,118.2 L231.2,118.7 L231.7,130.3 L232.2,135.4 L232.7,117.9 L233.2,140.5\n",
       "\t\tL233.8,162.9 L234.3,180.2 L234.8,194.4 L235.3,178.4 L235.8,191.9 L236.3,183.7 L236.8,189.7 L237.3,191.1\n",
       "\t\tL237.8,182.3 L238.3,174.5 L238.8,181.5 L239.4,193.4 L239.9,195.3 L240.4,195.7 L240.9,184.9 L241.4,203.8\n",
       "\t\tL241.9,207.2 L242.4,200.2 L242.9,178.4 L243.4,176.7 L243.9,178.6 L244.4,202.0 L245.0,207.3 L245.5,198.2\n",
       "\t\tL246.0,196.5 L246.5,191.0 L247.0,190.1 L247.5,185.1 L248.0,201.3 L248.5,198.3 L249.0,204.4 L249.5,182.8\n",
       "\t\tL250.0,176.1 L250.6,181.6 L251.1,184.9 L251.6,186.8 L252.1,174.0 L252.6,174.9 L253.1,172.7 L253.6,164.6\n",
       "\t\tL254.1,172.9 L254.6,182.3 L255.1,178.2 L255.6,177.1 L256.2,182.3 L256.7,184.6 L257.2,180.0 L257.7,171.0\n",
       "\t\tL258.2,179.5 L258.7,189.2 L259.2,167.8 L259.7,150.2 L260.2,151.8 L260.7,158.3 L261.2,164.1 L261.8,176.6\n",
       "\t\tL262.3,182.0 L262.8,174.3 L263.3,168.2 L263.8,145.9 L264.3,152.3 L264.8,165.7 L265.3,179.0 L265.8,169.7\n",
       "\t\tL266.3,181.8 L266.8,195.3 L267.4,187.9 L267.9,191.8 L268.4,185.3 L268.9,176.1 L269.4,165.4 L269.9,167.2\n",
       "\t\tL270.4,156.8 L270.9,159.0 L271.4,160.1 L271.9,150.7 L272.4,162.6 L273.0,162.1 L273.5,179.2 L274.0,171.9\n",
       "\t\tL274.5,176.1 L275.0,183.6 L275.5,196.1 L276.0,196.5 L276.5,205.4 L277.0,220.8 L277.5,224.2 L278.0,214.9\n",
       "\t\tL278.6,209.1 L279.1,235.1 L279.6,229.6 L280.1,218.0 L280.6,213.8 L281.1,214.6 L281.6,203.2 L282.1,178.0\n",
       "\t\tL282.6,186.5 L283.1,172.1 L283.7,173.2 L284.2,164.9 L284.7,143.9 L285.2,146.6 L285.7,157.3 L286.2,155.2\n",
       "\t\tL286.7,159.2 L287.2,180.5 L287.7,198.9 L288.2,193.1 L288.7,184.0 L289.3,175.0 L289.8,181.2 L290.3,188.5\n",
       "\t\tL290.8,171.6 L291.3,166.6 L291.8,168.8 L292.3,169.1 L292.8,174.5 L293.3,187.0 L293.8,182.3 L294.3,180.4\n",
       "\t\tL294.9,158.1 L295.4,149.3 L295.9,156.0 L296.4,151.2 L296.9,161.1 L297.4,168.2 L297.9,160.3 L298.4,162.7\n",
       "\t\tL298.9,165.0 L299.4,155.9 L299.9,141.5 L300.5,140.3 L301.0,133.3 L301.5,124.3 L302.0,133.5 L302.5,119.0\n",
       "\t\tL303.0,125.1 L303.5,122.5 L304.0,129.8 L304.5,136.9 L305.0,123.5 L305.5,125.0 L306.1,131.6 L306.6,130.5\n",
       "\t\tL307.1,132.6 L307.6,131.5 L308.1,130.7 L308.6,145.5 L309.1,156.1 L309.6,154.6 L310.1,148.9 L310.6,151.8\n",
       "\t\tL311.1,151.3 L311.7,145.4 L312.2,157.8 L312.7,156.1 L313.2,143.7 L313.7,133.7 L314.2,137.9 L314.7,132.8\n",
       "\t\tL315.2,138.9 L315.7,153.5 L316.2,150.9 L316.7,152.9 L317.3,163.6 L317.8,177.0 L318.3,178.5 L318.8,163.6\n",
       "\t\tL319.3,156.5 L319.8,156.8 L320.3,160.4 L320.8,161.3 L321.3,153.2 L321.8,151.9 L322.3,157.8 L322.9,184.9\n",
       "\t\tL323.4,187.9 L323.9,196.8 L324.4,209.4 L324.9,204.7 L325.4,204.6 L325.9,198.9 L326.4,216.7 L326.9,212.8\n",
       "\t\tL327.4,213.7 L327.9,208.6 L328.5,206.6 L329.0,201.9 L329.5,222.7 L330.0,232.1 L330.5,248.5 L331.0,249.1\n",
       "\t\tL331.5,253.0 L332.0,246.6 L332.5,238.4 L333.0,240.4 L333.5,259.7 L334.1,265.6 L334.6,262.1 L335.1,296.6\n",
       "\t\tL335.6,307.9 L336.1,316.5 L336.6,306.7 L337.1,295.9 L337.6,294.1 L338.1,281.2 L338.6,259.6 L339.1,250.3\n",
       "\t\tL339.7,243.7 L340.2,230.8 L340.7,230.3 L341.2,235.9 L341.7,234.4 L342.2,244.8 L342.7,245.7 L343.2,252.5\n",
       "\t\tL343.7,248.8 L344.2,249.0 L344.7,248.0 L345.3,251.0 L345.8,237.6 L346.3,221.9 L346.8,230.2 L347.3,220.3\n",
       "\t\tL347.8,234.3 L348.3,246.8 L348.8,248.5 L349.3,238.8 L349.8,251.9 L350.3,247.2 L350.9,237.5 L351.4,239.4\n",
       "\t\tL351.9,235.4 L352.4,211.6 L352.9,212.3 L353.4,226.6 L353.9,236.7 L354.4,251.3 L354.9,236.5 L355.4,219.5\n",
       "\t\tL355.9,231.8 L356.5,245.2 L357.0,227.7 L357.5,251.1 L358.0,254.6 L358.5,272.0 L359.0,281.6 L359.5,298.0\n",
       "\t\tL360.0,289.7 L360.5,268.4 L361.0,257.6 L361.5,270.2 L362.1,268.0 L362.6,268.9 L363.1,287.8 L363.6,298.4\n",
       "\t\tL364.1,300.7 L364.6,304.8 L365.1,307.8 L365.6,312.7 L366.1,298.4 L366.6,302.0 L367.1,293.9 L367.7,301.3\n",
       "\t\tL368.2,328.9 L368.7,343.4 L369.2,353.0 L369.7,330.4 L370.2,329.4 L370.7,330.2 L371.2,330.5 L371.7,321.1\n",
       "\t\tL372.2,333.9 L372.7,328.0 L373.3,333.8 L373.8,333.9 L374.3,312.7 L374.8,321.4 L375.3,328.8 L375.8,319.0\n",
       "\t\tL376.3,315.9 L376.8,319.4 L377.3,319.0 L377.8,288.1 L378.3,283.9 L378.9,309.4 L379.4,303.3 L379.9,319.6\n",
       "\t\tL380.4,320.1 L380.9,321.2 L381.4,319.2 L381.9,332.1 L382.4,327.2 L382.9,318.3 L383.4,310.0 L383.9,298.0\n",
       "\t\tL384.5,289.5 L385.0,281.8 L385.5,280.8 L386.0,293.9 L386.5,285.5 L387.0,292.6 L387.5,289.8 L388.0,299.8\n",
       "\t\tL388.5,287.2 L389.0,293.0 L389.5,294.8 L390.1,304.9 L390.6,293.0 L391.1,282.2 L391.6,289.0 L392.1,280.1\n",
       "\t\tL392.6,292.3 L393.1,306.2 L393.6,290.3 L394.1,287.7 L394.6,290.4 L395.1,295.3 L395.7,283.7 L396.2,282.3\n",
       "\t\tL396.7,296.8 L397.2,288.5 L397.7,284.3 L398.2,268.3 L398.7,258.0 L399.2,278.6 L399.7,268.3 L400.2,252.8\n",
       "\t\tL400.8,274.7 L401.3,284.8 L401.8,290.9 L402.3,301.7 L402.8,297.3 L403.3,295.3 L403.8,292.2 L404.3,288.3\n",
       "\t\tL404.8,281.7 L405.3,280.2 L405.8,270.3 L406.4,256.2 L406.9,248.4 L407.4,268.9 L407.9,269.4 L408.4,262.4\n",
       "\t\tL408.9,261.9 L409.4,270.0 L409.9,249.4 L410.4,242.5 L410.9,250.6 L411.4,249.5 L412.0,249.2 L412.5,230.7\n",
       "\t\tL413.0,233.5 L413.5,239.8 L414.0,238.9 L414.5,241.6 L415.0,227.4 L415.5,203.0 L416.0,163.8 L416.5,173.9\n",
       "\t\tL417.0,177.9 L417.6,182.6 L418.1,183.6 L418.6,188.9 L419.1,207.2 L419.6,194.0 L420.1,185.4 L420.6,205.3\n",
       "\t\tL421.1,214.5 L421.6,214.9 L422.1,227.1 L422.6,244.9 L423.2,255.2 L423.7,258.6 L424.2,258.3 L424.7,260.6\n",
       "\t\tL425.2,261.9 L425.7,259.2 L426.2,244.8 L426.7,237.1 L427.2,242.2 L427.7,248.1 L428.2,271.9 L428.8,282.6\n",
       "\t\tL429.3,285.5 L429.8,291.0 L430.3,290.3 L430.8,293.7 L431.3,295.8 L431.8,312.0 L432.3,296.7 L432.8,294.7\n",
       "\t\tL433.3,285.0 L433.8,284.5 L434.4,289.0 L434.9,301.1 L435.4,299.6 L435.9,297.5 L436.4,286.5 L436.9,286.9\n",
       "\t\tL437.4,293.6 L437.9,306.5 L438.4,294.5 L438.9,314.5 L439.4,312.0 L440.0,326.1 L440.5,326.1 L441.0,310.8\n",
       "\t\tL441.5,301.6 L442.0,298.9 L442.5,293.8 L443.0,298.6 L443.5,292.7 L444.0,303.1 L444.5,316.7 L445.0,302.0\n",
       "\t\tL445.6,300.1 L446.1,302.7 L446.6,319.5 L447.1,325.1 L447.6,327.7 L448.1,327.1 L448.6,316.2 L449.1,331.8\n",
       "\t\tL449.6,326.9 L450.1,331.2 L450.6,330.8 L451.2,316.1 L451.7,298.9 L452.2,289.0 L452.7,269.1 L453.2,273.1\n",
       "\t\tL453.7,284.1 L454.2,285.7 L454.7,290.4 L455.2,298.0 L455.7,316.6 L456.2,327.1 L456.8,343.7 L457.3,346.4\n",
       "\t\tL457.8,350.8 L458.3,365.0 L458.8,365.8 L459.3,354.0 L459.8,347.3 L460.3,353.5 L460.8,350.7 L461.3,333.7\n",
       "\t\tL461.8,318.5 L462.4,306.9 L462.9,307.9 L463.4,317.0 L463.9,307.8 L464.4,299.4 L464.9,301.4 L465.4,315.2\n",
       "\t\tL465.9,309.0 L466.4,310.4 L466.9,314.7 L467.4,300.5 L468.0,295.4 L468.5,297.2 L469.0,268.3 L469.5,269.1\n",
       "\t\tL470.0,256.9 L470.5,256.5 L471.0,249.9 L471.5,238.9 L472.0,243.9 L472.5,225.5 L473.0,223.1 L473.6,210.9\n",
       "\t\tL474.1,217.3 L474.6,208.9 L475.1,209.0 L475.6,216.4 L476.1,220.6 L476.6,234.1 L477.1,209.5 L477.6,209.5\n",
       "\t\tL478.1,185.3 L478.6,199.8 L479.2,190.9 L479.7,165.3 L480.2,171.6 L480.7,167.0 L481.2,172.6 L481.7,170.4\n",
       "\t\tL482.2,177.2 L482.7,167.4 L483.2,166.5 L483.7,166.1 L484.2,163.7 L484.8,168.6 L485.3,167.6 L485.8,144.1\n",
       "\t\tL486.3,142.4 L486.8,133.7 L487.3,119.8 L487.8,113.2 L488.3,109.0 L488.8,95.5 L489.3,95.0 L489.8,108.9\n",
       "\t\tL490.4,106.7 L490.9,102.8 L491.4,105.7 L491.9,110.6 L492.4,97.6 L492.9,111.1 L493.4,123.6 L493.9,112.7\n",
       "\t\tL494.4,94.6 L494.9,94.2 L495.4,91.2 L496.0,109.0 L496.5,101.6 L497.0,102.3 L497.5,96.7 L498.0,104.6\n",
       "\t\tL498.5,108.7 L499.0,123.9 L499.5,130.1 L500.0,124.7 L500.5,112.6 L501.0,119.0 L501.6,126.1 L502.1,118.0\n",
       "\t\tL502.6,121.0 L503.1,119.4 L503.6,113.2 L504.1,128.5 L504.6,115.6 L505.1,98.8 L505.6,105.5 L506.1,112.3\n",
       "\t\tL506.6,95.7 L507.2,113.4 L507.7,112.1 L508.2,117.2 L508.7,102.5 L509.2,96.4 L509.7,100.7 L510.2,101.5\n",
       "\t\tL510.7,101.0 L511.2,85.6 L511.7,90.3 L512.2,77.3 L512.8,91.2 L513.3,91.1 L513.8,90.5 L514.3,98.4\n",
       "\t\tL514.8,74.1 L515.3,79.1 L515.8,67.6 L516.3,64.9 L516.8,71.7 L517.3,56.2 L517.9,50.5 L518.4,40.3\n",
       "\t\tL518.9,47.1 L519.4,60.2 L519.9,68.9 L520.4,67.1 L520.9,62.5 L521.4,69.6 L521.9,52.7 L522.4,46.4\n",
       "\t\tL522.9,47.4 L523.5,58.3 L524.0,81.5 L524.5,89.8 L525.0,82.4 L525.5,86.6 L526.0,84.1 L526.5,88.0\n",
       "\t\tL527.0,87.4 L527.5,99.4 L528.0,101.2 L528.5,107.7 L529.1,97.0 L529.6,106.9 L530.1,100.3 L530.6,88.6\n",
       "\t\tL531.1,97.3 L531.6,80.3 L532.1,71.1 L532.6,102.7 L533.1,99.1 L533.6,107.6 L534.1,84.6 L534.7,79.6\n",
       "\t\tL535.2,96.5 L535.7,70.7 L536.2,77.7 L536.7,85.7 L537.2,84.0 L537.7,91.3 L538.2,102.7 L538.7,115.8\n",
       "\t\tL539.2,105.8 L539.7,101.8 L540.3,96.3 L540.8,103.0 L541.3,114.8 L541.8,112.7 L542.3,112.9 L542.8,107.3\n",
       "\t\tL543.3,114.6 L543.8,118.9 L544.3,126.1 L544.8,115.8 L545.3,129.5 L545.9,139.1 L546.4,141.5 L546.9,136.2\n",
       "\t\tL547.4,122.8 L547.9,128.0 L548.4,150.9 L548.9,164.0 L549.4,167.0 L549.9,169.1 L550.4,167.3 L550.9,162.5\n",
       "\t\tL551.5,186.7 L552.0,203.2 L552.5,207.5 L553.0,230.4 L553.5,233.7 L554.0,232.6 L554.5,204.3 L555.0,207.8\n",
       "\t\tL555.5,208.2 L556.0,226.8 L556.5,221.5 L557.1,235.0 L557.6,230.6 L558.1,261.1 L558.6,257.9 L559.1,266.9\n",
       "\t\tL559.6,269.0 L560.1,266.5 L560.6,261.0 L561.1,263.8 L561.6,268.5 L562.1,265.5 L562.7,268.6 L563.2,266.3\n",
       "\t\tL563.7,247.9 L564.2,259.9 L564.7,265.4 L565.2,268.8 L565.7,269.1 L566.2,276.8 L566.7,266.1 L567.2,246.4\n",
       "\t\tL567.7,240.7 L568.3,230.4 L568.8,222.8 L569.3,214.2 L569.8,218.7 L570.3,213.7 L570.8,220.4 L571.3,235.9\n",
       "\t\tL571.8,228.7 L572.3,234.5  '/></g>\n",
       "\t</g>\n",
       "\t<g id=\"gnuplot_plot_2\" ><title>Rolling Mean</title>\n",
       "<g fill=\"none\" color=\"black\" stroke=\"currentColor\" stroke-width=\"1.00\" stroke-linecap=\"butt\" stroke-linejoin=\"miter\">\n",
       "\t<g transform=\"translate(507.9,57.2)\" stroke=\"none\" fill=\"black\" font-family=\"Arial\" font-size=\"12.00\"  text-anchor=\"end\">\n",
       "\t\t<text><tspan font-family=\"Arial\" >Rolling Mean</tspan></text>\n",
       "\t</g>\n",
       "</g>\n",
       "<g fill=\"none\" color=\"black\" stroke=\"currentColor\" stroke-width=\"1.00\" stroke-linecap=\"butt\" stroke-linejoin=\"miter\">\n",
       "\t<path stroke='rgb(  0, 158, 115)'  d='M516.2,52.7 L558.4,52.7 M93.7,128.6 L94.3,127.4 L94.8,126.0 L95.3,124.8 L95.8,123.7 L96.3,122.6\n",
       "\t\tL96.8,121.4 L97.3,120.3 L97.8,119.2 L98.3,118.2 L98.8,116.9 L99.3,116.1 L99.9,115.4 L100.4,115.0\n",
       "\t\tL100.9,115.0 L101.4,115.2 L101.9,115.3 L102.4,115.1 L102.9,114.8 L103.4,114.5 L103.9,114.2 L104.4,114.0\n",
       "\t\tL104.9,114.2 L105.5,114.4 L106.0,114.2 L106.5,113.7 L107.0,112.8 L107.5,111.7 L108.0,110.7 L108.5,109.6\n",
       "\t\tL109.0,108.7 L109.5,108.2 L110.0,107.4 L110.5,106.7 L111.1,105.9 L111.6,105.0 L112.1,103.9 L112.6,102.1\n",
       "\t\tL113.1,100.3 L113.6,98.9 L114.1,97.9 L114.6,97.4 L115.1,97.1 L115.6,96.5 L116.1,96.1 L116.7,95.7\n",
       "\t\tL117.2,95.8 L117.7,96.3 L118.2,96.8 L118.7,97.4 L119.2,97.9 L119.7,98.2 L120.2,98.4 L120.7,98.5\n",
       "\t\tL121.2,98.5 L121.7,98.7 L122.3,98.6 L122.8,98.8 L123.3,99.2 L123.8,99.9 L124.3,100.2 L124.8,100.3\n",
       "\t\tL125.3,101.2 L125.8,102.2 L126.3,103.4 L126.8,104.6 L127.3,105.8 L127.9,106.9 L128.4,108.5 L128.9,110.2\n",
       "\t\tL129.4,112.0 L129.9,113.2 L130.4,114.2 L130.9,115.5 L131.4,116.5 L131.9,117.4 L132.4,118.4 L132.9,120.1\n",
       "\t\tL133.5,122.0 L134.0,123.9 L134.5,125.5 L135.0,127.0 L135.5,128.1 L136.0,129.3 L136.5,130.5 L137.0,131.7\n",
       "\t\tL137.5,133.0 L138.0,134.6 L138.5,136.4 L139.1,138.1 L139.6,139.8 L140.1,141.5 L140.6,143.4 L141.1,145.2\n",
       "\t\tL141.6,147.5 L142.1,149.8 L142.6,152.4 L143.1,155.0 L143.6,157.6 L144.1,159.9 L144.7,161.9 L145.2,163.9\n",
       "\t\tL145.7,165.9 L146.2,167.9 L146.7,170.0 L147.2,172.0 L147.7,173.8 L148.2,175.2 L148.7,176.3 L149.2,177.4\n",
       "\t\tL149.7,178.8 L150.3,180.0 L150.8,181.5 L151.3,183.1 L151.8,184.4 L152.3,185.5 L152.8,186.7 L153.3,188.0\n",
       "\t\tL153.8,189.4 L154.3,190.9 L154.8,192.4 L155.3,193.9 L155.9,195.1 L156.4,196.3 L156.9,197.5 L157.4,198.5\n",
       "\t\tL157.9,199.6 L158.4,201.3 L158.9,202.6 L159.4,203.8 L159.9,205.2 L160.4,207.0 L160.9,208.9 L161.5,210.4\n",
       "\t\tL162.0,212.3 L162.5,214.4 L163.0,216.4 L163.5,217.8 L164.0,218.9 L164.5,220.3 L165.0,221.6 L165.5,222.6\n",
       "\t\tL166.0,223.8 L166.6,225.0 L167.1,226.2 L167.6,227.5 L168.1,228.9 L168.6,230.3 L169.1,231.6 L169.6,233.0\n",
       "\t\tL170.1,234.2 L170.6,235.1 L171.1,235.4 L171.6,235.8 L172.2,236.2 L172.7,236.5 L173.2,236.6 L173.7,237.1\n",
       "\t\tL174.2,237.6 L174.7,238.4 L175.2,239.4 L175.7,240.2 L176.2,240.7 L176.7,241.3 L177.2,241.7 L177.8,242.2\n",
       "\t\tL178.3,242.2 L178.8,241.9 L179.3,241.8 L179.8,241.3 L180.3,240.8 L180.8,240.5 L181.3,240.1 L181.8,239.7\n",
       "\t\tL182.3,239.7 L182.8,239.8 L183.4,239.9 L183.9,239.8 L184.4,239.7 L184.9,239.3 L185.4,238.5 L185.9,237.7\n",
       "\t\tL186.4,236.9 L186.9,235.7 L187.4,234.4 L187.9,233.0 L188.4,231.8 L189.0,230.4 L189.5,229.2 L190.0,228.2\n",
       "\t\tL190.5,227.4 L191.0,226.6 L191.5,225.9 L192.0,225.1 L192.5,224.0 L193.0,222.4 L193.5,220.9 L194.0,219.4\n",
       "\t\tL194.6,217.9 L195.1,216.2 L195.6,215.1 L196.1,213.9 L196.6,212.7 L197.1,211.3 L197.6,210.2 L198.1,208.9\n",
       "\t\tL198.6,207.3 L199.1,205.6 L199.6,204.0 L200.2,202.5 L200.7,201.1 L201.2,200.2 L201.7,199.7 L202.2,199.0\n",
       "\t\tL202.7,198.3 L203.2,197.6 L203.7,196.9 L204.2,196.2 L204.7,195.1 L205.2,193.9 L205.8,192.6 L206.3,191.3\n",
       "\t\tL206.8,190.1 L207.3,188.6 L207.8,187.2 L208.3,185.9 L208.8,184.7 L209.3,183.6 L209.8,182.3 L210.3,181.2\n",
       "\t\tL210.8,180.1 L211.4,178.8 L211.9,177.7 L212.4,176.7 L212.9,175.4 L213.4,174.0 L213.9,172.2 L214.4,170.3\n",
       "\t\tL214.9,168.3 L215.4,165.9 L215.9,164.0 L216.4,162.2 L217.0,160.7 L217.5,159.6 L218.0,158.7 L218.5,157.9\n",
       "\t\tL219.0,156.8 L219.5,155.3 L220.0,153.7 L220.5,152.0 L221.0,150.5 L221.5,148.9 L222.0,147.3 L222.6,145.7\n",
       "\t\tL223.1,144.1 L223.6,142.7 L224.1,141.4 L224.6,140.0 L225.1,138.7 L225.6,137.5 L226.1,136.0 L226.6,134.6\n",
       "\t\tL227.1,133.1 L227.6,132.0 L228.2,131.0 L228.7,130.4 L229.2,130.0 L229.7,129.8 L230.2,129.1 L230.7,128.2\n",
       "\t\tL231.2,127.4 L231.7,126.5 L232.2,125.8 L232.7,124.8 L233.2,124.1 L233.8,123.8 L234.3,123.8 L234.8,123.9\n",
       "\t\tL235.3,124.0 L235.8,124.2 L236.3,124.2 L236.8,124.5 L237.3,125.0 L237.8,125.6 L238.3,126.0 L238.8,126.3\n",
       "\t\tL239.4,126.9 L239.9,127.8 L240.4,128.9 L240.9,129.8 L241.4,131.1 L241.9,132.5 L242.4,133.6 L242.9,134.1\n",
       "\t\tL243.4,134.8 L243.9,135.6 L244.4,137.0 L245.0,138.8 L245.5,140.4 L246.0,142.4 L246.5,144.4 L247.0,146.5\n",
       "\t\tL247.5,148.2 L248.0,149.9 L248.5,151.5 L249.0,153.0 L249.5,154.5 L250.0,156.1 L250.6,157.8 L251.1,159.4\n",
       "\t\tL251.6,160.7 L252.1,161.7 L252.6,162.6 L253.1,163.5 L253.6,164.4 L254.1,165.4 L254.6,166.4 L255.1,167.8\n",
       "\t\tL255.6,169.0 L256.2,170.3 L256.7,171.7 L257.2,173.0 L257.7,174.3 L258.2,175.4 L258.7,176.4 L259.2,176.9\n",
       "\t\tL259.7,177.3 L260.2,177.4 L260.7,178.1 L261.2,178.8 L261.8,179.8 L262.3,180.6 L262.8,181.3 L263.3,182.1\n",
       "\t\tL263.8,182.2 L264.3,182.0 L264.8,181.8 L265.3,181.5 L265.8,181.4 L266.3,181.2 L266.8,181.4 L267.4,181.4\n",
       "\t\tL267.9,181.4 L268.4,181.5 L268.9,181.5 L269.4,181.2 L269.9,180.8 L270.4,180.1 L270.9,179.5 L271.4,179.1\n",
       "\t\tL271.9,178.2 L272.4,177.5 L273.0,176.9 L273.5,176.9 L274.0,176.8 L274.5,176.7 L275.0,176.4 L275.5,176.3\n",
       "\t\tL276.0,176.2 L276.5,176.4 L277.0,176.9 L277.5,177.4 L278.0,177.9 L278.6,178.1 L279.1,178.7 L279.6,179.1\n",
       "\t\tL280.1,179.7 L280.6,180.3 L281.1,180.9 L281.6,181.2 L282.1,181.0 L282.6,181.2 L283.1,181.2 L283.7,181.2\n",
       "\t\tL284.2,181.2 L284.7,180.7 L285.2,180.1 L285.7,179.8 L286.2,179.4 L286.7,179.0 L287.2,178.9 L287.7,179.3\n",
       "\t\tL288.2,179.6 L288.7,179.7 L289.3,179.5 L289.8,179.7 L290.3,180.3 L290.8,180.7 L291.3,180.8 L291.8,180.9\n",
       "\t\tL292.3,180.8 L292.8,180.6 L293.3,180.8 L293.8,181.1 L294.3,181.6 L294.9,181.7 L295.4,181.5 L295.9,181.1\n",
       "\t\tL296.4,180.8 L296.9,180.4 L297.4,180.0 L297.9,179.5 L298.4,179.0 L298.9,178.7 L299.4,178.4 L299.9,178.0\n",
       "\t\tL300.5,177.5 L301.0,177.1 L301.5,176.6 L302.0,176.1 L302.5,175.6 L303.0,175.0 L303.5,174.3 L304.0,173.5\n",
       "\t\tL304.5,172.9 L305.0,172.0 L305.5,171.0 L306.1,170.0 L306.6,168.9 L307.1,167.6 L307.6,166.2 L308.1,164.6\n",
       "\t\tL308.6,163.4 L309.1,162.6 L309.6,161.2 L310.1,159.9 L310.6,158.8 L311.1,157.7 L311.7,156.6 L312.2,155.8\n",
       "\t\tL312.7,155.5 L313.2,154.7 L313.7,154.1 L314.2,153.5 L314.7,153.0 L315.2,152.9 L315.7,153.0 L316.2,152.9\n",
       "\t\tL316.7,152.9 L317.3,152.9 L317.8,152.9 L318.3,152.5 L318.8,152.0 L319.3,151.6 L319.8,151.3 L320.3,150.9\n",
       "\t\tL320.8,150.5 L321.3,150.2 L321.8,149.9 L322.3,149.7 L322.9,150.0 L323.4,150.2 L323.9,150.4 L324.4,150.9\n",
       "\t\tL324.9,151.3 L325.4,152.0 L325.9,152.9 L326.4,153.9 L326.9,154.9 L327.4,155.8 L327.9,156.4 L328.5,157.2\n",
       "\t\tL329.0,157.9 L329.5,158.8 L330.0,160.1 L330.5,161.9 L331.0,163.7 L331.5,165.7 L332.0,167.7 L332.5,169.5\n",
       "\t\tL333.0,171.5 L333.5,173.7 L334.1,176.1 L334.6,178.3 L335.1,181.0 L335.6,184.1 L336.1,187.3 L336.6,190.2\n",
       "\t\tL337.1,192.9 L337.6,195.6 L338.1,198.1 L338.6,200.3 L339.1,202.0 L339.7,203.5 L340.2,204.7 L340.7,206.1\n",
       "\t\tL341.2,207.5 L341.7,208.9 L342.2,210.5 L342.7,212.0 L343.2,213.6 L343.7,215.4 L344.2,217.3 L344.7,219.1\n",
       "\t\tL345.3,221.1 L345.8,222.7 L346.3,223.9 L346.8,225.2 L347.3,226.3 L347.8,227.5 L348.3,228.7 L348.8,229.8\n",
       "\t\tL349.3,231.1 L349.8,232.7 L350.3,234.2 L350.9,235.5 L351.4,236.8 L351.9,238.2 L352.4,239.1 L352.9,240.1\n",
       "\t\tL353.4,240.7 L353.9,241.6 L354.4,242.5 L354.9,242.9 L355.4,243.2 L355.9,243.6 L356.5,244.4 L357.0,244.6\n",
       "\t\tL357.5,245.2 L358.0,245.9 L358.5,247.0 L359.0,248.2 L359.5,249.8 L360.0,250.9 L360.5,251.5 L361.0,251.7\n",
       "\t\tL361.5,252.0 L362.1,252.3 L362.6,252.7 L363.1,253.5 L363.6,254.4 L364.1,255.1 L364.6,255.8 L365.1,256.5\n",
       "\t\tL365.6,256.8 L366.1,256.7 L366.6,256.4 L367.1,256.2 L367.7,256.3 L368.2,256.9 L368.7,257.9 L369.2,259.5\n",
       "\t\tL369.7,260.8 L370.2,262.2 L370.7,263.9 L371.2,265.5 L371.7,267.0 L372.2,268.6 L372.7,270.0 L373.3,271.5\n",
       "\t\tL373.8,272.8 L374.3,273.9 L374.8,275.1 L375.3,276.5 L375.8,277.6 L376.3,278.9 L376.8,280.5 L377.3,282.0\n",
       "\t\tL377.8,283.1 L378.3,284.0 L378.9,285.0 L379.4,285.9 L379.9,287.3 L380.4,288.4 L380.9,289.6 L381.4,291.0\n",
       "\t\tL381.9,292.5 L382.4,294.1 L382.9,295.8 L383.4,297.5 L383.9,298.7 L384.5,299.5 L385.0,300.0 L385.5,300.8\n",
       "\t\tL386.0,302.0 L386.5,302.9 L387.0,303.7 L387.5,304.7 L388.0,305.6 L388.5,306.1 L389.0,306.5 L389.5,306.7\n",
       "\t\tL390.1,306.8 L390.6,306.8 L391.1,307.1 L391.6,307.6 L392.1,307.8 L392.6,308.2 L393.1,308.8 L393.6,308.8\n",
       "\t\tL394.1,308.7 L394.6,308.5 L395.1,308.3 L395.7,307.9 L396.2,307.4 L396.7,307.4 L397.2,307.2 L397.7,307.0\n",
       "\t\tL398.2,306.4 L398.7,305.3 L399.2,304.2 L399.7,302.8 L400.2,301.5 L400.8,300.6 L401.3,299.8 L401.8,299.2\n",
       "\t\tL402.3,298.8 L402.8,298.2 L403.3,297.7 L403.8,297.0 L404.3,296.2 L404.8,295.7 L405.3,295.0 L405.8,294.0\n",
       "\t\tL406.4,293.0 L406.9,291.9 L407.4,291.0 L407.9,290.2 L408.4,289.8 L408.9,289.4 L409.4,288.8 L409.9,287.9\n",
       "\t\tL410.4,286.6 L410.9,285.4 L411.4,284.2 L412.0,283.1 L412.5,281.4 L413.0,279.8 L413.5,278.5 L414.0,277.3\n",
       "\t\tL414.5,276.4 L415.0,275.3 L415.5,274.0 L416.0,272.1 L416.5,270.1 L417.0,268.3 L417.6,266.4 L418.1,264.7\n",
       "\t\tL418.6,262.8 L419.1,261.5 L419.6,259.8 L420.1,258.0 L420.6,256.4 L421.1,255.1 L421.6,253.9 L422.1,252.9\n",
       "\t\tL422.6,252.3 L423.2,251.7 L423.7,250.9 L424.2,250.4 L424.7,249.9 L425.2,249.4 L425.7,248.8 L426.2,248.2\n",
       "\t\tL426.7,247.4 L427.2,246.5 L427.7,245.9 L428.2,245.7 L428.8,245.9 L429.3,246.3 L429.8,246.6 L430.3,246.9\n",
       "\t\tL430.8,247.6 L431.3,248.0 L431.8,248.4 L432.3,248.5 L432.8,248.4 L433.3,248.2 L433.8,248.0 L434.4,247.9\n",
       "\t\tL434.9,248.2 L435.4,248.5 L435.9,248.7 L436.4,249.0 L436.9,249.5 L437.4,250.3 L437.9,250.9 L438.4,251.3\n",
       "\t\tL438.9,252.2 L439.4,253.0 L440.0,254.0 L440.5,255.2 L441.0,256.4 L441.5,257.2 L442.0,258.1 L442.5,258.8\n",
       "\t\tL443.0,259.9 L443.5,260.9 L444.0,262.0 L444.5,263.3 L445.0,264.3 L445.6,265.5 L446.1,267.1 L446.6,269.7\n",
       "\t\tL447.1,272.3 L447.6,274.8 L448.1,277.2 L448.6,279.4 L449.1,281.8 L449.6,283.8 L450.1,286.0 L450.6,288.5\n",
       "\t\tL451.2,290.3 L451.7,291.7 L452.2,292.9 L452.7,293.6 L453.2,294.1 L453.7,294.6 L454.2,295.1 L454.7,295.6\n",
       "\t\tL455.2,296.2 L455.7,297.1 L456.2,298.3 L456.8,299.9 L457.3,301.7 L457.8,303.5 L458.3,305.5 L458.8,307.0\n",
       "\t\tL459.3,308.2 L459.8,309.3 L460.3,310.3 L460.8,311.3 L461.3,312.0 L461.8,312.4 L462.4,312.3 L462.9,312.5\n",
       "\t\tL463.4,312.8 L463.9,313.2 L464.4,313.5 L464.9,313.7 L465.4,313.9 L465.9,314.1 L466.4,314.3 L466.9,314.7\n",
       "\t\tL467.4,315.0 L468.0,315.0 L468.5,314.8 L469.0,314.4 L469.5,313.7 L470.0,312.7 L470.5,311.6 L471.0,310.3\n",
       "\t\tL471.5,309.1 L472.0,308.1 L472.5,306.9 L473.0,305.7 L473.6,304.3 L474.1,303.0 L474.6,301.5 L475.1,299.7\n",
       "\t\tL475.6,298.2 L476.1,296.9 L476.6,295.8 L477.1,293.9 L477.6,292.0 L478.1,289.6 L478.6,287.5 L479.2,285.4\n",
       "\t\tL479.7,282.6 L480.2,280.1 L480.7,277.3 L481.2,274.7 L481.7,272.3 L482.2,270.2 L482.7,268.2 L483.2,266.5\n",
       "\t\tL483.7,264.7 L484.2,262.7 L484.8,260.8 L485.3,258.7 L485.8,256.1 L486.3,253.2 L486.8,250.0 L487.3,246.3\n",
       "\t\tL487.8,242.4 L488.3,238.4 L488.8,233.9 L489.3,229.4 L489.8,225.3 L490.4,221.3 L490.9,217.1 L491.4,213.0\n",
       "\t\tL491.9,209.3 L492.4,205.6 L492.9,202.3 L493.4,199.3 L493.9,195.9 L494.4,192.3 L494.9,188.9 L495.4,185.4\n",
       "\t\tL496.0,182.0 L496.5,178.5 L497.0,175.0 L497.5,171.4 L498.0,168.1 L498.5,165.0 L499.0,162.1 L499.5,159.8\n",
       "\t\tL500.0,157.4 L500.5,155.0 L501.0,152.7 L501.6,150.7 L502.1,148.6 L502.6,146.6 L503.1,144.8 L503.6,143.0\n",
       "\t\tL504.1,141.6 L504.6,139.9 L505.1,138.1 L505.6,136.4 L506.1,134.6 L506.6,132.5 L507.2,130.5 L507.7,128.9\n",
       "\t\tL508.2,127.4 L508.7,126.0 L509.2,124.3 L509.7,122.8 L510.2,121.7 L510.7,120.5 L511.2,119.2 L511.7,117.8\n",
       "\t\tL512.2,116.2 L512.8,114.8 L513.3,113.5 L513.8,112.3 L514.3,111.1 L514.8,109.6 L515.3,108.2 L515.8,106.5\n",
       "\t\tL516.3,105.2 L516.8,104.0 L517.3,102.7 L517.9,101.5 L518.4,100.3 L518.9,99.3 L519.4,98.7 L519.9,98.3\n",
       "\t\tL520.4,97.6 L520.9,96.8 L521.4,96.3 L521.9,95.4 L522.4,94.3 L522.9,93.5 L523.5,92.6 L524.0,91.9\n",
       "\t\tL524.5,91.5 L525.0,91.3 L525.5,91.2 L526.0,91.1 L526.5,90.7 L527.0,90.5 L527.5,90.5 L528.0,90.5\n",
       "\t\tL528.5,90.6 L529.1,90.4 L529.6,90.1 L530.1,89.6 L530.6,89.0 L531.1,88.8 L531.6,88.1 L532.1,87.2\n",
       "\t\tL532.6,86.9 L533.1,86.6 L533.6,86.4 L534.1,85.9 L534.7,85.1 L535.2,84.8 L535.7,84.3 L536.2,83.8\n",
       "\t\tL536.7,83.4 L537.2,83.2 L537.7,82.8 L538.2,82.7 L538.7,82.6 L539.2,82.7 L539.7,82.8 L540.3,82.7\n",
       "\t\tL540.8,82.7 L541.3,83.0 L541.8,83.4 L542.3,83.8 L542.8,84.3 L543.3,84.7 L543.8,85.2 L544.3,85.8\n",
       "\t\tL544.8,86.0 L545.3,87.0 L545.9,88.0 L546.4,89.2 L546.9,90.4 L547.4,91.2 L547.9,92.4 L548.4,94.1\n",
       "\t\tL548.9,96.2 L549.4,98.2 L549.9,100.0 L550.4,101.6 L550.9,103.2 L551.5,105.3 L552.0,107.5 L552.5,110.1\n",
       "\t\tL553.0,113.2 L553.5,116.3 L554.0,119.2 L554.5,121.2 L555.0,123.2 L555.5,125.3 L556.0,127.6 L556.5,129.9\n",
       "\t\tL557.1,132.3 L557.6,134.7 L558.1,137.4 L558.6,140.0 L559.1,142.7 L559.6,145.6 L560.1,148.2 L560.6,150.9\n",
       "\t\tL561.1,153.8 L561.6,156.7 L562.1,159.8 L562.7,163.0 L563.2,165.8 L563.7,168.3 L564.2,170.8 L564.7,173.8\n",
       "\t\tL565.2,177.0 L565.7,179.8 L566.2,183.3 L566.7,186.4 L567.2,189.1 L567.7,191.7 L568.3,194.0 L568.8,196.0\n",
       "\t\tL569.3,197.7 L569.8,199.5 L570.3,201.4 L570.8,203.5 L571.3,205.7 L571.8,207.6 L572.3,209.6  '/></g>\n",
       "\t</g>\n",
       "<g fill=\"none\" color=\"white\" stroke=\"rgb(  0, 158, 115)\" stroke-width=\"2.00\" stroke-linecap=\"butt\" stroke-linejoin=\"miter\">\n",
       "</g>\n",
       "<g fill=\"none\" color=\"black\" stroke=\"currentColor\" stroke-width=\"2.00\" stroke-linecap=\"butt\" stroke-linejoin=\"miter\">\n",
       "</g>\n",
       "<g fill=\"none\" color=\"black\" stroke=\"black\" stroke-width=\"1.00\" stroke-linecap=\"butt\" stroke-linejoin=\"miter\">\n",
       "</g>\n",
       "<g fill=\"none\" color=\"black\" stroke=\"currentColor\" stroke-width=\"1.00\" stroke-linecap=\"butt\" stroke-linejoin=\"miter\">\n",
       "\t<path stroke='black'  d='M63.6,16.7 L63.6,386.4 L575.0,386.4 L575.0,16.7 L63.6,16.7 Z  '/></g>\n",
       "<g fill=\"none\" color=\"black\" stroke=\"currentColor\" stroke-width=\"1.00\" stroke-linecap=\"butt\" stroke-linejoin=\"miter\">\n",
       "</g>\n",
       "</g>\n",
       "</svg>\n",
       "\n"
      ],
      "text/plain": [
       "#<GnuplotRB::Plot:0x995dedc @options=Hamster::Hash[:ylabel => \"Value\", :xlabel => \"Time\", :format_x => \"%d\\\\n%b\\\\n%Y\", :timefmt => \"%Y-%m-%dT%H:%M:%S\", :xdata => \"time\"], @datasets=Hamster::Vector[#<GnuplotRB::Dataset:0x995dd24 @type=:datablock, @data=#<GnuplotRB::Datablock:0x995db08 @stored_in_file=false, @data=\"2012-04-02T00:00:00+00:00 -1.8650312636847297\\n2012-04-03T00:00:00+00:00 -0.8637492395408826\\n2012-04-04T00:00:00+00:00 0.07712572327528533\\n2012-04-05T00:00:00+00:00 1.452962706063983\\n2012-04-06T00:00:00+00:00 0.404084445019244\\n2012-04-07T00:00:00+00:00 0.8395031669265404\\n2012-04-08T00:00:00+00:00 1.6083928207364258\\n2012-04-09T00:00:00+00:00 3.068202019493643\\n2012-04-10T00:00:00+00:00 4.143774327578229\\n2012-04-11T00:00:00+00:00 4.046443960144699\\n2012-04-12T00:00:00+00:00 4.145427239394172\\n2012-04-13T00:00:00+00:00 4.362342390646314\\n2012-04-14T00:00:00+00:00 6.33971835818315\\n2012-04-15T00:00:00+00:00 6.374971918307942\\n2012-04-16T00:00:00+00:00 7.12975986373089\\n2012-04-17T00:00:00+00:00 7.616747295471856\\n2012-04-18T00:00:00+00:00 7.269982570221419\\n2012-04-19T00:00:00+00:00 6.415117772338469\\n2012-04-20T00:00:00+00:00 6.981320116201425\\n2012-04-21T00:00:00+00:00 6.14976182745427\\n2012-04-22T00:00:00+00:00 5.797295881891364\\n2012-04-23T00:00:00+00:00 6.673421368866133\\n2012-04-24T00:00:00+00:00 6.674996624399214\\n2012-04-25T00:00:00+00:00 4.746573830857734\\n2012-04-26T00:00:00+00:00 3.7377705806274895\\n2012-04-27T00:00:00+00:00 3.2237480684417466\\n2012-04-28T00:00:00+00:00 3.2421406947649127\\n2012-04-29T00:00:00+00:00 4.155862520327485\\n2012-04-30T00:00:00+00:00 3.2696265066080006\\n2012-05-01T00:00:00+00:00 4.100401551170049\\n2012-05-02T00:00:00+00:00 5.975786124154521\\n2012-05-03T00:00:00+00:00 4.570011288830353\\n2012-05-04T00:00:00+00:00 5.231456728289398\\n2012-05-05T00:00:00+00:00 5.4191639413867705\\n2012-05-06T00:00:00+00:00 5.069001712857215\\n2012-05-07T00:00:00+00:00 4.808669545652289\\n2012-05-08T00:00:00+00:00 1.7915329148872967\\n2012-05-09T00:00:00+00:00 1.7674388429638694\\n2012-05-10T00:00:00+00:00 2.69323612665293\\n2012-05-11T00:00:00+00:00 3.089188751473152\\n2012-05-12T00:00:00+00:00 5.6128007522099015\\n2012-05-13T00:00:00+00:00 6.655653946431042\\n2012-05-14T00:00:00+00:00 6.173582431258715\\n2012-05-15T00:00:00+00:00 5.774593318475928\\n2012-05-16T00:00:00+00:00 5.5923666250838355\\n2012-05-17T00:00:00+00:00 5.910424750470353\\n2012-05-18T00:00:00+00:00 6.1390319314610595\\n2012-05-19T00:00:00+00:00 5.294879727074761\\n2012-05-20T00:00:00+00:00 5.1149619349491955\\n2012-05-21T00:00:00+00:00 6.346287467961223\\n2012-05-22T00:00:00+00:00 4.697608623099103\\n2012-05-23T00:00:00+00:00 4.6778155098357255\\n2012-05-24T00:00:00+00:00 4.189008556995333\\n2012-05-25T00:00:00+00:00 3.6858173433942127\\n2012-05-26T00:00:00+00:00 3.962044173858793\\n2012-05-27T00:00:00+00:00 2.6989124395971262\\n2012-05-28T00:00:00+00:00 3.5469162225178508\\n2012-05-29T00:00:00+00:00 4.876505843754945\\n2012-05-30T00:00:00+00:00 6.041565925810536\\n2012-05-31T00:00:00+00:00 5.518927655791046\\n2012-06-01T00:00:00+00:00 4.881486020997559\\n2012-06-02T00:00:00+00:00 7.55038599007588\\n2012-06-03T00:00:00+00:00 6.646296321639525\\n2012-06-04T00:00:00+00:00 7.417955916993791\\n2012-06-05T00:00:00+00:00 6.815942107287736\\n2012-06-06T00:00:00+00:00 7.550134680313801\\n2012-06-07T00:00:00+00:00 8.054688758149577\\n2012-06-08T00:00:00+00:00 9.34331110739652\\n2012-06-09T00:00:00+00:00 9.971751726883912\\n2012-06-10T00:00:00+00:00 11.037039459620797\\n2012-06-11T00:00:00+00:00 9.107287609896717\\n2012-06-12T00:00:00+00:00 8.3138954336069\\n2012-06-13T00:00:00+00:00 8.274085945483385\\n2012-06-14T00:00:00+00:00 6.773519734243953\\n2012-06-15T00:00:00+00:00 6.044890781354964\\n2012-06-16T00:00:00+00:00 6.7140330571981375\\n2012-06-17T00:00:00+00:00 8.488718301603921\\n2012-06-18T00:00:00+00:00 7.876922222645156\\n2012-06-19T00:00:00+00:00 9.129315831822302\\n2012-06-20T00:00:00+00:00 7.8517681138069\\n2012-06-21T00:00:00+00:00 6.824280194623947\\n2012-06-22T00:00:00+00:00 5.219895824580113\\n2012-06-23T00:00:00+00:00 5.918292987154842\\n2012-06-24T00:00:00+00:00 5.6347968565783955\\n2012-06-25T00:00:00+00:00 6.683852138436027\\n2012-06-26T00:00:00+00:00 8.36163550528257\\n2012-06-27T00:00:00+00:00 9.348588415983352\\n2012-06-28T00:00:00+00:00 9.990331997005406\\n2012-06-29T00:00:00+00:00 9.60433168234074\\n2012-06-30T00:00:00+00:00 8.96256946596264\\n2012-07-01T00:00:00+00:00 9.050081234880325\\n2012-07-02T00:00:00+00:00 8.911433497304154\\n2012-07-03T00:00:00+00:00 9.072594806569242\\n2012-07-04T00:00:00+00:00 10.192867911597169\\n2012-07-05T00:00:00+00:00 10.181718071133414\\n2012-07-06T00:00:00+00:00 10.94411854639765\\n2012-07-07T00:00:00+00:00 12.229688986523843\\n2012-07-08T00:00:00+00:00 11.73184604864522\\n2012-07-09T00:00:00+00:00 10.518515631514575\\n2012-07-10T00:00:00+00:00 8.961459550012908\\n2012-07-11T00:00:00+00:00 8.540223753351125\\n2012-07-12T00:00:00+00:00 8.366563823549729\\n2012-07-13T00:00:00+00:00 9.469439862366768\\n2012-07-14T00:00:00+00:00 8.405877046552833\\n2012-07-15T00:00:00+00:00 7.48982902019215\\n2012-07-16T00:00:00+00:00 5.406617290857239\\n2012-07-17T00:00:00+00:00 3.441182090486625\\n2012-07-18T00:00:00+00:00 2.4459322229615377\\n2012-07-19T00:00:00+00:00 1.704716001915681\\n2012-07-20T00:00:00+00:00 3.271778274801857\\n2012-07-21T00:00:00+00:00 3.095313029884368\\n2012-07-22T00:00:00+00:00 3.3400467816969446\\n2012-07-23T00:00:00+00:00 3.7848369638788575\\n2012-07-24T00:00:00+00:00 4.013806988410723\\n2012-07-25T00:00:00+00:00 2.782070017428217\\n2012-07-26T00:00:00+00:00 2.8774896773971643\\n2012-07-27T00:00:00+00:00 2.677179232218429\\n2012-07-28T00:00:00+00:00 2.733744648719385\\n2012-07-29T00:00:00+00:00 2.1088207740421705\\n2012-07-30T00:00:00+00:00 3.591492526558027\\n2012-07-31T00:00:00+00:00 4.360927608869548\\n2012-08-01T00:00:00+00:00 2.0734477515376066\\n2012-08-02T00:00:00+00:00 1.2994497659747446\\n2012-08-03T00:00:00+00:00 0.6523598513748345\\n2012-08-04T00:00:00+00:00 -0.3408714517548146\\n2012-08-05T00:00:00+00:00 0.7833044562903981\\n2012-08-06T00:00:00+00:00 2.1834386031264392\\n2012-08-07T00:00:00+00:00 0.2040845022543123\\n2012-08-08T00:00:00+00:00 0.28487574541800653\\n2012-08-09T00:00:00+00:00 0.5974445186340911\\n2012-08-10T00:00:00+00:00 2.5402775249913083\\n2012-08-11T00:00:00+00:00 2.4630921861086854\\n2012-08-12T00:00:00+00:00 0.9116128064479478\\n2012-08-13T00:00:00+00:00 1.3563563054969634\\n2012-08-14T00:00:00+00:00 0.8418282709233749\\n2012-08-15T00:00:00+00:00 0.7394483196159755\\n2012-08-16T00:00:00+00:00 -1.2638718685703885\\n2012-08-17T00:00:00+00:00 -2.855433087526045\\n2012-08-18T00:00:00+00:00 -1.3893430873463366\\n2012-08-19T00:00:00+00:00 -1.3151583500580724\\n2012-08-20T00:00:00+00:00 -1.6512791159449893\\n2012-08-21T00:00:00+00:00 -1.2087129178245197\\n2012-08-22T00:00:00+00:00 -0.7445245096167363\\n2012-08-23T00:00:00+00:00 -1.3959092044485257\\n2012-08-24T00:00:00+00:00 0.07339135197158342\\n2012-08-25T00:00:00+00:00 1.176584959570154\\n2012-08-26T00:00:00+00:00 0.21632766098619272\\n2012-08-27T00:00:00+00:00 -0.22183892355190798\\n2012-08-28T00:00:00+00:00 -0.3740541090872698\\n2012-08-29T00:00:00+00:00 -0.5152198902713244\\n2012-08-30T00:00:00+00:00 -0.7732137724384065\\n2012-08-31T00:00:00+00:00 -1.6412028354130226\\n2012-09-01T00:00:00+00:00 -1.5080637520583955\\n2012-09-02T00:00:00+00:00 -2.49280456303503\\n2012-09-03T00:00:00+00:00 -3.159638357618667\\n2012-09-04T00:00:00+00:00 -3.6339918336546457\\n2012-09-05T00:00:00+00:00 -2.368121235620783\\n2012-09-06T00:00:00+00:00 -3.1479353167541024\\n2012-09-07T00:00:00+00:00 -2.409717855998884\\n2012-09-08T00:00:00+00:00 -2.9008712622608903\\n2012-09-09T00:00:00+00:00 -2.4042492522294445\\n2012-09-10T00:00:00+00:00 -3.082305571479104\\n2012-09-11T00:00:00+00:00 -2.0710709446145366\\n2012-09-12T00:00:00+00:00 -3.3919888007793317\\n2012-09-13T00:00:00+00:00 -3.7976206167031052\\n2012-09-14T00:00:00+00:00 -4.973442437120973\\n2012-09-15T00:00:00+00:00 -4.256585219959992\\n2012-09-16T00:00:00+00:00 -4.123584610583583\\n2012-09-17T00:00:00+00:00 -4.536370676766363\\n2012-09-18T00:00:00+00:00 -4.512478520379848\\n2012-09-19T00:00:00+00:00 -3.8756681145475413\\n2012-09-20T00:00:00+00:00 -5.055938158162956\\n2012-09-21T00:00:00+00:00 -5.203071966061282\\n2012-09-22T00:00:00+00:00 -3.6078098236747094\\n2012-09-23T00:00:00+00:00 -3.26483665623046\\n2012-09-24T00:00:00+00:00 -3.865484506946019\\n2012-09-25T00:00:00+00:00 -4.775662191715526\\n2012-09-26T00:00:00+00:00 -5.172833013360998\\n2012-09-27T00:00:00+00:00 -6.292923721723477\\n2012-09-28T00:00:00+00:00 -5.485231804398412\\n2012-09-29T00:00:00+00:00 -4.050511031927026\\n2012-09-30T00:00:00+00:00 -4.805193897918743\\n2012-10-01T00:00:00+00:00 -5.359470782234942\\n2012-10-02T00:00:00+00:00 -5.973319554513494\\n2012-10-03T00:00:00+00:00 -6.409171992984683\\n2012-10-04T00:00:00+00:00 -5.407015128865632\\n2012-10-05T00:00:00+00:00 -7.29416523688331\\n2012-10-06T00:00:00+00:00 -7.10581783875529\\n2012-10-07T00:00:00+00:00 -6.623294764290939\\n2012-10-08T00:00:00+00:00 -7.3509068952899455\\n2012-10-09T00:00:00+00:00 -7.772801411261077\\n2012-10-10T00:00:00+00:00 -7.958276239106114\\n2012-10-11T00:00:00+00:00 -7.9685718192803074\\n2012-10-12T00:00:00+00:00 -9.12667686341458\\n2012-10-13T00:00:00+00:00 -11.419001126983645\\n2012-10-14T00:00:00+00:00 -10.47958629348895\\n2012-10-15T00:00:00+00:00 -9.440436824773379\\n2012-10-16T00:00:00+00:00 -9.025538851706488\\n2012-10-17T00:00:00+00:00 -9.389894268477805\\n2012-10-18T00:00:00+00:00 -8.257495659674916\\n2012-10-19T00:00:00+00:00 -7.439929106068416\\n2012-10-20T00:00:00+00:00 -7.996285046245649\\n2012-10-21T00:00:00+00:00 -7.9301401839521715\\n2012-10-22T00:00:00+00:00 -7.996736046049677\\n2012-10-23T00:00:00+00:00 -7.221931297968455\\n2012-10-24T00:00:00+00:00 -6.866686420842629\\n2012-10-25T00:00:00+00:00 -7.694647951097881\\n2012-10-26T00:00:00+00:00 -7.916513273258177\\n2012-10-27T00:00:00+00:00 -7.87937955262364\\n2012-10-28T00:00:00+00:00 -7.470875463720405\\n2012-10-29T00:00:00+00:00 -5.919585297587236\\n2012-10-30T00:00:00+00:00 -3.3878724517148378\\n2012-10-31T00:00:00+00:00 -3.9515226280408906\\n2012-11-01T00:00:00+00:00 -4.379721538430383\\n2012-11-02T00:00:00+00:00 -5.109947718868976\\n2012-11-03T00:00:00+00:00 -4.42101516077537\\n2012-11-04T00:00:00+00:00 -5.051430691855131\\n2012-11-05T00:00:00+00:00 -6.023564677414986\\n2012-11-06T00:00:00+00:00 -6.952698346710226\\n2012-11-07T00:00:00+00:00 -8.276233290064432\\n2012-11-08T00:00:00+00:00 -7.1506485490317715\\n2012-11-09T00:00:00+00:00 -5.785517968190849\\n2012-11-10T00:00:00+00:00 -5.4124567069451786\\n2012-11-11T00:00:00+00:00 -6.0190319728652915\\n2012-11-12T00:00:00+00:00 -6.353323720359419\\n2012-11-13T00:00:00+00:00 -4.990684682641799\\n2012-11-14T00:00:00+00:00 -2.657545167013494\\n2012-11-15T00:00:00+00:00 -3.26466725290787\\n2012-11-16T00:00:00+00:00 -1.7623670881173672\\n2012-11-17T00:00:00+00:00 -1.9942452856163297\\n2012-11-18T00:00:00+00:00 -2.2610697853249557\\n2012-11-19T00:00:00+00:00 -2.5669102730886504\\n2012-11-20T00:00:00+00:00 -2.910005782622021\\n2012-11-21T00:00:00+00:00 -3.626500401323254\\n2012-11-22T00:00:00+00:00 -3.882954974549563\\n2012-11-23T00:00:00+00:00 -4.1835584350649215\\n2012-11-24T00:00:00+00:00 -4.579546170737505\\n2012-11-25T00:00:00+00:00 -4.2049553319434025\\n2012-11-26T00:00:00+00:00 -4.0179949089808735\\n2012-11-27T00:00:00+00:00 -1.186493811370612\\n2012-11-28T00:00:00+00:00 0.6290937537301384\\n2012-11-29T00:00:00+00:00 -0.29289046251171236\\n2012-11-30T00:00:00+00:00 1.6610528340950876\\n2012-12-01T00:00:00+00:00 1.30355336804408\\n2012-12-02T00:00:00+00:00 1.149006663678666\\n2012-12-03T00:00:00+00:00 1.7325045666213388\\n2012-12-04T00:00:00+00:00 0.6280017379671132\\n2012-12-05T00:00:00+00:00 -0.263314162250022\\n2012-12-06T00:00:00+00:00 -1.2870617204881745\\n2012-12-07T00:00:00+00:00 -2.5811961927076816\\n2012-12-08T00:00:00+00:00 -3.2040441016774044\\n2012-12-09T00:00:00+00:00 -3.7197462301946302\\n2012-12-10T00:00:00+00:00 -3.73184749774917\\n2012-12-11T00:00:00+00:00 -2.98810170687669\\n2012-12-12T00:00:00+00:00 -1.9405032191849982\\n2012-12-13T00:00:00+00:00 -2.1146288620089937\\n2012-12-14T00:00:00+00:00 -0.9780437543788041\\n2012-12-15T00:00:00+00:00 -0.5098162042542149\\n2012-12-16T00:00:00+00:00 -0.027358572832047123\\n2012-12-17T00:00:00+00:00 -1.4874088651246036\\n2012-12-18T00:00:00+00:00 -0.9489973347758518\\n2012-12-19T00:00:00+00:00 -1.0570418138565583\\n2012-12-20T00:00:00+00:00 -0.26974386751292134\\n2012-12-21T00:00:00+00:00 -1.4568518155085495\\n2012-12-22T00:00:00+00:00 0.3175557421163393\\n2012-12-23T00:00:00+00:00 2.1802532990221497\\n2012-12-24T00:00:00+00:00 1.7669014000525527\\n2012-12-25T00:00:00+00:00 1.44940364644564\\n2012-12-26T00:00:00+00:00 0.26796861758035617\\n2012-12-27T00:00:00+00:00 0.83851537498798\\n2012-12-28T00:00:00+00:00 -0.9310672734212185\\n2012-12-29T00:00:00+00:00 -0.40795034431880406\\n2012-12-30T00:00:00+00:00 -0.14517053917074052\\n2012-12-31T00:00:00+00:00 -0.7514123915937139\\n2013-01-01T00:00:00+00:00 -0.7056263459553466\\n2013-01-02T00:00:00+00:00 -0.43066517558221706\\n2013-01-03T00:00:00+00:00 -1.0673550785433317\\n2013-01-04T00:00:00+00:00 0.32062472058223457\\n2013-01-05T00:00:00+00:00 -0.2336623651969275\\n2013-01-06T00:00:00+00:00 -0.8727265652392213\\n2013-01-07T00:00:00+00:00 -0.0467944200187157\\n2013-01-08T00:00:00+00:00 1.318139762462529\\n2013-01-09T00:00:00+00:00 2.99839130601346\\n2013-01-10T00:00:00+00:00 2.0269822711716965\\n2013-01-11T00:00:00+00:00 1.0939147174502946\\n2013-01-12T00:00:00+00:00 1.74631840411908\\n2013-01-13T00:00:00+00:00 3.1575585947940312\\n2013-01-14T00:00:00+00:00 4.53623713361404\\n2013-01-15T00:00:00+00:00 4.108999314136781\\n2013-01-16T00:00:00+00:00 4.667185598285902\\n2013-01-17T00:00:00+00:00 4.824740555632309\\n2013-01-18T00:00:00+00:00 3.945095696431779\\n2013-01-19T00:00:00+00:00 2.7139461243363927\\n2013-01-20T00:00:00+00:00 3.768199934474702\\n2013-01-21T00:00:00+00:00 4.122803397850452\\n2013-01-22T00:00:00+00:00 5.75305780674638\\n2013-01-23T00:00:00+00:00 6.62438606388567\\n2013-01-24T00:00:00+00:00 7.015087582857174\\n2013-01-25T00:00:00+00:00 9.270439968230558\\n2013-01-26T00:00:00+00:00 9.976255620863599\\n2013-01-27T00:00:00+00:00 10.824501090909544\\n2013-01-28T00:00:00+00:00 8.298166801398875\\n2013-01-29T00:00:00+00:00 7.478995794090892\\n2013-01-30T00:00:00+00:00 6.596402406198867\\n2013-01-31T00:00:00+00:00 5.847282934466965\\n2013-02-01T00:00:00+00:00 8.028165703782028\\n2013-02-02T00:00:00+00:00 9.028068824442599\\n2013-02-03T00:00:00+00:00 8.899680310365738\\n2013-02-04T00:00:00+00:00 8.006045391797866\\n2013-02-05T00:00:00+00:00 6.318877333619436\\n2013-02-06T00:00:00+00:00 5.882091676118932\\n2013-02-07T00:00:00+00:00 5.149579981337521\\n2013-02-08T00:00:00+00:00 5.192198018623153\\n2013-02-09T00:00:00+00:00 6.21717713644158\\n2013-02-10T00:00:00+00:00 5.958456130646709\\n2013-02-11T00:00:00+00:00 5.282370119377819\\n2013-02-12T00:00:00+00:00 7.222932219332442\\n2013-02-13T00:00:00+00:00 6.59642759162286\\n2013-02-14T00:00:00+00:00 7.096762496083418\\n2013-02-15T00:00:00+00:00 6.861026176853231\\n2013-02-16T00:00:00+00:00 7.0934999309774485\\n2013-02-17T00:00:00+00:00 7.509531708180429\\n2013-02-18T00:00:00+00:00 6.041577498186825\\n2013-02-19T00:00:00+00:00 4.289111237200263\\n2013-02-20T00:00:00+00:00 3.6974396682044457\\n2013-02-21T00:00:00+00:00 4.152856854000982\\n2013-02-22T00:00:00+00:00 3.0839757362852165\\n2013-02-23T00:00:00+00:00 5.291492082900422\\n2013-02-24T00:00:00+00:00 5.395504051743514\\n2013-02-25T00:00:00+00:00 5.341986511869834\\n2013-02-26T00:00:00+00:00 4.248233057286292\\n2013-02-27T00:00:00+00:00 3.7632976076545614\\n2013-02-28T00:00:00+00:00 5.414994475357155\\n2013-03-01T00:00:00+00:00 3.2772728698777027\\n2013-03-02T00:00:00+00:00 1.1635310158667007\\n2013-03-03T00:00:00+00:00 -0.4784713339952613\\n2013-03-04T00:00:00+00:00 -1.8254452083578485\\n2013-03-05T00:00:00+00:00 -0.30705005909629945\\n2013-03-06T00:00:00+00:00 -1.5851548919216807\\n2013-03-07T00:00:00+00:00 -0.8116647992338801\\n2013-03-08T00:00:00+00:00 -1.379715927979936\\n2013-03-09T00:00:00+00:00 -1.507416917441953\\n2013-03-10T00:00:00+00:00 -0.6741114571269934\\n2013-03-11T00:00:00+00:00 0.06121594977891842\\n2013-03-12T00:00:00+00:00 -0.598919988909214\\n2013-03-13T00:00:00+00:00 -1.7308072797403828\\n2013-03-14T00:00:00+00:00 -1.9097151609923415\\n2013-03-15T00:00:00+00:00 -1.9437430612185884\\n2013-03-16T00:00:00+00:00 -0.9198403016979848\\n2013-03-17T00:00:00+00:00 -2.7123311587623093\\n2013-03-18T00:00:00+00:00 -3.034346940882555\\n2013-03-19T00:00:00+00:00 -2.3681817990170275\\n2013-03-20T00:00:00+00:00 -0.3068543209044532\\n2013-03-21T00:00:00+00:00 -0.14919730281058569\\n2013-03-22T00:00:00+00:00 -0.32987482634902143\\n2013-03-23T00:00:00+00:00 -2.5425297655916115\\n2013-03-24T00:00:00+00:00 -3.0413509759527684\\n2013-03-25T00:00:00+00:00 -2.1846539684602932\\n2013-03-26T00:00:00+00:00 -2.0212311121021713\\n2013-03-27T00:00:00+00:00 -1.4971042309546392\\n2013-03-28T00:00:00+00:00 -1.4126903971692089\\n2013-03-29T00:00:00+00:00 -0.9469061013602387\\n2013-03-30T00:00:00+00:00 -2.4774461081503176\\n2013-03-31T00:00:00+00:00 -2.189277816841029\\n2013-04-01T00:00:00+00:00 -2.76784851567213\\n2013-04-02T00:00:00+00:00 -0.7271661295750236\\n2013-04-03T00:00:00+00:00 -0.09128112854693249\\n2013-04-04T00:00:00+00:00 -0.6113566177027011\\n2013-04-05T00:00:00+00:00 -0.9265455939564508\\n2013-04-06T00:00:00+00:00 -1.1061235054049319\\n2013-04-07T00:00:00+00:00 0.1096504939791838\\n2013-04-08T00:00:00+00:00 0.02319347726534364\\n2013-04-09T00:00:00+00:00 0.23242661163936656\\n2013-04-10T00:00:00+00:00 1.0006378687324493\\n2013-04-11T00:00:00+00:00 0.21521567185463242\\n2013-04-12T00:00:00+00:00 -0.6761749405614909\\n2013-04-13T00:00:00+00:00 -0.2913194374640071\\n2013-04-14T00:00:00+00:00 -0.18558198990968777\\n2013-04-15T00:00:00+00:00 -0.6782297501305434\\n2013-04-16T00:00:00+00:00 -0.8975334054518092\\n2013-04-17T00:00:00+00:00 -0.463317622399094\\n2013-04-18T00:00:00+00:00 0.39606718122422113\\n2013-04-19T00:00:00+00:00 -0.41407348348434936\\n2013-04-20T00:00:00+00:00 -1.3266526203180904\\n2013-04-21T00:00:00+00:00 0.6929599587530286\\n2013-04-22T00:00:00+00:00 2.359640050919741\\n2013-04-23T00:00:00+00:00 2.2081662888735054\\n2013-04-24T00:00:00+00:00 1.5925355182274032\\n2013-04-25T00:00:00+00:00 1.047379884154953\\n2013-04-26T00:00:00+00:00 -0.13513782810106423\\n2013-04-27T00:00:00+00:00 -0.6469099802195147\\n2013-04-28T00:00:00+00:00 0.07852948084636668\\n2013-04-29T00:00:00+00:00 0.6591612881950133\\n2013-04-30T00:00:00+00:00 2.7686527099702043\\n2013-05-01T00:00:00+00:00 2.1657465935574107\\n2013-05-02T00:00:00+00:00 0.8951764132197004\\n2013-05-03T00:00:00+00:00 -0.3673482686069107\\n2013-05-04T00:00:00+00:00 0.5182786878838311\\n2013-05-05T00:00:00+00:00 -0.6305618885944125\\n2013-05-06T00:00:00+00:00 -1.9054039224853714\\n2013-05-07T00:00:00+00:00 -1.2104723936217345\\n2013-05-08T00:00:00+00:00 -1.5803596852546178\\n2013-05-09T00:00:00+00:00 -0.957429803562103\\n2013-05-10T00:00:00+00:00 -0.09206540679414121\\n2013-05-11T00:00:00+00:00 0.9269457218301512\\n2013-05-12T00:00:00+00:00 0.7474925214822485\\n2013-05-13T00:00:00+00:00 1.7370765189762647\\n2013-05-14T00:00:00+00:00 1.5277246158364548\\n2013-05-15T00:00:00+00:00 1.4261386794282354\\n2013-05-16T00:00:00+00:00 2.3133115892452376\\n2013-05-17T00:00:00+00:00 1.1892964287644672\\n2013-05-18T00:00:00+00:00 1.2324104138803889\\n2013-05-19T00:00:00+00:00 -0.37959789001852084\\n2013-05-20T00:00:00+00:00 0.3071728708248188\\n2013-05-21T00:00:00+00:00 -0.09106282934244542\\n2013-05-22T00:00:00+00:00 -0.804960585197634\\n2013-05-23T00:00:00+00:00 -1.981177209881596\\n2013-05-24T00:00:00+00:00 -2.022830767266794\\n2013-05-25T00:00:00+00:00 -2.8674770319914176\\n2013-05-26T00:00:00+00:00 -4.322357443966056\\n2013-05-27T00:00:00+00:00 -4.640121182912278\\n2013-05-28T00:00:00+00:00 -3.765572802088802\\n2013-05-29T00:00:00+00:00 -3.2124566105340144\\n2013-05-30T00:00:00+00:00 -5.672940027207509\\n2013-05-31T00:00:00+00:00 -5.1579970655992025\\n2013-06-01T00:00:00+00:00 -4.052848630223218\\n2013-06-02T00:00:00+00:00 -3.659049932294705\\n2013-06-03T00:00:00+00:00 -3.7365675021113587\\n2013-06-04T00:00:00+00:00 -2.6581883179418737\\n2013-06-05T00:00:00+00:00 -0.27378894324838\\n2013-06-06T00:00:00+00:00 -1.0778937916990592\\n2013-06-07T00:00:00+00:00 0.2916563205862479\\n2013-06-08T00:00:00+00:00 0.18020092812073904\\n2013-06-09T00:00:00+00:00 0.9722787330373412\\n2013-06-10T00:00:00+00:00 2.961995121530019\\n2013-06-11T00:00:00+00:00 2.704622681594932\\n2013-06-12T00:00:00+00:00 1.6886488003991262\\n2013-06-13T00:00:00+00:00 1.8908580119426044\\n2013-06-14T00:00:00+00:00 1.509505467315283\\n2013-06-15T00:00:00+00:00 -0.5061699132870852\\n2013-06-16T00:00:00+00:00 -2.245992498834537\\n2013-06-17T00:00:00+00:00 -1.700544627185252\\n2013-06-18T00:00:00+00:00 -0.840231519507846\\n2013-06-19T00:00:00+00:00 0.015094120382110443\\n2013-06-20T00:00:00+00:00 -0.5703264429724441\\n2013-06-21T00:00:00+00:00 -1.2622295476639063\\n2013-06-22T00:00:00+00:00 0.33972985387111776\\n2013-06-23T00:00:00+00:00 0.8125733473076672\\n2013-06-24T00:00:00+00:00 0.6022468705917238\\n2013-06-25T00:00:00+00:00 0.5736285864030357\\n2013-06-26T00:00:00+00:00 0.05695163348418497\\n2013-06-27T00:00:00+00:00 -1.1189644490820383\\n2013-06-28T00:00:00+00:00 -0.6820834970388254\\n2013-06-29T00:00:00+00:00 -0.5012445658722173\\n2013-06-30T00:00:00+00:00 1.61508641275445\\n2013-07-01T00:00:00+00:00 2.447367333298098\\n2013-07-02T00:00:00+00:00 1.8146613002060823\\n2013-07-03T00:00:00+00:00 2.265751422633401\\n2013-07-04T00:00:00+00:00 1.3258222672280868\\n2013-07-05T00:00:00+00:00 0.6589443006394237\\n2013-07-06T00:00:00+00:00 1.4006681581799867\\n2013-07-07T00:00:00+00:00 1.1813245621837793\\n2013-07-08T00:00:00+00:00 0.9592368255576927\\n2013-07-09T00:00:00+00:00 1.8174940937470825\\n2013-07-10T00:00:00+00:00 3.1823322380484838\\n2013-07-11T00:00:00+00:00 3.296242468745337\\n2013-07-12T00:00:00+00:00 3.9579578802259143\\n2013-07-13T00:00:00+00:00 4.818018115800394\\n2013-07-14T00:00:00+00:00 3.9422122762039713\\n2013-07-15T00:00:00+00:00 5.313272571605687\\n2013-07-16T00:00:00+00:00 4.736701753890825\\n2013-07-17T00:00:00+00:00 4.9870678071000025\\n2013-07-18T00:00:00+00:00 4.295152415119421\\n2013-07-19T00:00:00+00:00 3.617889975409761\\n2013-07-20T00:00:00+00:00 4.888782390239236\\n2013-07-21T00:00:00+00:00 4.750683000084504\\n2013-07-22T00:00:00+00:00 4.126977848120586\\n2013-07-23T00:00:00+00:00 4.22276107111284\\n2013-07-24T00:00:00+00:00 4.0289536886100175\\n2013-07-25T00:00:00+00:00 4.128052662949516\\n2013-07-26T00:00:00+00:00 4.2044329067157875\\n2013-07-27T00:00:00+00:00 2.8070073902923953\\n2013-07-28T00:00:00+00:00 1.7987499939135596\\n2013-07-29T00:00:00+00:00 1.9423666813449925\\n2013-07-30T00:00:00+00:00 2.4816860522693167\\n2013-07-31T00:00:00+00:00 2.2092384561184524\\n2013-08-01T00:00:00+00:00 2.2593672888890786\\n2013-08-02T00:00:00+00:00 2.818688072696786\\n2013-08-03T00:00:00+00:00 1.6387527616404625\\n2013-08-04T00:00:00+00:00 1.8047740050822925\\n2013-08-05T00:00:00+00:00 2.976075951737399\\n2013-08-06T00:00:00+00:00 3.9257488071238753\\n2013-08-07T00:00:00+00:00 3.523814840373257\\n2013-08-08T00:00:00+00:00 4.012301495167293\\n2013-08-09T00:00:00+00:00 3.435027572177315\\n2013-08-10T00:00:00+00:00 2.048276963631196\\n2013-08-11T00:00:00+00:00 2.2965440111597615\\n2013-08-12T00:00:00+00:00 2.108258372085708\\n2013-08-13T00:00:00+00:00 1.0970307488553135\\n2013-08-14T00:00:00+00:00 -0.17111087616414777\\n2013-08-15T00:00:00+00:00 -0.3169859225016811\\n2013-08-16T00:00:00+00:00 1.0959881098276123\\n2013-08-17T00:00:00+00:00 1.767905043059026\\n2013-08-18T00:00:00+00:00 1.7335690266672248\\n2013-08-19T00:00:00+00:00 1.3986974201951503\\n2013-08-20T00:00:00+00:00 1.3090973149105127\\n2013-08-21T00:00:00+00:00 2.0779759786912813\\n2013-08-22T00:00:00+00:00 2.201932821898597\\n2013-08-23T00:00:00+00:00 1.6464805462355092\\n2013-08-24T00:00:00+00:00 -0.9235878077805064\\n2013-08-25T00:00:00+00:00 -1.2072530642695134\\n2013-08-26T00:00:00+00:00 -2.050237506409436\\n2013-08-27T00:00:00+00:00 -3.2422893125893077\\n2013-08-28T00:00:00+00:00 -2.7963353397209287\\n2013-08-29T00:00:00+00:00 -2.7856436679937353\\n2013-08-30T00:00:00+00:00 -2.2451196231919193\\n2013-08-31T00:00:00+00:00 -3.933511362117044\\n2013-09-01T00:00:00+00:00 -3.566134925296088\\n2013-09-02T00:00:00+00:00 -3.648404326456596\\n2013-09-03T00:00:00+00:00 -3.1675380370253987\\n2013-09-04T00:00:00+00:00 -2.976022600527122\\n2013-09-05T00:00:00+00:00 -2.5337147987562054\\n2013-09-06T00:00:00+00:00 -4.506238692998466\\n2013-09-07T00:00:00+00:00 -5.391145264114803\\n2013-09-08T00:00:00+00:00 -6.948464753904187\\n2013-09-09T00:00:00+00:00 -6.999506037430003\\n2013-09-10T00:00:00+00:00 -7.369746725384637\\n2013-09-11T00:00:00+00:00 -6.768803559741782\\n2013-09-12T00:00:00+00:00 -5.989556339444486\\n2013-09-13T00:00:00+00:00 -6.179477881918044\\n2013-09-14T00:00:00+00:00 -8.004049943967164\\n2013-09-15T00:00:00+00:00 -8.561145787655056\\n2013-09-16T00:00:00+00:00 -8.232515948133202\\n2013-09-17T00:00:00+00:00 -11.498532378723315\\n2013-09-18T00:00:00+00:00 -12.565096226470967\\n2013-09-19T00:00:00+00:00 -13.386725966785662\\n2013-09-20T00:00:00+00:00 -12.456290115260146\\n2013-09-21T00:00:00+00:00 -11.4325079985413\\n2013-09-22T00:00:00+00:00 -11.265179058600014\\n2013-09-23T00:00:00+00:00 -10.04524317179813\\n2013-09-24T00:00:00+00:00 -7.991375282528503\\n2013-09-25T00:00:00+00:00 -7.115748503188733\\n2013-09-26T00:00:00+00:00 -6.4863752818138245\\n2013-09-27T00:00:00+00:00 -5.273536886032272\\n2013-09-28T00:00:00+00:00 -5.218657224777039\\n2013-09-29T00:00:00+00:00 -5.7535160953858515\\n2013-09-30T00:00:00+00:00 -5.611624252674968\\n2013-10-01T00:00:00+00:00 -6.592903785843162\\n2013-10-02T00:00:00+00:00 -6.677637142871985\\n2013-10-03T00:00:00+00:00 -7.327823946599994\\n2013-10-04T00:00:00+00:00 -6.9716723795386875\\n2013-10-05T00:00:00+00:00 -6.9905006153099\\n2013-10-06T00:00:00+00:00 -6.89611620344861\\n2013-10-07T00:00:00+00:00 -7.184752792197542\\n2013-10-08T00:00:00+00:00 -5.911397953998788\\n2013-10-09T00:00:00+00:00 -4.429327121937408\\n2013-10-10T00:00:00+00:00 -5.214893364232846\\n2013-10-11T00:00:00+00:00 -4.27272799819161\\n2013-10-12T00:00:00+00:00 -5.602693490271491\\n2013-10-13T00:00:00+00:00 -6.787638665606609\\n2013-10-14T00:00:00+00:00 -6.944365919571816\\n2013-10-15T00:00:00+00:00 -6.027963632544415\\n2013-10-16T00:00:00+00:00 -7.268314095633063\\n2013-10-17T00:00:00+00:00 -6.821544340649892\\n2013-10-18T00:00:00+00:00 -5.903561500535459\\n2013-10-19T00:00:00+00:00 -6.087003537782532\\n2013-10-20T00:00:00+00:00 -5.708852778750831\\n2013-10-21T00:00:00+00:00 -3.450211321774286\\n2013-10-22T00:00:00+00:00 -3.513994640590888\\n2013-10-23T00:00:00+00:00 -4.8701223228765365\\n2013-10-24T00:00:00+00:00 -5.830559236237646\\n2013-10-25T00:00:00+00:00 -7.212349987004939\\n2013-10-26T00:00:00+00:00 -5.813409804829286\\n2013-10-27T00:00:00+00:00 -4.197994489758961\\n2013-10-28T00:00:00+00:00 -5.362190635970295\\n2013-10-29T00:00:00+00:00 -6.631578259410034\\n2013-10-30T00:00:00+00:00 -4.9736547701275216\\n2013-10-31T00:00:00+00:00 -7.186954995807859\\n2013-11-01T00:00:00+00:00 -7.521974867579361\\n2013-11-02T00:00:00+00:00 -9.173157951982397\\n2013-11-03T00:00:00+00:00 -10.078128610404946\\n2013-11-04T00:00:00+00:00 -11.62636301873016\\n2013-11-05T00:00:00+00:00 -10.842495019493242\\n2013-11-06T00:00:00+00:00 -8.8332090183212\\n2013-11-07T00:00:00+00:00 -7.802142460519054\\n2013-11-08T00:00:00+00:00 -9.001624566361995\\n2013-11-09T00:00:00+00:00 -8.78954845678032\\n2013-11-10T00:00:00+00:00 -8.878807828684554\\n2013-11-11T00:00:00+00:00 -10.666701595548394\\n2013-11-12T00:00:00+00:00 -11.66738768073773\\n2013-11-13T00:00:00+00:00 -11.882022366462687\\n2013-11-14T00:00:00+00:00 -12.271752287159668\\n2013-11-15T00:00:00+00:00 -12.560481149103923\\n2013-11-16T00:00:00+00:00 -13.023014462407014\\n2013-11-17T00:00:00+00:00 -11.665508703231925\\n2013-11-18T00:00:00+00:00 -12.012051638341788\\n2013-11-19T00:00:00+00:00 -11.238866990531603\\n2013-11-20T00:00:00+00:00 -11.947086168379133\\n2013-11-21T00:00:00+00:00 -14.552780370364147\\n2013-11-22T00:00:00+00:00 -15.925672371227506\\n2013-11-23T00:00:00+00:00 -16.842643555681587\\n2013-11-24T00:00:00+00:00 -14.702540903316073\\n2013-11-25T00:00:00+00:00 -14.599656864426782\\n2013-11-26T00:00:00+00:00 -14.67560178971818\\n2013-11-27T00:00:00+00:00 -14.705193247489651\\n2013-11-28T00:00:00+00:00 -13.821151933666789\\n2013-11-29T00:00:00+00:00 -15.034398984608051\\n2013-11-30T00:00:00+00:00 -14.474580287605837\\n2013-12-01T00:00:00+00:00 -15.015585296395964\\n2013-12-02T00:00:00+00:00 -15.026502363303425\\n2013-12-03T00:00:00+00:00 -13.020149293524184\\n2013-12-04T00:00:00+00:00 -13.843903079384953\\n2013-12-05T00:00:00+00:00 -14.548440207321732\\n2013-12-06T00:00:00+00:00 -13.619498942849608\\n2013-12-07T00:00:00+00:00 -13.326969367377234\\n2013-12-08T00:00:00+00:00 -13.65804210332715\\n2013-12-09T00:00:00+00:00 -13.615173987856833\\n2013-12-10T00:00:00+00:00 -10.69246793143893\\n2013-12-11T00:00:00+00:00 -10.299021936853247\\n2013-12-12T00:00:00+00:00 -12.707847983523493\\n2013-12-13T00:00:00+00:00 -12.136655615439853\\n2013-12-14T00:00:00+00:00 -13.680231625379868\\n2013-12-15T00:00:00+00:00 -13.722391143525359\\n2013-12-16T00:00:00+00:00 -13.823018977003997\\n2013-12-17T00:00:00+00:00 -13.639617096990804\\n2013-12-18T00:00:00+00:00 -14.860264619779928\\n2013-12-19T00:00:00+00:00 -14.398288727945113\\n2013-12-20T00:00:00+00:00 -13.550379673127877\\n2013-12-21T00:00:00+00:00 -12.7709743380287\\n2013-12-22T00:00:00+00:00 -11.626806976263794\\n2013-12-23T00:00:00+00:00 -10.823638100301169\\n2013-12-24T00:00:00+00:00 -10.098520915983633\\n2013-12-25T00:00:00+00:00 -10.00397985027895\\n2013-12-26T00:00:00+00:00 -11.243260553272815\\n2013-12-27T00:00:00+00:00 -10.444539152693501\\n2013-12-28T00:00:00+00:00 -11.124234938809163\\n2013-12-29T00:00:00+00:00 -10.858236281054493\\n2013-12-30T00:00:00+00:00 -11.805050171528672\\n2013-12-31T00:00:00+00:00 -10.609997321688592\\n2014-01-01T00:00:00+00:00 -11.1537926604384\\n2014-01-02T00:00:00+00:00 -11.332769086921878\\n2014-01-03T00:00:00+00:00 -12.284670037139458\\n2014-01-04T00:00:00+00:00 -11.153858452426809\\n2014-01-05T00:00:00+00:00 -10.13421106511413\\n2014-01-06T00:00:00+00:00 -10.777689495336777\\n2014-01-07T00:00:00+00:00 -9.93882779913217\\n2014-01-08T00:00:00+00:00 -11.092965568607845\\n2014-01-09T00:00:00+00:00 -12.406587449367706\\n2014-01-10T00:00:00+00:00 -10.901363631956698\\n2014-01-11T00:00:00+00:00 -10.65462303436626\\n2014-01-12T00:00:00+00:00 -10.91534625134504\\n2014-01-13T00:00:00+00:00 -11.373644279697487\\n2014-01-14T00:00:00+00:00 -10.273398456325825\\n2014-01-15T00:00:00+00:00 -10.142911412634149\\n2014-01-16T00:00:00+00:00 -11.51328161372064\\n2014-01-17T00:00:00+00:00 -10.730813004211221\\n2014-01-18T00:00:00+00:00 -10.332480808767087\\n2014-01-19T00:00:00+00:00 -8.81925881439813\\n2014-01-20T00:00:00+00:00 -7.847276443654697\\n2014-01-21T00:00:00+00:00 -9.797302505206607\\n2014-01-22T00:00:00+00:00 -8.823753667930514\\n2014-01-23T00:00:00+00:00 -7.355418159755021\\n2014-01-24T00:00:00+00:00 -9.421432944148956\\n2014-01-25T00:00:00+00:00 -10.37930909964208\\n2014-01-26T00:00:00+00:00 -10.959097157415817\\n2014-01-27T00:00:00+00:00 -11.98400048563305\\n2014-01-28T00:00:00+00:00 -11.562645052015341\\n2014-01-29T00:00:00+00:00 -11.372132203485451\\n2014-01-30T00:00:00+00:00 -11.08562320534424\\n2014-01-31T00:00:00+00:00 -10.715636993235288\\n2014-02-01T00:00:00+00:00 -10.089174375582106\\n2014-02-02T00:00:00+00:00 -9.947614212299714\\n2014-02-03T00:00:00+00:00 -9.008304499841163\\n2014-02-04T00:00:00+00:00 -7.675832315154768\\n2014-02-05T00:00:00+00:00 -6.936455914682113\\n2014-02-06T00:00:00+00:00 -8.879884042272801\\n2014-02-07T00:00:00+00:00 -8.920898169141552\\n2014-02-08T00:00:00+00:00 -8.260809882066509\\n2014-02-09T00:00:00+00:00 -8.214681946048534\\n2014-02-10T00:00:00+00:00 -8.97765460215113\\n2014-02-11T00:00:00+00:00 -7.030855413688311\\n2014-02-12T00:00:00+00:00 -6.379150149567146\\n2014-02-13T00:00:00+00:00 -7.147557593416601\\n2014-02-14T00:00:00+00:00 -7.035918647443185\\n2014-02-15T00:00:00+00:00 -7.010665459922762\\n2014-02-16T00:00:00+00:00 -5.263308796646491\\n2014-02-17T00:00:00+00:00 -5.525434293075643\\n2014-02-18T00:00:00+00:00 -6.12402802927307\\n2014-02-19T00:00:00+00:00 -6.037165997745819\\n2014-02-20T00:00:00+00:00 -6.29603374695448\\n2014-02-21T00:00:00+00:00 -4.942885881636465\\n2014-02-22T00:00:00+00:00 -2.6396610732614234\\n2014-02-23T00:00:00+00:00 1.07008131862796\\n2014-02-24T00:00:00+00:00 0.11757316390766115\\n2014-02-25T00:00:00+00:00 -0.2613476620853962\\n2014-02-26T00:00:00+00:00 -0.7060813812305857\\n2014-02-27T00:00:00+00:00 -0.7973626132353511\\n2014-02-28T00:00:00+00:00 -1.3045796674187131\\n2014-03-01T00:00:00+00:00 -3.033818359038241\\n2014-03-02T00:00:00+00:00 -1.7877660612081632\\n2014-03-03T00:00:00+00:00 -0.9733132442629074\\n2014-03-04T00:00:00+00:00 -2.8561488000735493\\n2014-03-05T00:00:00+00:00 -3.728268141422948\\n2014-03-06T00:00:00+00:00 -3.7671025949522523\\n2014-03-07T00:00:00+00:00 -4.921333877814646\\n2014-03-08T00:00:00+00:00 -6.602090613137178\\n2014-03-09T00:00:00+00:00 -7.57941733212671\\n2014-03-10T00:00:00+00:00 -7.901233364209002\\n2014-03-11T00:00:00+00:00 -7.873414431829173\\n2014-03-12T00:00:00+00:00 -8.08834115639642\\n2014-03-13T00:00:00+00:00 -8.217069540228499\\n2014-03-14T00:00:00+00:00 -7.955868576874113\\n2014-03-15T00:00:00+00:00 -6.5934746972682\\n2014-03-16T00:00:00+00:00 -5.868522411635325\\n2014-03-17T00:00:00+00:00 -6.35167454059005\\n2014-03-18T00:00:00+00:00 -6.906554029489868\\n2014-03-19T00:00:00+00:00 -9.158280563970271\\n2014-03-20T00:00:00+00:00 -10.169721196681595\\n2014-03-21T00:00:00+00:00 -10.446311143390334\\n2014-03-22T00:00:00+00:00 -10.965574259600022\\n2014-03-23T00:00:00+00:00 -10.90141195420777\\n2014-03-24T00:00:00+00:00 -11.224085464054248\\n2014-03-25T00:00:00+00:00 -11.423044245369372\\n2014-03-26T00:00:00+00:00 -12.954700154751814\\n2014-03-27T00:00:00+00:00 -11.512372693990661\\n2014-03-28T00:00:00+00:00 -11.322720141016063\\n2014-03-29T00:00:00+00:00 -10.395720729607232\\n2014-03-30T00:00:00+00:00 -10.355236433945294\\n2014-03-31T00:00:00+00:00 -10.780763707628507\\n2014-04-01T00:00:00+00:00 -11.92837819334092\\n2014-04-02T00:00:00+00:00 -11.779683312537678\\n2014-04-03T00:00:00+00:00 -11.583546457489506\\n2014-04-04T00:00:00+00:00 -10.53865481382287\\n2014-04-05T00:00:00+00:00 -10.581862900855239\\n2014-04-06T00:00:00+00:00 -11.215068309060515\\n2014-04-07T00:00:00+00:00 -12.438277786896546\\n2014-04-08T00:00:00+00:00 -11.297139252165765\\n2014-04-09T00:00:00+00:00 -13.192711950408441\\n2014-04-10T00:00:00+00:00 -12.953205929412897\\n2014-04-11T00:00:00+00:00 -14.287744192927835\\n2014-04-12T00:00:00+00:00 -14.29042014034678\\n2014-04-13T00:00:00+00:00 -12.841638390163613\\n2014-04-14T00:00:00+00:00 -11.972576891392446\\n2014-04-15T00:00:00+00:00 -11.718527538213104\\n2014-04-16T00:00:00+00:00 -11.23318851064273\\n2014-04-17T00:00:00+00:00 -11.688943376919278\\n2014-04-18T00:00:00+00:00 -11.130685122293468\\n2014-04-19T00:00:00+00:00 -12.118408961123077\\n2014-04-20T00:00:00+00:00 -13.401689683636032\\n2014-04-21T00:00:00+00:00 -12.012586370945172\\n2014-04-22T00:00:00+00:00 -11.827179230029122\\n2014-04-23T00:00:00+00:00 -12.07617327581795\\n2014-04-24T00:00:00+00:00 -13.665484559322014\\n2014-04-25T00:00:00+00:00 -14.200512357456862\\n2014-04-26T00:00:00+00:00 -14.442301109878404\\n2014-04-27T00:00:00+00:00 -14.38202573003802\\n2014-04-28T00:00:00+00:00 -13.357274021055133\\n2014-04-29T00:00:00+00:00 -14.834033813629247\\n2014-04-30T00:00:00+00:00 -14.364153672577515\\n2014-05-01T00:00:00+00:00 -14.771028000911226\\n2014-05-02T00:00:00+00:00 -14.738074651658282\\n2014-05-03T00:00:00+00:00 -13.342230600415238\\n2014-05-04T00:00:00+00:00 -11.720422974190114\\n2014-05-05T00:00:00+00:00 -10.77769021348902\\n2014-05-06T00:00:00+00:00 -8.896922195916451\\n2014-05-07T00:00:00+00:00 -9.270182372449998\\n2014-05-08T00:00:00+00:00 -10.311881531582525\\n2014-05-09T00:00:00+00:00 -10.467236315062443\\n2014-05-10T00:00:00+00:00 -10.908846767557245\\n2014-05-11T00:00:00+00:00 -11.629743888897753\\n2014-05-12T00:00:00+00:00 -13.395263816114237\\n2014-05-13T00:00:00+00:00 -14.38232217240148\\n2014-05-14T00:00:00+00:00 -15.953538659551896\\n2014-05-15T00:00:00+00:00 -16.2103417615278\\n2014-05-16T00:00:00+00:00 -16.634425250727052\\n2014-05-17T00:00:00+00:00 -17.970851443155258\\n2014-05-18T00:00:00+00:00 -18.048778744429004\\n2014-05-19T00:00:00+00:00 -16.932448612322084\\n2014-05-20T00:00:00+00:00 -16.30039631790484\\n2014-05-21T00:00:00+00:00 -16.889631425703755\\n2014-05-22T00:00:00+00:00 -16.61717647779271\\n2014-05-23T00:00:00+00:00 -15.013015030863563\\n2014-05-24T00:00:00+00:00 -13.569428610057942\\n2014-05-25T00:00:00+00:00 -12.473070188363229\\n2014-05-26T00:00:00+00:00 -12.572506854126983\\n2014-05-27T00:00:00+00:00 -13.428669201890223\\n2014-05-28T00:00:00+00:00 -12.563067993242958\\n2014-05-29T00:00:00+00:00 -11.7621796326128\\n2014-05-30T00:00:00+00:00 -11.954138029688506\\n2014-05-31T00:00:00+00:00 -13.263866996423594\\n2014-06-01T00:00:00+00:00 -12.674935585281865\\n2014-06-02T00:00:00+00:00 -12.801170044500227\\n2014-06-03T00:00:00+00:00 -13.209630233438446\\n2014-06-04T00:00:00+00:00 -11.869053296172783\\n2014-06-05T00:00:00+00:00 -11.388228605626706\\n2014-06-06T00:00:00+00:00 -11.553789152964738\\n2014-06-07T00:00:00+00:00 -8.819771481205347\\n2014-06-08T00:00:00+00:00 -8.89886303181318\\n2014-06-09T00:00:00+00:00 -7.741998900689822\\n2014-06-10T00:00:00+00:00 -7.703028395909378\\n2014-06-11T00:00:00+00:00 -7.074600773744294\\n2014-06-12T00:00:00+00:00 -6.037733560003867\\n2014-06-13T00:00:00+00:00 -6.508364544258726\\n2014-06-14T00:00:00+00:00 -4.767731831857062\\n2014-06-15T00:00:00+00:00 -4.537566860298552\\n2014-06-16T00:00:00+00:00 -3.388328579088024\\n2014-06-17T00:00:00+00:00 -3.988428843424391\\n2014-06-18T00:00:00+00:00 -3.192923342497423\\n2014-06-19T00:00:00+00:00 -3.2098480003385803\\n2014-06-20T00:00:00+00:00 -3.9062420541741965\\n2014-06-21T00:00:00+00:00 -4.301158366670095\\n2014-06-22T00:00:00+00:00 -5.583241806569317\\n2014-06-23T00:00:00+00:00 -3.252835796642264\\n2014-06-24T00:00:00+00:00 -3.2544262650971465\\n2014-06-25T00:00:00+00:00 -0.9571430279534807\\n2014-06-26T00:00:00+00:00 -2.3343921133842116\\n2014-06-27T00:00:00+00:00 -1.4919747712762466\\n2014-06-28T00:00:00+00:00 0.9300052427779046\\n2014-06-29T00:00:00+00:00 0.33234684171422324\\n2014-06-30T00:00:00+00:00 0.7673112371417437\\n2014-07-01T00:00:00+00:00 0.24100630832149506\\n2014-07-02T00:00:00+00:00 0.4512097592414938\\n2014-07-03T00:00:00+00:00 -0.19723485809670965\\n2014-07-04T00:00:00+00:00 0.7314643269564145\\n2014-07-05T00:00:00+00:00 0.820684117150724\\n2014-07-06T00:00:00+00:00 0.8553938286139949\\n2014-07-07T00:00:00+00:00 1.0807830967584244\\n2014-07-08T00:00:00+00:00 0.6207738330049752\\n2014-07-09T00:00:00+00:00 0.7164916173941517\\n2014-07-10T00:00:00+00:00 2.9380432102905356\\n2014-07-11T00:00:00+00:00 3.104500822108515\\n2014-07-12T00:00:00+00:00 3.921856166701415\\n2014-07-13T00:00:00+00:00 5.2380081578506985\\n2014-07-14T00:00:00+00:00 5.865258151213134\\n2014-07-15T00:00:00+00:00 6.257702763210445\\n2014-07-16T00:00:00+00:00 7.542737832211511\\n2014-07-17T00:00:00+00:00 7.582544003295929\\n2014-07-18T00:00:00+00:00 6.268602969699888\\n2014-07-19T00:00:00+00:00 6.47767040567513\\n2014-07-20T00:00:00+00:00 6.847948907104062\\n2014-07-21T00:00:00+00:00 6.577217241998046\\n2014-07-22T00:00:00+00:00 6.109471527193445\\n2014-07-23T00:00:00+00:00 7.340378813681886\\n2014-07-24T00:00:00+00:00 6.063820147458177\\n2014-07-25T00:00:00+00:00 4.882253603494723\\n2014-07-26T00:00:00+00:00 5.907300689853885\\n2014-07-27T00:00:00+00:00 7.627967117846666\\n2014-07-28T00:00:00+00:00 7.665353011604036\\n2014-07-29T00:00:00+00:00 7.9471228609321765\\n2014-07-30T00:00:00+00:00 6.264116900765089\\n2014-07-31T00:00:00+00:00 6.9656960758956235\\n2014-08-01T00:00:00+00:00 6.900862775789606\\n2014-08-02T00:00:00+00:00 7.422347157597956\\n2014-08-03T00:00:00+00:00 6.675069044043551\\n2014-08-04T00:00:00+00:00 6.286751291091791\\n2014-08-05T00:00:00+00:00 4.854208703448896\\n2014-08-06T00:00:00+00:00 4.266793934149181\\n2014-08-07T00:00:00+00:00 4.779255446785098\\n2014-08-08T00:00:00+00:00 5.924340441873019\\n2014-08-09T00:00:00+00:00 5.315602863825867\\n2014-08-10T00:00:00+00:00 4.641140868230933\\n2014-08-11T00:00:00+00:00 5.4105676303190675\\n2014-08-12T00:00:00+00:00 5.123442127265702\\n2014-08-13T00:00:00+00:00 5.280338298624386\\n2014-08-14T00:00:00+00:00 5.861491007876504\\n2014-08-15T00:00:00+00:00 4.420147012869174\\n2014-08-16T00:00:00+00:00 5.633336668434101\\n2014-08-17T00:00:00+00:00 7.2286952069897605\\n2014-08-18T00:00:00+00:00 6.592843968110297\\n2014-08-19T00:00:00+00:00 5.944818520764461\\n2014-08-20T00:00:00+00:00 7.519698669462012\\n2014-08-21T00:00:00+00:00 5.849382725314717\\n2014-08-22T00:00:00+00:00 5.963989609043328\\n2014-08-23T00:00:00+00:00 5.483789615012542\\n2014-08-24T00:00:00+00:00 6.8809293365134945\\n2014-08-25T00:00:00+00:00 7.458087031101021\\n2014-08-26T00:00:00+00:00 7.051195141900795\\n2014-08-27T00:00:00+00:00 6.9683510823397095\\n2014-08-28T00:00:00+00:00 7.017180182920064\\n2014-08-29T00:00:00+00:00 8.480801818898028\\n2014-08-30T00:00:00+00:00 8.032067268630646\\n2014-08-31T00:00:00+00:00 9.263873062279064\\n2014-09-01T00:00:00+00:00 7.9503391247169475\\n2014-09-02T00:00:00+00:00 7.961120717866886\\n2014-09-03T00:00:00+00:00 8.015027155046493\\n2014-09-04T00:00:00+00:00 7.266976587638201\\n2014-09-05T00:00:00+00:00 9.562609486291668\\n2014-09-06T00:00:00+00:00 9.088659571344504\\n2014-09-07T00:00:00+00:00 10.178056907871264\\n2014-09-08T00:00:00+00:00 10.43801223010749\\n2014-09-09T00:00:00+00:00 9.796971683084449\\n2014-09-10T00:00:00+00:00 11.259159689119745\\n2014-09-11T00:00:00+00:00 11.803572401580762\\n2014-09-12T00:00:00+00:00 12.761459856282993\\n2014-09-13T00:00:00+00:00 12.121819543100575\\n2014-09-14T00:00:00+00:00 10.882848328392026\\n2014-09-15T00:00:00+00:00 10.055050201384413\\n2014-09-16T00:00:00+00:00 10.22795383094684\\n2014-09-17T00:00:00+00:00 10.667987533496255\\n2014-09-18T00:00:00+00:00 9.990045515714927\\n2014-09-19T00:00:00+00:00 11.594979400255276\\n2014-09-20T00:00:00+00:00 12.184422277492152\\n2014-09-21T00:00:00+00:00 12.089849257320633\\n2014-09-22T00:00:00+00:00 11.062177904140261\\n2014-09-23T00:00:00+00:00 8.86365108021814\\n2014-09-24T00:00:00+00:00 8.078982015886016\\n2014-09-25T00:00:00+00:00 8.780775644161562\\n2014-09-26T00:00:00+00:00 8.378809551861961\\n2014-09-27T00:00:00+00:00 8.618348192105863\\n2014-09-28T00:00:00+00:00 8.2462405208318\\n2014-09-29T00:00:00+00:00 8.310646786461124\\n2014-09-30T00:00:00+00:00 7.167618527573582\\n2014-10-01T00:00:00+00:00 6.9983512019772345\\n2014-10-02T00:00:00+00:00 6.381055595173222\\n2014-10-03T00:00:00+00:00 7.39521285604094\\n2014-10-04T00:00:00+00:00 6.464854649783297\\n2014-10-05T00:00:00+00:00 7.087724966592644\\n2014-10-06T00:00:00+00:00 8.197172354620102\\n2014-10-07T00:00:00+00:00 7.366293435673027\\n2014-10-08T00:00:00+00:00 8.981744717911567\\n2014-10-09T00:00:00+00:00 9.845251665868027\\n2014-10-10T00:00:00+00:00 6.853657059528958\\n2014-10-11T00:00:00+00:00 7.201121284628371\\n2014-10-12T00:00:00+00:00 6.396528738323804\\n2014-10-13T00:00:00+00:00 8.573418674219521\\n2014-10-14T00:00:00+00:00 9.048866906737437\\n2014-10-15T00:00:00+00:00 7.443713796904528\\n2014-10-16T00:00:00+00:00 9.88723509239323\\n2014-10-17T00:00:00+00:00 9.222689773176178\\n2014-10-18T00:00:00+00:00 8.472344538637484\\n2014-10-19T00:00:00+00:00 8.6276399247776\\n2014-10-20T00:00:00+00:00 7.93965136204361\\n2014-10-21T00:00:00+00:00 6.862479444171068\\n2014-10-22T00:00:00+00:00 5.618907461489418\\n2014-10-23T00:00:00+00:00 6.561683244598766\\n2014-10-24T00:00:00+00:00 6.939320999864545\\n2014-10-25T00:00:00+00:00 7.465593617100952\\n2014-10-26T00:00:00+00:00 6.825390586654278\\n2014-10-27T00:00:00+00:00 5.717244591056259\\n2014-10-28T00:00:00+00:00 5.909055225021657\\n2014-10-29T00:00:00+00:00 5.888561770427946\\n2014-10-30T00:00:00+00:00 6.420983621574854\\n2014-10-31T00:00:00+00:00 5.732513563458547\\n2014-11-01T00:00:00+00:00 5.320687527786004\\n2014-11-02T00:00:00+00:00 4.638823699282759\\n2014-11-03T00:00:00+00:00 5.620438533251682\\n2014-11-04T00:00:00+00:00 4.319549687458224\\n2014-11-05T00:00:00+00:00 3.410407360942285\\n2014-11-06T00:00:00+00:00 3.189522582844015\\n2014-11-07T00:00:00+00:00 3.6891736165018063\\n2014-11-08T00:00:00+00:00 4.953318864468541\\n2014-11-09T00:00:00+00:00 4.4654780104157386\\n2014-11-10T00:00:00+00:00 2.2982949820151934\\n2014-11-11T00:00:00+00:00 1.0530451970335533\\n2014-11-12T00:00:00+00:00 0.7692625526475962\\n2014-11-13T00:00:00+00:00 0.5702552963610794\\n2014-11-14T00:00:00+00:00 0.7444379972265514\\n2014-11-15T00:00:00+00:00 1.193071801643118\\n2014-11-16T00:00:00+00:00 -1.0893993462334042\\n2014-11-17T00:00:00+00:00 -2.6579572240507368\\n2014-11-18T00:00:00+00:00 -3.0609251171539404\\n2014-11-19T00:00:00+00:00 -5.2295676252296115\\n2014-11-20T00:00:00+00:00 -5.5425995563417825\\n2014-11-21T00:00:00+00:00 -5.442621236726\\n2014-11-22T00:00:00+00:00 -2.762366676986654\\n2014-11-23T00:00:00+00:00 -3.09054958694125\\n2014-11-24T00:00:00+00:00 -3.125601148665484\\n2014-11-25T00:00:00+00:00 -4.894832919452155\\n2014-11-26T00:00:00+00:00 -4.391164667822413\\n2014-11-27T00:00:00+00:00 -5.663077186292002\\n2014-11-28T00:00:00+00:00 -5.252533672228657\\n2014-11-29T00:00:00+00:00 -8.135309384360802\\n2014-11-30T00:00:00+00:00 -7.831910581783492\\n2014-12-01T00:00:00+00:00 -8.687192853134205\\n2014-12-02T00:00:00+00:00 -8.887382157825364\\n2014-12-03T00:00:00+00:00 -8.64738037947576\\n2014-12-04T00:00:00+00:00 -8.125305723999265\\n2014-12-05T00:00:00+00:00 -8.389955406598919\\n2014-12-06T00:00:00+00:00 -8.840377191014605\\n2014-12-07T00:00:00+00:00 -8.551581589417369\\n2014-12-08T00:00:00+00:00 -8.849561963086144\\n2014-12-09T00:00:00+00:00 -8.62694481746824\\n2014-12-10T00:00:00+00:00 -6.8870205151775865\\n2014-12-11T00:00:00+00:00 -8.019415517137796\\n2014-12-12T00:00:00+00:00 -8.543503961675816\\n2014-12-13T00:00:00+00:00 -8.862187705353659\\n2014-12-14T00:00:00+00:00 -8.891210843257191\\n2014-12-15T00:00:00+00:00 -9.620642019824597\\n2014-12-16T00:00:00+00:00 -8.60645703290281\\n2014-12-17T00:00:00+00:00 -6.743290766899752\\n2014-12-18T00:00:00+00:00 -6.201697562564105\\n2014-12-19T00:00:00+00:00 -5.227441917165912\\n2014-12-20T00:00:00+00:00 -4.514678953777773\\n2014-12-21T00:00:00+00:00 -3.6944783379854926\\n2014-12-22T00:00:00+00:00 -4.121505916483842\\n2014-12-23T00:00:00+00:00 -3.6495098555617593\\n2014-12-24T00:00:00+00:00 -4.280916926950127\\n2014-12-25T00:00:00+00:00 -5.752934998455759\\n2014-12-26T00:00:00+00:00 -5.067708634673061\\n2014-12-27T00:00:00+00:00 -5.623955931002981\\n\">, @options=Hamster::Hash[:with => \"lines\", :using => \"1:2\", :title => \"Vector\"]>, #<GnuplotRB::Dataset:0x90ac324 @type=:datablock, @data=#<GnuplotRB::Datablock:0x90b6cd4 @stored_in_file=false, @data=\"2012-04-02T00:00:00+00:00 \\n2012-04-03T00:00:00+00:00 \\n2012-04-04T00:00:00+00:00 \\n2012-04-05T00:00:00+00:00 \\n2012-04-06T00:00:00+00:00 \\n2012-04-07T00:00:00+00:00 \\n2012-04-08T00:00:00+00:00 \\n2012-04-09T00:00:00+00:00 \\n2012-04-10T00:00:00+00:00 \\n2012-04-11T00:00:00+00:00 \\n2012-04-12T00:00:00+00:00 \\n2012-04-13T00:00:00+00:00 \\n2012-04-14T00:00:00+00:00 \\n2012-04-15T00:00:00+00:00 \\n2012-04-16T00:00:00+00:00 \\n2012-04-17T00:00:00+00:00 \\n2012-04-18T00:00:00+00:00 \\n2012-04-19T00:00:00+00:00 \\n2012-04-20T00:00:00+00:00 \\n2012-04-21T00:00:00+00:00 \\n2012-04-22T00:00:00+00:00 \\n2012-04-23T00:00:00+00:00 \\n2012-04-24T00:00:00+00:00 \\n2012-04-25T00:00:00+00:00 \\n2012-04-26T00:00:00+00:00 \\n2012-04-27T00:00:00+00:00 \\n2012-04-28T00:00:00+00:00 \\n2012-04-29T00:00:00+00:00 \\n2012-04-30T00:00:00+00:00 \\n2012-05-01T00:00:00+00:00 \\n2012-05-02T00:00:00+00:00 \\n2012-05-03T00:00:00+00:00 \\n2012-05-04T00:00:00+00:00 \\n2012-05-05T00:00:00+00:00 \\n2012-05-06T00:00:00+00:00 \\n2012-05-07T00:00:00+00:00 \\n2012-05-08T00:00:00+00:00 \\n2012-05-09T00:00:00+00:00 \\n2012-05-10T00:00:00+00:00 \\n2012-05-11T00:00:00+00:00 \\n2012-05-12T00:00:00+00:00 \\n2012-05-13T00:00:00+00:00 \\n2012-05-14T00:00:00+00:00 \\n2012-05-15T00:00:00+00:00 \\n2012-05-16T00:00:00+00:00 \\n2012-05-17T00:00:00+00:00 \\n2012-05-18T00:00:00+00:00 \\n2012-05-19T00:00:00+00:00 \\n2012-05-20T00:00:00+00:00 \\n2012-05-21T00:00:00+00:00 \\n2012-05-22T00:00:00+00:00 \\n2012-05-23T00:00:00+00:00 \\n2012-05-24T00:00:00+00:00 \\n2012-05-25T00:00:00+00:00 \\n2012-05-26T00:00:00+00:00 \\n2012-05-27T00:00:00+00:00 \\n2012-05-28T00:00:00+00:00 \\n2012-05-29T00:00:00+00:00 \\n2012-05-30T00:00:00+00:00 \\n2012-05-31T00:00:00+00:00 4.404064780051582\\n2012-06-01T00:00:00+00:00 4.516506734796288\\n2012-06-02T00:00:00+00:00 4.656742321956568\\n2012-06-03T00:00:00+00:00 4.766228498595971\\n2012-06-04T00:00:00+00:00 4.865645052111467\\n2012-06-05T00:00:00+00:00 4.972509346482609\\n2012-06-06T00:00:00+00:00 5.084353205039064\\n2012-06-07T00:00:00+00:00 5.191791470662616\\n2012-06-08T00:00:00+00:00 5.296376622127664\\n2012-06-09T00:00:00+00:00 5.393509578782758\\n2012-06-10T00:00:00+00:00 5.510019503774028\\n2012-06-11T00:00:00+00:00 5.592717176615737\\n2012-06-12T00:00:00+00:00 5.6585763939984135\\n2012-06-13T00:00:00+00:00 5.6908158537867495\\n2012-06-14T00:00:00+00:00 5.697458317385684\\n2012-06-15T00:00:00+00:00 5.6793771660127526\\n2012-06-16T00:00:00+00:00 5.66433192870819\\n2012-06-17T00:00:00+00:00 5.684644190897898\\n2012-06-18T00:00:00+00:00 5.7090075984030095\\n2012-06-19T00:00:00+00:00 5.7448075269966905\\n2012-06-20T00:00:00+00:00 5.773174298435901\\n2012-06-21T00:00:00+00:00 5.79029070364811\\n2012-06-22T00:00:00+00:00 5.766065277910011\\n2012-06-23T00:00:00+00:00 5.753453550622603\\n2012-06-24T00:00:00+00:00 5.768257267717947\\n2012-06-25T00:00:00+00:00 5.817358627014757\\n2012-06-26T00:00:00+00:00 5.902990084295437\\n2012-06-27T00:00:00+00:00 6.004764212982409\\n2012-06-28T00:00:00+00:00 6.102005370927042\\n2012-06-29T00:00:00+00:00 6.2075837905225875\\n2012-06-30T00:00:00+00:00 6.288619922435799\\n2012-07-01T00:00:00+00:00 6.339858174281227\\n2012-07-02T00:00:00+00:00 6.412215211089124\\n2012-07-03T00:00:00+00:00 6.476234179060456\\n2012-07-04T00:00:00+00:00 6.555795911897294\\n2012-07-05T00:00:00+00:00 6.641007851201897\\n2012-07-06T00:00:00+00:00 6.743265334547655\\n2012-07-07T00:00:00+00:00 6.9172346024082625\\n2012-07-08T00:00:00+00:00 7.083308055836286\\n2012-07-09T00:00:00+00:00 7.213729380917314\\n2012-07-10T00:00:00+00:00 7.311600560892976\\n2012-07-11T00:00:00+00:00 7.360390944245331\\n2012-07-12T00:00:00+00:00 7.388906108863976\\n2012-07-13T00:00:00+00:00 7.4438370660491096\\n2012-07-14T00:00:00+00:00 7.48769179485039\\n2012-07-15T00:00:00+00:00 7.519316168102196\\n2012-07-16T00:00:00+00:00 7.510919377108644\\n2012-07-17T00:00:00+00:00 7.4659552130924025\\n2012-07-18T00:00:00+00:00 7.418472754690517\\n2012-07-19T00:00:00+00:00 7.361635322473292\\n2012-07-20T00:00:00+00:00 7.310393502587303\\n2012-07-21T00:00:00+00:00 7.283688576033724\\n2012-07-22T00:00:00+00:00 7.2613924305647455\\n2012-07-23T00:00:00+00:00 7.254656237346136\\n2012-07-24T00:00:00+00:00 7.260122731429745\\n2012-07-25T00:00:00+00:00 7.240456495489236\\n2012-07-26T00:00:00+00:00 7.243432782785902\\n2012-07-27T00:00:00+00:00 7.228937166280913\\n2012-07-28T00:00:00+00:00 7.193224479696985\\n2012-07-29T00:00:00+00:00 7.127678727167514\\n2012-07-30T00:00:00+00:00 7.095554808346963\\n2012-07-31T00:00:00+00:00 7.086878834811496\\n2012-08-01T00:00:00+00:00 6.995596530835858\\n2012-08-02T00:00:00+00:00 6.906482421574779\\n2012-08-03T00:00:00+00:00 6.7937224871477975\\n2012-08-04T00:00:00+00:00 6.674442261163754\\n2012-08-05T00:00:00+00:00 6.561661757430031\\n2012-08-06T00:00:00+00:00 6.4638075881796455\\n2012-08-07T00:00:00+00:00 6.3114871447606085\\n2012-08-08T00:00:00+00:00 6.150039211736177\\n2012-08-09T00:00:00+00:00 5.9760459627197315\\n2012-08-10T00:00:00+00:00 5.866595794637974\\n2012-08-11T00:00:00+00:00 5.76908240717967\\n2012-08-12T00:00:00+00:00 5.64637452152908\\n2012-08-13T00:00:00+00:00 5.556088464383295\\n2012-08-14T00:00:00+00:00 5.469370755876102\\n2012-08-15T00:00:00+00:00 5.369794343583067\\n2012-08-16T00:00:00+00:00 5.207251174080162\\n2012-08-17T00:00:00+00:00 5.028378585577308\\n2012-08-18T00:00:00+00:00 4.853067603591165\\n2012-08-19T00:00:00+00:00 4.700285495860081\\n2012-08-20T00:00:00+00:00 4.559026174017266\\n2012-08-21T00:00:00+00:00 4.451882694977189\\n2012-08-22T00:00:00+00:00 4.340835736697662\\n2012-08-23T00:00:00+00:00 4.223657302347214\\n2012-08-24T00:00:00+00:00 4.11348295590614\\n2012-08-25T00:00:00+00:00 3.9937321134776003\\n2012-08-26T00:00:00+00:00 3.8415277675609816\\n2012-08-27T00:00:00+00:00 3.671324918885026\\n2012-08-28T00:00:00+00:00 3.5050184890278926\\n2012-08-29T00:00:00+00:00 3.34705533309066\\n2012-08-30T00:00:00+00:00 3.183333749635348\\n2012-08-31T00:00:00+00:00 3.0074564774233954\\n2012-09-01T00:00:00+00:00 2.8311121681129348\\n2012-09-02T00:00:00+00:00 2.619684293535731\\n2012-09-03T00:00:00+00:00 2.3973283530565297\\n2012-09-04T00:00:00+00:00 2.1543598467223246\\n2012-09-05T00:00:00+00:00 1.9110630096865813\\n2012-09-06T00:00:00+00:00 1.6630666535965912\\n2012-09-07T00:00:00+00:00 1.4475960954713671\\n2012-09-08T00:00:00+00:00 1.2498905819334702\\n2012-09-09T00:00:00+00:00 1.0674826985071273\\n2012-09-10T00:00:00+00:00 0.8766682085899801\\n2012-09-11T00:00:00+00:00 0.6843263618069583\\n2012-09-12T00:00:00+00:00 0.48769526435142224\\n2012-09-13T00:00:00+00:00 0.2995711037365017\\n2012-09-14T00:00:00+00:00 0.1265701082701985\\n2012-09-15T00:00:00+00:00 -0.0017260135705786587\\n2012-09-16T00:00:00+00:00 -0.11121796079633056\\n2012-09-17T00:00:00+00:00 -0.21523607210769805\\n2012-09-18T00:00:00+00:00 -0.34497368536072653\\n2012-09-19T00:00:00+00:00 -0.4611567044345916\\n2012-09-20T00:00:00+00:00 -0.6010897867655898\\n2012-09-21T00:00:00+00:00 -0.7508882689312587\\n2012-09-22T00:00:00+00:00 -0.8779152157993492\\n2012-09-23T00:00:00+00:00 -0.9786969936936605\\n2012-09-24T00:00:00+00:00 -1.0910798967660469\\n2012-09-25T00:00:00+00:00 -1.2152939204982796\\n2012-09-26T00:00:00+00:00 -1.347070214866286\\n2012-09-27T00:00:00+00:00 -1.4870992897957136\\n2012-09-28T00:00:00+00:00 -1.6383780286449876\\n2012-09-29T00:00:00+00:00 -1.7785686726582641\\n2012-09-30T00:00:00+00:00 -1.8932127001492032\\n2012-10-01T00:00:00+00:00 -2.0041947092860313\\n2012-10-02T00:00:00+00:00 -2.11462269938417\\n2012-10-03T00:00:00+00:00 -2.215761041738001\\n2012-10-04T00:00:00+00:00 -2.318933034823935\\n2012-10-05T00:00:00+00:00 -2.4768930988240974\\n2012-10-06T00:00:00+00:00 -2.5987248045075906\\n2012-10-07T00:00:00+00:00 -2.7138609796694064\\n2012-10-08T00:00:00+00:00 -2.8463335032348067\\n2012-10-09T00:00:00+00:00 -3.0182181521723463\\n2012-10-10T00:00:00+00:00 -3.1919076259259267\\n2012-10-11T00:00:00+00:00 -3.3399107030213973\\n2012-10-12T00:00:00+00:00 -3.514627922503257\\n2012-10-13T00:00:00+00:00 -3.7189750791350407\\n2012-10-14T00:00:00+00:00 -3.905958989353456\\n2012-10-15T00:00:00+00:00 -4.042235071956839\\n2012-10-16T00:00:00+00:00 -4.145070168026512\\n2012-10-17T00:00:00+00:00 -4.278412687712037\\n2012-10-18T00:00:00+00:00 -4.394118309538984\\n2012-10-19T00:00:00+00:00 -4.4905958093743745\\n2012-10-20T00:00:00+00:00 -4.603722011514727\\n2012-10-21T00:00:00+00:00 -4.723482272753651\\n2012-10-22T00:00:00+00:00 -4.833496053447004\\n2012-10-23T00:00:00+00:00 -4.955084764279339\\n2012-10-24T00:00:00+00:00 -5.089139287286218\\n2012-10-25T00:00:00+00:00 -5.220988880820953\\n2012-10-26T00:00:00+00:00 -5.3492334533160575\\n2012-10-27T00:00:00+00:00 -5.474322210708331\\n2012-10-28T00:00:00+00:00 -5.590249803599148\\n2012-10-29T00:00:00+00:00 -5.676022662351628\\n2012-10-30T00:00:00+00:00 -5.705133822623325\\n2012-10-31T00:00:00+00:00 -5.745858137223034\\n2012-11-01T00:00:00+00:00 -5.777306753479623\\n2012-11-02T00:00:00+00:00 -5.8098119095004614\\n2012-11-03T00:00:00+00:00 -5.822928964952473\\n2012-11-04T00:00:00+00:00 -5.867650789223046\\n2012-11-05T00:00:00+00:00 -5.915577945234061\\n2012-11-06T00:00:00+00:00 -5.991294286745916\\n2012-11-07T00:00:00+00:00 -6.080883653875975\\n2012-11-08T00:00:00+00:00 -6.159990308822681\\n2012-11-09T00:00:00+00:00 -6.205043848767876\\n2012-11-10T00:00:00+00:00 -6.260733611473387\\n2012-11-11T00:00:00+00:00 -6.3045176643414855\\n2012-11-12T00:00:00+00:00 -6.3471127160690894\\n2012-11-13T00:00:00+00:00 -6.347400086827772\\n2012-11-14T00:00:00+00:00 -6.3207494192786635\\n2012-11-15T00:00:00+00:00 -6.306434129984067\\n2012-11-16T00:00:00+00:00 -6.260200736839918\\n2012-11-17T00:00:00+00:00 -6.218230182927192\\n2012-11-18T00:00:00+00:00 -6.1913202107734815\\n2012-11-19T00:00:00+00:00 -6.14983641268891\\n2012-11-20T00:00:00+00:00 -6.111618642964924\\n2012-11-21T00:00:00+00:00 -6.111930152592398\\n2012-11-22T00:00:00+00:00 -6.122232124564383\\n2012-11-23T00:00:00+00:00 -6.127533356699699\\n2012-11-24T00:00:00+00:00 -6.124264756350066\\n2012-11-25T00:00:00+00:00 -6.108133461659772\\n2012-11-26T00:00:00+00:00 -6.070217981447396\\n2012-11-27T00:00:00+00:00 -5.998572348230266\\n2012-11-28T00:00:00+00:00 -5.92057893513598\\n2012-11-29T00:00:00+00:00 -5.845373877879196\\n2012-11-30T00:00:00+00:00 -5.728365150940362\\n2012-12-01T00:00:00+00:00 -5.607083935564401\\n2012-12-02T00:00:00+00:00 -5.481114291286678\\n2012-12-03T00:00:00+00:00 -5.362122296361895\\n2012-12-04T00:00:00+00:00 -5.230086180114388\\n2012-12-05T00:00:00+00:00 -5.116044452172634\\n2012-12-06T00:00:00+00:00 -5.027107234775923\\n2012-12-07T00:00:00+00:00 -4.94761205639955\\n2012-12-08T00:00:00+00:00 -4.871466101239823\\n2012-12-09T00:00:00+00:00 -4.800823934424632\\n2012-12-10T00:00:00+00:00 -4.730211862399114\\n2012-12-11T00:00:00+00:00 -4.627902276456816\\n2012-12-12T00:00:00+00:00 -4.469927311326839\\n2012-12-13T00:00:00+00:00 -4.330511354135505\\n2012-12-14T00:00:00+00:00 -4.18947146962893\\n2012-12-15T00:00:00+00:00 -4.047542758838058\\n2012-12-16T00:00:00+00:00 -3.8915004972439617\\n2012-12-17T00:00:00+00:00 -3.7786657173347895\\n2012-12-18T00:00:00+00:00 -3.67048352114658\\n2012-12-19T00:00:00+00:00 -3.5548294672734286\\n2012-12-20T00:00:00+00:00 -3.4271561953327745\\n2012-12-21T00:00:00+00:00 -3.318158124823755\\n2012-12-22T00:00:00+00:00 -3.1925000074890084\\n2012-12-23T00:00:00+00:00 -3.041717678824596\\n2012-12-24T00:00:00+00:00 -2.8840251896387556\\n2012-12-25T00:00:00+00:00 -2.727926574310359\\n2012-12-26T00:00:00+00:00 -2.592137438140292\\n2012-12-27T00:00:00+00:00 -2.453647590828486\\n2012-12-28T00:00:00+00:00 -2.3705056237590516\\n2012-12-29T00:00:00+00:00 -2.320840255302451\\n2012-12-30T00:00:00+00:00 -2.257401053821282\\n2012-12-31T00:00:00+00:00 -2.196929234707338\\n2013-01-01T00:00:00+00:00 -2.1235238784921115\\n2013-01-02T00:00:00+00:00 -2.057018045405559\\n2013-01-03T00:00:00+00:00 -1.9906167851836958\\n2013-01-04T00:00:00+00:00 -1.8848802952170756\\n2013-01-05T00:00:00+00:00 -1.7728963621918536\\n2013-01-06T00:00:00+00:00 -1.6495045834447668\\n2013-01-07T00:00:00+00:00 -1.5311070146278827\\n2013-01-08T00:00:00+00:00 -1.4127127191169933\\n2013-01-09T00:00:00+00:00 -1.2725319189010158\\n2013-01-10T00:00:00+00:00 -1.1384316815003994\\n2013-01-11T00:00:00+00:00 -1.014311040870237\\n2013-01-12T00:00:00+00:00 -0.902027656090889\\n2013-01-13T00:00:00+00:00 -0.8051092600607636\\n2013-01-14T00:00:00+00:00 -0.6750941869520651\\n2013-01-15T00:00:00+00:00 -0.5772380802478293\\n2013-01-16T00:00:00+00:00 -0.46621423218279223\\n2013-01-17T00:00:00+00:00 -0.34811739316683793\\n2013-01-18T00:00:00+00:00 -0.23958396034149737\\n2013-01-19T00:00:00+00:00 -0.145851428558857\\n2013-01-20T00:00:00+00:00 -0.02260642296222435\\n2013-01-21T00:00:00+00:00 0.11082288324444255\\n2013-01-22T00:00:00+00:00 0.27643315394129775\\n2013-01-23T00:00:00+00:00 0.4631653578516838\\n2013-01-24T00:00:00+00:00 0.65016607309836\\n2013-01-25T00:00:00+00:00 0.8716399877185507\\n2013-01-26T00:00:00+00:00 1.0576858115891206\\n2013-01-27T00:00:00+00:00 1.2276092672087775\\n2013-01-28T00:00:00+00:00 1.3707935549406207\\n2013-01-29T00:00:00+00:00 1.467759270940551\\n2013-01-30T00:00:00+00:00 1.555973421576464\\n2013-01-31T00:00:00+00:00 1.6342780260896022\\n2013-02-01T00:00:00+00:00 1.739205711708947\\n2013-02-02T00:00:00+00:00 1.8792068298168716\\n2013-02-03T00:00:00+00:00 2.0319234043604677\\n2013-02-04T00:00:00+00:00 2.186808522898568\\n2013-02-05T00:00:00+00:00 2.335143081670687\\n2013-02-06T00:00:00+00:00 2.4865786779672927\\n2013-02-07T00:00:00+00:00 2.6344007814928285\\n2013-02-08T00:00:00+00:00 2.783134873432367\\n2013-02-09T00:00:00+00:00 2.936556187487672\\n2013-02-10T00:00:00+00:00 3.068205509984867\\n2013-02-11T00:00:00+00:00 3.1914888263413137\\n2013-02-12T00:00:00+00:00 3.3281717592365014\\n2013-02-13T00:00:00+00:00 3.446609155834453\\n2013-02-14T00:00:00+00:00 3.565344506983044\\n2013-02-15T00:00:00+00:00 3.7044850910160085\\n2013-02-16T00:00:00+00:00 3.838526712111896\\n2013-02-17T00:00:00+00:00 3.9813029374791795\\n2013-02-18T00:00:00+00:00 4.086491626907509\\n2013-02-19T00:00:00+00:00 4.182257677785989\\n2013-02-20T00:00:00+00:00 4.238589076554124\\n2013-02-21T00:00:00+00:00 4.271465802470439\\n2013-02-22T00:00:00+00:00 4.29341704140765\\n2013-02-23T00:00:00+00:00 4.357451848681896\\n2013-02-24T00:00:00+00:00 4.442910772584614\\n2013-02-25T00:00:00+00:00 4.51796862486598\\n2013-02-26T00:00:00+00:00 4.604290297044439\\n2013-02-27T00:00:00+00:00 4.673811096243995\\n2013-02-28T00:00:00+00:00 4.766480513152794\\n2013-03-01T00:00:00+00:00 4.833625267510651\\n2013-03-02T00:00:00+00:00 4.864777890207685\\n2013-03-03T00:00:00+00:00 4.8639811209007995\\n2013-03-04T00:00:00+00:00 4.85134628540389\\n2013-03-05T00:00:00+00:00 4.840885039075914\\n2013-03-06T00:00:00+00:00 4.818360163630502\\n2013-03-07T00:00:00+00:00 4.819377859730592\\n2013-03-08T00:00:00+00:00 4.7971625012645704\\n2013-03-09T00:00:00+00:00 4.75006988993283\\n2013-03-10T00:00:00+00:00 4.688861510547157\\n2013-03-11T00:00:00+00:00 4.6560987385239425\\n2013-03-12T00:00:00+00:00 4.627884826751285\\n2013-03-13T00:00:00+00:00 4.569932732020294\\n2013-03-14T00:00:00+00:00 4.485478169423855\\n2013-03-15T00:00:00+00:00 4.377478499509977\\n2013-03-16T00:00:00+00:00 4.293664505912731\\n2013-03-17T00:00:00+00:00 4.170672559961927\\n2013-03-18T00:00:00+00:00 4.039687768353345\\n2013-03-19T00:00:00+00:00 3.934466476762531\\n2013-03-20T00:00:00+00:00 3.884119802675183\\n2013-03-21T00:00:00+00:00 3.8188298487204286\\n2013-03-22T00:00:00+00:00 3.744618544983771\\n2013-03-23T00:00:00+00:00 3.606358752111471\\n2013-03-24T00:00:00+00:00 3.4452631347808307\\n2013-03-25T00:00:00+00:00 3.2919341089255396\\n2013-03-26T00:00:00+00:00 3.1037395909199943\\n2013-03-27T00:00:00+00:00 2.9125169267230238\\n2013-03-28T00:00:00+00:00 2.7085637352550433\\n2013-03-29T00:00:00+00:00 2.5544791868757253\\n2013-03-30T00:00:00+00:00 2.3885384885050382\\n2013-03-31T00:00:00+00:00 2.2421104847877062\\n2013-04-01T00:00:00+00:00 2.098524960618721\\n2013-04-02T00:00:00+00:00 1.952602763396104\\n2013-04-03T00:00:00+00:00 1.8006135975129447\\n2013-04-04T00:00:00+00:00 1.6420963153784713\\n2013-04-05T00:00:00+00:00 1.4932197989492326\\n2013-04-06T00:00:00+00:00 1.3694697849654929\\n2013-04-07T00:00:00+00:00 1.2732624319298305\\n2013-04-08T00:00:00+00:00 1.1878226568619608\\n2013-04-09T00:00:00+00:00 1.1051598000788978\\n2013-04-10T00:00:00+00:00 1.0182174789504121\\n2013-04-11T00:00:00+00:00 0.9224968046372113\\n2013-04-12T00:00:00+00:00 0.8231877203048896\\n2013-04-13T00:00:00+00:00 0.6979501926916154\\n2013-04-14T00:00:00+00:00 0.5849166996660727\\n2013-04-15T00:00:00+00:00 0.4553334955625064\\n2013-04-16T00:00:00+00:00 0.32602416919075633\\n2013-04-17T00:00:00+00:00 0.2000772099678141\\n2013-04-18T00:00:00+00:00 0.08151946785187748\\n2013-04-19T00:00:00+00:00 -0.026074715175975476\\n2013-04-20T00:00:00+00:00 -0.11967077946794805\\n2013-04-21T00:00:00+00:00 -0.16974544129213828\\n2013-04-22T00:00:00+00:00 -0.19963238801015926\\n2013-04-23T00:00:00+00:00 -0.21422921213368762\\n2013-04-24T00:00:00+00:00 -0.2758784882115713\\n2013-04-25T00:00:00+00:00 -0.3483472243380473\\n2013-04-26T00:00:00+00:00 -0.43963263000422914\\n2013-04-27T00:00:00+00:00 -0.5212183472959925\\n2013-04-28T00:00:00+00:00 -0.5826311494094623\\n2013-04-29T00:00:00+00:00 -0.6618950358621647\\n2013-04-30T00:00:00+00:00 -0.6703720385272898\\n2013-05-01T00:00:00+00:00 -0.6536684455657779\\n2013-05-02T00:00:00+00:00 -0.6307743164455285\\n2013-05-03T00:00:00+00:00 -0.6064727007830126\\n2013-05-04T00:00:00+00:00 -0.5927172216666772\\n2013-05-05T00:00:00+00:00 -0.5768073382778895\\n2013-05-06T00:00:00+00:00 -0.5950363236654144\\n2013-05-07T00:00:00+00:00 -0.5922155980927777\\n2013-05-08T00:00:00+00:00 -0.5934313108896554\\n2013-05-09T00:00:00+00:00 -0.5981532833302404\\n2013-05-10T00:00:00+00:00 -0.6007079726064581\\n2013-05-11T00:00:00+00:00 -0.5752768774274687\\n2013-05-12T00:00:00+00:00 -0.533971880740425\\n2013-05-13T00:00:00+00:00 -0.47319201940761507\\n2013-05-14T00:00:00+00:00 -0.41533422479003096\\n2013-05-15T00:00:00+00:00 -0.37623457510459396\\n2013-05-16T00:00:00+00:00 -0.29247386263780145\\n2013-05-17T00:00:00+00:00 -0.2220798064770177\\n2013-05-18T00:00:00+00:00 -0.16206993626206084\\n2013-05-19T00:00:00+00:00 -0.1632823290806286\\n2013-05-20T00:00:00+00:00 -0.15567615952003855\\n2013-05-21T00:00:00+00:00 -0.15169595956992898\\n2013-05-22T00:00:00+00:00 -0.12273647323002926\\n2013-05-23T00:00:00+00:00 -0.10506691046217635\\n2013-05-24T00:00:00+00:00 -0.10236985710895137\\n2013-05-25T00:00:00+00:00 -0.11647395577377213\\n2013-05-26T00:00:00+00:00 -0.1635615093239625\\n2013-05-27T00:00:00+00:00 -0.21735202241968032\\n2013-05-28T00:00:00+00:00 -0.2643298007651564\\n2013-05-29T00:00:00+00:00 -0.27657997580488464\\n2013-05-30T00:00:00+00:00 -0.33464101264432594\\n2013-05-31T00:00:00+00:00 -0.37447682180977715\\n2013-06-01T00:00:00+00:00 -0.429904863487247\\n2013-06-02T00:00:00+00:00 -0.4893676768830433\\n2013-06-03T00:00:00+00:00 -0.5414545249565209\\n2013-06-04T00:00:00+00:00 -0.5703152370229446\\n2013-06-05T00:00:00+00:00 -0.5564429943203354\\n2013-06-06T00:00:00+00:00 -0.5762353990816395\\n2013-06-07T00:00:00+00:00 -0.5717610183596243\\n2013-06-08T00:00:00+00:00 -0.5726314464182682\\n2013-06-09T00:00:00+00:00 -0.5731040986798532\\n2013-06-10T00:00:00+00:00 -0.5273244411852633\\n2013-06-11T00:00:00+00:00 -0.47097781414932316\\n2013-06-12T00:00:00+00:00 -0.43797834351827086\\n2013-06-13T00:00:00+00:00 -0.403371010154066\\n2013-06-14T00:00:00+00:00 -0.36690875652996896\\n2013-06-15T00:00:00+00:00 -0.3603860316605569\\n2013-06-16T00:00:00+00:00 -0.39009727960114754\\n2013-06-17T00:00:00+00:00 -0.4250408097413055\\n2013-06-18T00:00:00+00:00 -0.4321434436750304\\n2013-06-19T00:00:00+00:00 -0.4097809979966937\\n2013-06-20T00:00:00+00:00 -0.4308357713587849\\n2013-06-21T00:00:00+00:00 -0.4912002646685124\\n2013-06-22T00:00:00+00:00 -0.5223408719185522\\n2013-06-23T00:00:00+00:00 -0.5353402414338809\\n2013-06-24T00:00:00+00:00 -0.5427591249932682\\n2013-06-25T00:00:00+00:00 -0.5309463514181999\\n2013-06-26T00:00:00+00:00 -0.519215324523138\\n2013-06-27T00:00:00+00:00 -0.5391735566886116\\n2013-06-28T00:00:00+00:00 -0.5615276364425089\\n2013-06-29T00:00:00+00:00 -0.6160259243732159\\n2013-06-30T00:00:00+00:00 -0.6252035940532653\\n2013-07-01T00:00:00+00:00 -0.599333745385292\\n2013-07-02T00:00:00+00:00 -0.5629669192384089\\n2013-07-03T00:00:00+00:00 -0.5338423736592495\\n2013-07-04T00:00:00+00:00 -0.5012359710622077\\n2013-07-05T00:00:00+00:00 -0.4584968340101278\\n2013-07-06T00:00:00+00:00 -0.41497782481343254\\n2013-07-07T00:00:00+00:00 -0.36894975402279256\\n2013-07-08T00:00:00+00:00 -0.33700531020412916\\n2013-07-09T00:00:00+00:00 -0.30517931852844205\\n2013-07-10T00:00:00+00:00 -0.2675895432581365\\n2013-07-11T00:00:00+00:00 -0.2251103774704185\\n2013-07-12T00:00:00+00:00 -0.18809568811625774\\n2013-07-13T00:00:00+00:00 -0.13325746311685863\\n2013-07-14T00:00:00+00:00 -0.09132290317059635\\n2013-07-15T00:00:00+00:00 -0.04132355346458896\\n2013-07-16T00:00:00+00:00 0.017799868620850447\\n2013-07-17T00:00:00+00:00 0.08037749184117743\\n2013-07-18T00:00:00+00:00 0.15828999692680965\\n2013-07-19T00:00:00+00:00 0.21346861533655884\\n2013-07-20T00:00:00+00:00 0.29646603566292024\\n2013-07-21T00:00:00+00:00 0.3890600954176225\\n2013-07-22T00:00:00+00:00 0.4908626797176587\\n2013-07-23T00:00:00+00:00 0.594955877023986\\n2013-07-24T00:00:00+00:00 0.7098963890340098\\n2013-07-25T00:00:00+00:00 0.8507365574826028\\n2013-07-26T00:00:00+00:00 0.9981457923097371\\n2013-07-27T00:00:00+00:00 1.1076887955160903\\n2013-07-28T00:00:00+00:00 1.1912089055902166\\n2013-07-29T00:00:00+00:00 1.3181306840660918\\n2013-07-30T00:00:00+00:00 1.445458736030567\\n2013-07-31T00:00:00+00:00 1.5498268541362619\\n2013-08-01T00:00:00+00:00 1.6484671411559912\\n2013-08-02T00:00:00+00:00 1.7577214007361273\\n2013-08-03T00:00:00+00:00 1.8293370853958326\\n2013-08-04T00:00:00+00:00 1.8639798012013438\\n2013-08-05T00:00:00+00:00 1.9315459635919516\\n2013-08-06T00:00:00+00:00 1.9921141717009123\\n2013-08-07T00:00:00+00:00 2.047841070238454\\n2013-08-08T00:00:00+00:00 2.0985081162739534\\n2013-08-09T00:00:00+00:00 2.106391990451409\\n2013-08-10T00:00:00+00:00 2.095452895152013\\n2013-08-11T00:00:00+00:00 2.1055844819980236\\n2013-08-12T00:00:00+00:00 2.109207821333742\\n2013-08-13T00:00:00+00:00 2.1023332426927426\\n2013-08-14T00:00:00+00:00 2.107917559978125\\n2013-08-15T00:00:00+00:00 2.1400676695836727\\n2013-08-16T00:00:00+00:00 2.1866765485338866\\n2013-08-17T00:00:00+00:00 2.2301454912433343\\n2013-08-18T00:00:00+00:00 2.2587867396814194\\n2013-08-19T00:00:00+00:00 2.291603804067546\\n2013-08-20T00:00:00+00:00 2.3344592517771194\\n2013-08-21T00:00:00+00:00 2.363430020524122\\n2013-08-22T00:00:00+00:00 2.386586011767305\\n2013-08-23T00:00:00+00:00 2.403989906361368\\n2013-08-24T00:00:00+00:00 2.3790362997916423\\n2013-08-25T00:00:00+00:00 2.357966221495747\\n2013-08-26T00:00:00+00:00 2.3424450038736238\\n2013-08-27T00:00:00+00:00 2.299774906947782\\n2013-08-28T00:00:00+00:00 2.2615233940503034\\n2013-08-29T00:00:00+00:00 2.1881778927045006\\n2013-08-30T00:00:00+00:00 2.109969776763\\n2013-08-31T00:00:00+00:00 2.014166899057615\\n2013-09-01T00:00:00+00:00 1.9169687932587904\\n2013-09-02T00:00:00+00:00 1.834065016697379\\n2013-09-03T00:00:00+00:00 1.770290311069632\\n2013-09-04T00:00:00+00:00 1.6973454650911803\\n2013-09-05T00:00:00+00:00 1.6354281424088475\\n2013-09-06T00:00:00+00:00 1.5443368837662448\\n2013-09-07T00:00:00+00:00 1.4241928944685474\\n2013-09-08T00:00:00+00:00 1.2553462779360025\\n2013-09-09T00:00:00+00:00 1.0837504694997468\\n2013-09-10T00:00:00+00:00 0.8949553927395707\\n2013-09-11T00:00:00+00:00 0.7018416981472012\\n2013-09-12T00:00:00+00:00 0.536312221219727\\n2013-09-13T00:00:00+00:00 0.3447663803276646\\n2013-09-14T00:00:00+00:00 0.1324205186966981\\n2013-09-15T00:00:00+00:00 -0.09338304121588624\\n2013-09-16T00:00:00+00:00 -0.30217751393676373\\n2013-09-17T00:00:00+00:00 -0.5541178865056481\\n2013-09-18T00:00:00+00:00 -0.8450158634508185\\n2013-09-19T00:00:00+00:00 -1.1473060128986547\\n2013-09-20T00:00:00+00:00 -1.4236938122883338\\n2013-09-21T00:00:00+00:00 -1.684614963449236\\n2013-09-22T00:00:00+00:00 -1.9395171759027365\\n2013-09-23T00:00:00+00:00 -2.175738773148531\\n2013-09-24T00:00:00+00:00 -2.379002242969269\\n2013-09-25T00:00:00+00:00 -2.544381507860621\\n2013-09-26T00:00:00+00:00 -2.6824669291227443\\n2013-09-27T00:00:00+00:00 -2.802731988579032\\n2013-09-28T00:00:00+00:00 -2.931071043196472\\n2013-09-29T00:00:00+00:00 -3.0637836190548766\\n2013-09-30T00:00:00+00:00 -3.1949668114142775\\n2013-10-01T00:00:00+00:00 -3.3518266757232764\\n2013-10-02T00:00:00+00:00 -3.4904331741318173\\n2013-10-03T00:00:00+00:00 -3.642643139993189\\n2013-10-04T00:00:00+00:00 -3.808438945514457\\n2013-10-05T00:00:00+00:00 -3.990376435888353\\n2013-10-06T00:00:00+00:00 -4.164041953285384\\n2013-10-07T00:00:00+00:00 -4.350659524741464\\n2013-10-08T00:00:00+00:00 -4.5064332835110665\\n2013-10-09T00:00:00+00:00 -4.614393351603876\\n2013-10-10T00:00:00+00:00 -4.739583974527087\\n2013-10-11T00:00:00+00:00 -4.845933747365042\\n2013-10-12T00:00:00+00:00 -4.957595818017156\\n2013-10-13T00:00:00+00:00 -5.067871281174531\\n2013-10-14T00:00:00+00:00 -5.178327614459033\\n2013-10-15T00:00:00+00:00 -5.297060143498566\\n2013-10-16T00:00:00+00:00 -5.447663795810101\\n2013-10-17T00:00:00+00:00 -5.590249018598718\\n2013-10-18T00:00:00+00:00 -5.711953333944228\\n2013-10-19T00:00:00+00:00 -5.835221681489114\\n2013-10-20T00:00:00+00:00 -5.965002160779815\\n2013-10-21T00:00:00+00:00 -6.059204563174363\\n2013-10-22T00:00:00+00:00 -6.145212482954803\\n2013-10-23T00:00:00+00:00 -6.2109880582064045\\n2013-10-24T00:00:00+00:00 -6.28804316107254\\n2013-10-25T00:00:00+00:00 -6.374078369082464\\n2013-10-26T00:00:00+00:00 -6.416930377286464\\n2013-10-27T00:00:00+00:00 -6.440291363120432\\n2013-10-28T00:00:00+00:00 -6.483233812586708\\n2013-10-29T00:00:00+00:00 -6.556341456523677\\n2013-10-30T00:00:00+00:00 -6.573677179990517\\n2013-10-31T00:00:00+00:00 -6.634024181165714\\n2013-11-01T00:00:00+00:00 -6.698583690184427\\n2013-11-02T00:00:00+00:00 -6.79867735543371\\n2013-11-03T00:00:00+00:00 -6.9170457889316745\\n2013-11-04T00:00:00+00:00 -7.0685899259312395\\n2013-11-05T00:00:00+00:00 -7.174194198039485\\n2013-11-06T00:00:00+00:00 -7.231561927276259\\n2013-11-07T00:00:00+00:00 -7.2457898890531744\\n2013-11-08T00:00:00+00:00 -7.279158531202041\\n2013-11-09T00:00:00+00:00 -7.302821893391969\\n2013-11-10T00:00:00+00:00 -7.337988631207683\\n2013-11-11T00:00:00+00:00 -7.415941052142746\\n2013-11-12T00:00:00+00:00 -7.507406215456408\\n2013-11-13T00:00:00+00:00 -7.572039089164666\\n2013-11-14T00:00:00+00:00 -7.633882530823076\\n2013-11-15T00:00:00+00:00 -7.7060152841725875\\n2013-11-16T00:00:00+00:00 -7.7314233189006485\\n2013-11-17T00:00:00+00:00 -7.71643019351333\\n2013-11-18T00:00:00+00:00 -7.693518954705932\\n2013-11-19T00:00:00+00:00 -7.67322856929379\\n2013-11-20T00:00:00+00:00 -7.681804872124421\\n2013-11-21T00:00:00+00:00 -7.73659822732049\\n2013-11-22T00:00:00+00:00 -7.834605380644314\\n2013-11-23T00:00:00+00:00 -7.982126518530198\\n2013-11-24T00:00:00+00:00 -8.10857305853232\\n2013-11-25T00:00:00+00:00 -8.243794418242537\\n2013-11-26T00:00:00+00:00 -8.400495499970635\\n2013-11-27T00:00:00+00:00 -8.558604433682513\\n2013-11-28T00:00:00+00:00 -8.693065030987194\\n2013-11-29T00:00:00+00:00 -8.850111276519414\\n2013-11-30T00:00:00+00:00 -8.981472551548789\\n2013-12-01T00:00:00+00:00 -9.120438354107524\\n2013-12-02T00:00:00+00:00 -9.248749661052582\\n2013-12-03T00:00:00+00:00 -9.349557609619009\\n2013-12-04T00:00:00+00:00 -9.463780984020255\\n2013-12-05T00:00:00+00:00 -9.591319717418141\\n2013-12-06T00:00:00+00:00 -9.698565486595676\\n2013-12-07T00:00:00+00:00 -9.82215834348532\\n2013-12-08T00:00:00+00:00 -9.975970259841812\\n2013-12-09T00:00:00+00:00 -10.115974936902214\\n2013-12-10T00:00:00+00:00 -10.222970602456337\\n2013-12-11T00:00:00+00:00 -10.301242743232699\\n2013-12-12T00:00:00+00:00 -10.399912898531314\\n2013-12-13T00:00:00+00:00 -10.486451060129115\\n2013-12-14T00:00:00+00:00 -10.613988860009705\\n2013-12-15T00:00:00+00:00 -10.72155681080791\\n2013-12-16T00:00:00+00:00 -10.838248054747146\\n2013-12-17T00:00:00+00:00 -10.967182314688069\\n2013-12-18T00:00:00+00:00 -11.113403332721358\\n2013-12-19T00:00:00+00:00 -11.258227265207928\\n2013-12-20T00:00:00+00:00 -11.426563404397154\\n2013-12-21T00:00:00+00:00 -11.580846399354451\\n2013-12-22T00:00:00+00:00 -11.693457810244238\\n2013-12-23T00:00:00+00:00 -11.776675791311964\\n2013-12-24T00:00:00+00:00 -11.824778640128276\\n2013-12-25T00:00:00+00:00 -11.894621474219104\\n2013-12-26T00:00:00+00:00 -12.012042575277667\\n2013-12-27T00:00:00+00:00 -12.096748383889722\\n2013-12-28T00:00:00+00:00 -12.171625995213041\\n2013-12-29T00:00:00+00:00 -12.26970235372849\\n2013-12-30T00:00:00+00:00 -12.346670606657172\\n2013-12-31T00:00:00+00:00 -12.398137647558993\\n2014-01-01T00:00:00+00:00 -12.43114822603326\\n2014-01-02T00:00:00+00:00 -12.452058900641875\\n2014-01-03T00:00:00+00:00 -12.46303068428203\\n2014-01-04T00:00:00+00:00 -12.468220074830922\\n2014-01-05T00:00:00+00:00 -12.48990344227747\\n2014-01-06T00:00:00+00:00 -12.539495892857765\\n2014-01-07T00:00:00+00:00 -12.555115946737265\\n2014-01-08T00:00:00+00:00 -12.593506231934391\\n2014-01-09T00:00:00+00:00 -12.65230255894578\\n2014-01-10T00:00:00+00:00 -12.656213592885916\\n2014-01-11T00:00:00+00:00 -12.63933418211306\\n2014-01-12T00:00:00+00:00 -12.623222913527762\\n2014-01-13T00:00:00+00:00 -12.608254446736726\\n2014-01-14T00:00:00+00:00 -12.570136401857091\\n2014-01-15T00:00:00+00:00 -12.522134684360877\\n2014-01-16T00:00:00+00:00 -12.519597566202354\\n2014-01-17T00:00:00+00:00 -12.498243588966846\\n2014-01-18T00:00:00+00:00 -12.483137152604105\\n2014-01-19T00:00:00+00:00 -12.43100669670442\\n2014-01-20T00:00:00+00:00 -12.319248297925927\\n2014-01-21T00:00:00+00:00 -12.217108800158911\\n2014-01-22T00:00:00+00:00 -12.083460635363062\\n2014-01-23T00:00:00+00:00 -11.961008589637041\\n2014-01-24T00:00:00+00:00 -11.874704857632413\\n2014-01-25T00:00:00+00:00 -11.803099979464475\\n2014-01-26T00:00:00+00:00 -11.740665044629914\\n2014-01-27T00:00:00+00:00 -11.710045853829353\\n2014-01-28T00:00:00+00:00 -11.652183288286142\\n2014-01-29T00:00:00+00:00 -11.600475820217468\\n2014-01-30T00:00:00+00:00 -11.534976452033275\\n2014-01-31T00:00:00+00:00 -11.463128695865471\\n2014-02-01T00:00:00+00:00 -11.414279113899772\\n2014-02-02T00:00:00+00:00 -11.349340966115019\\n2014-02-03T00:00:00+00:00 -11.257005370990344\\n2014-02-04T00:00:00+00:00 -11.157944260528764\\n2014-02-05T00:00:00+00:00 -11.051435702983845\\n2014-02-06T00:00:00+00:00 -10.971799735299609\\n2014-02-07T00:00:00+00:00 -10.893561804987689\\n2014-02-08T00:00:00+00:00 -10.85303417083148\\n2014-02-09T00:00:00+00:00 -10.818295170984735\\n2014-02-10T00:00:00+00:00 -10.756125281295196\\n2014-02-11T00:00:00+00:00 -10.671028611266003\\n2014-02-12T00:00:00+00:00 -10.549343920002459\\n2014-02-13T00:00:00+00:00 -10.439763360833979\\n2014-02-14T00:00:00+00:00 -10.326645022007966\\n2014-02-15T00:00:00+00:00 -10.216162494723497\\n2014-02-16T00:00:00+00:00 -10.056213231004604\\n2014-02-17T00:00:00+00:00 -9.908332323756778\\n2014-02-18T00:00:00+00:00 -9.784559796359197\\n2014-02-19T00:00:00+00:00 -9.672329657354481\\n2014-02-20T00:00:00+00:00 -9.583483436865993\\n2014-02-21T00:00:00+00:00 -9.485470899888245\\n2014-02-22T00:00:00+00:00 -9.36115656917621\\n2014-02-23T00:00:00+00:00 -9.17658888302776\\n2014-02-24T00:00:00+00:00 -8.987241654408084\\n2014-02-25T00:00:00+00:00 -8.817521796231285\\n2014-02-26T00:00:00+00:00 -8.643885903604973\\n2014-02-27T00:00:00+00:00 -8.47620467580799\\n2014-02-28T00:00:00+00:00 -8.301196834072824\\n2014-03-01T00:00:00+00:00 -8.174927184695319\\n2014-03-02T00:00:00+00:00 -8.018826741374815\\n2014-03-03T00:00:00+00:00 -7.846169143997167\\n2014-03-04T00:00:00+00:00 -7.6890271233794\\n2014-03-05T00:00:00+00:00 -7.56526728486267\\n2014-03-06T00:00:00+00:00 -7.459148810359972\\n2014-03-07T00:00:00+00:00 -7.361542883401268\\n2014-03-08T00:00:00+00:00 -7.305930596968019\\n2014-03-09T00:00:00+00:00 -7.2473714596933325\\n2014-03-10T00:00:00+00:00 -7.1722822249406875\\n2014-03-11T00:00:00+00:00 -7.121816404938563\\n2014-03-12T00:00:00+00:00 -7.079045040305732\\n2014-03-13T00:00:00+00:00 -7.034073761787124\\n2014-03-14T00:00:00+00:00 -6.977110833406735\\n2014-03-15T00:00:00+00:00 -6.915778770755775\\n2014-03-16T00:00:00+00:00 -6.844538954072461\\n2014-03-17T00:00:00+00:00 -6.758512169520286\\n2014-03-18T00:00:00+00:00 -6.694774519941598\\n2014-03-19T00:00:00+00:00 -6.675204515861651\\n2014-03-20T00:00:00+00:00 -6.697712222233042\\n2014-03-21T00:00:00+00:00 -6.741029467228637\\n2014-03-22T00:00:00+00:00 -6.760500663135193\\n2014-03-23T00:00:00+00:00 -6.7951283012398145\\n2014-03-24T00:00:00+00:00 -6.859606089644802\\n2014-03-25T00:00:00+00:00 -6.892966277998477\\n2014-03-26T00:00:00+00:00 -6.935889462250307\\n2014-03-27T00:00:00+00:00 -6.94511072119322\\n2014-03-28T00:00:00+00:00 -6.9340893821162695\\n2014-03-29T00:00:00+00:00 -6.914640643409467\\n2014-03-30T00:00:00+00:00 -6.8976923805837975\\n2014-03-31T00:00:00+00:00 -6.892611388955202\\n2014-04-01T00:00:00+00:00 -6.912823742290295\\n2014-04-02T00:00:00+00:00 -6.940998891239554\\n2014-04-03T00:00:00+00:00 -6.968264428659382\\n2014-04-04T00:00:00+00:00 -6.993770267225743\\n2014-04-05T00:00:00+00:00 -7.042204110320751\\n2014-04-06T00:00:00+00:00 -7.113514316893724\\n2014-04-07T00:00:00+00:00 -7.17282087930412\\n2014-04-08T00:00:00+00:00 -7.2124248973545235\\n2014-04-09T00:00:00+00:00 -7.294623265160223\\n2014-04-10T00:00:00+00:00 -7.3735986648829615\\n2014-04-11T00:00:00+00:00 -7.462100158062573\\n2014-04-12T00:00:00+00:00 -7.5830929035068815\\n2014-04-13T00:00:00+00:00 -7.6908010408501575\\n2014-04-14T00:00:00+00:00 -7.771218029149754\\n2014-04-15T00:00:00+00:00 -7.849261510662586\\n2014-04-16T00:00:00+00:00 -7.919636894841252\\n2014-04-17T00:00:00+00:00 -8.026730804512466\\n2014-04-18T00:00:00+00:00 -8.120151651666097\\n2014-04-19T00:00:00+00:00 -8.220058000530264\\n2014-04-20T00:00:00+00:00 -8.342800061961766\\n2014-04-21T00:00:00+00:00 -8.438075939028277\\n2014-04-22T00:00:00+00:00 -8.55281416150149\\n2014-04-23T00:00:00+00:00 -8.71008936487743\\n2014-04-24T00:00:00+00:00 -8.955682129509933\\n2014-04-25T00:00:00+00:00 -9.19431688819934\\n2014-04-26T00:00:00+00:00 -9.430666112329222\\n2014-04-27T00:00:00+00:00 -9.65859851814268\\n2014-04-28T00:00:00+00:00 -9.867930374939675\\n2014-04-29T00:00:00+00:00 -10.093421277376518\\n2014-04-30T00:00:00+00:00 -10.282260199268842\\n2014-05-01T00:00:00+00:00 -10.498647898263892\\n2014-05-02T00:00:00+00:00 -10.728060588387146\\n2014-05-03T00:00:00+00:00 -10.902828618392844\\n2014-05-04T00:00:00+00:00 -11.03603119893896\\n2014-05-05T00:00:00+00:00 -11.152874325914576\\n2014-05-06T00:00:00+00:00 -11.21913413121627\\n2014-05-07T00:00:00+00:00 -11.263602327204818\\n2014-05-08T00:00:00+00:00 -11.309143397195747\\n2014-05-09T00:00:00+00:00 -11.351910113043308\\n2014-05-10T00:00:00+00:00 -11.402500651972106\\n2014-05-11T00:00:00+00:00 -11.461524030847134\\n2014-05-12T00:00:00+00:00 -11.547827268778564\\n2014-05-13T00:00:00+00:00 -11.654934828704016\\n2014-05-14T00:00:00+00:00 -11.81093589474208\\n2014-05-15T00:00:00+00:00 -11.983299550573621\\n2014-05-16T00:00:00+00:00 -12.154678729075904\\n2014-05-17T00:00:00+00:00 -12.33908368597033\\n2014-05-18T00:00:00+00:00 -12.487258655644641\\n2014-05-19T00:00:00+00:00 -12.59997077923865\\n2014-05-20T00:00:00+00:00 -12.69753886548056\\n2014-05-21T00:00:00+00:00 -12.796273151582287\\n2014-05-22T00:00:00+00:00 -12.891535893642036\\n2014-05-23T00:00:00+00:00 -12.954684719755525\\n2014-05-24T00:00:00+00:00 -12.990457792500333\\n2014-05-25T00:00:00+00:00 -12.982430626393857\\n2014-05-26T00:00:00+00:00 -13.000099529062794\\n2014-05-27T00:00:00+00:00 -13.035198680077363\\n2014-05-28T00:00:00+00:00 -13.071321134471289\\n2014-05-29T00:00:00+00:00 -13.094770187782414\\n2014-05-30T00:00:00+00:00 -13.114326426483414\\n2014-05-31T00:00:00+00:00 -13.136584573201459\\n2014-06-01T00:00:00+00:00 -13.15150544441386\\n2014-06-02T00:00:00+00:00 -13.171799170864043\\n2014-06-03T00:00:00+00:00 -13.216315427857634\\n2014-06-04T00:00:00+00:00 -13.237768601112926\\n2014-06-05T00:00:00+00:00 -13.240654606055696\\n2014-06-06T00:00:00+00:00 -13.225913128823498\\n2014-06-07T00:00:00+00:00 -13.184623665974156\\n2014-06-08T00:00:00+00:00 -13.113059517330905\\n2014-06-09T00:00:00+00:00 -13.026206066852188\\n2014-06-10T00:00:00+00:00 -12.916460803568548\\n2014-06-11T00:00:00+00:00 -12.796197147458509\\n2014-06-12T00:00:00+00:00 -12.68279873362251\\n2014-06-13T00:00:00+00:00 -12.591728527836947\\n2014-06-14T00:00:00+00:00 -12.475881932731015\\n2014-06-15T00:00:00+00:00 -12.364288238558613\\n2014-06-16T00:00:00+00:00 -12.22594465859476\\n2014-06-17T00:00:00+00:00 -12.10690705394694\\n2014-06-18T00:00:00+00:00 -11.95814896030318\\n2014-06-19T00:00:00+00:00 -11.78828493224822\\n2014-06-20T00:00:00+00:00 -11.653179193635374\\n2014-06-21T00:00:00+00:00 -11.527745512579388\\n2014-06-22T00:00:00+00:00 -11.419529988091911\\n2014-06-23T00:00:00+00:00 -11.245985842047247\\n2014-06-24T00:00:00+00:00 -11.063551073841248\\n2014-06-25T00:00:00+00:00 -10.838798439142497\\n2014-06-26T00:00:00+00:00 -10.638004545531603\\n2014-06-27T00:00:00+00:00 -10.440249558035285\\n2014-06-28T00:00:00+00:00 -10.177515573761832\\n2014-06-29T00:00:00+00:00 -9.932573898523637\\n2014-06-30T00:00:00+00:00 -9.67360157788942\\n2014-07-01T00:00:00+00:00 -9.423950228556423\\n2014-07-02T00:00:00+00:00 -9.194059555895477\\n2014-07-03T00:00:00+00:00 -9.002006420627255\\n2014-07-04T00:00:00+00:00 -8.8101871782865\\n2014-07-05T00:00:00+00:00 -8.648227073068714\\n2014-07-06T00:00:00+00:00 -8.479467469717644\\n2014-07-07T00:00:00+00:00 -8.289589725911965\\n2014-07-08T00:00:00+00:00 -8.104789556777508\\n2014-07-09T00:00:00+00:00 -7.911033917028317\\n2014-07-10T00:00:00+00:00 -7.668237465375181\\n2014-07-11T00:00:00+00:00 -7.393241388071468\\n2014-07-12T00:00:00+00:00 -7.08817174908642\\n2014-07-13T00:00:00+00:00 -6.734979302129711\\n2014-07-14T00:00:00+00:00 -6.367052636917363\\n2014-07-15T00:00:00+00:00 -5.9855171700184036\\n2014-07-16T00:00:00+00:00 -5.560290682095624\\n2014-07-17T00:00:00+00:00 -5.133101969633541\\n2014-07-18T00:00:00+00:00 -4.746417776599841\\n2014-07-19T00:00:00+00:00 -4.366783331206843\\n2014-07-20T00:00:00+00:00 -3.9711569923267125\\n2014-07-21T00:00:00+00:00 -3.584583763663532\\n2014-07-22T00:00:00+00:00 -3.23254232102925\\n2014-07-23T00:00:00+00:00 -2.884045530633583\\n2014-07-24T00:00:00+00:00 -2.5750973583698955\\n2014-07-25T00:00:00+00:00 -2.284184684076201\\n2014-07-26T00:00:00+00:00 -1.9619185192137991\\n2014-07-27T00:00:00+00:00 -1.625401267362305\\n2014-07-28T00:00:00+00:00 -1.301609056625358\\n2014-07-29T00:00:00+00:00 -0.9699213751150139\\n2014-07-30T00:00:00+00:00 -0.644454976828536\\n2014-07-31T00:00:00+00:00 -0.3171111158089115\\n2014-08-01T00:00:00+00:00 0.011256097862586486\\n2014-08-02T00:00:00+00:00 0.35512238771319316\\n2014-08-03T00:00:00+00:00 0.6641910933834653\\n2014-08-04T00:00:00+00:00 0.9587740916621073\\n2014-08-05T00:00:00+00:00 1.2322407226023342\\n2014-08-06T00:00:00+00:00 1.4503501461915762\\n2014-08-07T00:00:00+00:00 1.6783187875015477\\n2014-08-08T00:00:00+00:00 1.9060911098775948\\n2014-08-09T00:00:00+00:00 2.123068297539849\\n2014-08-10T00:00:00+00:00 2.3183306582394363\\n2014-08-11T00:00:00+00:00 2.5091356780781515\\n2014-08-12T00:00:00+00:00 2.7029991226035586\\n2014-08-13T00:00:00+00:00 2.870466958111583\\n2014-08-14T00:00:00+00:00 3.043784589247834\\n2014-08-15T00:00:00+00:00 3.173925849113787\\n2014-08-16T00:00:00+00:00 3.3342886076447624\\n2014-08-17T00:00:00+00:00 3.507982250136215\\n2014-08-18T00:00:00+00:00 3.6713604496103627\\n2014-08-19T00:00:00+00:00 3.835544792526007\\n2014-08-20T00:00:00+00:00 4.032559076461542\\n2014-08-21T00:00:00+00:00 4.223102818659609\\n2014-08-22T00:00:00+00:00 4.376716575421037\\n2014-08-23T00:00:00+00:00 4.522353506756199\\n2014-08-24T00:00:00+00:00 4.652988046163981\\n2014-08-25T00:00:00+00:00 4.816196031905401\\n2014-08-26T00:00:00+00:00 4.9585821971250175\\n2014-08-27T00:00:00+00:00 5.059221294451048\\n2014-08-28T00:00:00+00:00 5.170635183471146\\n2014-08-29T00:00:00+00:00 5.299193359833751\\n2014-08-30T00:00:00+00:00 5.429044375838904\\n2014-08-31T00:00:00+00:00 5.575922097556197\\n2014-09-01T00:00:00+00:00 5.711714997269757\\n2014-09-02T00:00:00+00:00 5.8322092704515995\\n2014-09-03T00:00:00+00:00 5.952114987749862\\n2014-09-04T00:00:00+00:00 6.058974700400266\\n2014-09-05T00:00:00+00:00 6.200338473559153\\n2014-09-06T00:00:00+00:00 6.341469902531478\\n2014-09-07T00:00:00+00:00 6.499162657372764\\n2014-09-08T00:00:00+00:00 6.624162141036379\\n2014-09-09T00:00:00+00:00 6.735703322052646\\n2014-09-10T00:00:00+00:00 6.857991714092951\\n2014-09-11T00:00:00+00:00 6.967417784821786\\n2014-09-12T00:00:00+00:00 7.082354479906283\\n2014-09-13T00:00:00+00:00 7.18008975957112\\n2014-09-14T00:00:00+00:00 7.235758267840794\\n2014-09-15T00:00:00+00:00 7.276966704475602\\n2014-09-16T00:00:00+00:00 7.342955885496384\\n2014-09-17T00:00:00+00:00 7.412794504293403\\n2014-09-18T00:00:00+00:00 7.465162781103585\\n2014-09-19T00:00:00+00:00 7.5487921504078725\\n2014-09-20T00:00:00+00:00 7.650041329579515\\n2014-09-21T00:00:00+00:00 7.729199170306829\\n2014-09-22T00:00:00+00:00 7.812505132918196\\n2014-09-23T00:00:00+00:00 7.878861757530253\\n2014-09-24T00:00:00+00:00 7.915056446297456\\n2014-09-25T00:00:00+00:00 7.934269921736037\\n2014-09-26T00:00:00+00:00 7.946160864073668\\n2014-09-27T00:00:00+00:00 7.957347952926564\\n2014-09-28T00:00:00+00:00 7.990383346594342\\n2014-09-29T00:00:00+00:00 8.012799191770434\\n2014-09-30T00:00:00+00:00 8.017245120966834\\n2014-10-01T00:00:00+00:00 8.010178521706488\\n2014-10-02T00:00:00+00:00 8.005278297558649\\n2014-10-03T00:00:00+00:00 8.023752656974468\\n2014-10-04T00:00:00+00:00 8.050596756080042\\n2014-10-05T00:00:00+00:00 8.097612273287432\\n2014-10-06T00:00:00+00:00 8.15457755508468\\n2014-10-07T00:00:00+00:00 8.178610104981349\\n2014-10-08T00:00:00+00:00 8.23971246921611\\n2014-10-09T00:00:00+00:00 8.326447649176728\\n2014-10-10T00:00:00+00:00 8.35049913966356\\n2014-10-11T00:00:00+00:00 8.385127125619604\\n2014-10-12T00:00:00+00:00 8.403730299614596\\n2014-10-13T00:00:00+00:00 8.448929094053645\\n2014-10-14T00:00:00+00:00 8.526074425618116\\n2014-10-15T00:00:00+00:00 8.55624737775929\\n2014-10-16T00:00:00+00:00 8.600556375849349\\n2014-10-17T00:00:00+00:00 8.644387139267112\\n2014-10-18T00:00:00+00:00 8.686512572898328\\n2014-10-19T00:00:00+00:00 8.70497826048692\\n2014-10-20T00:00:00+00:00 8.739816071099069\\n2014-10-21T00:00:00+00:00 8.754790901684533\\n2014-10-22T00:00:00+00:00 8.757042865792481\\n2014-10-23T00:00:00+00:00 8.751722097593902\\n2014-10-24T00:00:00+00:00 8.743075997073294\\n2014-10-25T00:00:00+00:00 8.74998263832663\\n2014-10-26T00:00:00+00:00 8.747599963398539\\n2014-10-27T00:00:00+00:00 8.72593437020081\\n2014-10-28T00:00:00+00:00 8.68307192696954\\n2014-10-29T00:00:00+00:00 8.647346835332828\\n2014-10-30T00:00:00+00:00 8.599965344654423\\n2014-10-31T00:00:00+00:00 8.563001585300118\\n2014-11-01T00:00:00+00:00 8.518994365465435\\n2014-11-02T00:00:00+00:00 8.462724307869372\\n2014-11-03T00:00:00+00:00 8.43528200696293\\n2014-11-04T00:00:00+00:00 8.347897676982374\\n2014-11-05T00:00:00+00:00 8.253260140142336\\n2014-11-06T00:00:00+00:00 8.136784568058548\\n2014-11-07T00:00:00+00:00 8.024303924498453\\n2014-11-08T00:00:00+00:00 7.943576377521522\\n2014-11-09T00:00:00+00:00 7.8303483495431205\\n2014-11-10T00:00:00+00:00 7.671927059217027\\n2014-11-11T00:00:00+00:00 7.476786814896203\\n2014-11-12T00:00:00+00:00 7.287577531721987\\n2014-11-13T00:00:00+00:00 7.115700981188139\\n2014-11-14T00:00:00+00:00 6.960524111118841\\n2014-11-15T00:00:00+00:00 6.809942743963778\\n2014-11-16T00:00:00+00:00 6.613986295968285\\n2014-11-17T00:00:00+00:00 6.403186250305524\\n2014-11-18T00:00:00+00:00 6.1589211750153705\\n2014-11-19T00:00:00+00:00 5.8686880099700085\\n2014-11-20T00:00:00+00:00 5.574813863075634\\n2014-11-21T00:00:00+00:00 5.29973387739453\\n2014-11-22T00:00:00+00:00 5.1059669147744495\\n2014-11-23T00:00:00+00:00 4.919808054727328\\n2014-11-24T00:00:00+00:00 4.721368441513545\\n2014-11-25T00:00:00+00:00 4.5001410669916435\\n2014-11-26T00:00:00+00:00 4.2833158526595065\\n2014-11-27T00:00:00+00:00 4.051493890874109\\n2014-11-28T00:00:00+00:00 3.825440883229279\\n2014-11-29T00:00:00+00:00 3.5703920846970387\\n2014-11-30T00:00:00+00:00 3.323221054967694\\n2014-12-01T00:00:00+00:00 3.0720835808292377\\n2014-12-02T00:00:00+00:00 2.8007069972647987\\n2014-12-03T00:00:00+00:00 2.548836413443815\\n2014-12-04T00:00:00+00:00 2.295285901933949\\n2014-12-05T00:00:00+00:00 2.018833772580299\\n2014-12-06T00:00:00+00:00 1.7487225954688388\\n2014-12-07T00:00:00+00:00 1.4565004903466898\\n2014-12-08T00:00:00+00:00 1.1449202631974533\\n2014-12-09T00:00:00+00:00 0.8869102319141667\\n2014-12-10T00:00:00+00:00 0.6521078685840677\\n2014-12-11T00:00:00+00:00 0.41184213099304096\\n2014-12-12T00:00:00+00:00 0.1265600870614518\\n2014-12-13T00:00:00+00:00 -0.17195748980673298\\n2014-12-14T00:00:00+00:00 -0.44420623380942814\\n2014-12-15T00:00:00+00:00 -0.7693375190130584\\n2014-12-16T00:00:00+00:00 -1.0664899657810418\\n2014-12-17T00:00:00+00:00 -1.3200838875399958\\n2014-12-18T00:00:00+00:00 -1.567239512329025\\n2014-12-19T00:00:00+00:00 -1.7866910669825173\\n2014-12-20T00:00:00+00:00 -1.976310373614998\\n2014-12-21T00:00:00+00:00 -2.131533470272913\\n2014-12-22T00:00:00+00:00 -2.309586622957623\\n2014-12-23T00:00:00+00:00 -2.486067137214728\\n2014-12-24T00:00:00+00:00 -2.6818423129489135\\n2014-12-25T00:00:00+00:00 -2.891481072700747\\n2014-12-26T00:00:00+00:00 -3.071230293129569\\n2014-12-27T00:00:00+00:00 -3.263447145729979\\n\">, @options=Hamster::Hash[:with => \"lines\", :using => \"1:2\", :title => \"Rolling Mean\"]>], @cmd=\"plot \">"
      ]
     },
     "execution_count": 27,
     "metadata": {},
     "output_type": "execute_result"
    }
   ],
   "source": [
    "index  = Daru::DateTimeIndex.date_range(:start => '2012-4-2', :periods => 1000)\n",
    "vector = Daru::Vector.new(1000.times.map {rng.call}, index: index)\n",
    "vector = vector.cumsum\n",
    "rolling_mean = vector.rolling_mean 60\n",
    "\n",
    "GnuplotRB::Plot.new(\n",
    "  [vector      , with: 'lines', title: 'Vector'], \n",
    "  [rolling_mean, with: 'lines', title: 'Rolling Mean'],\n",
    "  xlabel: 'Time', ylabel: 'Value'\n",
    ")"
   ]
  },
  {
   "cell_type": "markdown",
   "metadata": {},
   "source": [
    "## Arel-like syntax\n",
    "\n",
    "**Web devs will feel right at home!**\n",
    "\n",
    "**Fast and intuitive syntax for retreiving data with boolean indexing.**\n",
    "\n",
    "### The 'where' clause"
   ]
  },
  {
   "cell_type": "code",
   "execution_count": 28,
   "metadata": {
    "collapsed": false
   },
   "outputs": [
    {
     "data": {
      "text/html": [
       "<table><tr><th colspan=\"4\">Daru::DataFrame:76850660  rows: 600  cols: 3<tr><th></th><th>a</th><th>b</th><th>c</th></tr><tr><td>377</td><td>1</td><td>a</td><td>11</td></tr><tr><td>296</td><td>2</td><td>b</td><td>22</td></tr><tr><td>101</td><td>3</td><td>c</td><td>33</td></tr><tr><td>198</td><td>4</td><td>d</td><td>44</td></tr><tr><td>293</td><td>5</td><td>e</td><td>55</td></tr><tr><td>553</td><td>6</td><td>f</td><td>66</td></tr><tr><td>489</td><td>1</td><td>a</td><td>11</td></tr><tr><td>171</td><td>2</td><td>b</td><td>22</td></tr><tr><td>421</td><td>3</td><td>c</td><td>33</td></tr><tr><td>351</td><td>4</td><td>d</td><td>44</td></tr><tr><td>259</td><td>5</td><td>e</td><td>55</td></tr><tr><td>363</td><td>6</td><td>f</td><td>66</td></tr><tr><td>236</td><td>1</td><td>a</td><td>11</td></tr><tr><td>494</td><td>2</td><td>b</td><td>22</td></tr><tr><td>287</td><td>3</td><td>c</td><td>33</td></tr><tr><td>191</td><td>4</td><td>d</td><td>44</td></tr><tr><td>268</td><td>5</td><td>e</td><td>55</td></tr><tr><td>562</td><td>6</td><td>f</td><td>66</td></tr><tr><td>386</td><td>1</td><td>a</td><td>11</td></tr><tr><td>408</td><td>2</td><td>b</td><td>22</td></tr><tr><td>52</td><td>3</td><td>c</td><td>33</td></tr><tr><td>241</td><td>4</td><td>d</td><td>44</td></tr><tr><td>25</td><td>5</td><td>e</td><td>55</td></tr><tr><td>438</td><td>6</td><td>f</td><td>66</td></tr><tr><td>324</td><td>1</td><td>a</td><td>11</td></tr><tr><td>347</td><td>2</td><td>b</td><td>22</td></tr><tr><td>42</td><td>3</td><td>c</td><td>33</td></tr><tr><td>84</td><td>4</td><td>d</td><td>44</td></tr><tr><td>509</td><td>5</td><td>e</td><td>55</td></tr><tr><td>418</td><td>6</td><td>f</td><td>66</td></tr><tr><td>201</td><td>1</td><td>a</td><td>11</td></tr><tr><td>276</td><td>2</td><td>b</td><td>22</td></tr><tr><td>...</td><td>...</td><td>...</td><td>...</td></tr><tr><td>375</td><td>6</td><td>f</td><td>66</td></tr></table>"
      ],
      "text/plain": [
       "\n",
       "#<Daru::DataFrame:76850660 @name = b456a98c-433b-45f5-8b22-82241ec790cc @size = 600>\n",
       "                    a          b          c \n",
       "       377          1          a         11 \n",
       "       296          2          b         22 \n",
       "       101          3          c         33 \n",
       "       198          4          d         44 \n",
       "       293          5          e         55 \n",
       "       553          6          f         66 \n",
       "       489          1          a         11 \n",
       "       171          2          b         22 \n",
       "       421          3          c         33 \n",
       "       351          4          d         44 \n",
       "       259          5          e         55 \n",
       "       363          6          f         66 \n",
       "       236          1          a         11 \n",
       "       494          2          b         22 \n",
       "       287          3          c         33 \n",
       "       ...        ...        ...        ... \n"
      ]
     },
     "execution_count": 28,
     "metadata": {},
     "output_type": "execute_result"
    }
   ],
   "source": [
    "df = Daru::DataFrame.new({\n",
    "  a: [1,2,3,4,5,6]*100,\n",
    "  b: ['a','b','c','d','e','f']*100,\n",
    "  c: [11,22,33,44,55,66]*100\n",
    "}, index: (1..600).to_a.shuffle)\n",
    "df"
   ]
  },
  {
   "cell_type": "markdown",
   "metadata": {},
   "source": [
    "**Compares with a bunch of scalar quantities and returns a DataFrame wherever they return *true***"
   ]
  },
  {
   "cell_type": "code",
   "execution_count": 29,
   "metadata": {
    "collapsed": false
   },
   "outputs": [
    {
     "data": {
      "text/html": [
       "<table><tr><th colspan=\"4\">Daru::DataFrame:87594410  rows: 200  cols: 3<tr><th></th><th>a</th><th>b</th><th>c</th></tr><tr><td>296</td><td>2</td><td>b</td><td>22</td></tr><tr><td>293</td><td>5</td><td>e</td><td>55</td></tr><tr><td>171</td><td>2</td><td>b</td><td>22</td></tr><tr><td>259</td><td>5</td><td>e</td><td>55</td></tr><tr><td>494</td><td>2</td><td>b</td><td>22</td></tr><tr><td>268</td><td>5</td><td>e</td><td>55</td></tr><tr><td>408</td><td>2</td><td>b</td><td>22</td></tr><tr><td>25</td><td>5</td><td>e</td><td>55</td></tr><tr><td>347</td><td>2</td><td>b</td><td>22</td></tr><tr><td>509</td><td>5</td><td>e</td><td>55</td></tr><tr><td>276</td><td>2</td><td>b</td><td>22</td></tr><tr><td>444</td><td>5</td><td>e</td><td>55</td></tr><tr><td>439</td><td>2</td><td>b</td><td>22</td></tr><tr><td>389</td><td>5</td><td>e</td><td>55</td></tr><tr><td>210</td><td>2</td><td>b</td><td>22</td></tr><tr><td>339</td><td>5</td><td>e</td><td>55</td></tr><tr><td>69</td><td>2</td><td>b</td><td>22</td></tr><tr><td>571</td><td>5</td><td>e</td><td>55</td></tr><tr><td>211</td><td>2</td><td>b</td><td>22</td></tr><tr><td>578</td><td>5</td><td>e</td><td>55</td></tr><tr><td>142</td><td>2</td><td>b</td><td>22</td></tr><tr><td>477</td><td>5</td><td>e</td><td>55</td></tr><tr><td>202</td><td>2</td><td>b</td><td>22</td></tr><tr><td>540</td><td>5</td><td>e</td><td>55</td></tr><tr><td>19</td><td>2</td><td>b</td><td>22</td></tr><tr><td>423</td><td>5</td><td>e</td><td>55</td></tr><tr><td>62</td><td>2</td><td>b</td><td>22</td></tr><tr><td>278</td><td>5</td><td>e</td><td>55</td></tr><tr><td>303</td><td>2</td><td>b</td><td>22</td></tr><tr><td>97</td><td>5</td><td>e</td><td>55</td></tr><tr><td>535</td><td>2</td><td>b</td><td>22</td></tr><tr><td>433</td><td>5</td><td>e</td><td>55</td></tr><tr><td>...</td><td>...</td><td>...</td><td>...</td></tr><tr><td>568</td><td>5</td><td>e</td><td>55</td></tr></table>"
      ],
      "text/plain": [
       "\n",
       "#<Daru::DataFrame:87594410 @name = 2b26ca11-e58d-4947-a2bf-6a7017bebabb @size = 200>\n",
       "                    a          b          c \n",
       "       296          2          b         22 \n",
       "       293          5          e         55 \n",
       "       171          2          b         22 \n",
       "       259          5          e         55 \n",
       "       494          2          b         22 \n",
       "       268          5          e         55 \n",
       "       408          2          b         22 \n",
       "        25          5          e         55 \n",
       "       347          2          b         22 \n",
       "       509          5          e         55 \n",
       "       276          2          b         22 \n",
       "       444          5          e         55 \n",
       "       439          2          b         22 \n",
       "       389          5          e         55 \n",
       "       210          2          b         22 \n",
       "       ...        ...        ...        ... \n"
      ]
     },
     "execution_count": 29,
     "metadata": {},
     "output_type": "execute_result"
    }
   ],
   "source": [
    "df.where(df[:a].eq(2).or(df[:c].eq(55)))"
   ]
  }
 ],
 "metadata": {
  "kernelspec": {
   "display_name": "Ruby 2.2.1",
   "language": "ruby",
   "name": "ruby"
  },
  "language_info": {
   "file_extension": "rb",
   "mimetype": "application/x-ruby",
   "name": "ruby",
   "version": "2.2.1"
  }
 },
 "nbformat": 4,
 "nbformat_minor": 0
}

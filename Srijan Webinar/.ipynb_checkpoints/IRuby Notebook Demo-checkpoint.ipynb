{
 "cells": [
  {
   "cell_type": "markdown",
   "metadata": {},
   "source": [
    "# Srijan Webinar, 29 June 2016.\n",
    "\n",
    "# Scientific Computation and Data Visualization in Ruby\n",
    "\n",
    "## IRuby\n",
    "\n",
    "** This is an iruby notebook. It is a browser based Ruby REPL**"
   ]
  },
  {
   "cell_type": "markdown",
   "metadata": {},
   "source": [
    "### Each 'cell' can take Markdown or Ruby code as input.\n",
    "\n",
    "### Your output can be any Ruby object or you can write a `#to_html` method to print Ruby objects in good looking HTML right in your browser."
   ]
  },
  {
   "cell_type": "markdown",
   "metadata": {},
   "source": [
    "## Create a form to accept row and column size of a matrix and print the result."
   ]
  },
  {
   "cell_type": "code",
   "execution_count": null,
   "metadata": {
    "collapsed": true
   },
   "outputs": [],
   "source": [
    "result = IRuby.form do\n",
    "  input \"rows\"\n",
    "  input \"cols\"\n",
    "  input \"num\"\n",
    "  button\n",
    "end"
   ]
  },
  {
   "cell_type": "code",
   "execution_count": null,
   "metadata": {
    "collapsed": true
   },
   "outputs": [],
   "source": [
    "require 'matrix'\n",
    "\n",
    "num = result[:num].to_i\n",
    "rows = result[:rows].to_i\n",
    "cols = result[:cols].to_i\n",
    "\n",
    "Matrix[*[[num]*rows]*cols]"
   ]
  }
 ],
 "metadata": {
  "kernelspec": {
   "display_name": "Ruby 2.2.1",
   "language": "ruby",
   "name": "ruby"
  },
  "language_info": {
   "file_extension": ".rb",
   "mimetype": "application/x-ruby",
   "name": "ruby",
   "version": "2.2.1"
  }
 },
 "nbformat": 4,
 "nbformat_minor": 0
}

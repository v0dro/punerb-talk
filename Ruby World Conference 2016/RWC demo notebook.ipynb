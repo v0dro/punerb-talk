{
 "cells": [
  {
   "cell_type": "markdown",
   "metadata": {},
   "source": [
    "# Ruby World Conference 2016, Matsue City\n",
    "\n",
    "# Scientific Computing in Ruby"
   ]
  },
  {
   "cell_type": "markdown",
   "metadata": {},
   "source": [
    "# IRuby"
   ]
  },
  {
   "cell_type": "markdown",
   "metadata": {},
   "source": [
    "## This is an iruby notebook.\n",
    "\n",
    "## It is a browser based Ruby REPL"
   ]
  },
  {
   "cell_type": "markdown",
   "metadata": {},
   "source": [
    "## Each 'cell' can take Markdown or Ruby code as input.\n",
    "\n",
    "## Your output can be any Ruby object or you can write a `#to_html` method to print Ruby objects in good looking HTML right in your browser."
   ]
  },
  {
   "cell_type": "code",
   "execution_count": 2,
   "metadata": {
    "collapsed": false
   },
   "outputs": [
    {
     "data": {
      "text/plain": [
       "{:rows=>\"4\", :cols=>\"4\", :num=>\"5\", :done=>true}"
      ]
     },
     "execution_count": 2,
     "metadata": {},
     "output_type": "execute_result"
    }
   ],
   "source": [
    "result = {}\n",
    "result[:rows] = 4\n",
    "result[:cols] = 4\n",
    "result[:num] = 5"
   ]
  },
  {
   "cell_type": "code",
   "execution_count": 3,
   "metadata": {
    "collapsed": false
   },
   "outputs": [
    {
     "data": {
      "text/latex": [
       "$$\\left(\\begin{array}{cccc}\n",
       "  5&5&5&5\\\\\n",
       "  5&5&5&5\\\\\n",
       "  5&5&5&5\\\\\n",
       "  5&5&5&5\\\\\n",
       "\\end{array}\\right)$$"
      ],
      "text/plain": [
       "Matrix[[5, 5, 5, 5], [5, 5, 5, 5], [5, 5, 5, 5], [5, 5, 5, 5]]"
      ]
     },
     "execution_count": 3,
     "metadata": {},
     "output_type": "execute_result"
    }
   ],
   "source": [
    "require 'matrix'\n",
    "\n",
    "num = result[:num]\n",
    "rows = result[:rows]\n",
    "cols = result[:cols]\n",
    "\n",
    "Matrix[*[[num]*rows]*cols]"
   ]
  },
  {
   "cell_type": "markdown",
   "metadata": {},
   "source": [
    "# NMatrix"
   ]
  },
  {
   "cell_type": "code",
   "execution_count": 4,
   "metadata": {
    "collapsed": false
   },
   "outputs": [
    {
     "data": {
      "text/plain": [
       "true"
      ]
     },
     "execution_count": 4,
     "metadata": {},
     "output_type": "execute_result"
    }
   ],
   "source": [
    "require 'nmatrix'"
   ]
  },
  {
   "cell_type": "markdown",
   "metadata": {},
   "source": [
    "## Create an 4x4 NMatrix containing 64 bit floating point numbers.\n",
    "\n",
    "### Specify the shape, elements and dtype. The storage type is dense by default."
   ]
  },
  {
   "cell_type": "code",
   "execution_count": 5,
   "metadata": {
    "collapsed": false
   },
   "outputs": [
    {
     "data": {
      "text/latex": [
       "$$\\left(\\begin{array}{cccc}\n",
       "  1.0&2.0&3.0&4.0\\\\\n",
       "  1.0&2.0&3.0&4.0\\\\\n",
       "  1.0&2.0&3.0&4.0\\\\\n",
       "  1.0&2.0&3.0&4.0\\\\\n",
       "\\end{array}\\right)$$"
      ],
      "text/plain": [
       "#<NMatrix:0x8cd2d34 shape:[4,4] dtype:float64 stype:dense>"
      ]
     },
     "execution_count": 5,
     "metadata": {},
     "output_type": "execute_result"
    }
   ],
   "source": [
    "NMatrix.new([4,4], [1,2,3,4]*4, dtype: :float64)"
   ]
  },
  {
   "cell_type": "markdown",
   "metadata": {},
   "source": [
    "### Specify the data type as `:int8` to create a matrix of 8 bit numbers."
   ]
  },
  {
   "cell_type": "code",
   "execution_count": 6,
   "metadata": {
    "collapsed": false
   },
   "outputs": [
    {
     "data": {
      "text/latex": [
       "$$\\left(\\begin{array}{cccc}\n",
       "  1&2&3&-127\\\\\n",
       "  1&2&3&-127\\\\\n",
       "  1&2&3&-127\\\\\n",
       "  1&2&3&-127\\\\\n",
       "\\end{array}\\right)$$"
      ],
      "text/plain": [
       "#<NMatrix:0x8b41b00 shape:[4,4] dtype:int8 stype:yale capacity:17>"
      ]
     },
     "execution_count": 6,
     "metadata": {},
     "output_type": "execute_result"
    }
   ],
   "source": [
    "n = NMatrix.new([4,4], [1,2,3,129]*4, dtype: :int8, stype: :yale)"
   ]
  },
  {
   "cell_type": "markdown",
   "metadata": {},
   "source": [
    "### Select elements with the `#[]` operator."
   ]
  },
  {
   "cell_type": "code",
   "execution_count": 7,
   "metadata": {
    "collapsed": false
   },
   "outputs": [
    {
     "data": {
      "text/plain": [
       "-127"
      ]
     },
     "execution_count": 7,
     "metadata": {},
     "output_type": "execute_result"
    }
   ],
   "source": [
    "n[0,3]"
   ]
  },
  {
   "cell_type": "markdown",
   "metadata": {},
   "source": [
    "### You can also assign with `#[]=`."
   ]
  },
  {
   "cell_type": "code",
   "execution_count": 8,
   "metadata": {
    "collapsed": false
   },
   "outputs": [
    {
     "data": {
      "text/latex": [
       "$$\\left(\\begin{array}{cccc}\n",
       "  1&56&3&-127\\\\\n",
       "  1&2&3&-127\\\\\n",
       "  1&2&3&-127\\\\\n",
       "  1&2&3&-127\\\\\n",
       "\\end{array}\\right)$$"
      ],
      "text/plain": [
       "#<NMatrix:0x8b41b00 shape:[4,4] dtype:int8 stype:yale capacity:17>"
      ]
     },
     "execution_count": 8,
     "metadata": {},
     "output_type": "execute_result"
    }
   ],
   "source": [
    "n[0,1] = 56\n",
    "n"
   ]
  },
  {
   "cell_type": "markdown",
   "metadata": {},
   "source": [
    "### ...but cannot expand the size of the NMatrix, unlike Ruby Array which is expandable."
   ]
  },
  {
   "cell_type": "code",
   "execution_count": 9,
   "metadata": {
    "collapsed": false
   },
   "outputs": [
    {
     "ename": "RangeError",
     "evalue": "slice is larger than matrix in dimension 1 (slice component 2)",
     "output_type": "error",
     "traceback": [
      "\u001b[31mRangeError\u001b[0m: slice is larger than matrix in dimension 1 (slice component 2)",
      "\u001b[37m(pry):27:in `[]='\u001b[0m",
      "\u001b[37m(pry):27:in `<main>'\u001b[0m",
      "\u001b[37m/home/sameer/.rvm/gems/ruby-2.2.1/gems/pry-0.10.4/lib/pry/pry_instance.rb:355:in `eval'\u001b[0m",
      "\u001b[37m/home/sameer/.rvm/gems/ruby-2.2.1/gems/pry-0.10.4/lib/pry/pry_instance.rb:355:in `evaluate_ruby'\u001b[0m",
      "\u001b[37m/home/sameer/.rvm/gems/ruby-2.2.1/gems/pry-0.10.4/lib/pry/pry_instance.rb:323:in `handle_line'\u001b[0m",
      "\u001b[37m/home/sameer/.rvm/gems/ruby-2.2.1/gems/pry-0.10.4/lib/pry/pry_instance.rb:243:in `block (2 levels) in eval'\u001b[0m",
      "\u001b[37m/home/sameer/.rvm/gems/ruby-2.2.1/gems/pry-0.10.4/lib/pry/pry_instance.rb:242:in `catch'\u001b[0m",
      "\u001b[37m/home/sameer/.rvm/gems/ruby-2.2.1/gems/pry-0.10.4/lib/pry/pry_instance.rb:242:in `block in eval'\u001b[0m",
      "\u001b[37m/home/sameer/.rvm/gems/ruby-2.2.1/gems/pry-0.10.4/lib/pry/pry_instance.rb:241:in `catch'\u001b[0m",
      "\u001b[37m/home/sameer/.rvm/gems/ruby-2.2.1/gems/pry-0.10.4/lib/pry/pry_instance.rb:241:in `eval'\u001b[0m",
      "\u001b[37m/home/sameer/.rvm/gems/ruby-2.2.1/gems/iruby-0.2.9/lib/iruby/backend.rb:66:in `eval'\u001b[0m",
      "\u001b[37m/home/sameer/.rvm/gems/ruby-2.2.1/gems/iruby-0.2.9/lib/iruby/backend.rb:12:in `eval'\u001b[0m",
      "\u001b[37m/home/sameer/.rvm/gems/ruby-2.2.1/gems/iruby-0.2.9/lib/iruby/kernel.rb:87:in `execute_request'\u001b[0m",
      "\u001b[37m/home/sameer/.rvm/gems/ruby-2.2.1/gems/iruby-0.2.9/lib/iruby/kernel.rb:47:in `dispatch'\u001b[0m",
      "\u001b[37m/home/sameer/.rvm/gems/ruby-2.2.1/gems/iruby-0.2.9/lib/iruby/kernel.rb:37:in `run'\u001b[0m",
      "\u001b[37m/home/sameer/.rvm/gems/ruby-2.2.1/gems/iruby-0.2.9/lib/iruby/command.rb:70:in `run_kernel'\u001b[0m",
      "\u001b[37m/home/sameer/.rvm/gems/ruby-2.2.1/gems/iruby-0.2.9/lib/iruby/command.rb:34:in `run'\u001b[0m",
      "\u001b[37m/home/sameer/.rvm/gems/ruby-2.2.1/gems/iruby-0.2.9/bin/iruby:5:in `<top (required)>'\u001b[0m",
      "\u001b[37m/home/sameer/.rvm/gems/ruby-2.2.1/bin/iruby:23:in `load'\u001b[0m",
      "\u001b[37m/home/sameer/.rvm/gems/ruby-2.2.1/bin/iruby:23:in `<main>'\u001b[0m"
     ]
    }
   ],
   "source": [
    "n[0,4] = 43"
   ]
  },
  {
   "cell_type": "markdown",
   "metadata": {},
   "source": [
    "### Load the NMatrix ATLAS plugin.\n",
    "\n",
    "ATLAS (Automatically Tuned Linear Algebra Software) is a very fast C library for linear algebra. NMatrix exposes almost all of it's functions through Ruby."
   ]
  },
  {
   "cell_type": "code",
   "execution_count": 10,
   "metadata": {
    "collapsed": false
   },
   "outputs": [
    {
     "data": {
      "text/plain": [
       "true"
      ]
     },
     "execution_count": 10,
     "metadata": {},
     "output_type": "execute_result"
    }
   ],
   "source": [
    "require 'nmatrix/atlas'"
   ]
  },
  {
   "cell_type": "markdown",
   "metadata": {},
   "source": [
    "### Use the `NMatrix#dot` function for performing matrix multiplication"
   ]
  },
  {
   "cell_type": "code",
   "execution_count": 11,
   "metadata": {
    "collapsed": false
   },
   "outputs": [
    {
     "data": {
      "text/plain": [
       "true"
      ]
     },
     "execution_count": 11,
     "metadata": {},
     "output_type": "execute_result"
    }
   ],
   "source": [
    "require 'benchmark'"
   ]
  },
  {
   "cell_type": "code",
   "execution_count": 12,
   "metadata": {
    "collapsed": false
   },
   "outputs": [
    {
     "name": "stdout",
     "output_type": "stream",
     "text": [
      "       user     system      total        real\n",
      "nm-atlas with size 5  0.000000   0.000000   0.000000 (  0.042805)\n",
      "nm-atlas with size 10  0.000000   0.000000   0.000000 (  0.000070)\n",
      "nm-atlas with size 50  0.010000   0.000000   0.010000 (  0.003241)\n",
      "nm-atlas with size 100  0.000000   0.000000   0.000000 (  0.034316)\n",
      "nm-atlas with size 150  0.010000   0.000000   0.010000 (  0.006806)\n",
      "nm-atlas with size 200  0.010000   0.000000   0.010000 (  0.014408)\n"
     ]
    }
   ],
   "source": [
    "Benchmark.bm do |x|\n",
    "  [5, 10, 50, 100, 150, 200].each do |size|\n",
    "    x.report(\"nm-atlas with size #{size}\") do\n",
    "      n = NMatrix.new([size,size], [1]*size*size, dtype: :float32)\n",
    "      n.dot(n)\n",
    "    end\n",
    "  end\n",
    "end\n",
    "nil"
   ]
  },
  {
   "cell_type": "markdown",
   "metadata": {},
   "source": [
    "### Now let's benchmark the same multiplication with Ruby `Matrix#*` (which is the same as `NMatrix#dot`)."
   ]
  },
  {
   "cell_type": "code",
   "execution_count": 13,
   "metadata": {
    "collapsed": false
   },
   "outputs": [
    {
     "name": "stdout",
     "output_type": "stream",
     "text": [
      "       user     system      total        real\n",
      "ruby matrix with size 5  0.000000   0.000000   0.000000 (  0.000192)\n",
      "ruby matrix with size 10  0.000000   0.000000   0.000000 (  0.000910)\n",
      "ruby matrix with size 50  0.090000   0.000000   0.090000 (  0.088591)\n",
      "ruby matrix with size 100  0.430000   0.000000   0.430000 (  0.431833)\n",
      "ruby matrix with size 150  1.320000   0.000000   1.320000 (  1.317862)\n",
      "ruby matrix with size 200  3.290000   0.000000   3.290000 (  3.291083)\n"
     ]
    }
   ],
   "source": [
    "require 'matrix'\n",
    "Benchmark.bm do |x|\n",
    "  [5, 10, 50, 100, 150, 200].each do |size|\n",
    "    x.report(\"ruby matrix with size #{size}\") do\n",
    "      n = Matrix[*[[1]*size]*size]\n",
    "      n * n\n",
    "    end\n",
    "  end\n",
    "end\n",
    "nil"
   ]
  },
  {
   "cell_type": "markdown",
   "metadata": {},
   "source": [
    "### Solving systems of linear equations with NMatrix\n",
    "\n",
    "#### Say you have the following the three equations.."
   ]
  },
  {
   "cell_type": "markdown",
   "metadata": {},
   "source": [
    "$$x + y − z = 4$$"
   ]
  },
  {
   "cell_type": "markdown",
   "metadata": {},
   "source": [
    "$$x − 2y + 3z = −6$$"
   ]
  },
  {
   "cell_type": "markdown",
   "metadata": {},
   "source": [
    "$$2x + 3y + z = 7$$"
   ]
  },
  {
   "cell_type": "markdown",
   "metadata": {},
   "source": [
    "#### These can be expressed as the following matrices for representing co-efficients and varibles:"
   ]
  },
  {
   "cell_type": "code",
   "execution_count": 14,
   "metadata": {
    "collapsed": false
   },
   "outputs": [
    {
     "data": {
      "text/latex": [
       "$$\\left(\\begin{array}{ccc}\n",
       "  1.0&1.0&-1.0\\\\\n",
       "  1.0&-2.0&3.0\\\\\n",
       "  2.0&3.0&1.0\\\\\n",
       "\\end{array}\\right)$$"
      ],
      "text/plain": [
       "#<NMatrix:0x857d7a0 shape:[3,3] dtype:float32 stype:dense>"
      ]
     },
     "execution_count": 14,
     "metadata": {},
     "output_type": "execute_result"
    }
   ],
   "source": [
    "coeffs = NMatrix.new([3,3],\n",
    "  [1, 1,-1,\n",
    "   1,-2, 3,\n",
    "   2, 3, 1], dtype: :float32)"
   ]
  },
  {
   "cell_type": "code",
   "execution_count": 15,
   "metadata": {
    "collapsed": false
   },
   "outputs": [
    {
     "data": {
      "text/latex": [
       "$$\\left(\\begin{array}{c}\n",
       "  4.0\\\\\n",
       "  -6.0\\\\\n",
       "  7.0\\\\\n",
       "\\end{array}\\right)$$"
      ],
      "text/plain": [
       "#<NMatrix:0x851932c shape:[3,1] dtype:float32 stype:dense>"
      ]
     },
     "execution_count": 15,
     "metadata": {},
     "output_type": "execute_result"
    }
   ],
   "source": [
    "rhs = NMatrix.new([3,1],\n",
    "  [4,\n",
    "  -6,\n",
    "   7], dtype: :float32)"
   ]
  },
  {
   "cell_type": "markdown",
   "metadata": {},
   "source": [
    "#### Compute the solution with NMatrix#solve method. Uses the ATLAS xGESV function internally."
   ]
  },
  {
   "cell_type": "code",
   "execution_count": 16,
   "metadata": {
    "collapsed": false
   },
   "outputs": [
    {
     "data": {
      "text/latex": [
       "$$\\left(\\begin{array}{c}\n",
       "  1.0\\\\\n",
       "  2.0\\\\\n",
       "  -1.0\\\\\n",
       "\\end{array}\\right)$$"
      ],
      "text/plain": [
       "#<NMatrix:0x8485348 shape:[3,1] dtype:float32 stype:dense>"
      ]
     },
     "execution_count": 16,
     "metadata": {},
     "output_type": "execute_result"
    }
   ],
   "source": [
    "solution = coeffs.solve(rhs)"
   ]
  },
  {
   "cell_type": "markdown",
   "metadata": {},
   "source": [
    "\n",
    "# Nyaplot"
   ]
  },
  {
   "cell_type": "code",
   "execution_count": 17,
   "metadata": {
    "collapsed": false
   },
   "outputs": [
    {
     "data": {
      "application/javascript": [
       "if(window['d3'] === undefined ||\n",
       "   window['Nyaplot'] === undefined){\n",
       "    var path = {\"d3\":\"https://cdnjs.cloudflare.com/ajax/libs/d3/3.5.5/d3.min\",\"downloadable\":\"http://cdn.rawgit.com/domitry/d3-downloadable/master/d3-downloadable\"};\n",
       "\n",
       "\n",
       "\n",
       "    var shim = {\"d3\":{\"exports\":\"d3\"},\"downloadable\":{\"exports\":\"downloadable\"}};\n",
       "\n",
       "    require.config({paths: path, shim:shim});\n",
       "\n",
       "\n",
       "require(['d3'], function(d3){window['d3']=d3;console.log('finished loading d3');require(['downloadable'], function(downloadable){window['downloadable']=downloadable;console.log('finished loading downloadable');\n",
       "\n",
       "\tvar script = d3.select(\"head\")\n",
       "\t    .append(\"script\")\n",
       "\t    .attr(\"src\", \"http://cdn.rawgit.com/domitry/Nyaplotjs/master/release/nyaplot.js\")\n",
       "\t    .attr(\"async\", true);\n",
       "\n",
       "\tscript[0][0].onload = script[0][0].onreadystatechange = function(){\n",
       "\n",
       "\n",
       "\t    var event = document.createEvent(\"HTMLEvents\");\n",
       "\t    event.initEvent(\"load_nyaplot\",false,false);\n",
       "\t    window.dispatchEvent(event);\n",
       "\t    console.log('Finished loading Nyaplotjs');\n",
       "\n",
       "\t};\n",
       "\n",
       "\n",
       "});});\n",
       "}\n"
      ],
      "text/plain": [
       "\"if(window['d3'] === undefined ||\\n   window['Nyaplot'] === undefined){\\n    var path = {\\\"d3\\\":\\\"https://cdnjs.cloudflare.com/ajax/libs/d3/3.5.5/d3.min\\\",\\\"downloadable\\\":\\\"http://cdn.rawgit.com/domitry/d3-downloadable/master/d3-downloadable\\\"};\\n\\n\\n\\n    var shim = {\\\"d3\\\":{\\\"exports\\\":\\\"d3\\\"},\\\"downloadable\\\":{\\\"exports\\\":\\\"downloadable\\\"}};\\n\\n    require.config({paths: path, shim:shim});\\n\\n\\nrequire(['d3'], function(d3){window['d3']=d3;console.log('finished loading d3');require(['downloadable'], function(downloadable){window['downloadable']=downloadable;console.log('finished loading downloadable');\\n\\n\\tvar script = d3.select(\\\"head\\\")\\n\\t    .append(\\\"script\\\")\\n\\t    .attr(\\\"src\\\", \\\"http://cdn.rawgit.com/domitry/Nyaplotjs/master/release/nyaplot.js\\\")\\n\\t    .attr(\\\"async\\\", true);\\n\\n\\tscript[0][0].onload = script[0][0].onreadystatechange = function(){\\n\\n\\n\\t    var event = document.createEvent(\\\"HTMLEvents\\\");\\n\\t    event.initEvent(\\\"load_nyaplot\\\",false,false);\\n\\t    window.dispatchEvent(event);\\n\\t    console.log('Finished loading Nyaplotjs');\\n\\n\\t};\\n\\n\\n});});\\n}\\n\""
      ]
     },
     "metadata": {},
     "output_type": "display_data"
    },
    {
     "data": {
      "text/plain": [
       "true"
      ]
     },
     "execution_count": 17,
     "metadata": {},
     "output_type": "execute_result"
    }
   ],
   "source": [
    "require 'nyaplot'"
   ]
  },
  {
   "cell_type": "markdown",
   "metadata": {},
   "source": [
    "## Plot a simple line graph of a sine function."
   ]
  },
  {
   "cell_type": "code",
   "execution_count": 18,
   "metadata": {
    "collapsed": false
   },
   "outputs": [
    {
     "data": {
      "text/html": [
       "<div id='vis-b8a8bc66-ac5f-4a8e-9ff0-32c73714757a'></div>\n",
       "<script>\n",
       "(function(){\n",
       "    var render = function(){\n",
       "        var model = {\"panes\":[{\"diagrams\":[{\"type\":\"line\",\"options\":{\"x\":\"data0\",\"y\":\"data1\"},\"data\":\"eaae1c76-984c-4963-b98e-03f50a28d72f\"}],\"options\":{\"zoom\":true,\"width\":700,\"xrange\":[0,359],\"yrange\":[-1.0,1.0]}}],\"data\":{\"eaae1c76-984c-4963-b98e-03f50a28d72f\":[{\"data0\":0,\"data1\":0.0},{\"data0\":1,\"data1\":0.01745240643728351},{\"data0\":2,\"data1\":0.03489949670250097},{\"data0\":3,\"data1\":0.05233595624294383},{\"data0\":4,\"data1\":0.0697564737441253},{\"data0\":5,\"data1\":0.08715574274765817},{\"data0\":6,\"data1\":0.10452846326765346},{\"data0\":7,\"data1\":0.12186934340514748},{\"data0\":8,\"data1\":0.13917310096006544},{\"data0\":9,\"data1\":0.15643446504023087},{\"data0\":10,\"data1\":0.17364817766693033},{\"data0\":11,\"data1\":0.1908089953765448},{\"data0\":12,\"data1\":0.20791169081775931},{\"data0\":13,\"data1\":0.224951054343865},{\"data0\":14,\"data1\":0.24192189559966773},{\"data0\":15,\"data1\":0.25881904510252074},{\"data0\":16,\"data1\":0.27563735581699916},{\"data0\":17,\"data1\":0.29237170472273677},{\"data0\":18,\"data1\":0.3090169943749474},{\"data0\":19,\"data1\":0.32556815445715664},{\"data0\":20,\"data1\":0.3420201433256687},{\"data0\":21,\"data1\":0.35836794954530027},{\"data0\":22,\"data1\":0.374606593415912},{\"data0\":23,\"data1\":0.3907311284892737},{\"data0\":24,\"data1\":0.40673664307580015},{\"data0\":25,\"data1\":0.42261826174069944},{\"data0\":26,\"data1\":0.4383711467890774},{\"data0\":27,\"data1\":0.45399049973954675},{\"data0\":28,\"data1\":0.4694715627858908},{\"data0\":29,\"data1\":0.48480962024633706},{\"data0\":30,\"data1\":0.49999999999999994},{\"data0\":31,\"data1\":0.5150380749100542},{\"data0\":32,\"data1\":0.5299192642332049},{\"data0\":33,\"data1\":0.5446390350150271},{\"data0\":34,\"data1\":0.5591929034707469},{\"data0\":35,\"data1\":0.573576436351046},{\"data0\":36,\"data1\":0.5877852522924731},{\"data0\":37,\"data1\":0.6018150231520483},{\"data0\":38,\"data1\":0.6156614753256582},{\"data0\":39,\"data1\":0.6293203910498374},{\"data0\":40,\"data1\":0.6427876096865393},{\"data0\":41,\"data1\":0.6560590289905072},{\"data0\":42,\"data1\":0.6691306063588582},{\"data0\":43,\"data1\":0.6819983600624985},{\"data0\":44,\"data1\":0.6946583704589973},{\"data0\":45,\"data1\":0.7071067811865475},{\"data0\":46,\"data1\":0.7193398003386511},{\"data0\":47,\"data1\":0.7313537016191705},{\"data0\":48,\"data1\":0.7431448254773941},{\"data0\":49,\"data1\":0.754709580222772},{\"data0\":50,\"data1\":0.766044443118978},{\"data0\":51,\"data1\":0.7771459614569708},{\"data0\":52,\"data1\":0.788010753606722},{\"data0\":53,\"data1\":0.7986355100472928},{\"data0\":54,\"data1\":0.8090169943749475},{\"data0\":55,\"data1\":0.8191520442889918},{\"data0\":56,\"data1\":0.8290375725550417},{\"data0\":57,\"data1\":0.8386705679454239},{\"data0\":58,\"data1\":0.848048096156426},{\"data0\":59,\"data1\":0.8571673007021122},{\"data0\":60,\"data1\":0.8660254037844386},{\"data0\":61,\"data1\":0.8746197071393957},{\"data0\":62,\"data1\":0.8829475928589269},{\"data0\":63,\"data1\":0.8910065241883678},{\"data0\":64,\"data1\":0.898794046299167},{\"data0\":65,\"data1\":0.9063077870366499},{\"data0\":66,\"data1\":0.9135454576426009},{\"data0\":67,\"data1\":0.9205048534524403},{\"data0\":68,\"data1\":0.9271838545667874},{\"data0\":69,\"data1\":0.9335804264972017},{\"data0\":70,\"data1\":0.9396926207859083},{\"data0\":71,\"data1\":0.9455185755993167},{\"data0\":72,\"data1\":0.9510565162951535},{\"data0\":73,\"data1\":0.9563047559630354},{\"data0\":74,\"data1\":0.9612616959383189},{\"data0\":75,\"data1\":0.9659258262890683},{\"data0\":76,\"data1\":0.9702957262759965},{\"data0\":77,\"data1\":0.9743700647852352},{\"data0\":78,\"data1\":0.9781476007338056},{\"data0\":79,\"data1\":0.981627183447664},{\"data0\":80,\"data1\":0.984807753012208},{\"data0\":81,\"data1\":0.9876883405951378},{\"data0\":82,\"data1\":0.9902680687415703},{\"data0\":83,\"data1\":0.992546151641322},{\"data0\":84,\"data1\":0.9945218953682733},{\"data0\":85,\"data1\":0.9961946980917455},{\"data0\":86,\"data1\":0.9975640502598242},{\"data0\":87,\"data1\":0.9986295347545738},{\"data0\":88,\"data1\":0.9993908270190958},{\"data0\":89,\"data1\":0.9998476951563913},{\"data0\":90,\"data1\":1.0},{\"data0\":91,\"data1\":0.9998476951563913},{\"data0\":92,\"data1\":0.9993908270190958},{\"data0\":93,\"data1\":0.9986295347545738},{\"data0\":94,\"data1\":0.9975640502598242},{\"data0\":95,\"data1\":0.9961946980917455},{\"data0\":96,\"data1\":0.9945218953682734},{\"data0\":97,\"data1\":0.9925461516413221},{\"data0\":98,\"data1\":0.9902680687415704},{\"data0\":99,\"data1\":0.9876883405951377},{\"data0\":100,\"data1\":0.984807753012208},{\"data0\":101,\"data1\":0.981627183447664},{\"data0\":102,\"data1\":0.9781476007338057},{\"data0\":103,\"data1\":0.9743700647852352},{\"data0\":104,\"data1\":0.9702957262759965},{\"data0\":105,\"data1\":0.9659258262890683},{\"data0\":106,\"data1\":0.9612616959383189},{\"data0\":107,\"data1\":0.9563047559630355},{\"data0\":108,\"data1\":0.9510565162951536},{\"data0\":109,\"data1\":0.9455185755993168},{\"data0\":110,\"data1\":0.9396926207859084},{\"data0\":111,\"data1\":0.9335804264972017},{\"data0\":112,\"data1\":0.9271838545667874},{\"data0\":113,\"data1\":0.9205048534524404},{\"data0\":114,\"data1\":0.913545457642601},{\"data0\":115,\"data1\":0.90630778703665},{\"data0\":116,\"data1\":0.8987940462991669},{\"data0\":117,\"data1\":0.8910065241883679},{\"data0\":118,\"data1\":0.8829475928589271},{\"data0\":119,\"data1\":0.8746197071393959},{\"data0\":120,\"data1\":0.8660254037844387},{\"data0\":121,\"data1\":0.8571673007021123},{\"data0\":122,\"data1\":0.8480480961564261},{\"data0\":123,\"data1\":0.8386705679454239},{\"data0\":124,\"data1\":0.8290375725550417},{\"data0\":125,\"data1\":0.819152044288992},{\"data0\":126,\"data1\":0.8090169943749475},{\"data0\":127,\"data1\":0.7986355100472927},{\"data0\":128,\"data1\":0.788010753606722},{\"data0\":129,\"data1\":0.777145961456971},{\"data0\":130,\"data1\":0.766044443118978},{\"data0\":131,\"data1\":0.7547095802227718},{\"data0\":132,\"data1\":0.7431448254773942},{\"data0\":133,\"data1\":0.7313537016191706},{\"data0\":134,\"data1\":0.7193398003386514},{\"data0\":135,\"data1\":0.7071067811865476},{\"data0\":136,\"data1\":0.6946583704589971},{\"data0\":137,\"data1\":0.6819983600624986},{\"data0\":138,\"data1\":0.6691306063588583},{\"data0\":139,\"data1\":0.6560590289905073},{\"data0\":140,\"data1\":0.6427876096865395},{\"data0\":141,\"data1\":0.6293203910498377},{\"data0\":142,\"data1\":0.6156614753256584},{\"data0\":143,\"data1\":0.6018150231520482},{\"data0\":144,\"data1\":0.5877852522924732},{\"data0\":145,\"data1\":0.5735764363510464},{\"data0\":146,\"data1\":0.5591929034707469},{\"data0\":147,\"data1\":0.544639035015027},{\"data0\":148,\"data1\":0.5299192642332049},{\"data0\":149,\"data1\":0.5150380749100544},{\"data0\":150,\"data1\":0.49999999999999994},{\"data0\":151,\"data1\":0.48480962024633717},{\"data0\":152,\"data1\":0.4694715627858911},{\"data0\":153,\"data1\":0.45399049973954686},{\"data0\":154,\"data1\":0.4383711467890773},{\"data0\":155,\"data1\":0.4226182617406995},{\"data0\":156,\"data1\":0.40673664307580043},{\"data0\":157,\"data1\":0.39073112848927416},{\"data0\":158,\"data1\":0.37460659341591224},{\"data0\":159,\"data1\":0.3583679495453002},{\"data0\":160,\"data1\":0.3420201433256689},{\"data0\":161,\"data1\":0.32556815445715703},{\"data0\":162,\"data1\":0.3090169943749475},{\"data0\":163,\"data1\":0.29237170472273705},{\"data0\":164,\"data1\":0.27563735581699966},{\"data0\":165,\"data1\":0.258819045102521},{\"data0\":166,\"data1\":0.24192189559966773},{\"data0\":167,\"data1\":0.22495105434386478},{\"data0\":168,\"data1\":0.20791169081775931},{\"data0\":169,\"data1\":0.19080899537654497},{\"data0\":170,\"data1\":0.17364817766693028},{\"data0\":171,\"data1\":0.15643446504023098},{\"data0\":172,\"data1\":0.13917310096006574},{\"data0\":173,\"data1\":0.12186934340514755},{\"data0\":174,\"data1\":0.10452846326765373},{\"data0\":175,\"data1\":0.08715574274765864},{\"data0\":176,\"data1\":0.06975647374412552},{\"data0\":177,\"data1\":0.05233595624294381},{\"data0\":178,\"data1\":0.0348994967025007},{\"data0\":179,\"data1\":0.01745240643728344},{\"data0\":180,\"data1\":1.2246467991473532e-16},{\"data0\":181,\"data1\":-0.017452406437283192},{\"data0\":182,\"data1\":-0.0348994967025009},{\"data0\":183,\"data1\":-0.052335956242943564},{\"data0\":184,\"data1\":-0.06975647374412483},{\"data0\":185,\"data1\":-0.08715574274765794},{\"data0\":186,\"data1\":-0.10452846326765305},{\"data0\":187,\"data1\":-0.12186934340514774},{\"data0\":188,\"data1\":-0.13917310096006552},{\"data0\":189,\"data1\":-0.15643446504023073},{\"data0\":190,\"data1\":-0.17364817766693047},{\"data0\":191,\"data1\":-0.19080899537654472},{\"data0\":192,\"data1\":-0.20791169081775907},{\"data0\":193,\"data1\":-0.22495105434386498},{\"data0\":194,\"data1\":-0.2419218955996675},{\"data0\":195,\"data1\":-0.25881904510252035},{\"data0\":196,\"data1\":-0.275637355816999},{\"data0\":197,\"data1\":-0.2923717047227364},{\"data0\":198,\"data1\":-0.30901699437494773},{\"data0\":199,\"data1\":-0.32556815445715676},{\"data0\":200,\"data1\":-0.34202014332566866},{\"data0\":201,\"data1\":-0.35836794954530043},{\"data0\":202,\"data1\":-0.374606593415912},{\"data0\":203,\"data1\":-0.39073112848927355},{\"data0\":204,\"data1\":-0.4067366430757998},{\"data0\":205,\"data1\":-0.4226182617406993},{\"data0\":206,\"data1\":-0.43837114678907707},{\"data0\":207,\"data1\":-0.45399049973954625},{\"data0\":208,\"data1\":-0.46947156278589086},{\"data0\":209,\"data1\":-0.48480962024633695},{\"data0\":210,\"data1\":-0.5000000000000001},{\"data0\":211,\"data1\":-0.5150380749100542},{\"data0\":212,\"data1\":-0.5299192642332048},{\"data0\":213,\"data1\":-0.5446390350150271},{\"data0\":214,\"data1\":-0.5591929034707467},{\"data0\":215,\"data1\":-0.5735764363510458},{\"data0\":216,\"data1\":-0.587785252292473},{\"data0\":217,\"data1\":-0.601815023152048},{\"data0\":218,\"data1\":-0.6156614753256578},{\"data0\":219,\"data1\":-0.6293203910498376},{\"data0\":220,\"data1\":-0.6427876096865393},{\"data0\":221,\"data1\":-0.6560590289905074},{\"data0\":222,\"data1\":-0.6691306063588582},{\"data0\":223,\"data1\":-0.6819983600624984},{\"data0\":224,\"data1\":-0.6946583704589974},{\"data0\":225,\"data1\":-0.7071067811865475},{\"data0\":226,\"data1\":-0.7193398003386509},{\"data0\":227,\"data1\":-0.7313537016191701},{\"data0\":228,\"data1\":-0.743144825477394},{\"data0\":229,\"data1\":-0.7547095802227717},{\"data0\":230,\"data1\":-0.7660444431189779},{\"data0\":231,\"data1\":-0.7771459614569711},{\"data0\":232,\"data1\":-0.7880107536067221},{\"data0\":233,\"data1\":-0.7986355100472928},{\"data0\":234,\"data1\":-0.8090169943749473},{\"data0\":235,\"data1\":-0.8191520442889916},{\"data0\":236,\"data1\":-0.8290375725550414},{\"data0\":237,\"data1\":-0.838670567945424},{\"data0\":238,\"data1\":-0.848048096156426},{\"data0\":239,\"data1\":-0.8571673007021121},{\"data0\":240,\"data1\":-0.8660254037844384},{\"data0\":241,\"data1\":-0.874619707139396},{\"data0\":242,\"data1\":-0.882947592858927},{\"data0\":243,\"data1\":-0.8910065241883678},{\"data0\":244,\"data1\":-0.8987940462991668},{\"data0\":245,\"data1\":-0.9063077870366497},{\"data0\":246,\"data1\":-0.913545457642601},{\"data0\":247,\"data1\":-0.9205048534524403},{\"data0\":248,\"data1\":-0.9271838545667873},{\"data0\":249,\"data1\":-0.9335804264972016},{\"data0\":250,\"data1\":-0.9396926207859082},{\"data0\":251,\"data1\":-0.9455185755993168},{\"data0\":252,\"data1\":-0.9510565162951535},{\"data0\":253,\"data1\":-0.9563047559630353},{\"data0\":254,\"data1\":-0.961261695938319},{\"data0\":255,\"data1\":-0.9659258262890683},{\"data0\":256,\"data1\":-0.9702957262759965},{\"data0\":257,\"data1\":-0.9743700647852351},{\"data0\":258,\"data1\":-0.9781476007338056},{\"data0\":259,\"data1\":-0.9816271834476639},{\"data0\":260,\"data1\":-0.984807753012208},{\"data0\":261,\"data1\":-0.9876883405951377},{\"data0\":262,\"data1\":-0.9902680687415704},{\"data0\":263,\"data1\":-0.9925461516413221},{\"data0\":264,\"data1\":-0.9945218953682734},{\"data0\":265,\"data1\":-0.9961946980917455},{\"data0\":266,\"data1\":-0.9975640502598242},{\"data0\":267,\"data1\":-0.9986295347545738},{\"data0\":268,\"data1\":-0.9993908270190957},{\"data0\":269,\"data1\":-0.9998476951563913},{\"data0\":270,\"data1\":-1.0},{\"data0\":271,\"data1\":-0.9998476951563913},{\"data0\":272,\"data1\":-0.9993908270190958},{\"data0\":273,\"data1\":-0.9986295347545738},{\"data0\":274,\"data1\":-0.9975640502598243},{\"data0\":275,\"data1\":-0.9961946980917455},{\"data0\":276,\"data1\":-0.9945218953682734},{\"data0\":277,\"data1\":-0.992546151641322},{\"data0\":278,\"data1\":-0.9902680687415704},{\"data0\":279,\"data1\":-0.9876883405951378},{\"data0\":280,\"data1\":-0.9848077530122081},{\"data0\":281,\"data1\":-0.9816271834476641},{\"data0\":282,\"data1\":-0.9781476007338058},{\"data0\":283,\"data1\":-0.9743700647852352},{\"data0\":284,\"data1\":-0.9702957262759966},{\"data0\":285,\"data1\":-0.9659258262890682},{\"data0\":286,\"data1\":-0.9612616959383188},{\"data0\":287,\"data1\":-0.9563047559630354},{\"data0\":288,\"data1\":-0.9510565162951536},{\"data0\":289,\"data1\":-0.945518575599317},{\"data0\":290,\"data1\":-0.9396926207859085},{\"data0\":291,\"data1\":-0.9335804264972021},{\"data0\":292,\"data1\":-0.9271838545667874},{\"data0\":293,\"data1\":-0.9205048534524405},{\"data0\":294,\"data1\":-0.9135454576426008},{\"data0\":295,\"data1\":-0.9063077870366499},{\"data0\":296,\"data1\":-0.898794046299167},{\"data0\":297,\"data1\":-0.8910065241883679},{\"data0\":298,\"data1\":-0.8829475928589271},{\"data0\":299,\"data1\":-0.8746197071393961},{\"data0\":300,\"data1\":-0.8660254037844386},{\"data0\":301,\"data1\":-0.8571673007021123},{\"data0\":302,\"data1\":-0.8480480961564262},{\"data0\":303,\"data1\":-0.8386705679454243},{\"data0\":304,\"data1\":-0.8290375725550421},{\"data0\":305,\"data1\":-0.8191520442889918},{\"data0\":306,\"data1\":-0.8090169943749476},{\"data0\":307,\"data1\":-0.798635510047293},{\"data0\":308,\"data1\":-0.7880107536067218},{\"data0\":309,\"data1\":-0.7771459614569708},{\"data0\":310,\"data1\":-0.7660444431189781},{\"data0\":311,\"data1\":-0.7547095802227722},{\"data0\":312,\"data1\":-0.7431448254773946},{\"data0\":313,\"data1\":-0.731353701619171},{\"data0\":314,\"data1\":-0.7193398003386517},{\"data0\":315,\"data1\":-0.7071067811865477},{\"data0\":316,\"data1\":-0.6946583704589976},{\"data0\":317,\"data1\":-0.6819983600624983},{\"data0\":318,\"data1\":-0.6691306063588581},{\"data0\":319,\"data1\":-0.6560590289905074},{\"data0\":320,\"data1\":-0.6427876096865396},{\"data0\":321,\"data1\":-0.6293203910498378},{\"data0\":322,\"data1\":-0.6156614753256588},{\"data0\":323,\"data1\":-0.6018150231520483},{\"data0\":324,\"data1\":-0.5877852522924734},{\"data0\":325,\"data1\":-0.5735764363510465},{\"data0\":326,\"data1\":-0.5591929034707473},{\"data0\":327,\"data1\":-0.544639035015027},{\"data0\":328,\"data1\":-0.5299192642332058},{\"data0\":329,\"data1\":-0.5150380749100545},{\"data0\":330,\"data1\":-0.5000000000000004},{\"data0\":331,\"data1\":-0.4848096202463369},{\"data0\":332,\"data1\":-0.4694715627858908},{\"data0\":333,\"data1\":-0.45399049973954697},{\"data0\":334,\"data1\":-0.438371146789077},{\"data0\":335,\"data1\":-0.4226182617407},{\"data0\":336,\"data1\":-0.40673664307580015},{\"data0\":337,\"data1\":-0.3907311284892747},{\"data0\":338,\"data1\":-0.37460659341591235},{\"data0\":339,\"data1\":-0.35836794954530077},{\"data0\":340,\"data1\":-0.3420201433256686},{\"data0\":341,\"data1\":-0.32556815445715753},{\"data0\":342,\"data1\":-0.3090169943749476},{\"data0\":343,\"data1\":-0.29237170472273627},{\"data0\":344,\"data1\":-0.2756373558169998},{\"data0\":345,\"data1\":-0.2588190451025207},{\"data0\":346,\"data1\":-0.24192189559966787},{\"data0\":347,\"data1\":-0.22495105434386534},{\"data0\":348,\"data1\":-0.20791169081775987},{\"data0\":349,\"data1\":-0.19080899537654467},{\"data0\":350,\"data1\":-0.17364817766693127},{\"data0\":351,\"data1\":-0.1564344650402311},{\"data0\":352,\"data1\":-0.13917310096006588},{\"data0\":353,\"data1\":-0.12186934340514811},{\"data0\":354,\"data1\":-0.10452846326765342},{\"data0\":355,\"data1\":-0.08715574274765832},{\"data0\":356,\"data1\":-0.06975647374412476},{\"data0\":357,\"data1\":-0.05233595624294437},{\"data0\":358,\"data1\":-0.034899496702500823},{\"data0\":359,\"data1\":-0.01745240643728445}]},\"extension\":[]}\n",
       "        var id_name = '#vis-b8a8bc66-ac5f-4a8e-9ff0-32c73714757a';\n",
       "        Nyaplot.core.parse(model, id_name);\n",
       "\n",
       "        require(['downloadable'], function(downloadable){\n",
       "          var svg = d3.select(id_name).select(\"svg\");\n",
       "\t  if(!svg.empty())\n",
       "\t    svg.call(downloadable().filename('fig'));\n",
       "\t});\n",
       "    };\n",
       "    if(window['Nyaplot']==undefined){\n",
       "        window.addEventListener('load_nyaplot', render, false);\n",
       "\treturn;\n",
       "    } else {\n",
       "       render();\n",
       "    }\n",
       "})();\n",
       "</script>\n"
      ],
      "text/plain": [
       "#<Nyaplot::Frame:0x8a82534 @properties={:panes=>[#<Nyaplot::Plot:0x8aa4648 @properties={:diagrams=>[#<Nyaplot::Diagram:0x8a82b38 @properties={:type=>:line, :options=>{:x=>\"data0\", :y=>\"data1\"}, :data=>\"eaae1c76-984c-4963-b98e-03f50a28d72f\"}, @xrange=[0, 359], @yrange=[-1.0, 1.0]>], :options=>{:zoom=>true, :width=>700, :xrange=>[0, 359], :yrange=>[-1.0, 1.0]}}>], :data=>{\"eaae1c76-984c-4963-b98e-03f50a28d72f\"=>#<Nyaplot::DataFrame:0x8aa415c @name=\"eaae1c76-984c-4963-b98e-03f50a28d72f\", @rows=[{:data0=>0, :data1=>0.0}, {:data0=>1, :data1=>0.01745240643728351}, {:data0=>2, :data1=>0.03489949670250097}, {:data0=>3, :data1=>0.05233595624294383}, {:data0=>4, :data1=>0.0697564737441253}, {:data0=>5, :data1=>0.08715574274765817}, {:data0=>6, :data1=>0.10452846326765346}, {:data0=>7, :data1=>0.12186934340514748}, {:data0=>8, :data1=>0.13917310096006544}, {:data0=>9, :data1=>0.15643446504023087}, {:data0=>10, :data1=>0.17364817766693033}, {:data0=>11, :data1=>0.1908089953765448}, {:data0=>12, :data1=>0.20791169081775931}, {:data0=>13, :data1=>0.224951054343865}, {:data0=>14, :data1=>0.24192189559966773}, {:data0=>15, :data1=>0.25881904510252074}, {:data0=>16, :data1=>0.27563735581699916}, {:data0=>17, :data1=>0.29237170472273677}, {:data0=>18, :data1=>0.3090169943749474}, {:data0=>19, :data1=>0.32556815445715664}, {:data0=>20, :data1=>0.3420201433256687}, {:data0=>21, :data1=>0.35836794954530027}, {:data0=>22, :data1=>0.374606593415912}, {:data0=>23, :data1=>0.3907311284892737}, {:data0=>24, :data1=>0.40673664307580015}, {:data0=>25, :data1=>0.42261826174069944}, {:data0=>26, :data1=>0.4383711467890774}, {:data0=>27, :data1=>0.45399049973954675}, {:data0=>28, :data1=>0.4694715627858908}, {:data0=>29, :data1=>0.48480962024633706}, {:data0=>30, :data1=>0.49999999999999994}, {:data0=>31, :data1=>0.5150380749100542}, {:data0=>32, :data1=>0.5299192642332049}, {:data0=>33, :data1=>0.5446390350150271}, {:data0=>34, :data1=>0.5591929034707469}, {:data0=>35, :data1=>0.573576436351046}, {:data0=>36, :data1=>0.5877852522924731}, {:data0=>37, :data1=>0.6018150231520483}, {:data0=>38, :data1=>0.6156614753256582}, {:data0=>39, :data1=>0.6293203910498374}, {:data0=>40, :data1=>0.6427876096865393}, {:data0=>41, :data1=>0.6560590289905072}, {:data0=>42, :data1=>0.6691306063588582}, {:data0=>43, :data1=>0.6819983600624985}, {:data0=>44, :data1=>0.6946583704589973}, {:data0=>45, :data1=>0.7071067811865475}, {:data0=>46, :data1=>0.7193398003386511}, {:data0=>47, :data1=>0.7313537016191705}, {:data0=>48, :data1=>0.7431448254773941}, {:data0=>49, :data1=>0.754709580222772}, {:data0=>50, :data1=>0.766044443118978}, {:data0=>51, :data1=>0.7771459614569708}, {:data0=>52, :data1=>0.788010753606722}, {:data0=>53, :data1=>0.7986355100472928}, {:data0=>54, :data1=>0.8090169943749475}, {:data0=>55, :data1=>0.8191520442889918}, {:data0=>56, :data1=>0.8290375725550417}, {:data0=>57, :data1=>0.8386705679454239}, {:data0=>58, :data1=>0.848048096156426}, {:data0=>59, :data1=>0.8571673007021122}, {:data0=>60, :data1=>0.8660254037844386}, {:data0=>61, :data1=>0.8746197071393957}, {:data0=>62, :data1=>0.8829475928589269}, {:data0=>63, :data1=>0.8910065241883678}, {:data0=>64, :data1=>0.898794046299167}, {:data0=>65, :data1=>0.9063077870366499}, {:data0=>66, :data1=>0.9135454576426009}, {:data0=>67, :data1=>0.9205048534524403}, {:data0=>68, :data1=>0.9271838545667874}, {:data0=>69, :data1=>0.9335804264972017}, {:data0=>70, :data1=>0.9396926207859083}, {:data0=>71, :data1=>0.9455185755993167}, {:data0=>72, :data1=>0.9510565162951535}, {:data0=>73, :data1=>0.9563047559630354}, {:data0=>74, :data1=>0.9612616959383189}, {:data0=>75, :data1=>0.9659258262890683}, {:data0=>76, :data1=>0.9702957262759965}, {:data0=>77, :data1=>0.9743700647852352}, {:data0=>78, :data1=>0.9781476007338056}, {:data0=>79, :data1=>0.981627183447664}, {:data0=>80, :data1=>0.984807753012208}, {:data0=>81, :data1=>0.9876883405951378}, {:data0=>82, :data1=>0.9902680687415703}, {:data0=>83, :data1=>0.992546151641322}, {:data0=>84, :data1=>0.9945218953682733}, {:data0=>85, :data1=>0.9961946980917455}, {:data0=>86, :data1=>0.9975640502598242}, {:data0=>87, :data1=>0.9986295347545738}, {:data0=>88, :data1=>0.9993908270190958}, {:data0=>89, :data1=>0.9998476951563913}, {:data0=>90, :data1=>1.0}, {:data0=>91, :data1=>0.9998476951563913}, {:data0=>92, :data1=>0.9993908270190958}, {:data0=>93, :data1=>0.9986295347545738}, {:data0=>94, :data1=>0.9975640502598242}, {:data0=>95, :data1=>0.9961946980917455}, {:data0=>96, :data1=>0.9945218953682734}, {:data0=>97, :data1=>0.9925461516413221}, {:data0=>98, :data1=>0.9902680687415704}, {:data0=>99, :data1=>0.9876883405951377}, {:data0=>100, :data1=>0.984807753012208}, {:data0=>101, :data1=>0.981627183447664}, {:data0=>102, :data1=>0.9781476007338057}, {:data0=>103, :data1=>0.9743700647852352}, {:data0=>104, :data1=>0.9702957262759965}, {:data0=>105, :data1=>0.9659258262890683}, {:data0=>106, :data1=>0.9612616959383189}, {:data0=>107, :data1=>0.9563047559630355}, {:data0=>108, :data1=>0.9510565162951536}, {:data0=>109, :data1=>0.9455185755993168}, {:data0=>110, :data1=>0.9396926207859084}, {:data0=>111, :data1=>0.9335804264972017}, {:data0=>112, :data1=>0.9271838545667874}, {:data0=>113, :data1=>0.9205048534524404}, {:data0=>114, :data1=>0.913545457642601}, {:data0=>115, :data1=>0.90630778703665}, {:data0=>116, :data1=>0.8987940462991669}, {:data0=>117, :data1=>0.8910065241883679}, {:data0=>118, :data1=>0.8829475928589271}, {:data0=>119, :data1=>0.8746197071393959}, {:data0=>120, :data1=>0.8660254037844387}, {:data0=>121, :data1=>0.8571673007021123}, {:data0=>122, :data1=>0.8480480961564261}, {:data0=>123, :data1=>0.8386705679454239}, {:data0=>124, :data1=>0.8290375725550417}, {:data0=>125, :data1=>0.819152044288992}, {:data0=>126, :data1=>0.8090169943749475}, {:data0=>127, :data1=>0.7986355100472927}, {:data0=>128, :data1=>0.788010753606722}, {:data0=>129, :data1=>0.777145961456971}, {:data0=>130, :data1=>0.766044443118978}, {:data0=>131, :data1=>0.7547095802227718}, {:data0=>132, :data1=>0.7431448254773942}, {:data0=>133, :data1=>0.7313537016191706}, {:data0=>134, :data1=>0.7193398003386514}, {:data0=>135, :data1=>0.7071067811865476}, {:data0=>136, :data1=>0.6946583704589971}, {:data0=>137, :data1=>0.6819983600624986}, {:data0=>138, :data1=>0.6691306063588583}, {:data0=>139, :data1=>0.6560590289905073}, {:data0=>140, :data1=>0.6427876096865395}, {:data0=>141, :data1=>0.6293203910498377}, {:data0=>142, :data1=>0.6156614753256584}, {:data0=>143, :data1=>0.6018150231520482}, {:data0=>144, :data1=>0.5877852522924732}, {:data0=>145, :data1=>0.5735764363510464}, {:data0=>146, :data1=>0.5591929034707469}, {:data0=>147, :data1=>0.544639035015027}, {:data0=>148, :data1=>0.5299192642332049}, {:data0=>149, :data1=>0.5150380749100544}, {:data0=>150, :data1=>0.49999999999999994}, {:data0=>151, :data1=>0.48480962024633717}, {:data0=>152, :data1=>0.4694715627858911}, {:data0=>153, :data1=>0.45399049973954686}, {:data0=>154, :data1=>0.4383711467890773}, {:data0=>155, :data1=>0.4226182617406995}, {:data0=>156, :data1=>0.40673664307580043}, {:data0=>157, :data1=>0.39073112848927416}, {:data0=>158, :data1=>0.37460659341591224}, {:data0=>159, :data1=>0.3583679495453002}, {:data0=>160, :data1=>0.3420201433256689}, {:data0=>161, :data1=>0.32556815445715703}, {:data0=>162, :data1=>0.3090169943749475}, {:data0=>163, :data1=>0.29237170472273705}, {:data0=>164, :data1=>0.27563735581699966}, {:data0=>165, :data1=>0.258819045102521}, {:data0=>166, :data1=>0.24192189559966773}, {:data0=>167, :data1=>0.22495105434386478}, {:data0=>168, :data1=>0.20791169081775931}, {:data0=>169, :data1=>0.19080899537654497}, {:data0=>170, :data1=>0.17364817766693028}, {:data0=>171, :data1=>0.15643446504023098}, {:data0=>172, :data1=>0.13917310096006574}, {:data0=>173, :data1=>0.12186934340514755}, {:data0=>174, :data1=>0.10452846326765373}, {:data0=>175, :data1=>0.08715574274765864}, {:data0=>176, :data1=>0.06975647374412552}, {:data0=>177, :data1=>0.05233595624294381}, {:data0=>178, :data1=>0.0348994967025007}, {:data0=>179, :data1=>0.01745240643728344}, {:data0=>180, :data1=>1.2246467991473532e-16}, {:data0=>181, :data1=>-0.017452406437283192}, {:data0=>182, :data1=>-0.0348994967025009}, {:data0=>183, :data1=>-0.052335956242943564}, {:data0=>184, :data1=>-0.06975647374412483}, {:data0=>185, :data1=>-0.08715574274765794}, {:data0=>186, :data1=>-0.10452846326765305}, {:data0=>187, :data1=>-0.12186934340514774}, {:data0=>188, :data1=>-0.13917310096006552}, {:data0=>189, :data1=>-0.15643446504023073}, {:data0=>190, :data1=>-0.17364817766693047}, {:data0=>191, :data1=>-0.19080899537654472}, {:data0=>192, :data1=>-0.20791169081775907}, {:data0=>193, :data1=>-0.22495105434386498}, {:data0=>194, :data1=>-0.2419218955996675}, {:data0=>195, :data1=>-0.25881904510252035}, {:data0=>196, :data1=>-0.275637355816999}, {:data0=>197, :data1=>-0.2923717047227364}, {:data0=>198, :data1=>-0.30901699437494773}, {:data0=>199, :data1=>-0.32556815445715676}, {:data0=>200, :data1=>-0.34202014332566866}, {:data0=>201, :data1=>-0.35836794954530043}, {:data0=>202, :data1=>-0.374606593415912}, {:data0=>203, :data1=>-0.39073112848927355}, {:data0=>204, :data1=>-0.4067366430757998}, {:data0=>205, :data1=>-0.4226182617406993}, {:data0=>206, :data1=>-0.43837114678907707}, {:data0=>207, :data1=>-0.45399049973954625}, {:data0=>208, :data1=>-0.46947156278589086}, {:data0=>209, :data1=>-0.48480962024633695}, {:data0=>210, :data1=>-0.5000000000000001}, {:data0=>211, :data1=>-0.5150380749100542}, {:data0=>212, :data1=>-0.5299192642332048}, {:data0=>213, :data1=>-0.5446390350150271}, {:data0=>214, :data1=>-0.5591929034707467}, {:data0=>215, :data1=>-0.5735764363510458}, {:data0=>216, :data1=>-0.587785252292473}, {:data0=>217, :data1=>-0.601815023152048}, {:data0=>218, :data1=>-0.6156614753256578}, {:data0=>219, :data1=>-0.6293203910498376}, {:data0=>220, :data1=>-0.6427876096865393}, {:data0=>221, :data1=>-0.6560590289905074}, {:data0=>222, :data1=>-0.6691306063588582}, {:data0=>223, :data1=>-0.6819983600624984}, {:data0=>224, :data1=>-0.6946583704589974}, {:data0=>225, :data1=>-0.7071067811865475}, {:data0=>226, :data1=>-0.7193398003386509}, {:data0=>227, :data1=>-0.7313537016191701}, {:data0=>228, :data1=>-0.743144825477394}, {:data0=>229, :data1=>-0.7547095802227717}, {:data0=>230, :data1=>-0.7660444431189779}, {:data0=>231, :data1=>-0.7771459614569711}, {:data0=>232, :data1=>-0.7880107536067221}, {:data0=>233, :data1=>-0.7986355100472928}, {:data0=>234, :data1=>-0.8090169943749473}, {:data0=>235, :data1=>-0.8191520442889916}, {:data0=>236, :data1=>-0.8290375725550414}, {:data0=>237, :data1=>-0.838670567945424}, {:data0=>238, :data1=>-0.848048096156426}, {:data0=>239, :data1=>-0.8571673007021121}, {:data0=>240, :data1=>-0.8660254037844384}, {:data0=>241, :data1=>-0.874619707139396}, {:data0=>242, :data1=>-0.882947592858927}, {:data0=>243, :data1=>-0.8910065241883678}, {:data0=>244, :data1=>-0.8987940462991668}, {:data0=>245, :data1=>-0.9063077870366497}, {:data0=>246, :data1=>-0.913545457642601}, {:data0=>247, :data1=>-0.9205048534524403}, {:data0=>248, :data1=>-0.9271838545667873}, {:data0=>249, :data1=>-0.9335804264972016}, {:data0=>250, :data1=>-0.9396926207859082}, {:data0=>251, :data1=>-0.9455185755993168}, {:data0=>252, :data1=>-0.9510565162951535}, {:data0=>253, :data1=>-0.9563047559630353}, {:data0=>254, :data1=>-0.961261695938319}, {:data0=>255, :data1=>-0.9659258262890683}, {:data0=>256, :data1=>-0.9702957262759965}, {:data0=>257, :data1=>-0.9743700647852351}, {:data0=>258, :data1=>-0.9781476007338056}, {:data0=>259, :data1=>-0.9816271834476639}, {:data0=>260, :data1=>-0.984807753012208}, {:data0=>261, :data1=>-0.9876883405951377}, {:data0=>262, :data1=>-0.9902680687415704}, {:data0=>263, :data1=>-0.9925461516413221}, {:data0=>264, :data1=>-0.9945218953682734}, {:data0=>265, :data1=>-0.9961946980917455}, {:data0=>266, :data1=>-0.9975640502598242}, {:data0=>267, :data1=>-0.9986295347545738}, {:data0=>268, :data1=>-0.9993908270190957}, {:data0=>269, :data1=>-0.9998476951563913}, {:data0=>270, :data1=>-1.0}, {:data0=>271, :data1=>-0.9998476951563913}, {:data0=>272, :data1=>-0.9993908270190958}, {:data0=>273, :data1=>-0.9986295347545738}, {:data0=>274, :data1=>-0.9975640502598243}, {:data0=>275, :data1=>-0.9961946980917455}, {:data0=>276, :data1=>-0.9945218953682734}, {:data0=>277, :data1=>-0.992546151641322}, {:data0=>278, :data1=>-0.9902680687415704}, {:data0=>279, :data1=>-0.9876883405951378}, {:data0=>280, :data1=>-0.9848077530122081}, {:data0=>281, :data1=>-0.9816271834476641}, {:data0=>282, :data1=>-0.9781476007338058}, {:data0=>283, :data1=>-0.9743700647852352}, {:data0=>284, :data1=>-0.9702957262759966}, {:data0=>285, :data1=>-0.9659258262890682}, {:data0=>286, :data1=>-0.9612616959383188}, {:data0=>287, :data1=>-0.9563047559630354}, {:data0=>288, :data1=>-0.9510565162951536}, {:data0=>289, :data1=>-0.945518575599317}, {:data0=>290, :data1=>-0.9396926207859085}, {:data0=>291, :data1=>-0.9335804264972021}, {:data0=>292, :data1=>-0.9271838545667874}, {:data0=>293, :data1=>-0.9205048534524405}, {:data0=>294, :data1=>-0.9135454576426008}, {:data0=>295, :data1=>-0.9063077870366499}, {:data0=>296, :data1=>-0.898794046299167}, {:data0=>297, :data1=>-0.8910065241883679}, {:data0=>298, :data1=>-0.8829475928589271}, {:data0=>299, :data1=>-0.8746197071393961}, {:data0=>300, :data1=>-0.8660254037844386}, {:data0=>301, :data1=>-0.8571673007021123}, {:data0=>302, :data1=>-0.8480480961564262}, {:data0=>303, :data1=>-0.8386705679454243}, {:data0=>304, :data1=>-0.8290375725550421}, {:data0=>305, :data1=>-0.8191520442889918}, {:data0=>306, :data1=>-0.8090169943749476}, {:data0=>307, :data1=>-0.798635510047293}, {:data0=>308, :data1=>-0.7880107536067218}, {:data0=>309, :data1=>-0.7771459614569708}, {:data0=>310, :data1=>-0.7660444431189781}, {:data0=>311, :data1=>-0.7547095802227722}, {:data0=>312, :data1=>-0.7431448254773946}, {:data0=>313, :data1=>-0.731353701619171}, {:data0=>314, :data1=>-0.7193398003386517}, {:data0=>315, :data1=>-0.7071067811865477}, {:data0=>316, :data1=>-0.6946583704589976}, {:data0=>317, :data1=>-0.6819983600624983}, {:data0=>318, :data1=>-0.6691306063588581}, {:data0=>319, :data1=>-0.6560590289905074}, {:data0=>320, :data1=>-0.6427876096865396}, {:data0=>321, :data1=>-0.6293203910498378}, {:data0=>322, :data1=>-0.6156614753256588}, {:data0=>323, :data1=>-0.6018150231520483}, {:data0=>324, :data1=>-0.5877852522924734}, {:data0=>325, :data1=>-0.5735764363510465}, {:data0=>326, :data1=>-0.5591929034707473}, {:data0=>327, :data1=>-0.544639035015027}, {:data0=>328, :data1=>-0.5299192642332058}, {:data0=>329, :data1=>-0.5150380749100545}, {:data0=>330, :data1=>-0.5000000000000004}, {:data0=>331, :data1=>-0.4848096202463369}, {:data0=>332, :data1=>-0.4694715627858908}, {:data0=>333, :data1=>-0.45399049973954697}, {:data0=>334, :data1=>-0.438371146789077}, {:data0=>335, :data1=>-0.4226182617407}, {:data0=>336, :data1=>-0.40673664307580015}, {:data0=>337, :data1=>-0.3907311284892747}, {:data0=>338, :data1=>-0.37460659341591235}, {:data0=>339, :data1=>-0.35836794954530077}, {:data0=>340, :data1=>-0.3420201433256686}, {:data0=>341, :data1=>-0.32556815445715753}, {:data0=>342, :data1=>-0.3090169943749476}, {:data0=>343, :data1=>-0.29237170472273627}, {:data0=>344, :data1=>-0.2756373558169998}, {:data0=>345, :data1=>-0.2588190451025207}, {:data0=>346, :data1=>-0.24192189559966787}, {:data0=>347, :data1=>-0.22495105434386534}, {:data0=>348, :data1=>-0.20791169081775987}, {:data0=>349, :data1=>-0.19080899537654467}, {:data0=>350, :data1=>-0.17364817766693127}, {:data0=>351, :data1=>-0.1564344650402311}, {:data0=>352, :data1=>-0.13917310096006588}, {:data0=>353, :data1=>-0.12186934340514811}, {:data0=>354, :data1=>-0.10452846326765342}, {:data0=>355, :data1=>-0.08715574274765832}, {:data0=>356, :data1=>-0.06975647374412476}, {:data0=>357, :data1=>-0.05233595624294437}, {:data0=>358, :data1=>-0.034899496702500823}, {:data0=>359, :data1=>-0.01745240643728445}]>}, :extension=>[]}>"
      ]
     },
     "metadata": {},
     "output_type": "display_data"
    }
   ],
   "source": [
    "x = Array.new(360) {|i| i}\n",
    "y = x.map { |i| Math::sin(i*Math::PI/180)}\n",
    "\n",
    "p = Nyaplot::Plot.new\n",
    "p.add(:line, x, y)\n",
    "p.show"
   ]
  },
  {
   "cell_type": "markdown",
   "metadata": {},
   "source": [
    "## Plot multiple line and scatter plots on the same diagram with legend."
   ]
  },
  {
   "cell_type": "code",
   "execution_count": 19,
   "metadata": {
    "collapsed": false
   },
   "outputs": [
    {
     "data": {
      "text/html": [
       "<div id='vis-5a0ab536-c00a-4446-bdbe-c8ab7204ddd7'></div>\n",
       "<script>\n",
       "(function(){\n",
       "    var render = function(){\n",
       "        var model = {\"panes\":[{\"diagrams\":[{\"type\":\"line\",\"options\":{\"x\":\"data0\",\"y\":\"data1\",\"color\":\"#FF0000\",\"title\":\"SINE WAVE\"},\"data\":\"06af6383-b0e5-48e4-8b64-9eb5dc55c16d\"},{\"type\":\"scatter\",\"options\":{\"x\":\"data0\",\"y\":\"data1\",\"color\":\"#00FF00\",\"title\":\"COSINE WAVE\"},\"data\":\"0cfd0726-1b53-4edf-93af-c2b6ea6264b4\"}],\"options\":{\"legend\":true,\"zoom\":true,\"width\":800,\"xrange\":[0,359],\"yrange\":[-1.0,1.0]}}],\"data\":{\"06af6383-b0e5-48e4-8b64-9eb5dc55c16d\":[{\"data0\":0,\"data1\":0.0},{\"data0\":1,\"data1\":0.01745240643728351},{\"data0\":2,\"data1\":0.03489949670250097},{\"data0\":3,\"data1\":0.05233595624294383},{\"data0\":4,\"data1\":0.0697564737441253},{\"data0\":5,\"data1\":0.08715574274765817},{\"data0\":6,\"data1\":0.10452846326765346},{\"data0\":7,\"data1\":0.12186934340514748},{\"data0\":8,\"data1\":0.13917310096006544},{\"data0\":9,\"data1\":0.15643446504023087},{\"data0\":10,\"data1\":0.17364817766693033},{\"data0\":11,\"data1\":0.1908089953765448},{\"data0\":12,\"data1\":0.20791169081775931},{\"data0\":13,\"data1\":0.224951054343865},{\"data0\":14,\"data1\":0.24192189559966773},{\"data0\":15,\"data1\":0.25881904510252074},{\"data0\":16,\"data1\":0.27563735581699916},{\"data0\":17,\"data1\":0.29237170472273677},{\"data0\":18,\"data1\":0.3090169943749474},{\"data0\":19,\"data1\":0.32556815445715664},{\"data0\":20,\"data1\":0.3420201433256687},{\"data0\":21,\"data1\":0.35836794954530027},{\"data0\":22,\"data1\":0.374606593415912},{\"data0\":23,\"data1\":0.3907311284892737},{\"data0\":24,\"data1\":0.40673664307580015},{\"data0\":25,\"data1\":0.42261826174069944},{\"data0\":26,\"data1\":0.4383711467890774},{\"data0\":27,\"data1\":0.45399049973954675},{\"data0\":28,\"data1\":0.4694715627858908},{\"data0\":29,\"data1\":0.48480962024633706},{\"data0\":30,\"data1\":0.49999999999999994},{\"data0\":31,\"data1\":0.5150380749100542},{\"data0\":32,\"data1\":0.5299192642332049},{\"data0\":33,\"data1\":0.5446390350150271},{\"data0\":34,\"data1\":0.5591929034707469},{\"data0\":35,\"data1\":0.573576436351046},{\"data0\":36,\"data1\":0.5877852522924731},{\"data0\":37,\"data1\":0.6018150231520483},{\"data0\":38,\"data1\":0.6156614753256582},{\"data0\":39,\"data1\":0.6293203910498374},{\"data0\":40,\"data1\":0.6427876096865393},{\"data0\":41,\"data1\":0.6560590289905072},{\"data0\":42,\"data1\":0.6691306063588582},{\"data0\":43,\"data1\":0.6819983600624985},{\"data0\":44,\"data1\":0.6946583704589973},{\"data0\":45,\"data1\":0.7071067811865475},{\"data0\":46,\"data1\":0.7193398003386511},{\"data0\":47,\"data1\":0.7313537016191705},{\"data0\":48,\"data1\":0.7431448254773941},{\"data0\":49,\"data1\":0.754709580222772},{\"data0\":50,\"data1\":0.766044443118978},{\"data0\":51,\"data1\":0.7771459614569708},{\"data0\":52,\"data1\":0.788010753606722},{\"data0\":53,\"data1\":0.7986355100472928},{\"data0\":54,\"data1\":0.8090169943749475},{\"data0\":55,\"data1\":0.8191520442889918},{\"data0\":56,\"data1\":0.8290375725550417},{\"data0\":57,\"data1\":0.8386705679454239},{\"data0\":58,\"data1\":0.848048096156426},{\"data0\":59,\"data1\":0.8571673007021122},{\"data0\":60,\"data1\":0.8660254037844386},{\"data0\":61,\"data1\":0.8746197071393957},{\"data0\":62,\"data1\":0.8829475928589269},{\"data0\":63,\"data1\":0.8910065241883678},{\"data0\":64,\"data1\":0.898794046299167},{\"data0\":65,\"data1\":0.9063077870366499},{\"data0\":66,\"data1\":0.9135454576426009},{\"data0\":67,\"data1\":0.9205048534524403},{\"data0\":68,\"data1\":0.9271838545667874},{\"data0\":69,\"data1\":0.9335804264972017},{\"data0\":70,\"data1\":0.9396926207859083},{\"data0\":71,\"data1\":0.9455185755993167},{\"data0\":72,\"data1\":0.9510565162951535},{\"data0\":73,\"data1\":0.9563047559630354},{\"data0\":74,\"data1\":0.9612616959383189},{\"data0\":75,\"data1\":0.9659258262890683},{\"data0\":76,\"data1\":0.9702957262759965},{\"data0\":77,\"data1\":0.9743700647852352},{\"data0\":78,\"data1\":0.9781476007338056},{\"data0\":79,\"data1\":0.981627183447664},{\"data0\":80,\"data1\":0.984807753012208},{\"data0\":81,\"data1\":0.9876883405951378},{\"data0\":82,\"data1\":0.9902680687415703},{\"data0\":83,\"data1\":0.992546151641322},{\"data0\":84,\"data1\":0.9945218953682733},{\"data0\":85,\"data1\":0.9961946980917455},{\"data0\":86,\"data1\":0.9975640502598242},{\"data0\":87,\"data1\":0.9986295347545738},{\"data0\":88,\"data1\":0.9993908270190958},{\"data0\":89,\"data1\":0.9998476951563913},{\"data0\":90,\"data1\":1.0},{\"data0\":91,\"data1\":0.9998476951563913},{\"data0\":92,\"data1\":0.9993908270190958},{\"data0\":93,\"data1\":0.9986295347545738},{\"data0\":94,\"data1\":0.9975640502598242},{\"data0\":95,\"data1\":0.9961946980917455},{\"data0\":96,\"data1\":0.9945218953682734},{\"data0\":97,\"data1\":0.9925461516413221},{\"data0\":98,\"data1\":0.9902680687415704},{\"data0\":99,\"data1\":0.9876883405951377},{\"data0\":100,\"data1\":0.984807753012208},{\"data0\":101,\"data1\":0.981627183447664},{\"data0\":102,\"data1\":0.9781476007338057},{\"data0\":103,\"data1\":0.9743700647852352},{\"data0\":104,\"data1\":0.9702957262759965},{\"data0\":105,\"data1\":0.9659258262890683},{\"data0\":106,\"data1\":0.9612616959383189},{\"data0\":107,\"data1\":0.9563047559630355},{\"data0\":108,\"data1\":0.9510565162951536},{\"data0\":109,\"data1\":0.9455185755993168},{\"data0\":110,\"data1\":0.9396926207859084},{\"data0\":111,\"data1\":0.9335804264972017},{\"data0\":112,\"data1\":0.9271838545667874},{\"data0\":113,\"data1\":0.9205048534524404},{\"data0\":114,\"data1\":0.913545457642601},{\"data0\":115,\"data1\":0.90630778703665},{\"data0\":116,\"data1\":0.8987940462991669},{\"data0\":117,\"data1\":0.8910065241883679},{\"data0\":118,\"data1\":0.8829475928589271},{\"data0\":119,\"data1\":0.8746197071393959},{\"data0\":120,\"data1\":0.8660254037844387},{\"data0\":121,\"data1\":0.8571673007021123},{\"data0\":122,\"data1\":0.8480480961564261},{\"data0\":123,\"data1\":0.8386705679454239},{\"data0\":124,\"data1\":0.8290375725550417},{\"data0\":125,\"data1\":0.819152044288992},{\"data0\":126,\"data1\":0.8090169943749475},{\"data0\":127,\"data1\":0.7986355100472927},{\"data0\":128,\"data1\":0.788010753606722},{\"data0\":129,\"data1\":0.777145961456971},{\"data0\":130,\"data1\":0.766044443118978},{\"data0\":131,\"data1\":0.7547095802227718},{\"data0\":132,\"data1\":0.7431448254773942},{\"data0\":133,\"data1\":0.7313537016191706},{\"data0\":134,\"data1\":0.7193398003386514},{\"data0\":135,\"data1\":0.7071067811865476},{\"data0\":136,\"data1\":0.6946583704589971},{\"data0\":137,\"data1\":0.6819983600624986},{\"data0\":138,\"data1\":0.6691306063588583},{\"data0\":139,\"data1\":0.6560590289905073},{\"data0\":140,\"data1\":0.6427876096865395},{\"data0\":141,\"data1\":0.6293203910498377},{\"data0\":142,\"data1\":0.6156614753256584},{\"data0\":143,\"data1\":0.6018150231520482},{\"data0\":144,\"data1\":0.5877852522924732},{\"data0\":145,\"data1\":0.5735764363510464},{\"data0\":146,\"data1\":0.5591929034707469},{\"data0\":147,\"data1\":0.544639035015027},{\"data0\":148,\"data1\":0.5299192642332049},{\"data0\":149,\"data1\":0.5150380749100544},{\"data0\":150,\"data1\":0.49999999999999994},{\"data0\":151,\"data1\":0.48480962024633717},{\"data0\":152,\"data1\":0.4694715627858911},{\"data0\":153,\"data1\":0.45399049973954686},{\"data0\":154,\"data1\":0.4383711467890773},{\"data0\":155,\"data1\":0.4226182617406995},{\"data0\":156,\"data1\":0.40673664307580043},{\"data0\":157,\"data1\":0.39073112848927416},{\"data0\":158,\"data1\":0.37460659341591224},{\"data0\":159,\"data1\":0.3583679495453002},{\"data0\":160,\"data1\":0.3420201433256689},{\"data0\":161,\"data1\":0.32556815445715703},{\"data0\":162,\"data1\":0.3090169943749475},{\"data0\":163,\"data1\":0.29237170472273705},{\"data0\":164,\"data1\":0.27563735581699966},{\"data0\":165,\"data1\":0.258819045102521},{\"data0\":166,\"data1\":0.24192189559966773},{\"data0\":167,\"data1\":0.22495105434386478},{\"data0\":168,\"data1\":0.20791169081775931},{\"data0\":169,\"data1\":0.19080899537654497},{\"data0\":170,\"data1\":0.17364817766693028},{\"data0\":171,\"data1\":0.15643446504023098},{\"data0\":172,\"data1\":0.13917310096006574},{\"data0\":173,\"data1\":0.12186934340514755},{\"data0\":174,\"data1\":0.10452846326765373},{\"data0\":175,\"data1\":0.08715574274765864},{\"data0\":176,\"data1\":0.06975647374412552},{\"data0\":177,\"data1\":0.05233595624294381},{\"data0\":178,\"data1\":0.0348994967025007},{\"data0\":179,\"data1\":0.01745240643728344},{\"data0\":180,\"data1\":1.2246467991473532e-16},{\"data0\":181,\"data1\":-0.017452406437283192},{\"data0\":182,\"data1\":-0.0348994967025009},{\"data0\":183,\"data1\":-0.052335956242943564},{\"data0\":184,\"data1\":-0.06975647374412483},{\"data0\":185,\"data1\":-0.08715574274765794},{\"data0\":186,\"data1\":-0.10452846326765305},{\"data0\":187,\"data1\":-0.12186934340514774},{\"data0\":188,\"data1\":-0.13917310096006552},{\"data0\":189,\"data1\":-0.15643446504023073},{\"data0\":190,\"data1\":-0.17364817766693047},{\"data0\":191,\"data1\":-0.19080899537654472},{\"data0\":192,\"data1\":-0.20791169081775907},{\"data0\":193,\"data1\":-0.22495105434386498},{\"data0\":194,\"data1\":-0.2419218955996675},{\"data0\":195,\"data1\":-0.25881904510252035},{\"data0\":196,\"data1\":-0.275637355816999},{\"data0\":197,\"data1\":-0.2923717047227364},{\"data0\":198,\"data1\":-0.30901699437494773},{\"data0\":199,\"data1\":-0.32556815445715676},{\"data0\":200,\"data1\":-0.34202014332566866},{\"data0\":201,\"data1\":-0.35836794954530043},{\"data0\":202,\"data1\":-0.374606593415912},{\"data0\":203,\"data1\":-0.39073112848927355},{\"data0\":204,\"data1\":-0.4067366430757998},{\"data0\":205,\"data1\":-0.4226182617406993},{\"data0\":206,\"data1\":-0.43837114678907707},{\"data0\":207,\"data1\":-0.45399049973954625},{\"data0\":208,\"data1\":-0.46947156278589086},{\"data0\":209,\"data1\":-0.48480962024633695},{\"data0\":210,\"data1\":-0.5000000000000001},{\"data0\":211,\"data1\":-0.5150380749100542},{\"data0\":212,\"data1\":-0.5299192642332048},{\"data0\":213,\"data1\":-0.5446390350150271},{\"data0\":214,\"data1\":-0.5591929034707467},{\"data0\":215,\"data1\":-0.5735764363510458},{\"data0\":216,\"data1\":-0.587785252292473},{\"data0\":217,\"data1\":-0.601815023152048},{\"data0\":218,\"data1\":-0.6156614753256578},{\"data0\":219,\"data1\":-0.6293203910498376},{\"data0\":220,\"data1\":-0.6427876096865393},{\"data0\":221,\"data1\":-0.6560590289905074},{\"data0\":222,\"data1\":-0.6691306063588582},{\"data0\":223,\"data1\":-0.6819983600624984},{\"data0\":224,\"data1\":-0.6946583704589974},{\"data0\":225,\"data1\":-0.7071067811865475},{\"data0\":226,\"data1\":-0.7193398003386509},{\"data0\":227,\"data1\":-0.7313537016191701},{\"data0\":228,\"data1\":-0.743144825477394},{\"data0\":229,\"data1\":-0.7547095802227717},{\"data0\":230,\"data1\":-0.7660444431189779},{\"data0\":231,\"data1\":-0.7771459614569711},{\"data0\":232,\"data1\":-0.7880107536067221},{\"data0\":233,\"data1\":-0.7986355100472928},{\"data0\":234,\"data1\":-0.8090169943749473},{\"data0\":235,\"data1\":-0.8191520442889916},{\"data0\":236,\"data1\":-0.8290375725550414},{\"data0\":237,\"data1\":-0.838670567945424},{\"data0\":238,\"data1\":-0.848048096156426},{\"data0\":239,\"data1\":-0.8571673007021121},{\"data0\":240,\"data1\":-0.8660254037844384},{\"data0\":241,\"data1\":-0.874619707139396},{\"data0\":242,\"data1\":-0.882947592858927},{\"data0\":243,\"data1\":-0.8910065241883678},{\"data0\":244,\"data1\":-0.8987940462991668},{\"data0\":245,\"data1\":-0.9063077870366497},{\"data0\":246,\"data1\":-0.913545457642601},{\"data0\":247,\"data1\":-0.9205048534524403},{\"data0\":248,\"data1\":-0.9271838545667873},{\"data0\":249,\"data1\":-0.9335804264972016},{\"data0\":250,\"data1\":-0.9396926207859082},{\"data0\":251,\"data1\":-0.9455185755993168},{\"data0\":252,\"data1\":-0.9510565162951535},{\"data0\":253,\"data1\":-0.9563047559630353},{\"data0\":254,\"data1\":-0.961261695938319},{\"data0\":255,\"data1\":-0.9659258262890683},{\"data0\":256,\"data1\":-0.9702957262759965},{\"data0\":257,\"data1\":-0.9743700647852351},{\"data0\":258,\"data1\":-0.9781476007338056},{\"data0\":259,\"data1\":-0.9816271834476639},{\"data0\":260,\"data1\":-0.984807753012208},{\"data0\":261,\"data1\":-0.9876883405951377},{\"data0\":262,\"data1\":-0.9902680687415704},{\"data0\":263,\"data1\":-0.9925461516413221},{\"data0\":264,\"data1\":-0.9945218953682734},{\"data0\":265,\"data1\":-0.9961946980917455},{\"data0\":266,\"data1\":-0.9975640502598242},{\"data0\":267,\"data1\":-0.9986295347545738},{\"data0\":268,\"data1\":-0.9993908270190957},{\"data0\":269,\"data1\":-0.9998476951563913},{\"data0\":270,\"data1\":-1.0},{\"data0\":271,\"data1\":-0.9998476951563913},{\"data0\":272,\"data1\":-0.9993908270190958},{\"data0\":273,\"data1\":-0.9986295347545738},{\"data0\":274,\"data1\":-0.9975640502598243},{\"data0\":275,\"data1\":-0.9961946980917455},{\"data0\":276,\"data1\":-0.9945218953682734},{\"data0\":277,\"data1\":-0.992546151641322},{\"data0\":278,\"data1\":-0.9902680687415704},{\"data0\":279,\"data1\":-0.9876883405951378},{\"data0\":280,\"data1\":-0.9848077530122081},{\"data0\":281,\"data1\":-0.9816271834476641},{\"data0\":282,\"data1\":-0.9781476007338058},{\"data0\":283,\"data1\":-0.9743700647852352},{\"data0\":284,\"data1\":-0.9702957262759966},{\"data0\":285,\"data1\":-0.9659258262890682},{\"data0\":286,\"data1\":-0.9612616959383188},{\"data0\":287,\"data1\":-0.9563047559630354},{\"data0\":288,\"data1\":-0.9510565162951536},{\"data0\":289,\"data1\":-0.945518575599317},{\"data0\":290,\"data1\":-0.9396926207859085},{\"data0\":291,\"data1\":-0.9335804264972021},{\"data0\":292,\"data1\":-0.9271838545667874},{\"data0\":293,\"data1\":-0.9205048534524405},{\"data0\":294,\"data1\":-0.9135454576426008},{\"data0\":295,\"data1\":-0.9063077870366499},{\"data0\":296,\"data1\":-0.898794046299167},{\"data0\":297,\"data1\":-0.8910065241883679},{\"data0\":298,\"data1\":-0.8829475928589271},{\"data0\":299,\"data1\":-0.8746197071393961},{\"data0\":300,\"data1\":-0.8660254037844386},{\"data0\":301,\"data1\":-0.8571673007021123},{\"data0\":302,\"data1\":-0.8480480961564262},{\"data0\":303,\"data1\":-0.8386705679454243},{\"data0\":304,\"data1\":-0.8290375725550421},{\"data0\":305,\"data1\":-0.8191520442889918},{\"data0\":306,\"data1\":-0.8090169943749476},{\"data0\":307,\"data1\":-0.798635510047293},{\"data0\":308,\"data1\":-0.7880107536067218},{\"data0\":309,\"data1\":-0.7771459614569708},{\"data0\":310,\"data1\":-0.7660444431189781},{\"data0\":311,\"data1\":-0.7547095802227722},{\"data0\":312,\"data1\":-0.7431448254773946},{\"data0\":313,\"data1\":-0.731353701619171},{\"data0\":314,\"data1\":-0.7193398003386517},{\"data0\":315,\"data1\":-0.7071067811865477},{\"data0\":316,\"data1\":-0.6946583704589976},{\"data0\":317,\"data1\":-0.6819983600624983},{\"data0\":318,\"data1\":-0.6691306063588581},{\"data0\":319,\"data1\":-0.6560590289905074},{\"data0\":320,\"data1\":-0.6427876096865396},{\"data0\":321,\"data1\":-0.6293203910498378},{\"data0\":322,\"data1\":-0.6156614753256588},{\"data0\":323,\"data1\":-0.6018150231520483},{\"data0\":324,\"data1\":-0.5877852522924734},{\"data0\":325,\"data1\":-0.5735764363510465},{\"data0\":326,\"data1\":-0.5591929034707473},{\"data0\":327,\"data1\":-0.544639035015027},{\"data0\":328,\"data1\":-0.5299192642332058},{\"data0\":329,\"data1\":-0.5150380749100545},{\"data0\":330,\"data1\":-0.5000000000000004},{\"data0\":331,\"data1\":-0.4848096202463369},{\"data0\":332,\"data1\":-0.4694715627858908},{\"data0\":333,\"data1\":-0.45399049973954697},{\"data0\":334,\"data1\":-0.438371146789077},{\"data0\":335,\"data1\":-0.4226182617407},{\"data0\":336,\"data1\":-0.40673664307580015},{\"data0\":337,\"data1\":-0.3907311284892747},{\"data0\":338,\"data1\":-0.37460659341591235},{\"data0\":339,\"data1\":-0.35836794954530077},{\"data0\":340,\"data1\":-0.3420201433256686},{\"data0\":341,\"data1\":-0.32556815445715753},{\"data0\":342,\"data1\":-0.3090169943749476},{\"data0\":343,\"data1\":-0.29237170472273627},{\"data0\":344,\"data1\":-0.2756373558169998},{\"data0\":345,\"data1\":-0.2588190451025207},{\"data0\":346,\"data1\":-0.24192189559966787},{\"data0\":347,\"data1\":-0.22495105434386534},{\"data0\":348,\"data1\":-0.20791169081775987},{\"data0\":349,\"data1\":-0.19080899537654467},{\"data0\":350,\"data1\":-0.17364817766693127},{\"data0\":351,\"data1\":-0.1564344650402311},{\"data0\":352,\"data1\":-0.13917310096006588},{\"data0\":353,\"data1\":-0.12186934340514811},{\"data0\":354,\"data1\":-0.10452846326765342},{\"data0\":355,\"data1\":-0.08715574274765832},{\"data0\":356,\"data1\":-0.06975647374412476},{\"data0\":357,\"data1\":-0.05233595624294437},{\"data0\":358,\"data1\":-0.034899496702500823},{\"data0\":359,\"data1\":-0.01745240643728445}],\"0cfd0726-1b53-4edf-93af-c2b6ea6264b4\":[{\"data0\":0,\"data1\":1.0},{\"data0\":1,\"data1\":0.9998476951563913},{\"data0\":2,\"data1\":0.9993908270190958},{\"data0\":3,\"data1\":0.9986295347545738},{\"data0\":4,\"data1\":0.9975640502598242},{\"data0\":5,\"data1\":0.9961946980917455},{\"data0\":6,\"data1\":0.9945218953682733},{\"data0\":7,\"data1\":0.992546151641322},{\"data0\":8,\"data1\":0.9902680687415704},{\"data0\":9,\"data1\":0.9876883405951378},{\"data0\":10,\"data1\":0.984807753012208},{\"data0\":11,\"data1\":0.981627183447664},{\"data0\":12,\"data1\":0.9781476007338057},{\"data0\":13,\"data1\":0.9743700647852352},{\"data0\":14,\"data1\":0.9702957262759965},{\"data0\":15,\"data1\":0.9659258262890683},{\"data0\":16,\"data1\":0.9612616959383189},{\"data0\":17,\"data1\":0.9563047559630354},{\"data0\":18,\"data1\":0.9510565162951535},{\"data0\":19,\"data1\":0.9455185755993168},{\"data0\":20,\"data1\":0.9396926207859084},{\"data0\":21,\"data1\":0.9335804264972017},{\"data0\":22,\"data1\":0.9271838545667874},{\"data0\":23,\"data1\":0.9205048534524404},{\"data0\":24,\"data1\":0.9135454576426009},{\"data0\":25,\"data1\":0.9063077870366499},{\"data0\":26,\"data1\":0.898794046299167},{\"data0\":27,\"data1\":0.8910065241883679},{\"data0\":28,\"data1\":0.882947592858927},{\"data0\":29,\"data1\":0.8746197071393957},{\"data0\":30,\"data1\":0.8660254037844387},{\"data0\":31,\"data1\":0.8571673007021123},{\"data0\":32,\"data1\":0.848048096156426},{\"data0\":33,\"data1\":0.838670567945424},{\"data0\":34,\"data1\":0.8290375725550416},{\"data0\":35,\"data1\":0.8191520442889918},{\"data0\":36,\"data1\":0.8090169943749475},{\"data0\":37,\"data1\":0.7986355100472928},{\"data0\":38,\"data1\":0.788010753606722},{\"data0\":39,\"data1\":0.7771459614569709},{\"data0\":40,\"data1\":0.766044443118978},{\"data0\":41,\"data1\":0.7547095802227721},{\"data0\":42,\"data1\":0.7431448254773942},{\"data0\":43,\"data1\":0.7313537016191706},{\"data0\":44,\"data1\":0.7193398003386512},{\"data0\":45,\"data1\":0.7071067811865476},{\"data0\":46,\"data1\":0.6946583704589974},{\"data0\":47,\"data1\":0.6819983600624985},{\"data0\":48,\"data1\":0.6691306063588582},{\"data0\":49,\"data1\":0.6560590289905073},{\"data0\":50,\"data1\":0.6427876096865394},{\"data0\":51,\"data1\":0.6293203910498375},{\"data0\":52,\"data1\":0.6156614753256583},{\"data0\":53,\"data1\":0.6018150231520484},{\"data0\":54,\"data1\":0.5877852522924731},{\"data0\":55,\"data1\":0.5735764363510462},{\"data0\":56,\"data1\":0.5591929034707468},{\"data0\":57,\"data1\":0.5446390350150272},{\"data0\":58,\"data1\":0.5299192642332049},{\"data0\":59,\"data1\":0.5150380749100544},{\"data0\":60,\"data1\":0.5000000000000001},{\"data0\":61,\"data1\":0.4848096202463371},{\"data0\":62,\"data1\":0.46947156278589086},{\"data0\":63,\"data1\":0.4539904997395468},{\"data0\":64,\"data1\":0.43837114678907746},{\"data0\":65,\"data1\":0.42261826174069944},{\"data0\":66,\"data1\":0.4067366430758002},{\"data0\":67,\"data1\":0.39073112848927394},{\"data0\":68,\"data1\":0.37460659341591196},{\"data0\":69,\"data1\":0.3583679495453004},{\"data0\":70,\"data1\":0.3420201433256688},{\"data0\":71,\"data1\":0.32556815445715676},{\"data0\":72,\"data1\":0.30901699437494745},{\"data0\":73,\"data1\":0.29237170472273677},{\"data0\":74,\"data1\":0.27563735581699916},{\"data0\":75,\"data1\":0.25881904510252074},{\"data0\":76,\"data1\":0.2419218955996679},{\"data0\":77,\"data1\":0.22495105434386492},{\"data0\":78,\"data1\":0.20791169081775945},{\"data0\":79,\"data1\":0.19080899537654492},{\"data0\":80,\"data1\":0.17364817766693041},{\"data0\":81,\"data1\":0.15643446504023092},{\"data0\":82,\"data1\":0.1391731009600657},{\"data0\":83,\"data1\":0.12186934340514749},{\"data0\":84,\"data1\":0.10452846326765346},{\"data0\":85,\"data1\":0.08715574274765814},{\"data0\":86,\"data1\":0.06975647374412546},{\"data0\":87,\"data1\":0.052335956242943966},{\"data0\":88,\"data1\":0.03489949670250108},{\"data0\":89,\"data1\":0.017452406437283376},{\"data0\":90,\"data1\":6.123233995736766e-17},{\"data0\":91,\"data1\":-0.017452406437283477},{\"data0\":92,\"data1\":-0.03489949670250073},{\"data0\":93,\"data1\":-0.05233595624294362},{\"data0\":94,\"data1\":-0.06975647374412533},{\"data0\":95,\"data1\":-0.08715574274765824},{\"data0\":96,\"data1\":-0.10452846326765333},{\"data0\":97,\"data1\":-0.12186934340514737},{\"data0\":98,\"data1\":-0.13917310096006535},{\"data0\":99,\"data1\":-0.15643446504023104},{\"data0\":100,\"data1\":-0.1736481776669303},{\"data0\":101,\"data1\":-0.1908089953765448},{\"data0\":102,\"data1\":-0.20791169081775912},{\"data0\":103,\"data1\":-0.2249510543438648},{\"data0\":104,\"data1\":-0.24192189559966779},{\"data0\":105,\"data1\":-0.25881904510252085},{\"data0\":106,\"data1\":-0.27563735581699905},{\"data0\":107,\"data1\":-0.29237170472273666},{\"data0\":108,\"data1\":-0.30901699437494734},{\"data0\":109,\"data1\":-0.3255681544571564},{\"data0\":110,\"data1\":-0.3420201433256687},{\"data0\":111,\"data1\":-0.35836794954530027},{\"data0\":112,\"data1\":-0.37460659341591207},{\"data0\":113,\"data1\":-0.3907311284892736},{\"data0\":114,\"data1\":-0.40673664307580004},{\"data0\":115,\"data1\":-0.42261826174069933},{\"data0\":116,\"data1\":-0.4383711467890775},{\"data0\":117,\"data1\":-0.4539904997395467},{\"data0\":118,\"data1\":-0.46947156278589053},{\"data0\":119,\"data1\":-0.484809620246337},{\"data0\":120,\"data1\":-0.4999999999999998},{\"data0\":121,\"data1\":-0.5150380749100543},{\"data0\":122,\"data1\":-0.5299192642332048},{\"data0\":123,\"data1\":-0.5446390350150271},{\"data0\":124,\"data1\":-0.5591929034707467},{\"data0\":125,\"data1\":-0.5735764363510458},{\"data0\":126,\"data1\":-0.587785252292473},{\"data0\":127,\"data1\":-0.6018150231520484},{\"data0\":128,\"data1\":-0.6156614753256583},{\"data0\":129,\"data1\":-0.6293203910498373},{\"data0\":130,\"data1\":-0.6427876096865394},{\"data0\":131,\"data1\":-0.6560590289905075},{\"data0\":132,\"data1\":-0.6691306063588582},{\"data0\":133,\"data1\":-0.6819983600624984},{\"data0\":134,\"data1\":-0.694658370458997},{\"data0\":135,\"data1\":-0.7071067811865475},{\"data0\":136,\"data1\":-0.7193398003386512},{\"data0\":137,\"data1\":-0.7313537016191705},{\"data0\":138,\"data1\":-0.743144825477394},{\"data0\":139,\"data1\":-0.754709580222772},{\"data0\":140,\"data1\":-0.7660444431189779},{\"data0\":141,\"data1\":-0.7771459614569707},{\"data0\":142,\"data1\":-0.7880107536067219},{\"data0\":143,\"data1\":-0.7986355100472929},{\"data0\":144,\"data1\":-0.8090169943749473},{\"data0\":145,\"data1\":-0.8191520442889916},{\"data0\":146,\"data1\":-0.8290375725550416},{\"data0\":147,\"data1\":-0.8386705679454242},{\"data0\":148,\"data1\":-0.848048096156426},{\"data0\":149,\"data1\":-0.8571673007021122},{\"data0\":150,\"data1\":-0.8660254037844387},{\"data0\":151,\"data1\":-0.8746197071393957},{\"data0\":152,\"data1\":-0.8829475928589268},{\"data0\":153,\"data1\":-0.8910065241883678},{\"data0\":154,\"data1\":-0.898794046299167},{\"data0\":155,\"data1\":-0.9063077870366499},{\"data0\":156,\"data1\":-0.9135454576426008},{\"data0\":157,\"data1\":-0.9205048534524402},{\"data0\":158,\"data1\":-0.9271838545667873},{\"data0\":159,\"data1\":-0.9335804264972017},{\"data0\":160,\"data1\":-0.9396926207859083},{\"data0\":161,\"data1\":-0.9455185755993167},{\"data0\":162,\"data1\":-0.9510565162951535},{\"data0\":163,\"data1\":-0.9563047559630354},{\"data0\":164,\"data1\":-0.9612616959383187},{\"data0\":165,\"data1\":-0.9659258262890682},{\"data0\":166,\"data1\":-0.9702957262759965},{\"data0\":167,\"data1\":-0.9743700647852352},{\"data0\":168,\"data1\":-0.9781476007338057},{\"data0\":169,\"data1\":-0.981627183447664},{\"data0\":170,\"data1\":-0.984807753012208},{\"data0\":171,\"data1\":-0.9876883405951377},{\"data0\":172,\"data1\":-0.9902680687415703},{\"data0\":173,\"data1\":-0.992546151641322},{\"data0\":174,\"data1\":-0.9945218953682733},{\"data0\":175,\"data1\":-0.9961946980917455},{\"data0\":176,\"data1\":-0.9975640502598242},{\"data0\":177,\"data1\":-0.9986295347545738},{\"data0\":178,\"data1\":-0.9993908270190958},{\"data0\":179,\"data1\":-0.9998476951563913},{\"data0\":180,\"data1\":-1.0},{\"data0\":181,\"data1\":-0.9998476951563913},{\"data0\":182,\"data1\":-0.9993908270190958},{\"data0\":183,\"data1\":-0.9986295347545738},{\"data0\":184,\"data1\":-0.9975640502598243},{\"data0\":185,\"data1\":-0.9961946980917455},{\"data0\":186,\"data1\":-0.9945218953682734},{\"data0\":187,\"data1\":-0.992546151641322},{\"data0\":188,\"data1\":-0.9902680687415703},{\"data0\":189,\"data1\":-0.9876883405951378},{\"data0\":190,\"data1\":-0.984807753012208},{\"data0\":191,\"data1\":-0.981627183447664},{\"data0\":192,\"data1\":-0.9781476007338057},{\"data0\":193,\"data1\":-0.9743700647852352},{\"data0\":194,\"data1\":-0.9702957262759965},{\"data0\":195,\"data1\":-0.9659258262890684},{\"data0\":196,\"data1\":-0.9612616959383189},{\"data0\":197,\"data1\":-0.9563047559630355},{\"data0\":198,\"data1\":-0.9510565162951535},{\"data0\":199,\"data1\":-0.9455185755993167},{\"data0\":200,\"data1\":-0.9396926207859084},{\"data0\":201,\"data1\":-0.9335804264972017},{\"data0\":202,\"data1\":-0.9271838545667874},{\"data0\":203,\"data1\":-0.9205048534524404},{\"data0\":204,\"data1\":-0.9135454576426011},{\"data0\":205,\"data1\":-0.90630778703665},{\"data0\":206,\"data1\":-0.8987940462991671},{\"data0\":207,\"data1\":-0.8910065241883681},{\"data0\":208,\"data1\":-0.8829475928589269},{\"data0\":209,\"data1\":-0.8746197071393959},{\"data0\":210,\"data1\":-0.8660254037844386},{\"data0\":211,\"data1\":-0.8571673007021123},{\"data0\":212,\"data1\":-0.8480480961564261},{\"data0\":213,\"data1\":-0.838670567945424},{\"data0\":214,\"data1\":-0.8290375725550418},{\"data0\":215,\"data1\":-0.819152044288992},{\"data0\":216,\"data1\":-0.8090169943749476},{\"data0\":217,\"data1\":-0.798635510047293},{\"data0\":218,\"data1\":-0.7880107536067222},{\"data0\":219,\"data1\":-0.7771459614569708},{\"data0\":220,\"data1\":-0.766044443118978},{\"data0\":221,\"data1\":-0.7547095802227719},{\"data0\":222,\"data1\":-0.7431448254773942},{\"data0\":223,\"data1\":-0.7313537016191706},{\"data0\":224,\"data1\":-0.7193398003386511},{\"data0\":225,\"data1\":-0.7071067811865477},{\"data0\":226,\"data1\":-0.6946583704589976},{\"data0\":227,\"data1\":-0.6819983600624989},{\"data0\":228,\"data1\":-0.6691306063588585},{\"data0\":229,\"data1\":-0.6560590289905076},{\"data0\":230,\"data1\":-0.6427876096865395},{\"data0\":231,\"data1\":-0.6293203910498372},{\"data0\":232,\"data1\":-0.6156614753256581},{\"data0\":233,\"data1\":-0.6018150231520483},{\"data0\":234,\"data1\":-0.5877852522924732},{\"data0\":235,\"data1\":-0.5735764363510464},{\"data0\":236,\"data1\":-0.5591929034707472},{\"data0\":237,\"data1\":-0.544639035015027},{\"data0\":238,\"data1\":-0.529919264233205},{\"data0\":239,\"data1\":-0.5150380749100545},{\"data0\":240,\"data1\":-0.5000000000000004},{\"data0\":241,\"data1\":-0.48480962024633684},{\"data0\":242,\"data1\":-0.46947156278589075},{\"data0\":243,\"data1\":-0.4539904997395469},{\"data0\":244,\"data1\":-0.43837114678907774},{\"data0\":245,\"data1\":-0.42261826174069994},{\"data0\":246,\"data1\":-0.4067366430758001},{\"data0\":247,\"data1\":-0.3907311284892738},{\"data0\":248,\"data1\":-0.3746065934159123},{\"data0\":249,\"data1\":-0.3583679495453007},{\"data0\":250,\"data1\":-0.3420201433256694},{\"data0\":251,\"data1\":-0.32556815445715664},{\"data0\":252,\"data1\":-0.30901699437494756},{\"data0\":253,\"data1\":-0.2923717047227371},{\"data0\":254,\"data1\":-0.2756373558169989},{\"data0\":255,\"data1\":-0.25881904510252063},{\"data0\":256,\"data1\":-0.24192189559966779},{\"data0\":257,\"data1\":-0.22495105434386525},{\"data0\":258,\"data1\":-0.2079116908177598},{\"data0\":259,\"data1\":-0.19080899537654547},{\"data0\":260,\"data1\":-0.17364817766693033},{\"data0\":261,\"data1\":-0.15643446504023104},{\"data0\":262,\"data1\":-0.13917310096006494},{\"data0\":263,\"data1\":-0.12186934340514717},{\"data0\":264,\"data1\":-0.10452846326765336},{\"data0\":265,\"data1\":-0.08715574274765825},{\"data0\":266,\"data1\":-0.06975647374412558},{\"data0\":267,\"data1\":-0.052335956242944306},{\"data0\":268,\"data1\":-0.03489949670250165},{\"data0\":269,\"data1\":-0.017452406437283498},{\"data0\":270,\"data1\":-1.8369701987210297e-16},{\"data0\":271,\"data1\":0.01745240643728313},{\"data0\":272,\"data1\":0.03489949670250128},{\"data0\":273,\"data1\":0.052335956242943946},{\"data0\":274,\"data1\":0.06975647374412522},{\"data0\":275,\"data1\":0.08715574274765789},{\"data0\":276,\"data1\":0.10452846326765299},{\"data0\":277,\"data1\":0.12186934340514768},{\"data0\":278,\"data1\":0.13917310096006547},{\"data0\":279,\"data1\":0.15643446504023067},{\"data0\":280,\"data1\":0.17364817766692997},{\"data0\":281,\"data1\":0.19080899537654425},{\"data0\":282,\"data1\":0.20791169081775857},{\"data0\":283,\"data1\":0.22495105434386492},{\"data0\":284,\"data1\":0.24192189559966745},{\"data0\":285,\"data1\":0.25881904510252113},{\"data0\":286,\"data1\":0.2756373558169994},{\"data0\":287,\"data1\":0.2923717047227367},{\"data0\":288,\"data1\":0.30901699437494723},{\"data0\":289,\"data1\":0.3255681544571563},{\"data0\":290,\"data1\":0.34202014332566816},{\"data0\":291,\"data1\":0.35836794954529955},{\"data0\":292,\"data1\":0.37460659341591196},{\"data0\":293,\"data1\":0.3907311284892735},{\"data0\":294,\"data1\":0.40673664307580054},{\"data0\":295,\"data1\":0.4226182617406996},{\"data0\":296,\"data1\":0.4383711467890774},{\"data0\":297,\"data1\":0.45399049973954664},{\"data0\":298,\"data1\":0.4694715627858904},{\"data0\":299,\"data1\":0.4848096202463365},{\"data0\":300,\"data1\":0.5000000000000001},{\"data0\":301,\"data1\":0.5150380749100542},{\"data0\":302,\"data1\":0.5299192642332047},{\"data0\":303,\"data1\":0.5446390350150266},{\"data0\":304,\"data1\":0.5591929034707462},{\"data0\":305,\"data1\":0.573576436351046},{\"data0\":306,\"data1\":0.5877852522924729},{\"data0\":307,\"data1\":0.6018150231520479},{\"data0\":308,\"data1\":0.6156614753256585},{\"data0\":309,\"data1\":0.6293203910498375},{\"data0\":310,\"data1\":0.6427876096865393},{\"data0\":311,\"data1\":0.656059028990507},{\"data0\":312,\"data1\":0.6691306063588578},{\"data0\":313,\"data1\":0.681998360062498},{\"data0\":314,\"data1\":0.6946583704589966},{\"data0\":315,\"data1\":0.7071067811865474},{\"data0\":316,\"data1\":0.7193398003386509},{\"data0\":317,\"data1\":0.7313537016191707},{\"data0\":318,\"data1\":0.7431448254773942},{\"data0\":319,\"data1\":0.7547095802227719},{\"data0\":320,\"data1\":0.7660444431189778},{\"data0\":321,\"data1\":0.7771459614569706},{\"data0\":322,\"data1\":0.7880107536067216},{\"data0\":323,\"data1\":0.7986355100472928},{\"data0\":324,\"data1\":0.8090169943749473},{\"data0\":325,\"data1\":0.8191520442889916},{\"data0\":326,\"data1\":0.8290375725550414},{\"data0\":327,\"data1\":0.838670567945424},{\"data0\":328,\"data1\":0.8480480961564254},{\"data0\":329,\"data1\":0.8571673007021121},{\"data0\":330,\"data1\":0.8660254037844384},{\"data0\":331,\"data1\":0.8746197071393959},{\"data0\":332,\"data1\":0.8829475928589269},{\"data0\":333,\"data1\":0.8910065241883678},{\"data0\":334,\"data1\":0.8987940462991671},{\"data0\":335,\"data1\":0.9063077870366497},{\"data0\":336,\"data1\":0.913545457642601},{\"data0\":337,\"data1\":0.9205048534524399},{\"data0\":338,\"data1\":0.9271838545667873},{\"data0\":339,\"data1\":0.9335804264972015},{\"data0\":340,\"data1\":0.9396926207859084},{\"data0\":341,\"data1\":0.9455185755993165},{\"data0\":342,\"data1\":0.9510565162951535},{\"data0\":343,\"data1\":0.9563047559630357},{\"data0\":344,\"data1\":0.9612616959383187},{\"data0\":345,\"data1\":0.9659258262890683},{\"data0\":346,\"data1\":0.9702957262759965},{\"data0\":347,\"data1\":0.9743700647852351},{\"data0\":348,\"data1\":0.9781476007338056},{\"data0\":349,\"data1\":0.981627183447664},{\"data0\":350,\"data1\":0.9848077530122079},{\"data0\":351,\"data1\":0.9876883405951377},{\"data0\":352,\"data1\":0.9902680687415703},{\"data0\":353,\"data1\":0.992546151641322},{\"data0\":354,\"data1\":0.9945218953682733},{\"data0\":355,\"data1\":0.9961946980917455},{\"data0\":356,\"data1\":0.9975640502598243},{\"data0\":357,\"data1\":0.9986295347545738},{\"data0\":358,\"data1\":0.9993908270190958},{\"data0\":359,\"data1\":0.9998476951563913}]},\"extension\":[]}\n",
       "        var id_name = '#vis-5a0ab536-c00a-4446-bdbe-c8ab7204ddd7';\n",
       "        Nyaplot.core.parse(model, id_name);\n",
       "\n",
       "        require(['downloadable'], function(downloadable){\n",
       "          var svg = d3.select(id_name).select(\"svg\");\n",
       "\t  if(!svg.empty())\n",
       "\t    svg.call(downloadable().filename('fig'));\n",
       "\t});\n",
       "    };\n",
       "    if(window['Nyaplot']==undefined){\n",
       "        window.addEventListener('load_nyaplot', render, false);\n",
       "\treturn;\n",
       "    } else {\n",
       "       render();\n",
       "    }\n",
       "})();\n",
       "</script>\n"
      ],
      "text/plain": [
       "#<Nyaplot::Frame:0x859768c @properties={:panes=>[#<Nyaplot::Plot:0x86e46fc @properties={:diagrams=>[#<Nyaplot::Diagram:0x867a568 @properties={:type=>:line, :options=>{:x=>\"data0\", :y=>\"data1\", :color=>\"#FF0000\", :title=>\"SINE WAVE\"}, :data=>\"06af6383-b0e5-48e4-8b64-9eb5dc55c16d\"}, @xrange=[0, 359], @yrange=[-1.0, 1.0]>, #<Nyaplot::Diagram:0x8597c7c @properties={:type=>:scatter, :options=>{:x=>\"data0\", :y=>\"data1\", :color=>\"#00FF00\", :title=>\"COSINE WAVE\"}, :data=>\"0cfd0726-1b53-4edf-93af-c2b6ea6264b4\"}, @xrange=[0, 359], @yrange=[-1.0, 1.0]>], :options=>{:legend=>true, :zoom=>true, :width=>800, :xrange=>[0, 359], :yrange=>[-1.0, 1.0]}}>], :data=>{\"06af6383-b0e5-48e4-8b64-9eb5dc55c16d\"=>#<Nyaplot::DataFrame:0x86dbed0 @name=\"06af6383-b0e5-48e4-8b64-9eb5dc55c16d\", @rows=[{:data0=>0, :data1=>0.0}, {:data0=>1, :data1=>0.01745240643728351}, {:data0=>2, :data1=>0.03489949670250097}, {:data0=>3, :data1=>0.05233595624294383}, {:data0=>4, :data1=>0.0697564737441253}, {:data0=>5, :data1=>0.08715574274765817}, {:data0=>6, :data1=>0.10452846326765346}, {:data0=>7, :data1=>0.12186934340514748}, {:data0=>8, :data1=>0.13917310096006544}, {:data0=>9, :data1=>0.15643446504023087}, {:data0=>10, :data1=>0.17364817766693033}, {:data0=>11, :data1=>0.1908089953765448}, {:data0=>12, :data1=>0.20791169081775931}, {:data0=>13, :data1=>0.224951054343865}, {:data0=>14, :data1=>0.24192189559966773}, {:data0=>15, :data1=>0.25881904510252074}, {:data0=>16, :data1=>0.27563735581699916}, {:data0=>17, :data1=>0.29237170472273677}, {:data0=>18, :data1=>0.3090169943749474}, {:data0=>19, :data1=>0.32556815445715664}, {:data0=>20, :data1=>0.3420201433256687}, {:data0=>21, :data1=>0.35836794954530027}, {:data0=>22, :data1=>0.374606593415912}, {:data0=>23, :data1=>0.3907311284892737}, {:data0=>24, :data1=>0.40673664307580015}, {:data0=>25, :data1=>0.42261826174069944}, {:data0=>26, :data1=>0.4383711467890774}, {:data0=>27, :data1=>0.45399049973954675}, {:data0=>28, :data1=>0.4694715627858908}, {:data0=>29, :data1=>0.48480962024633706}, {:data0=>30, :data1=>0.49999999999999994}, {:data0=>31, :data1=>0.5150380749100542}, {:data0=>32, :data1=>0.5299192642332049}, {:data0=>33, :data1=>0.5446390350150271}, {:data0=>34, :data1=>0.5591929034707469}, {:data0=>35, :data1=>0.573576436351046}, {:data0=>36, :data1=>0.5877852522924731}, {:data0=>37, :data1=>0.6018150231520483}, {:data0=>38, :data1=>0.6156614753256582}, {:data0=>39, :data1=>0.6293203910498374}, {:data0=>40, :data1=>0.6427876096865393}, {:data0=>41, :data1=>0.6560590289905072}, {:data0=>42, :data1=>0.6691306063588582}, {:data0=>43, :data1=>0.6819983600624985}, {:data0=>44, :data1=>0.6946583704589973}, {:data0=>45, :data1=>0.7071067811865475}, {:data0=>46, :data1=>0.7193398003386511}, {:data0=>47, :data1=>0.7313537016191705}, {:data0=>48, :data1=>0.7431448254773941}, {:data0=>49, :data1=>0.754709580222772}, {:data0=>50, :data1=>0.766044443118978}, {:data0=>51, :data1=>0.7771459614569708}, {:data0=>52, :data1=>0.788010753606722}, {:data0=>53, :data1=>0.7986355100472928}, {:data0=>54, :data1=>0.8090169943749475}, {:data0=>55, :data1=>0.8191520442889918}, {:data0=>56, :data1=>0.8290375725550417}, {:data0=>57, :data1=>0.8386705679454239}, {:data0=>58, :data1=>0.848048096156426}, {:data0=>59, :data1=>0.8571673007021122}, {:data0=>60, :data1=>0.8660254037844386}, {:data0=>61, :data1=>0.8746197071393957}, {:data0=>62, :data1=>0.8829475928589269}, {:data0=>63, :data1=>0.8910065241883678}, {:data0=>64, :data1=>0.898794046299167}, {:data0=>65, :data1=>0.9063077870366499}, {:data0=>66, :data1=>0.9135454576426009}, {:data0=>67, :data1=>0.9205048534524403}, {:data0=>68, :data1=>0.9271838545667874}, {:data0=>69, :data1=>0.9335804264972017}, {:data0=>70, :data1=>0.9396926207859083}, {:data0=>71, :data1=>0.9455185755993167}, {:data0=>72, :data1=>0.9510565162951535}, {:data0=>73, :data1=>0.9563047559630354}, {:data0=>74, :data1=>0.9612616959383189}, {:data0=>75, :data1=>0.9659258262890683}, {:data0=>76, :data1=>0.9702957262759965}, {:data0=>77, :data1=>0.9743700647852352}, {:data0=>78, :data1=>0.9781476007338056}, {:data0=>79, :data1=>0.981627183447664}, {:data0=>80, :data1=>0.984807753012208}, {:data0=>81, :data1=>0.9876883405951378}, {:data0=>82, :data1=>0.9902680687415703}, {:data0=>83, :data1=>0.992546151641322}, {:data0=>84, :data1=>0.9945218953682733}, {:data0=>85, :data1=>0.9961946980917455}, {:data0=>86, :data1=>0.9975640502598242}, {:data0=>87, :data1=>0.9986295347545738}, {:data0=>88, :data1=>0.9993908270190958}, {:data0=>89, :data1=>0.9998476951563913}, {:data0=>90, :data1=>1.0}, {:data0=>91, :data1=>0.9998476951563913}, {:data0=>92, :data1=>0.9993908270190958}, {:data0=>93, :data1=>0.9986295347545738}, {:data0=>94, :data1=>0.9975640502598242}, {:data0=>95, :data1=>0.9961946980917455}, {:data0=>96, :data1=>0.9945218953682734}, {:data0=>97, :data1=>0.9925461516413221}, {:data0=>98, :data1=>0.9902680687415704}, {:data0=>99, :data1=>0.9876883405951377}, {:data0=>100, :data1=>0.984807753012208}, {:data0=>101, :data1=>0.981627183447664}, {:data0=>102, :data1=>0.9781476007338057}, {:data0=>103, :data1=>0.9743700647852352}, {:data0=>104, :data1=>0.9702957262759965}, {:data0=>105, :data1=>0.9659258262890683}, {:data0=>106, :data1=>0.9612616959383189}, {:data0=>107, :data1=>0.9563047559630355}, {:data0=>108, :data1=>0.9510565162951536}, {:data0=>109, :data1=>0.9455185755993168}, {:data0=>110, :data1=>0.9396926207859084}, {:data0=>111, :data1=>0.9335804264972017}, {:data0=>112, :data1=>0.9271838545667874}, {:data0=>113, :data1=>0.9205048534524404}, {:data0=>114, :data1=>0.913545457642601}, {:data0=>115, :data1=>0.90630778703665}, {:data0=>116, :data1=>0.8987940462991669}, {:data0=>117, :data1=>0.8910065241883679}, {:data0=>118, :data1=>0.8829475928589271}, {:data0=>119, :data1=>0.8746197071393959}, {:data0=>120, :data1=>0.8660254037844387}, {:data0=>121, :data1=>0.8571673007021123}, {:data0=>122, :data1=>0.8480480961564261}, {:data0=>123, :data1=>0.8386705679454239}, {:data0=>124, :data1=>0.8290375725550417}, {:data0=>125, :data1=>0.819152044288992}, {:data0=>126, :data1=>0.8090169943749475}, {:data0=>127, :data1=>0.7986355100472927}, {:data0=>128, :data1=>0.788010753606722}, {:data0=>129, :data1=>0.777145961456971}, {:data0=>130, :data1=>0.766044443118978}, {:data0=>131, :data1=>0.7547095802227718}, {:data0=>132, :data1=>0.7431448254773942}, {:data0=>133, :data1=>0.7313537016191706}, {:data0=>134, :data1=>0.7193398003386514}, {:data0=>135, :data1=>0.7071067811865476}, {:data0=>136, :data1=>0.6946583704589971}, {:data0=>137, :data1=>0.6819983600624986}, {:data0=>138, :data1=>0.6691306063588583}, {:data0=>139, :data1=>0.6560590289905073}, {:data0=>140, :data1=>0.6427876096865395}, {:data0=>141, :data1=>0.6293203910498377}, {:data0=>142, :data1=>0.6156614753256584}, {:data0=>143, :data1=>0.6018150231520482}, {:data0=>144, :data1=>0.5877852522924732}, {:data0=>145, :data1=>0.5735764363510464}, {:data0=>146, :data1=>0.5591929034707469}, {:data0=>147, :data1=>0.544639035015027}, {:data0=>148, :data1=>0.5299192642332049}, {:data0=>149, :data1=>0.5150380749100544}, {:data0=>150, :data1=>0.49999999999999994}, {:data0=>151, :data1=>0.48480962024633717}, {:data0=>152, :data1=>0.4694715627858911}, {:data0=>153, :data1=>0.45399049973954686}, {:data0=>154, :data1=>0.4383711467890773}, {:data0=>155, :data1=>0.4226182617406995}, {:data0=>156, :data1=>0.40673664307580043}, {:data0=>157, :data1=>0.39073112848927416}, {:data0=>158, :data1=>0.37460659341591224}, {:data0=>159, :data1=>0.3583679495453002}, {:data0=>160, :data1=>0.3420201433256689}, {:data0=>161, :data1=>0.32556815445715703}, {:data0=>162, :data1=>0.3090169943749475}, {:data0=>163, :data1=>0.29237170472273705}, {:data0=>164, :data1=>0.27563735581699966}, {:data0=>165, :data1=>0.258819045102521}, {:data0=>166, :data1=>0.24192189559966773}, {:data0=>167, :data1=>0.22495105434386478}, {:data0=>168, :data1=>0.20791169081775931}, {:data0=>169, :data1=>0.19080899537654497}, {:data0=>170, :data1=>0.17364817766693028}, {:data0=>171, :data1=>0.15643446504023098}, {:data0=>172, :data1=>0.13917310096006574}, {:data0=>173, :data1=>0.12186934340514755}, {:data0=>174, :data1=>0.10452846326765373}, {:data0=>175, :data1=>0.08715574274765864}, {:data0=>176, :data1=>0.06975647374412552}, {:data0=>177, :data1=>0.05233595624294381}, {:data0=>178, :data1=>0.0348994967025007}, {:data0=>179, :data1=>0.01745240643728344}, {:data0=>180, :data1=>1.2246467991473532e-16}, {:data0=>181, :data1=>-0.017452406437283192}, {:data0=>182, :data1=>-0.0348994967025009}, {:data0=>183, :data1=>-0.052335956242943564}, {:data0=>184, :data1=>-0.06975647374412483}, {:data0=>185, :data1=>-0.08715574274765794}, {:data0=>186, :data1=>-0.10452846326765305}, {:data0=>187, :data1=>-0.12186934340514774}, {:data0=>188, :data1=>-0.13917310096006552}, {:data0=>189, :data1=>-0.15643446504023073}, {:data0=>190, :data1=>-0.17364817766693047}, {:data0=>191, :data1=>-0.19080899537654472}, {:data0=>192, :data1=>-0.20791169081775907}, {:data0=>193, :data1=>-0.22495105434386498}, {:data0=>194, :data1=>-0.2419218955996675}, {:data0=>195, :data1=>-0.25881904510252035}, {:data0=>196, :data1=>-0.275637355816999}, {:data0=>197, :data1=>-0.2923717047227364}, {:data0=>198, :data1=>-0.30901699437494773}, {:data0=>199, :data1=>-0.32556815445715676}, {:data0=>200, :data1=>-0.34202014332566866}, {:data0=>201, :data1=>-0.35836794954530043}, {:data0=>202, :data1=>-0.374606593415912}, {:data0=>203, :data1=>-0.39073112848927355}, {:data0=>204, :data1=>-0.4067366430757998}, {:data0=>205, :data1=>-0.4226182617406993}, {:data0=>206, :data1=>-0.43837114678907707}, {:data0=>207, :data1=>-0.45399049973954625}, {:data0=>208, :data1=>-0.46947156278589086}, {:data0=>209, :data1=>-0.48480962024633695}, {:data0=>210, :data1=>-0.5000000000000001}, {:data0=>211, :data1=>-0.5150380749100542}, {:data0=>212, :data1=>-0.5299192642332048}, {:data0=>213, :data1=>-0.5446390350150271}, {:data0=>214, :data1=>-0.5591929034707467}, {:data0=>215, :data1=>-0.5735764363510458}, {:data0=>216, :data1=>-0.587785252292473}, {:data0=>217, :data1=>-0.601815023152048}, {:data0=>218, :data1=>-0.6156614753256578}, {:data0=>219, :data1=>-0.6293203910498376}, {:data0=>220, :data1=>-0.6427876096865393}, {:data0=>221, :data1=>-0.6560590289905074}, {:data0=>222, :data1=>-0.6691306063588582}, {:data0=>223, :data1=>-0.6819983600624984}, {:data0=>224, :data1=>-0.6946583704589974}, {:data0=>225, :data1=>-0.7071067811865475}, {:data0=>226, :data1=>-0.7193398003386509}, {:data0=>227, :data1=>-0.7313537016191701}, {:data0=>228, :data1=>-0.743144825477394}, {:data0=>229, :data1=>-0.7547095802227717}, {:data0=>230, :data1=>-0.7660444431189779}, {:data0=>231, :data1=>-0.7771459614569711}, {:data0=>232, :data1=>-0.7880107536067221}, {:data0=>233, :data1=>-0.7986355100472928}, {:data0=>234, :data1=>-0.8090169943749473}, {:data0=>235, :data1=>-0.8191520442889916}, {:data0=>236, :data1=>-0.8290375725550414}, {:data0=>237, :data1=>-0.838670567945424}, {:data0=>238, :data1=>-0.848048096156426}, {:data0=>239, :data1=>-0.8571673007021121}, {:data0=>240, :data1=>-0.8660254037844384}, {:data0=>241, :data1=>-0.874619707139396}, {:data0=>242, :data1=>-0.882947592858927}, {:data0=>243, :data1=>-0.8910065241883678}, {:data0=>244, :data1=>-0.8987940462991668}, {:data0=>245, :data1=>-0.9063077870366497}, {:data0=>246, :data1=>-0.913545457642601}, {:data0=>247, :data1=>-0.9205048534524403}, {:data0=>248, :data1=>-0.9271838545667873}, {:data0=>249, :data1=>-0.9335804264972016}, {:data0=>250, :data1=>-0.9396926207859082}, {:data0=>251, :data1=>-0.9455185755993168}, {:data0=>252, :data1=>-0.9510565162951535}, {:data0=>253, :data1=>-0.9563047559630353}, {:data0=>254, :data1=>-0.961261695938319}, {:data0=>255, :data1=>-0.9659258262890683}, {:data0=>256, :data1=>-0.9702957262759965}, {:data0=>257, :data1=>-0.9743700647852351}, {:data0=>258, :data1=>-0.9781476007338056}, {:data0=>259, :data1=>-0.9816271834476639}, {:data0=>260, :data1=>-0.984807753012208}, {:data0=>261, :data1=>-0.9876883405951377}, {:data0=>262, :data1=>-0.9902680687415704}, {:data0=>263, :data1=>-0.9925461516413221}, {:data0=>264, :data1=>-0.9945218953682734}, {:data0=>265, :data1=>-0.9961946980917455}, {:data0=>266, :data1=>-0.9975640502598242}, {:data0=>267, :data1=>-0.9986295347545738}, {:data0=>268, :data1=>-0.9993908270190957}, {:data0=>269, :data1=>-0.9998476951563913}, {:data0=>270, :data1=>-1.0}, {:data0=>271, :data1=>-0.9998476951563913}, {:data0=>272, :data1=>-0.9993908270190958}, {:data0=>273, :data1=>-0.9986295347545738}, {:data0=>274, :data1=>-0.9975640502598243}, {:data0=>275, :data1=>-0.9961946980917455}, {:data0=>276, :data1=>-0.9945218953682734}, {:data0=>277, :data1=>-0.992546151641322}, {:data0=>278, :data1=>-0.9902680687415704}, {:data0=>279, :data1=>-0.9876883405951378}, {:data0=>280, :data1=>-0.9848077530122081}, {:data0=>281, :data1=>-0.9816271834476641}, {:data0=>282, :data1=>-0.9781476007338058}, {:data0=>283, :data1=>-0.9743700647852352}, {:data0=>284, :data1=>-0.9702957262759966}, {:data0=>285, :data1=>-0.9659258262890682}, {:data0=>286, :data1=>-0.9612616959383188}, {:data0=>287, :data1=>-0.9563047559630354}, {:data0=>288, :data1=>-0.9510565162951536}, {:data0=>289, :data1=>-0.945518575599317}, {:data0=>290, :data1=>-0.9396926207859085}, {:data0=>291, :data1=>-0.9335804264972021}, {:data0=>292, :data1=>-0.9271838545667874}, {:data0=>293, :data1=>-0.9205048534524405}, {:data0=>294, :data1=>-0.9135454576426008}, {:data0=>295, :data1=>-0.9063077870366499}, {:data0=>296, :data1=>-0.898794046299167}, {:data0=>297, :data1=>-0.8910065241883679}, {:data0=>298, :data1=>-0.8829475928589271}, {:data0=>299, :data1=>-0.8746197071393961}, {:data0=>300, :data1=>-0.8660254037844386}, {:data0=>301, :data1=>-0.8571673007021123}, {:data0=>302, :data1=>-0.8480480961564262}, {:data0=>303, :data1=>-0.8386705679454243}, {:data0=>304, :data1=>-0.8290375725550421}, {:data0=>305, :data1=>-0.8191520442889918}, {:data0=>306, :data1=>-0.8090169943749476}, {:data0=>307, :data1=>-0.798635510047293}, {:data0=>308, :data1=>-0.7880107536067218}, {:data0=>309, :data1=>-0.7771459614569708}, {:data0=>310, :data1=>-0.7660444431189781}, {:data0=>311, :data1=>-0.7547095802227722}, {:data0=>312, :data1=>-0.7431448254773946}, {:data0=>313, :data1=>-0.731353701619171}, {:data0=>314, :data1=>-0.7193398003386517}, {:data0=>315, :data1=>-0.7071067811865477}, {:data0=>316, :data1=>-0.6946583704589976}, {:data0=>317, :data1=>-0.6819983600624983}, {:data0=>318, :data1=>-0.6691306063588581}, {:data0=>319, :data1=>-0.6560590289905074}, {:data0=>320, :data1=>-0.6427876096865396}, {:data0=>321, :data1=>-0.6293203910498378}, {:data0=>322, :data1=>-0.6156614753256588}, {:data0=>323, :data1=>-0.6018150231520483}, {:data0=>324, :data1=>-0.5877852522924734}, {:data0=>325, :data1=>-0.5735764363510465}, {:data0=>326, :data1=>-0.5591929034707473}, {:data0=>327, :data1=>-0.544639035015027}, {:data0=>328, :data1=>-0.5299192642332058}, {:data0=>329, :data1=>-0.5150380749100545}, {:data0=>330, :data1=>-0.5000000000000004}, {:data0=>331, :data1=>-0.4848096202463369}, {:data0=>332, :data1=>-0.4694715627858908}, {:data0=>333, :data1=>-0.45399049973954697}, {:data0=>334, :data1=>-0.438371146789077}, {:data0=>335, :data1=>-0.4226182617407}, {:data0=>336, :data1=>-0.40673664307580015}, {:data0=>337, :data1=>-0.3907311284892747}, {:data0=>338, :data1=>-0.37460659341591235}, {:data0=>339, :data1=>-0.35836794954530077}, {:data0=>340, :data1=>-0.3420201433256686}, {:data0=>341, :data1=>-0.32556815445715753}, {:data0=>342, :data1=>-0.3090169943749476}, {:data0=>343, :data1=>-0.29237170472273627}, {:data0=>344, :data1=>-0.2756373558169998}, {:data0=>345, :data1=>-0.2588190451025207}, {:data0=>346, :data1=>-0.24192189559966787}, {:data0=>347, :data1=>-0.22495105434386534}, {:data0=>348, :data1=>-0.20791169081775987}, {:data0=>349, :data1=>-0.19080899537654467}, {:data0=>350, :data1=>-0.17364817766693127}, {:data0=>351, :data1=>-0.1564344650402311}, {:data0=>352, :data1=>-0.13917310096006588}, {:data0=>353, :data1=>-0.12186934340514811}, {:data0=>354, :data1=>-0.10452846326765342}, {:data0=>355, :data1=>-0.08715574274765832}, {:data0=>356, :data1=>-0.06975647374412476}, {:data0=>357, :data1=>-0.05233595624294437}, {:data0=>358, :data1=>-0.034899496702500823}, {:data0=>359, :data1=>-0.01745240643728445}]>, \"0cfd0726-1b53-4edf-93af-c2b6ea6264b4\"=>#<Nyaplot::DataFrame:0x8679960 @name=\"0cfd0726-1b53-4edf-93af-c2b6ea6264b4\", @rows=[{:data0=>0, :data1=>1.0}, {:data0=>1, :data1=>0.9998476951563913}, {:data0=>2, :data1=>0.9993908270190958}, {:data0=>3, :data1=>0.9986295347545738}, {:data0=>4, :data1=>0.9975640502598242}, {:data0=>5, :data1=>0.9961946980917455}, {:data0=>6, :data1=>0.9945218953682733}, {:data0=>7, :data1=>0.992546151641322}, {:data0=>8, :data1=>0.9902680687415704}, {:data0=>9, :data1=>0.9876883405951378}, {:data0=>10, :data1=>0.984807753012208}, {:data0=>11, :data1=>0.981627183447664}, {:data0=>12, :data1=>0.9781476007338057}, {:data0=>13, :data1=>0.9743700647852352}, {:data0=>14, :data1=>0.9702957262759965}, {:data0=>15, :data1=>0.9659258262890683}, {:data0=>16, :data1=>0.9612616959383189}, {:data0=>17, :data1=>0.9563047559630354}, {:data0=>18, :data1=>0.9510565162951535}, {:data0=>19, :data1=>0.9455185755993168}, {:data0=>20, :data1=>0.9396926207859084}, {:data0=>21, :data1=>0.9335804264972017}, {:data0=>22, :data1=>0.9271838545667874}, {:data0=>23, :data1=>0.9205048534524404}, {:data0=>24, :data1=>0.9135454576426009}, {:data0=>25, :data1=>0.9063077870366499}, {:data0=>26, :data1=>0.898794046299167}, {:data0=>27, :data1=>0.8910065241883679}, {:data0=>28, :data1=>0.882947592858927}, {:data0=>29, :data1=>0.8746197071393957}, {:data0=>30, :data1=>0.8660254037844387}, {:data0=>31, :data1=>0.8571673007021123}, {:data0=>32, :data1=>0.848048096156426}, {:data0=>33, :data1=>0.838670567945424}, {:data0=>34, :data1=>0.8290375725550416}, {:data0=>35, :data1=>0.8191520442889918}, {:data0=>36, :data1=>0.8090169943749475}, {:data0=>37, :data1=>0.7986355100472928}, {:data0=>38, :data1=>0.788010753606722}, {:data0=>39, :data1=>0.7771459614569709}, {:data0=>40, :data1=>0.766044443118978}, {:data0=>41, :data1=>0.7547095802227721}, {:data0=>42, :data1=>0.7431448254773942}, {:data0=>43, :data1=>0.7313537016191706}, {:data0=>44, :data1=>0.7193398003386512}, {:data0=>45, :data1=>0.7071067811865476}, {:data0=>46, :data1=>0.6946583704589974}, {:data0=>47, :data1=>0.6819983600624985}, {:data0=>48, :data1=>0.6691306063588582}, {:data0=>49, :data1=>0.6560590289905073}, {:data0=>50, :data1=>0.6427876096865394}, {:data0=>51, :data1=>0.6293203910498375}, {:data0=>52, :data1=>0.6156614753256583}, {:data0=>53, :data1=>0.6018150231520484}, {:data0=>54, :data1=>0.5877852522924731}, {:data0=>55, :data1=>0.5735764363510462}, {:data0=>56, :data1=>0.5591929034707468}, {:data0=>57, :data1=>0.5446390350150272}, {:data0=>58, :data1=>0.5299192642332049}, {:data0=>59, :data1=>0.5150380749100544}, {:data0=>60, :data1=>0.5000000000000001}, {:data0=>61, :data1=>0.4848096202463371}, {:data0=>62, :data1=>0.46947156278589086}, {:data0=>63, :data1=>0.4539904997395468}, {:data0=>64, :data1=>0.43837114678907746}, {:data0=>65, :data1=>0.42261826174069944}, {:data0=>66, :data1=>0.4067366430758002}, {:data0=>67, :data1=>0.39073112848927394}, {:data0=>68, :data1=>0.37460659341591196}, {:data0=>69, :data1=>0.3583679495453004}, {:data0=>70, :data1=>0.3420201433256688}, {:data0=>71, :data1=>0.32556815445715676}, {:data0=>72, :data1=>0.30901699437494745}, {:data0=>73, :data1=>0.29237170472273677}, {:data0=>74, :data1=>0.27563735581699916}, {:data0=>75, :data1=>0.25881904510252074}, {:data0=>76, :data1=>0.2419218955996679}, {:data0=>77, :data1=>0.22495105434386492}, {:data0=>78, :data1=>0.20791169081775945}, {:data0=>79, :data1=>0.19080899537654492}, {:data0=>80, :data1=>0.17364817766693041}, {:data0=>81, :data1=>0.15643446504023092}, {:data0=>82, :data1=>0.1391731009600657}, {:data0=>83, :data1=>0.12186934340514749}, {:data0=>84, :data1=>0.10452846326765346}, {:data0=>85, :data1=>0.08715574274765814}, {:data0=>86, :data1=>0.06975647374412546}, {:data0=>87, :data1=>0.052335956242943966}, {:data0=>88, :data1=>0.03489949670250108}, {:data0=>89, :data1=>0.017452406437283376}, {:data0=>90, :data1=>6.123233995736766e-17}, {:data0=>91, :data1=>-0.017452406437283477}, {:data0=>92, :data1=>-0.03489949670250073}, {:data0=>93, :data1=>-0.05233595624294362}, {:data0=>94, :data1=>-0.06975647374412533}, {:data0=>95, :data1=>-0.08715574274765824}, {:data0=>96, :data1=>-0.10452846326765333}, {:data0=>97, :data1=>-0.12186934340514737}, {:data0=>98, :data1=>-0.13917310096006535}, {:data0=>99, :data1=>-0.15643446504023104}, {:data0=>100, :data1=>-0.1736481776669303}, {:data0=>101, :data1=>-0.1908089953765448}, {:data0=>102, :data1=>-0.20791169081775912}, {:data0=>103, :data1=>-0.2249510543438648}, {:data0=>104, :data1=>-0.24192189559966779}, {:data0=>105, :data1=>-0.25881904510252085}, {:data0=>106, :data1=>-0.27563735581699905}, {:data0=>107, :data1=>-0.29237170472273666}, {:data0=>108, :data1=>-0.30901699437494734}, {:data0=>109, :data1=>-0.3255681544571564}, {:data0=>110, :data1=>-0.3420201433256687}, {:data0=>111, :data1=>-0.35836794954530027}, {:data0=>112, :data1=>-0.37460659341591207}, {:data0=>113, :data1=>-0.3907311284892736}, {:data0=>114, :data1=>-0.40673664307580004}, {:data0=>115, :data1=>-0.42261826174069933}, {:data0=>116, :data1=>-0.4383711467890775}, {:data0=>117, :data1=>-0.4539904997395467}, {:data0=>118, :data1=>-0.46947156278589053}, {:data0=>119, :data1=>-0.484809620246337}, {:data0=>120, :data1=>-0.4999999999999998}, {:data0=>121, :data1=>-0.5150380749100543}, {:data0=>122, :data1=>-0.5299192642332048}, {:data0=>123, :data1=>-0.5446390350150271}, {:data0=>124, :data1=>-0.5591929034707467}, {:data0=>125, :data1=>-0.5735764363510458}, {:data0=>126, :data1=>-0.587785252292473}, {:data0=>127, :data1=>-0.6018150231520484}, {:data0=>128, :data1=>-0.6156614753256583}, {:data0=>129, :data1=>-0.6293203910498373}, {:data0=>130, :data1=>-0.6427876096865394}, {:data0=>131, :data1=>-0.6560590289905075}, {:data0=>132, :data1=>-0.6691306063588582}, {:data0=>133, :data1=>-0.6819983600624984}, {:data0=>134, :data1=>-0.694658370458997}, {:data0=>135, :data1=>-0.7071067811865475}, {:data0=>136, :data1=>-0.7193398003386512}, {:data0=>137, :data1=>-0.7313537016191705}, {:data0=>138, :data1=>-0.743144825477394}, {:data0=>139, :data1=>-0.754709580222772}, {:data0=>140, :data1=>-0.7660444431189779}, {:data0=>141, :data1=>-0.7771459614569707}, {:data0=>142, :data1=>-0.7880107536067219}, {:data0=>143, :data1=>-0.7986355100472929}, {:data0=>144, :data1=>-0.8090169943749473}, {:data0=>145, :data1=>-0.8191520442889916}, {:data0=>146, :data1=>-0.8290375725550416}, {:data0=>147, :data1=>-0.8386705679454242}, {:data0=>148, :data1=>-0.848048096156426}, {:data0=>149, :data1=>-0.8571673007021122}, {:data0=>150, :data1=>-0.8660254037844387}, {:data0=>151, :data1=>-0.8746197071393957}, {:data0=>152, :data1=>-0.8829475928589268}, {:data0=>153, :data1=>-0.8910065241883678}, {:data0=>154, :data1=>-0.898794046299167}, {:data0=>155, :data1=>-0.9063077870366499}, {:data0=>156, :data1=>-0.9135454576426008}, {:data0=>157, :data1=>-0.9205048534524402}, {:data0=>158, :data1=>-0.9271838545667873}, {:data0=>159, :data1=>-0.9335804264972017}, {:data0=>160, :data1=>-0.9396926207859083}, {:data0=>161, :data1=>-0.9455185755993167}, {:data0=>162, :data1=>-0.9510565162951535}, {:data0=>163, :data1=>-0.9563047559630354}, {:data0=>164, :data1=>-0.9612616959383187}, {:data0=>165, :data1=>-0.9659258262890682}, {:data0=>166, :data1=>-0.9702957262759965}, {:data0=>167, :data1=>-0.9743700647852352}, {:data0=>168, :data1=>-0.9781476007338057}, {:data0=>169, :data1=>-0.981627183447664}, {:data0=>170, :data1=>-0.984807753012208}, {:data0=>171, :data1=>-0.9876883405951377}, {:data0=>172, :data1=>-0.9902680687415703}, {:data0=>173, :data1=>-0.992546151641322}, {:data0=>174, :data1=>-0.9945218953682733}, {:data0=>175, :data1=>-0.9961946980917455}, {:data0=>176, :data1=>-0.9975640502598242}, {:data0=>177, :data1=>-0.9986295347545738}, {:data0=>178, :data1=>-0.9993908270190958}, {:data0=>179, :data1=>-0.9998476951563913}, {:data0=>180, :data1=>-1.0}, {:data0=>181, :data1=>-0.9998476951563913}, {:data0=>182, :data1=>-0.9993908270190958}, {:data0=>183, :data1=>-0.9986295347545738}, {:data0=>184, :data1=>-0.9975640502598243}, {:data0=>185, :data1=>-0.9961946980917455}, {:data0=>186, :data1=>-0.9945218953682734}, {:data0=>187, :data1=>-0.992546151641322}, {:data0=>188, :data1=>-0.9902680687415703}, {:data0=>189, :data1=>-0.9876883405951378}, {:data0=>190, :data1=>-0.984807753012208}, {:data0=>191, :data1=>-0.981627183447664}, {:data0=>192, :data1=>-0.9781476007338057}, {:data0=>193, :data1=>-0.9743700647852352}, {:data0=>194, :data1=>-0.9702957262759965}, {:data0=>195, :data1=>-0.9659258262890684}, {:data0=>196, :data1=>-0.9612616959383189}, {:data0=>197, :data1=>-0.9563047559630355}, {:data0=>198, :data1=>-0.9510565162951535}, {:data0=>199, :data1=>-0.9455185755993167}, {:data0=>200, :data1=>-0.9396926207859084}, {:data0=>201, :data1=>-0.9335804264972017}, {:data0=>202, :data1=>-0.9271838545667874}, {:data0=>203, :data1=>-0.9205048534524404}, {:data0=>204, :data1=>-0.9135454576426011}, {:data0=>205, :data1=>-0.90630778703665}, {:data0=>206, :data1=>-0.8987940462991671}, {:data0=>207, :data1=>-0.8910065241883681}, {:data0=>208, :data1=>-0.8829475928589269}, {:data0=>209, :data1=>-0.8746197071393959}, {:data0=>210, :data1=>-0.8660254037844386}, {:data0=>211, :data1=>-0.8571673007021123}, {:data0=>212, :data1=>-0.8480480961564261}, {:data0=>213, :data1=>-0.838670567945424}, {:data0=>214, :data1=>-0.8290375725550418}, {:data0=>215, :data1=>-0.819152044288992}, {:data0=>216, :data1=>-0.8090169943749476}, {:data0=>217, :data1=>-0.798635510047293}, {:data0=>218, :data1=>-0.7880107536067222}, {:data0=>219, :data1=>-0.7771459614569708}, {:data0=>220, :data1=>-0.766044443118978}, {:data0=>221, :data1=>-0.7547095802227719}, {:data0=>222, :data1=>-0.7431448254773942}, {:data0=>223, :data1=>-0.7313537016191706}, {:data0=>224, :data1=>-0.7193398003386511}, {:data0=>225, :data1=>-0.7071067811865477}, {:data0=>226, :data1=>-0.6946583704589976}, {:data0=>227, :data1=>-0.6819983600624989}, {:data0=>228, :data1=>-0.6691306063588585}, {:data0=>229, :data1=>-0.6560590289905076}, {:data0=>230, :data1=>-0.6427876096865395}, {:data0=>231, :data1=>-0.6293203910498372}, {:data0=>232, :data1=>-0.6156614753256581}, {:data0=>233, :data1=>-0.6018150231520483}, {:data0=>234, :data1=>-0.5877852522924732}, {:data0=>235, :data1=>-0.5735764363510464}, {:data0=>236, :data1=>-0.5591929034707472}, {:data0=>237, :data1=>-0.544639035015027}, {:data0=>238, :data1=>-0.529919264233205}, {:data0=>239, :data1=>-0.5150380749100545}, {:data0=>240, :data1=>-0.5000000000000004}, {:data0=>241, :data1=>-0.48480962024633684}, {:data0=>242, :data1=>-0.46947156278589075}, {:data0=>243, :data1=>-0.4539904997395469}, {:data0=>244, :data1=>-0.43837114678907774}, {:data0=>245, :data1=>-0.42261826174069994}, {:data0=>246, :data1=>-0.4067366430758001}, {:data0=>247, :data1=>-0.3907311284892738}, {:data0=>248, :data1=>-0.3746065934159123}, {:data0=>249, :data1=>-0.3583679495453007}, {:data0=>250, :data1=>-0.3420201433256694}, {:data0=>251, :data1=>-0.32556815445715664}, {:data0=>252, :data1=>-0.30901699437494756}, {:data0=>253, :data1=>-0.2923717047227371}, {:data0=>254, :data1=>-0.2756373558169989}, {:data0=>255, :data1=>-0.25881904510252063}, {:data0=>256, :data1=>-0.24192189559966779}, {:data0=>257, :data1=>-0.22495105434386525}, {:data0=>258, :data1=>-0.2079116908177598}, {:data0=>259, :data1=>-0.19080899537654547}, {:data0=>260, :data1=>-0.17364817766693033}, {:data0=>261, :data1=>-0.15643446504023104}, {:data0=>262, :data1=>-0.13917310096006494}, {:data0=>263, :data1=>-0.12186934340514717}, {:data0=>264, :data1=>-0.10452846326765336}, {:data0=>265, :data1=>-0.08715574274765825}, {:data0=>266, :data1=>-0.06975647374412558}, {:data0=>267, :data1=>-0.052335956242944306}, {:data0=>268, :data1=>-0.03489949670250165}, {:data0=>269, :data1=>-0.017452406437283498}, {:data0=>270, :data1=>-1.8369701987210297e-16}, {:data0=>271, :data1=>0.01745240643728313}, {:data0=>272, :data1=>0.03489949670250128}, {:data0=>273, :data1=>0.052335956242943946}, {:data0=>274, :data1=>0.06975647374412522}, {:data0=>275, :data1=>0.08715574274765789}, {:data0=>276, :data1=>0.10452846326765299}, {:data0=>277, :data1=>0.12186934340514768}, {:data0=>278, :data1=>0.13917310096006547}, {:data0=>279, :data1=>0.15643446504023067}, {:data0=>280, :data1=>0.17364817766692997}, {:data0=>281, :data1=>0.19080899537654425}, {:data0=>282, :data1=>0.20791169081775857}, {:data0=>283, :data1=>0.22495105434386492}, {:data0=>284, :data1=>0.24192189559966745}, {:data0=>285, :data1=>0.25881904510252113}, {:data0=>286, :data1=>0.2756373558169994}, {:data0=>287, :data1=>0.2923717047227367}, {:data0=>288, :data1=>0.30901699437494723}, {:data0=>289, :data1=>0.3255681544571563}, {:data0=>290, :data1=>0.34202014332566816}, {:data0=>291, :data1=>0.35836794954529955}, {:data0=>292, :data1=>0.37460659341591196}, {:data0=>293, :data1=>0.3907311284892735}, {:data0=>294, :data1=>0.40673664307580054}, {:data0=>295, :data1=>0.4226182617406996}, {:data0=>296, :data1=>0.4383711467890774}, {:data0=>297, :data1=>0.45399049973954664}, {:data0=>298, :data1=>0.4694715627858904}, {:data0=>299, :data1=>0.4848096202463365}, {:data0=>300, :data1=>0.5000000000000001}, {:data0=>301, :data1=>0.5150380749100542}, {:data0=>302, :data1=>0.5299192642332047}, {:data0=>303, :data1=>0.5446390350150266}, {:data0=>304, :data1=>0.5591929034707462}, {:data0=>305, :data1=>0.573576436351046}, {:data0=>306, :data1=>0.5877852522924729}, {:data0=>307, :data1=>0.6018150231520479}, {:data0=>308, :data1=>0.6156614753256585}, {:data0=>309, :data1=>0.6293203910498375}, {:data0=>310, :data1=>0.6427876096865393}, {:data0=>311, :data1=>0.656059028990507}, {:data0=>312, :data1=>0.6691306063588578}, {:data0=>313, :data1=>0.681998360062498}, {:data0=>314, :data1=>0.6946583704589966}, {:data0=>315, :data1=>0.7071067811865474}, {:data0=>316, :data1=>0.7193398003386509}, {:data0=>317, :data1=>0.7313537016191707}, {:data0=>318, :data1=>0.7431448254773942}, {:data0=>319, :data1=>0.7547095802227719}, {:data0=>320, :data1=>0.7660444431189778}, {:data0=>321, :data1=>0.7771459614569706}, {:data0=>322, :data1=>0.7880107536067216}, {:data0=>323, :data1=>0.7986355100472928}, {:data0=>324, :data1=>0.8090169943749473}, {:data0=>325, :data1=>0.8191520442889916}, {:data0=>326, :data1=>0.8290375725550414}, {:data0=>327, :data1=>0.838670567945424}, {:data0=>328, :data1=>0.8480480961564254}, {:data0=>329, :data1=>0.8571673007021121}, {:data0=>330, :data1=>0.8660254037844384}, {:data0=>331, :data1=>0.8746197071393959}, {:data0=>332, :data1=>0.8829475928589269}, {:data0=>333, :data1=>0.8910065241883678}, {:data0=>334, :data1=>0.8987940462991671}, {:data0=>335, :data1=>0.9063077870366497}, {:data0=>336, :data1=>0.913545457642601}, {:data0=>337, :data1=>0.9205048534524399}, {:data0=>338, :data1=>0.9271838545667873}, {:data0=>339, :data1=>0.9335804264972015}, {:data0=>340, :data1=>0.9396926207859084}, {:data0=>341, :data1=>0.9455185755993165}, {:data0=>342, :data1=>0.9510565162951535}, {:data0=>343, :data1=>0.9563047559630357}, {:data0=>344, :data1=>0.9612616959383187}, {:data0=>345, :data1=>0.9659258262890683}, {:data0=>346, :data1=>0.9702957262759965}, {:data0=>347, :data1=>0.9743700647852351}, {:data0=>348, :data1=>0.9781476007338056}, {:data0=>349, :data1=>0.981627183447664}, {:data0=>350, :data1=>0.9848077530122079}, {:data0=>351, :data1=>0.9876883405951377}, {:data0=>352, :data1=>0.9902680687415703}, {:data0=>353, :data1=>0.992546151641322}, {:data0=>354, :data1=>0.9945218953682733}, {:data0=>355, :data1=>0.9961946980917455}, {:data0=>356, :data1=>0.9975640502598243}, {:data0=>357, :data1=>0.9986295347545738}, {:data0=>358, :data1=>0.9993908270190958}, {:data0=>359, :data1=>0.9998476951563913}]>}, :extension=>[]}>"
      ]
     },
     "metadata": {},
     "output_type": "display_data"
    }
   ],
   "source": [
    "# Curate data\n",
    "x = Array.new(360) {|i| i}\n",
    "siny = x.map { |i| Math::sin(i*Math::PI/180) }\n",
    "cosy = x.map { |i| Math::cos(i*Math::PI/180) }\n",
    "\n",
    "# Plot this\n",
    "p = Nyaplot::Plot.new\n",
    "p.add(:line, x, siny).color(\"#FF0000\").title(\"SINE WAVE\")\n",
    "p.add(:scatter, x, cosy).color(\"#00FF00\").title(\"COSINE WAVE\")\n",
    "p.legend true\n",
    "p.show"
   ]
  },
  {
   "cell_type": "markdown",
   "metadata": {},
   "source": [
    "## Plot bar graph and histogram separately but filter the X axis of the line graph."
   ]
  },
  {
   "cell_type": "code",
   "execution_count": 20,
   "metadata": {
    "collapsed": false
   },
   "outputs": [
    {
     "data": {
      "text/html": [
       "<table><tr><th>band</th><th>popularity</th><th>country</th></tr><tr><td>Metallica</td><td>47</td><td>United Arab Emirates</td></tr><tr><td>Porcupine Tree</td><td>40</td><td>Afghanistan</td></tr><tr><td>Metallica</td><td>62</td><td>Armenia</td></tr><tr><td>Porcupine Tree</td><td>52</td><td>Azerbaijan</td></tr><tr><td>Metallica</td><td>94</td><td>Bangladesh</td></tr><tr><td>Porcupine Tree</td><td>62</td><td>Bahrain</td></tr><tr><td>Porcupine Tree</td><td>72</td><td>Brunei Darussalam</td></tr><tr><td>Iron Maiden</td><td>69</td><td>Bhutan</td></tr><tr><td>Metallica</td><td>38</td><td>China</td></tr><tr><td>Porcupine Tree</td><td>31</td><td>Cyprus</td></tr><tr><td>Porcupine Tree</td><td>7</td><td>Georgia</td></tr><tr><td>Porcupine Tree</td><td>19</td><td>Hong Kong</td></tr><tr><td>Porcupine Tree</td><td>85</td><td>Indonesia</td></tr><tr><td>Porcupine Tree</td><td>78</td><td>Israel</td></tr><tr><td>Iron Maiden</td><td>65</td><td>India</td></tr><tr><td>Metallica</td><td>49</td><td>Iraq</td></tr><tr><td>...</td><td>...</td><td>...</td></tr><tr><td>Iron Maiden</td><td>30</td><td>Vietnam</td></tr></table>"
      ],
      "text/plain": [
       "#<Nyaplot::DataFrame:0x9730c2c @name=\"2b85d990-aeb7-450b-96de-50a277c8d8ee\", @rows=[{:band=>\"Metallica\", :popularity=>47, :country=>\"United Arab Emirates\"}, {:band=>\"Porcupine Tree\", :popularity=>40, :country=>\"Afghanistan\"}, {:band=>\"Metallica\", :popularity=>62, :country=>\"Armenia\"}, {:band=>\"Porcupine Tree\", :popularity=>52, :country=>\"Azerbaijan\"}, {:band=>\"Metallica\", :popularity=>94, :country=>\"Bangladesh\"}, {:band=>\"Porcupine Tree\", :popularity=>62, :country=>\"Bahrain\"}, {:band=>\"Porcupine Tree\", :popularity=>72, :country=>\"Brunei Darussalam\"}, {:band=>\"Iron Maiden\", :popularity=>69, :country=>\"Bhutan\"}, {:band=>\"Metallica\", :popularity=>38, :country=>\"China\"}, {:band=>\"Porcupine Tree\", :popularity=>31, :country=>\"Cyprus\"}, {:band=>\"Porcupine Tree\", :popularity=>7, :country=>\"Georgia\"}, {:band=>\"Porcupine Tree\", :popularity=>19, :country=>\"Hong Kong\"}, {:band=>\"Porcupine Tree\", :popularity=>85, :country=>\"Indonesia\"}, {:band=>\"Porcupine Tree\", :popularity=>78, :country=>\"Israel\"}, {:band=>\"Iron Maiden\", :popularity=>65, :country=>\"India\"}, {:band=>\"Metallica\", :popularity=>49, :country=>\"Iraq\"}, {:band=>\"Porcupine Tree\", :popularity=>54, :country=>\"Iran, Islamic Republic Of\"}, {:band=>\"Metallica\", :popularity=>24, :country=>\"Jordan\"}, {:band=>\"Iron Maiden\", :popularity=>51, :country=>\"Japan\"}, {:band=>\"Megadeth\", :popularity=>76, :country=>\"Kyrgyzstan\"}, {:band=>\"Megadeth\", :popularity=>89, :country=>\"Cambodia\"}, {:band=>\"Iron Maiden\", :popularity=>26, :country=>\"Korea, Democratic People's Republic Of\"}, {:band=>\"Metallica\", :popularity=>38, :country=>\"Korea, Republic of\"}, {:band=>\"Iron Maiden\", :popularity=>93, :country=>\"Kuwait\"}, {:band=>\"Megadeth\", :popularity=>31, :country=>\"Kazakhstan\"}, {:band=>\"Porcupine Tree\", :popularity=>94, :country=>\"Lao People's Democratic Republic\"}, {:band=>\"Porcupine Tree\", :popularity=>39, :country=>\"Lebanon\"}, {:band=>\"Iron Maiden\", :popularity=>53, :country=>\"Sri Lanka\"}, {:band=>\"Metallica\", :popularity=>88, :country=>\"Myanmar\"}, {:band=>\"Metallica\", :popularity=>5, :country=>\"Mongolia\"}, {:band=>\"Metallica\", :popularity=>89, :country=>\"Macao\"}, {:band=>\"Iron Maiden\", :popularity=>69, :country=>\"Maldives\"}, {:band=>\"Metallica\", :popularity=>89, :country=>\"Malaysia\"}, {:band=>\"Metallica\", :popularity=>91, :country=>\"Nepal\"}, {:band=>\"Metallica\", :popularity=>51, :country=>\"Oman\"}, {:band=>\"Metallica\", :popularity=>95, :country=>\"Philippines\"}, {:band=>\"Iron Maiden\", :popularity=>56, :country=>\"Pakistan\"}, {:band=>\"Iron Maiden\", :popularity=>16, :country=>\"Palestine, State of\"}, {:band=>\"Iron Maiden\", :popularity=>82, :country=>\"Qatar\"}, {:band=>\"Megadeth\", :popularity=>54, :country=>\"Saudi Arabia\"}, {:band=>\"Metallica\", :popularity=>7, :country=>\"Singapore\"}, {:band=>\"Megadeth\", :popularity=>91, :country=>\"Syrian Arab Republic\"}, {:band=>\"Iron Maiden\", :popularity=>0, :country=>\"Thailand\"}, {:band=>\"Megadeth\", :popularity=>75, :country=>\"Tajikistan\"}, {:band=>\"Megadeth\", :popularity=>47, :country=>\"Timor-Leste\"}, {:band=>\"Metallica\", :popularity=>87, :country=>\"Turkmenistan\"}, {:band=>\"Metallica\", :popularity=>31, :country=>\"Turkey\"}, {:band=>\"Megadeth\", :popularity=>94, :country=>\"Taiwan, Republic Of China\"}, {:band=>\"Megadeth\", :popularity=>18, :country=>\"Uzbekistan\"}, {:band=>\"Iron Maiden\", :popularity=>30, :country=>\"Vietnam\"}]>"
      ]
     },
     "execution_count": 20,
     "metadata": {},
     "output_type": "execute_result"
    }
   ],
   "source": [
    "# Curate dat\n",
    "require 'countries'\n",
    "data = {\n",
    "  :band => [],\n",
    "  :popularity => [],\n",
    "  :country => []\n",
    "  }\n",
    "bands = ['Metallica', 'Megadeth', 'Iron Maiden', 'Porcupine Tree']\n",
    "countries = ISO3166::Country.find_all_countries_by_region('Asia')\n",
    "50.times do |idx|\n",
    "  data[:band] << bands.sample\n",
    "  data[:popularity] << rand(100)\n",
    "  data[:country] << countries[idx].name\n",
    "end\n",
    "\n",
    "df = Nyaplot::DataFrame.new(data)"
   ]
  },
  {
   "cell_type": "code",
   "execution_count": 21,
   "metadata": {
    "collapsed": false
   },
   "outputs": [
    {
     "data": {
      "text/html": [
       "<div id='vis-ae73e808-abcc-4734-9746-a7a6a7a994aa'></div>\n",
       "<script>\n",
       "(function(){\n",
       "    var render = function(){\n",
       "        var model = {\"panes\":[{\"diagrams\":[{\"type\":\"histogram\",\"options\":{\"value\":\"popularity\"},\"data\":\"2b85d990-aeb7-450b-96de-50a277c8d8ee\"}],\"options\":{\"x_label\":\"Popularity\",\"y_label\":\"Frequency\",\"yrange\":[0,10],\"width\":700,\"xrange\":[0,95]},\"filter\":{\"target\":\"x\"}},{\"diagrams\":[{\"type\":\"bar\",\"options\":{\"value\":\"band\"},\"data\":\"2b85d990-aeb7-450b-96de-50a277c8d8ee\"}],\"options\":{\"x_label\":\"Band name\",\"y_label\":\"Frequency\",\"width\":700,\"xrange\":[\"Metallica\",\"Porcupine Tree\",\"Iron Maiden\",\"Megadeth\"],\"yrange\":[0,50]}}],\"data\":{\"2b85d990-aeb7-450b-96de-50a277c8d8ee\":[{\"band\":\"Metallica\",\"popularity\":47,\"country\":\"United Arab Emirates\"},{\"band\":\"Porcupine Tree\",\"popularity\":40,\"country\":\"Afghanistan\"},{\"band\":\"Metallica\",\"popularity\":62,\"country\":\"Armenia\"},{\"band\":\"Porcupine Tree\",\"popularity\":52,\"country\":\"Azerbaijan\"},{\"band\":\"Metallica\",\"popularity\":94,\"country\":\"Bangladesh\"},{\"band\":\"Porcupine Tree\",\"popularity\":62,\"country\":\"Bahrain\"},{\"band\":\"Porcupine Tree\",\"popularity\":72,\"country\":\"Brunei Darussalam\"},{\"band\":\"Iron Maiden\",\"popularity\":69,\"country\":\"Bhutan\"},{\"band\":\"Metallica\",\"popularity\":38,\"country\":\"China\"},{\"band\":\"Porcupine Tree\",\"popularity\":31,\"country\":\"Cyprus\"},{\"band\":\"Porcupine Tree\",\"popularity\":7,\"country\":\"Georgia\"},{\"band\":\"Porcupine Tree\",\"popularity\":19,\"country\":\"Hong Kong\"},{\"band\":\"Porcupine Tree\",\"popularity\":85,\"country\":\"Indonesia\"},{\"band\":\"Porcupine Tree\",\"popularity\":78,\"country\":\"Israel\"},{\"band\":\"Iron Maiden\",\"popularity\":65,\"country\":\"India\"},{\"band\":\"Metallica\",\"popularity\":49,\"country\":\"Iraq\"},{\"band\":\"Porcupine Tree\",\"popularity\":54,\"country\":\"Iran, Islamic Republic Of\"},{\"band\":\"Metallica\",\"popularity\":24,\"country\":\"Jordan\"},{\"band\":\"Iron Maiden\",\"popularity\":51,\"country\":\"Japan\"},{\"band\":\"Megadeth\",\"popularity\":76,\"country\":\"Kyrgyzstan\"},{\"band\":\"Megadeth\",\"popularity\":89,\"country\":\"Cambodia\"},{\"band\":\"Iron Maiden\",\"popularity\":26,\"country\":\"Korea, Democratic People's Republic Of\"},{\"band\":\"Metallica\",\"popularity\":38,\"country\":\"Korea, Republic of\"},{\"band\":\"Iron Maiden\",\"popularity\":93,\"country\":\"Kuwait\"},{\"band\":\"Megadeth\",\"popularity\":31,\"country\":\"Kazakhstan\"},{\"band\":\"Porcupine Tree\",\"popularity\":94,\"country\":\"Lao People's Democratic Republic\"},{\"band\":\"Porcupine Tree\",\"popularity\":39,\"country\":\"Lebanon\"},{\"band\":\"Iron Maiden\",\"popularity\":53,\"country\":\"Sri Lanka\"},{\"band\":\"Metallica\",\"popularity\":88,\"country\":\"Myanmar\"},{\"band\":\"Metallica\",\"popularity\":5,\"country\":\"Mongolia\"},{\"band\":\"Metallica\",\"popularity\":89,\"country\":\"Macao\"},{\"band\":\"Iron Maiden\",\"popularity\":69,\"country\":\"Maldives\"},{\"band\":\"Metallica\",\"popularity\":89,\"country\":\"Malaysia\"},{\"band\":\"Metallica\",\"popularity\":91,\"country\":\"Nepal\"},{\"band\":\"Metallica\",\"popularity\":51,\"country\":\"Oman\"},{\"band\":\"Metallica\",\"popularity\":95,\"country\":\"Philippines\"},{\"band\":\"Iron Maiden\",\"popularity\":56,\"country\":\"Pakistan\"},{\"band\":\"Iron Maiden\",\"popularity\":16,\"country\":\"Palestine, State of\"},{\"band\":\"Iron Maiden\",\"popularity\":82,\"country\":\"Qatar\"},{\"band\":\"Megadeth\",\"popularity\":54,\"country\":\"Saudi Arabia\"},{\"band\":\"Metallica\",\"popularity\":7,\"country\":\"Singapore\"},{\"band\":\"Megadeth\",\"popularity\":91,\"country\":\"Syrian Arab Republic\"},{\"band\":\"Iron Maiden\",\"popularity\":0,\"country\":\"Thailand\"},{\"band\":\"Megadeth\",\"popularity\":75,\"country\":\"Tajikistan\"},{\"band\":\"Megadeth\",\"popularity\":47,\"country\":\"Timor-Leste\"},{\"band\":\"Metallica\",\"popularity\":87,\"country\":\"Turkmenistan\"},{\"band\":\"Metallica\",\"popularity\":31,\"country\":\"Turkey\"},{\"band\":\"Megadeth\",\"popularity\":94,\"country\":\"Taiwan, Republic Of China\"},{\"band\":\"Megadeth\",\"popularity\":18,\"country\":\"Uzbekistan\"},{\"band\":\"Iron Maiden\",\"popularity\":30,\"country\":\"Vietnam\"}]},\"extension\":[]}\n",
       "        var id_name = '#vis-ae73e808-abcc-4734-9746-a7a6a7a994aa';\n",
       "        Nyaplot.core.parse(model, id_name);\n",
       "\n",
       "        require(['downloadable'], function(downloadable){\n",
       "          var svg = d3.select(id_name).select(\"svg\");\n",
       "\t  if(!svg.empty())\n",
       "\t    svg.call(downloadable().filename('fig'));\n",
       "\t});\n",
       "    };\n",
       "    if(window['Nyaplot']==undefined){\n",
       "        window.addEventListener('load_nyaplot', render, false);\n",
       "\treturn;\n",
       "    } else {\n",
       "       render();\n",
       "    }\n",
       "})();\n",
       "</script>\n"
      ],
      "text/plain": [
       "#<Nyaplot::Frame:0x95f1fc8 @properties={:panes=>[#<Nyaplot::Plot:0x95f26f8 @properties={:diagrams=>[#<Nyaplot::Diagram:0x95f261c @properties={:type=>:histogram, :options=>{:value=>:popularity}, :data=>\"2b85d990-aeb7-450b-96de-50a277c8d8ee\"}, @xrange=[0, 95], @yrange=[0, 50]>], :options=>{:x_label=>\"Popularity\", :y_label=>\"Frequency\", :yrange=>[0, 10], :width=>700, :xrange=>[0, 95]}, :filter=>{:target=>\"x\"}}>, #<Nyaplot::Plot:0x95f2310 @properties={:diagrams=>[#<Nyaplot::Diagram:0x95f2234 @properties={:type=>:bar, :options=>{:value=>:band}, :data=>\"2b85d990-aeb7-450b-96de-50a277c8d8ee\"}, @xrange=[\"Metallica\", \"Porcupine Tree\", \"Iron Maiden\", \"Megadeth\"], @yrange=[0, 50]>], :options=>{:x_label=>\"Band name\", :y_label=>\"Frequency\", :width=>700, :xrange=>[\"Metallica\", \"Porcupine Tree\", \"Iron Maiden\", \"Megadeth\"], :yrange=>[0, 50]}}>], :data=>{\"2b85d990-aeb7-450b-96de-50a277c8d8ee\"=>#<Nyaplot::DataFrame:0x9730c2c @name=\"2b85d990-aeb7-450b-96de-50a277c8d8ee\", @rows=[{:band=>\"Metallica\", :popularity=>47, :country=>\"United Arab Emirates\"}, {:band=>\"Porcupine Tree\", :popularity=>40, :country=>\"Afghanistan\"}, {:band=>\"Metallica\", :popularity=>62, :country=>\"Armenia\"}, {:band=>\"Porcupine Tree\", :popularity=>52, :country=>\"Azerbaijan\"}, {:band=>\"Metallica\", :popularity=>94, :country=>\"Bangladesh\"}, {:band=>\"Porcupine Tree\", :popularity=>62, :country=>\"Bahrain\"}, {:band=>\"Porcupine Tree\", :popularity=>72, :country=>\"Brunei Darussalam\"}, {:band=>\"Iron Maiden\", :popularity=>69, :country=>\"Bhutan\"}, {:band=>\"Metallica\", :popularity=>38, :country=>\"China\"}, {:band=>\"Porcupine Tree\", :popularity=>31, :country=>\"Cyprus\"}, {:band=>\"Porcupine Tree\", :popularity=>7, :country=>\"Georgia\"}, {:band=>\"Porcupine Tree\", :popularity=>19, :country=>\"Hong Kong\"}, {:band=>\"Porcupine Tree\", :popularity=>85, :country=>\"Indonesia\"}, {:band=>\"Porcupine Tree\", :popularity=>78, :country=>\"Israel\"}, {:band=>\"Iron Maiden\", :popularity=>65, :country=>\"India\"}, {:band=>\"Metallica\", :popularity=>49, :country=>\"Iraq\"}, {:band=>\"Porcupine Tree\", :popularity=>54, :country=>\"Iran, Islamic Republic Of\"}, {:band=>\"Metallica\", :popularity=>24, :country=>\"Jordan\"}, {:band=>\"Iron Maiden\", :popularity=>51, :country=>\"Japan\"}, {:band=>\"Megadeth\", :popularity=>76, :country=>\"Kyrgyzstan\"}, {:band=>\"Megadeth\", :popularity=>89, :country=>\"Cambodia\"}, {:band=>\"Iron Maiden\", :popularity=>26, :country=>\"Korea, Democratic People's Republic Of\"}, {:band=>\"Metallica\", :popularity=>38, :country=>\"Korea, Republic of\"}, {:band=>\"Iron Maiden\", :popularity=>93, :country=>\"Kuwait\"}, {:band=>\"Megadeth\", :popularity=>31, :country=>\"Kazakhstan\"}, {:band=>\"Porcupine Tree\", :popularity=>94, :country=>\"Lao People's Democratic Republic\"}, {:band=>\"Porcupine Tree\", :popularity=>39, :country=>\"Lebanon\"}, {:band=>\"Iron Maiden\", :popularity=>53, :country=>\"Sri Lanka\"}, {:band=>\"Metallica\", :popularity=>88, :country=>\"Myanmar\"}, {:band=>\"Metallica\", :popularity=>5, :country=>\"Mongolia\"}, {:band=>\"Metallica\", :popularity=>89, :country=>\"Macao\"}, {:band=>\"Iron Maiden\", :popularity=>69, :country=>\"Maldives\"}, {:band=>\"Metallica\", :popularity=>89, :country=>\"Malaysia\"}, {:band=>\"Metallica\", :popularity=>91, :country=>\"Nepal\"}, {:band=>\"Metallica\", :popularity=>51, :country=>\"Oman\"}, {:band=>\"Metallica\", :popularity=>95, :country=>\"Philippines\"}, {:band=>\"Iron Maiden\", :popularity=>56, :country=>\"Pakistan\"}, {:band=>\"Iron Maiden\", :popularity=>16, :country=>\"Palestine, State of\"}, {:band=>\"Iron Maiden\", :popularity=>82, :country=>\"Qatar\"}, {:band=>\"Megadeth\", :popularity=>54, :country=>\"Saudi Arabia\"}, {:band=>\"Metallica\", :popularity=>7, :country=>\"Singapore\"}, {:band=>\"Megadeth\", :popularity=>91, :country=>\"Syrian Arab Republic\"}, {:band=>\"Iron Maiden\", :popularity=>0, :country=>\"Thailand\"}, {:band=>\"Megadeth\", :popularity=>75, :country=>\"Tajikistan\"}, {:band=>\"Megadeth\", :popularity=>47, :country=>\"Timor-Leste\"}, {:band=>\"Metallica\", :popularity=>87, :country=>\"Turkmenistan\"}, {:band=>\"Metallica\", :popularity=>31, :country=>\"Turkey\"}, {:band=>\"Megadeth\", :popularity=>94, :country=>\"Taiwan, Republic Of China\"}, {:band=>\"Megadeth\", :popularity=>18, :country=>\"Uzbekistan\"}, {:band=>\"Iron Maiden\", :popularity=>30, :country=>\"Vietnam\"}]>}, :extension=>[]}>"
      ]
     },
     "metadata": {},
     "output_type": "display_data"
    }
   ],
   "source": [
    "# Histogram\n",
    "popularity = Nyaplot::Plot.new\n",
    "popularity.add_with_df(df, :histogram, :popularity)\n",
    "popularity.configure do\n",
    "  x_label('Popularity')\n",
    "  y_label('Frequency')\n",
    "  filter({target:'x'})\n",
    "  yrange([0,10])\n",
    "end\n",
    "\n",
    "# Bar Graph\n",
    "band = Nyaplot::Plot.new\n",
    "band.add_with_df(df, :bar, :band)\n",
    "band.configure do\n",
    "  x_label('Band name')\n",
    "  y_label('Frequency')\n",
    "end\n",
    "\n",
    "frame = Nyaplot::Frame.new\n",
    "frame.add(popularity)\n",
    "frame.add(band)\n",
    "frame.show"
   ]
  },
  {
   "cell_type": "markdown",
   "metadata": {},
   "source": [
    "### Verify that the plots are correct"
   ]
  },
  {
   "cell_type": "code",
   "execution_count": 22,
   "metadata": {
    "collapsed": false
   },
   "outputs": [
    {
     "data": {
      "text/html": [
       "<table><tr><th>band</th><th>popularity</th><th>country</th></tr><tr><td>Porcupine Tree</td><td>7</td><td>Georgia</td></tr><tr><td>Porcupine Tree</td><td>19</td><td>Hong Kong</td></tr><tr><td>Metallica</td><td>5</td><td>Mongolia</td></tr><tr><td>Iron Maiden</td><td>16</td><td>Palestine, State of</td></tr><tr><td>Metallica</td><td>7</td><td>Singapore</td></tr><tr><td>Iron Maiden</td><td>0</td><td>Thailand</td></tr><tr><td>Megadeth</td><td>18</td><td>Uzbekistan</td></tr></table>"
      ],
      "text/plain": [
       "#<Nyaplot::DataFrame:0x99211e4 @name=\"8c61a997-aa03-4b2a-a8f8-9ed0bfb56379\", @rows=[{:band=>\"Porcupine Tree\", :popularity=>7, :country=>\"Georgia\"}, {:band=>\"Porcupine Tree\", :popularity=>19, :country=>\"Hong Kong\"}, {:band=>\"Metallica\", :popularity=>5, :country=>\"Mongolia\"}, {:band=>\"Iron Maiden\", :popularity=>16, :country=>\"Palestine, State of\"}, {:band=>\"Metallica\", :popularity=>7, :country=>\"Singapore\"}, {:band=>\"Iron Maiden\", :popularity=>0, :country=>\"Thailand\"}, {:band=>\"Megadeth\", :popularity=>18, :country=>\"Uzbekistan\"}]>"
      ]
     },
     "execution_count": 22,
     "metadata": {},
     "output_type": "execute_result"
    }
   ],
   "source": [
    "df.filter {|row| row[:popularity] < 20}"
   ]
  },
  {
   "cell_type": "markdown",
   "metadata": {},
   "source": [
    "# daru (Data Analysis in RUby)"
   ]
  },
  {
   "cell_type": "markdown",
   "metadata": {},
   "source": [
    "## daru is a Ruby gem for analysis, manipulation and cleaning of data. It works well with all the above gems and makes it very easy to perform complex data analysis, cleaning and visualization tasks."
   ]
  },
  {
   "cell_type": "code",
   "execution_count": 23,
   "metadata": {
    "collapsed": false
   },
   "outputs": [
    {
     "data": {
      "text/plain": [
       "true"
      ]
     },
     "execution_count": 23,
     "metadata": {},
     "output_type": "execute_result"
    }
   ],
   "source": [
    "require 'daru'"
   ]
  },
  {
   "cell_type": "markdown",
   "metadata": {},
   "source": [
    "## A simple case of `Daru::Vector`"
   ]
  },
  {
   "cell_type": "code",
   "execution_count": 24,
   "metadata": {
    "collapsed": false
   },
   "outputs": [
    {
     "data": {
      "text/html": [
       "<table>\n",
       "  <tr>\n",
       "    <th colspan=\"2\">Daru::Vector(6)</th>\n",
       "  </tr>\n",
       "  \n",
       "\n",
       "  \n",
       "    <tr>\n",
       "      <td>a</td>\n",
       "      <td>1</td>\n",
       "    </tr>\n",
       "  \n",
       "    <tr>\n",
       "      <td>b</td>\n",
       "      <td>4</td>\n",
       "    </tr>\n",
       "  \n",
       "    <tr>\n",
       "      <td>ef</td>\n",
       "      <td>6</td>\n",
       "    </tr>\n",
       "  \n",
       "    <tr>\n",
       "      <td>gh</td>\n",
       "      <td>4</td>\n",
       "    </tr>\n",
       "  \n",
       "    <tr>\n",
       "      <td>i</td>\n",
       "      <td>3</td>\n",
       "    </tr>\n",
       "  \n",
       "    <tr>\n",
       "      <td>j</td>\n",
       "      <td>7</td>\n",
       "    </tr>\n",
       "  \n",
       "\n",
       "  \n",
       "</table>"
      ],
      "text/plain": [
       "#<Daru::Vector(6)>\n",
       "   a   1\n",
       "   b   4\n",
       "  ef   6\n",
       "  gh   4\n",
       "   i   3\n",
       "   j   7"
      ]
     },
     "execution_count": 24,
     "metadata": {},
     "output_type": "execute_result"
    }
   ],
   "source": [
    "index = Daru::Index.new(['a','b','ef','gh','i', 'j'])\n",
    "vec = Daru::Vector.new([1,4,6,4,3,7], index: index)"
   ]
  },
  {
   "cell_type": "markdown",
   "metadata": {},
   "source": [
    "### Select an element by index"
   ]
  },
  {
   "cell_type": "code",
   "execution_count": 25,
   "metadata": {
    "collapsed": false
   },
   "outputs": [
    {
     "data": {
      "text/plain": [
       "4"
      ]
     },
     "execution_count": 25,
     "metadata": {},
     "output_type": "execute_result"
    }
   ],
   "source": [
    "vec['gh']"
   ]
  },
  {
   "cell_type": "code",
   "execution_count": 26,
   "metadata": {
    "collapsed": false
   },
   "outputs": [
    {
     "data": {
      "text/html": [
       "<table>\n",
       "  <tr>\n",
       "    <th colspan=\"2\">Daru::Vector(2)</th>\n",
       "  </tr>\n",
       "  \n",
       "\n",
       "  \n",
       "    <tr>\n",
       "      <td>a</td>\n",
       "      <td>1</td>\n",
       "    </tr>\n",
       "  \n",
       "    <tr>\n",
       "      <td>gh</td>\n",
       "      <td>4</td>\n",
       "    </tr>\n",
       "  \n",
       "\n",
       "  \n",
       "</table>"
      ],
      "text/plain": [
       "#<Daru::Vector(2)>\n",
       "   a   1\n",
       "  gh   4"
      ]
     },
     "execution_count": 26,
     "metadata": {},
     "output_type": "execute_result"
    }
   ],
   "source": [
    "vec['a', 'gh']"
   ]
  },
  {
   "cell_type": "markdown",
   "metadata": {},
   "source": [
    "## A simple case of Daru::DataFrame\n",
    "\n",
    "If you leave out the index, it will index from 0 to size-1 by default."
   ]
  },
  {
   "cell_type": "code",
   "execution_count": 27,
   "metadata": {
    "collapsed": false
   },
   "outputs": [
    {
     "data": {
      "text/html": [
       "<table>\n",
       "  <tr>\n",
       "    <th colspan='4'>Daru::DataFrame(5x3)</th>\n",
       "  </tr>\n",
       "\n",
       "  \n",
       "    <tr>\n",
       "      <th></th>\n",
       "      \n",
       "        <th>a</th>\n",
       "      \n",
       "        <th>b</th>\n",
       "      \n",
       "        <th>c</th>\n",
       "      \n",
       "    </tr>\n",
       "  \n",
       "\n",
       "  \n",
       "    <tr>\n",
       "      <td>0</td>\n",
       "      \n",
       "        <td>1</td>\n",
       "      \n",
       "        <td>a</td>\n",
       "      \n",
       "        <td>0</td>\n",
       "      \n",
       "    </tr>\n",
       "  \n",
       "    <tr>\n",
       "      <td>1</td>\n",
       "      \n",
       "        <td>2</td>\n",
       "      \n",
       "        <td>b</td>\n",
       "      \n",
       "        <td>1</td>\n",
       "      \n",
       "    </tr>\n",
       "  \n",
       "    <tr>\n",
       "      <td>2</td>\n",
       "      \n",
       "        <td>3</td>\n",
       "      \n",
       "        <td>c</td>\n",
       "      \n",
       "        <td>2</td>\n",
       "      \n",
       "    </tr>\n",
       "  \n",
       "    <tr>\n",
       "      <td>3</td>\n",
       "      \n",
       "        <td>4</td>\n",
       "      \n",
       "        <td>d</td>\n",
       "      \n",
       "        <td>3</td>\n",
       "      \n",
       "    </tr>\n",
       "  \n",
       "    <tr>\n",
       "      <td>4</td>\n",
       "      \n",
       "        <td>5</td>\n",
       "      \n",
       "        <td>e</td>\n",
       "      \n",
       "        <td>4</td>\n",
       "      \n",
       "    </tr>\n",
       "  \n",
       "\n",
       "  \n",
       "</table>"
      ],
      "text/plain": [
       "#<Daru::DataFrame(5x3)>\n",
       "       a   b   c\n",
       "   0   1   a   0\n",
       "   1   2   b   1\n",
       "   2   3   c   2\n",
       "   3   4   d   3\n",
       "   4   5   e   4"
      ]
     },
     "execution_count": 27,
     "metadata": {},
     "output_type": "execute_result"
    }
   ],
   "source": [
    "df = Daru::DataFrame.new({\n",
    "  a: [1,2,3,4,5],\n",
    "  b: 'a'..'e',\n",
    "  c: Array.new(5) {|i| i}\n",
    "  })\n",
    "df"
   ]
  },
  {
   "cell_type": "markdown",
   "metadata": {},
   "source": [
    "Data can be indexed with a Daru::Index or one of it's subclasses:\n",
    "\n",
    "* `Daru::MultiIndex`\n",
    "* `Daru::DateTimeIndex`\n",
    "* `Daru::CategoricalIndex`"
   ]
  },
  {
   "cell_type": "markdown",
   "metadata": {},
   "source": [
    "## A MultiIndex is a hierarchical index"
   ]
  },
  {
   "cell_type": "code",
   "execution_count": 28,
   "metadata": {
    "collapsed": false
   },
   "outputs": [
    {
     "data": {
      "text/html": [
       "<table>\n",
       "  <tr>\n",
       "    <th colspan=\"3\">Daru::MultiIndex(7x3)</th>\n",
       "  </tr>\n",
       "  \n",
       "    <tr>\n",
       "      \n",
       "        <th rowspan=\"4\">a</th>\n",
       "      \n",
       "        <th rowspan=\"3\">b</th>\n",
       "      \n",
       "        <th rowspan=\"1\">c</th>\n",
       "      \n",
       "    </tr>\n",
       "  \n",
       "    <tr>\n",
       "      \n",
       "        <th rowspan=\"1\">d</th>\n",
       "      \n",
       "    </tr>\n",
       "  \n",
       "    <tr>\n",
       "      \n",
       "        <th rowspan=\"1\">p</th>\n",
       "      \n",
       "    </tr>\n",
       "  \n",
       "    <tr>\n",
       "      \n",
       "        <th rowspan=\"1\">q</th>\n",
       "      \n",
       "        <th rowspan=\"1\">p</th>\n",
       "      \n",
       "    </tr>\n",
       "  \n",
       "    <tr>\n",
       "      \n",
       "        <th rowspan=\"1\">b</th>\n",
       "      \n",
       "        <th rowspan=\"1\">r</th>\n",
       "      \n",
       "        <th rowspan=\"1\">f</th>\n",
       "      \n",
       "    </tr>\n",
       "  \n",
       "    <tr>\n",
       "      \n",
       "        <th rowspan=\"2\">c</th>\n",
       "      \n",
       "        <th rowspan=\"1\">o</th>\n",
       "      \n",
       "        <th rowspan=\"1\">t</th>\n",
       "      \n",
       "    </tr>\n",
       "  \n",
       "    <tr>\n",
       "      \n",
       "        <th rowspan=\"1\">p</th>\n",
       "      \n",
       "        <th rowspan=\"1\">w</th>\n",
       "      \n",
       "    </tr>\n",
       "  \n",
       "</table>"
      ],
      "text/plain": [
       "#<Daru::MultiIndex(7x3)>\n",
       "   a   b   c\n",
       "           d\n",
       "           p\n",
       "       q   p\n",
       "   b   r   f\n",
       "   c   o   t\n",
       "       p   w"
      ]
     },
     "execution_count": 28,
     "metadata": {},
     "output_type": "execute_result"
    }
   ],
   "source": [
    "multi_index = Daru::MultiIndex.from_tuples([\n",
    "  [:a, :b, :c],\n",
    "  [:a, :b, :d],\n",
    "  [:a, :b, :p],\n",
    "  [:a, :q, :p],\n",
    "  [:b, :r, :f],\n",
    "  [:c, :o, :t],\n",
    "  [:c, :p, :w]\n",
    "  ])"
   ]
  },
  {
   "cell_type": "markdown",
   "metadata": {},
   "source": [
    "## It allows you create and query hierarchically named data"
   ]
  },
  {
   "cell_type": "code",
   "execution_count": 29,
   "metadata": {
    "collapsed": false
   },
   "outputs": [
    {
     "data": {
      "text/html": [
       "<table>\n",
       "  <tr>\n",
       "    <th colspan=\"4\">Daru::Vector(7)</th>\n",
       "  </tr>\n",
       "  \n",
       "\n",
       "  \n",
       "    <tr>\n",
       "      \n",
       "        <th rowspan=\"4\">a</th>\n",
       "      \n",
       "        <th rowspan=\"3\">b</th>\n",
       "      \n",
       "        <th rowspan=\"1\">c</th>\n",
       "      \n",
       "      <td>1</td>\n",
       "    </tr>\n",
       "  \n",
       "    <tr>\n",
       "      \n",
       "        <th rowspan=\"1\">d</th>\n",
       "      \n",
       "      <td>2</td>\n",
       "    </tr>\n",
       "  \n",
       "    <tr>\n",
       "      \n",
       "        <th rowspan=\"1\">p</th>\n",
       "      \n",
       "      <td>3</td>\n",
       "    </tr>\n",
       "  \n",
       "    <tr>\n",
       "      \n",
       "        <th rowspan=\"1\">q</th>\n",
       "      \n",
       "        <th rowspan=\"1\">p</th>\n",
       "      \n",
       "      <td>1</td>\n",
       "    </tr>\n",
       "  \n",
       "    <tr>\n",
       "      \n",
       "        <th rowspan=\"1\">b</th>\n",
       "      \n",
       "        <th rowspan=\"1\">r</th>\n",
       "      \n",
       "        <th rowspan=\"1\">f</th>\n",
       "      \n",
       "      <td>2</td>\n",
       "    </tr>\n",
       "  \n",
       "    <tr>\n",
       "      \n",
       "        <th rowspan=\"2\">c</th>\n",
       "      \n",
       "        <th rowspan=\"1\">o</th>\n",
       "      \n",
       "        <th rowspan=\"1\">t</th>\n",
       "      \n",
       "      <td>3</td>\n",
       "    </tr>\n",
       "  \n",
       "    <tr>\n",
       "      \n",
       "        <th rowspan=\"1\">p</th>\n",
       "      \n",
       "        <th rowspan=\"1\">w</th>\n",
       "      \n",
       "      <td>66</td>\n",
       "    </tr>\n",
       "  \n",
       "\n",
       "  \n",
       "</table>"
      ],
      "text/plain": [
       "#<Daru::Vector(7)>\n",
       "   a   b   c   1\n",
       "           d   2\n",
       "           p   3\n",
       "       q   p   1\n",
       "   b   r   f   2\n",
       "   c   o   t   3\n",
       "       p   w  66"
      ]
     },
     "execution_count": 29,
     "metadata": {},
     "output_type": "execute_result"
    }
   ],
   "source": [
    "vec = Daru::Vector.new([1,2,3]*2 << 66, index: multi_index)"
   ]
  },
  {
   "cell_type": "markdown",
   "metadata": {},
   "source": [
    "## You can select data by specifying the level of nesting in the #[] method."
   ]
  },
  {
   "cell_type": "code",
   "execution_count": 30,
   "metadata": {
    "collapsed": false
   },
   "outputs": [
    {
     "data": {
      "text/html": [
       "<table>\n",
       "  <tr>\n",
       "    <th colspan=\"2\">Daru::Vector(3)</th>\n",
       "  </tr>\n",
       "  \n",
       "\n",
       "  \n",
       "    <tr>\n",
       "      \n",
       "        <th rowspan=\"1\">c</th>\n",
       "      \n",
       "      <td>1</td>\n",
       "    </tr>\n",
       "  \n",
       "    <tr>\n",
       "      \n",
       "        <th rowspan=\"1\">d</th>\n",
       "      \n",
       "      <td>2</td>\n",
       "    </tr>\n",
       "  \n",
       "    <tr>\n",
       "      \n",
       "        <th rowspan=\"1\">p</th>\n",
       "      \n",
       "      <td>3</td>\n",
       "    </tr>\n",
       "  \n",
       "\n",
       "  \n",
       "</table>"
      ],
      "text/plain": [
       "#<Daru::Vector(3)>\n",
       "   c   1\n",
       "   d   2\n",
       "   p   3"
      ]
     },
     "execution_count": 30,
     "metadata": {},
     "output_type": "execute_result"
    }
   ],
   "source": [
    "vec[:a, :b]"
   ]
  },
  {
   "cell_type": "code",
   "execution_count": 31,
   "metadata": {
    "collapsed": false
   },
   "outputs": [
    {
     "data": {
      "text/html": [
       "<table>\n",
       "  <tr>\n",
       "    <th colspan=\"3\">Daru::Vector(4)</th>\n",
       "  </tr>\n",
       "  \n",
       "\n",
       "  \n",
       "    <tr>\n",
       "      \n",
       "        <th rowspan=\"3\">b</th>\n",
       "      \n",
       "        <th rowspan=\"1\">c</th>\n",
       "      \n",
       "      <td>1</td>\n",
       "    </tr>\n",
       "  \n",
       "    <tr>\n",
       "      \n",
       "        <th rowspan=\"1\">d</th>\n",
       "      \n",
       "      <td>2</td>\n",
       "    </tr>\n",
       "  \n",
       "    <tr>\n",
       "      \n",
       "        <th rowspan=\"1\">p</th>\n",
       "      \n",
       "      <td>3</td>\n",
       "    </tr>\n",
       "  \n",
       "    <tr>\n",
       "      \n",
       "        <th rowspan=\"1\">q</th>\n",
       "      \n",
       "        <th rowspan=\"1\">p</th>\n",
       "      \n",
       "      <td>1</td>\n",
       "    </tr>\n",
       "  \n",
       "\n",
       "  \n",
       "</table>"
      ],
      "text/plain": [
       "#<Daru::Vector(4)>\n",
       "   b   c   1\n",
       "       d   2\n",
       "       p   3\n",
       "   q   p   1"
      ]
     },
     "execution_count": 31,
     "metadata": {},
     "output_type": "execute_result"
    }
   ],
   "source": [
    "vec[:a]"
   ]
  },
  {
   "cell_type": "markdown",
   "metadata": {},
   "source": [
    "## The DateTimeIndex allows you to index timestamp-based data like stock prices"
   ]
  },
  {
   "cell_type": "code",
   "execution_count": 32,
   "metadata": {
    "collapsed": false
   },
   "outputs": [
    {
     "data": {
      "text/plain": [
       "#<Daru::DateTimeIndex(244, frequency=3D) 2011-01-01T00:00:00+00:00...2012-12-30T00:00:00+00:00>"
      ]
     },
     "execution_count": 32,
     "metadata": {},
     "output_type": "execute_result"
    }
   ],
   "source": [
    "date_time = Daru::DateTimeIndex.date_range(start: '2011', end: '2013', freq: '3D')"
   ]
  },
  {
   "cell_type": "code",
   "execution_count": 33,
   "metadata": {
    "collapsed": false,
    "scrolled": true
   },
   "outputs": [
    {
     "data": {
      "text/html": [
       "<table>\n",
       "  <tr>\n",
       "    <th colspan=\"2\">Daru::Vector(10)</th>\n",
       "  </tr>\n",
       "  \n",
       "\n",
       "  \n",
       "    <tr>\n",
       "      <td>2011-01-01T00:00:00+00:00</td>\n",
       "      <td>15</td>\n",
       "    </tr>\n",
       "  \n",
       "    <tr>\n",
       "      <td>2011-01-04T00:00:00+00:00</td>\n",
       "      <td>15</td>\n",
       "    </tr>\n",
       "  \n",
       "    <tr>\n",
       "      <td>2011-01-07T00:00:00+00:00</td>\n",
       "      <td>15</td>\n",
       "    </tr>\n",
       "  \n",
       "    <tr>\n",
       "      <td>2011-01-10T00:00:00+00:00</td>\n",
       "      <td>15</td>\n",
       "    </tr>\n",
       "  \n",
       "    <tr>\n",
       "      <td>2011-01-13T00:00:00+00:00</td>\n",
       "      <td>15</td>\n",
       "    </tr>\n",
       "  \n",
       "    <tr>\n",
       "      <td>2011-01-16T00:00:00+00:00</td>\n",
       "      <td>15</td>\n",
       "    </tr>\n",
       "  \n",
       "    <tr>\n",
       "      <td>2011-01-19T00:00:00+00:00</td>\n",
       "      <td>15</td>\n",
       "    </tr>\n",
       "  \n",
       "    <tr>\n",
       "      <td>2011-01-22T00:00:00+00:00</td>\n",
       "      <td>15</td>\n",
       "    </tr>\n",
       "  \n",
       "    <tr>\n",
       "      <td>2011-01-25T00:00:00+00:00</td>\n",
       "      <td>15</td>\n",
       "    </tr>\n",
       "  \n",
       "    <tr>\n",
       "      <td>2011-01-28T00:00:00+00:00</td>\n",
       "      <td>15</td>\n",
       "    </tr>\n",
       "  \n",
       "\n",
       "  \n",
       "</table>"
      ],
      "text/plain": [
       "#<Daru::Vector(10)>\n",
       " 2011-01-01T00:00:00+                   15\n",
       " 2011-01-04T00:00:00+                   15\n",
       " 2011-01-07T00:00:00+                   15\n",
       " 2011-01-10T00:00:00+                   15\n",
       " 2011-01-13T00:00:00+                   15\n",
       " 2011-01-16T00:00:00+                   15\n",
       " 2011-01-19T00:00:00+                   15\n",
       " 2011-01-22T00:00:00+                   15\n",
       " 2011-01-25T00:00:00+                   15\n",
       " 2011-01-28T00:00:00+                   15"
      ]
     },
     "execution_count": 33,
     "metadata": {},
     "output_type": "execute_result"
    }
   ],
   "source": [
    "vec = Daru::Vector.new([15]*date_time.size, index: date_time)\n",
    "vec.head"
   ]
  },
  {
   "cell_type": "markdown",
   "metadata": {},
   "source": [
    "### Query data based on date."
   ]
  },
  {
   "cell_type": "code",
   "execution_count": 34,
   "metadata": {
    "collapsed": false
   },
   "outputs": [
    {
     "data": {
      "text/html": [
       "<table>\n",
       "  <tr>\n",
       "    <th colspan=\"2\">Daru::Vector(14)</th>\n",
       "  </tr>\n",
       "  \n",
       "\n",
       "  \n",
       "    <tr>\n",
       "      <td>2011-01-01T00:00:00+00:00</td>\n",
       "      <td>15</td>\n",
       "    </tr>\n",
       "  \n",
       "    <tr>\n",
       "      <td>2011-01-04T00:00:00+00:00</td>\n",
       "      <td>15</td>\n",
       "    </tr>\n",
       "  \n",
       "    <tr>\n",
       "      <td>2011-01-07T00:00:00+00:00</td>\n",
       "      <td>15</td>\n",
       "    </tr>\n",
       "  \n",
       "    <tr>\n",
       "      <td>2011-01-10T00:00:00+00:00</td>\n",
       "      <td>15</td>\n",
       "    </tr>\n",
       "  \n",
       "    <tr>\n",
       "      <td>2011-01-13T00:00:00+00:00</td>\n",
       "      <td>15</td>\n",
       "    </tr>\n",
       "  \n",
       "    <tr>\n",
       "      <td>2011-01-16T00:00:00+00:00</td>\n",
       "      <td>15</td>\n",
       "    </tr>\n",
       "  \n",
       "    <tr>\n",
       "      <td>2011-01-19T00:00:00+00:00</td>\n",
       "      <td>15</td>\n",
       "    </tr>\n",
       "  \n",
       "    <tr>\n",
       "      <td>2011-01-22T00:00:00+00:00</td>\n",
       "      <td>15</td>\n",
       "    </tr>\n",
       "  \n",
       "    <tr>\n",
       "      <td>2011-01-25T00:00:00+00:00</td>\n",
       "      <td>15</td>\n",
       "    </tr>\n",
       "  \n",
       "    <tr>\n",
       "      <td>2011-01-28T00:00:00+00:00</td>\n",
       "      <td>15</td>\n",
       "    </tr>\n",
       "  \n",
       "    <tr>\n",
       "      <td>2011-01-31T00:00:00+00:00</td>\n",
       "      <td>15</td>\n",
       "    </tr>\n",
       "  \n",
       "    <tr>\n",
       "      <td>2011-02-03T00:00:00+00:00</td>\n",
       "      <td>15</td>\n",
       "    </tr>\n",
       "  \n",
       "    <tr>\n",
       "      <td>2011-02-06T00:00:00+00:00</td>\n",
       "      <td>15</td>\n",
       "    </tr>\n",
       "  \n",
       "    <tr>\n",
       "      <td>2011-02-09T00:00:00+00:00</td>\n",
       "      <td>15</td>\n",
       "    </tr>\n",
       "  \n",
       "\n",
       "  \n",
       "</table>"
      ],
      "text/plain": [
       "#<Daru::Vector(14)>\n",
       " 2011-01-01T00:00:00+                   15\n",
       " 2011-01-04T00:00:00+                   15\n",
       " 2011-01-07T00:00:00+                   15\n",
       " 2011-01-10T00:00:00+                   15\n",
       " 2011-01-13T00:00:00+                   15\n",
       " 2011-01-16T00:00:00+                   15\n",
       " 2011-01-19T00:00:00+                   15\n",
       " 2011-01-22T00:00:00+                   15\n",
       " 2011-01-25T00:00:00+                   15\n",
       " 2011-01-28T00:00:00+                   15\n",
       " 2011-01-31T00:00:00+                   15\n",
       " 2011-02-03T00:00:00+                   15\n",
       " 2011-02-06T00:00:00+                   15\n",
       " 2011-02-09T00:00:00+                   15"
      ]
     },
     "execution_count": 34,
     "metadata": {},
     "output_type": "execute_result"
    }
   ],
   "source": [
    "vec['2011-1'..'2011-2-10']"
   ]
  },
  {
   "cell_type": "code",
   "execution_count": 35,
   "metadata": {
    "collapsed": false
   },
   "outputs": [
    {
     "data": {
      "text/html": [
       "<table>\n",
       "  <tr>\n",
       "    <th colspan=\"2\">Daru::Vector(122)</th>\n",
       "  </tr>\n",
       "  \n",
       "\n",
       "  \n",
       "    <tr>\n",
       "      <td>2012-01-02T00:00:00+00:00</td>\n",
       "      <td>15</td>\n",
       "    </tr>\n",
       "  \n",
       "    <tr>\n",
       "      <td>2012-01-05T00:00:00+00:00</td>\n",
       "      <td>15</td>\n",
       "    </tr>\n",
       "  \n",
       "    <tr>\n",
       "      <td>2012-01-08T00:00:00+00:00</td>\n",
       "      <td>15</td>\n",
       "    </tr>\n",
       "  \n",
       "    <tr>\n",
       "      <td>2012-01-11T00:00:00+00:00</td>\n",
       "      <td>15</td>\n",
       "    </tr>\n",
       "  \n",
       "    <tr>\n",
       "      <td>2012-01-14T00:00:00+00:00</td>\n",
       "      <td>15</td>\n",
       "    </tr>\n",
       "  \n",
       "    <tr>\n",
       "      <td>2012-01-17T00:00:00+00:00</td>\n",
       "      <td>15</td>\n",
       "    </tr>\n",
       "  \n",
       "    <tr>\n",
       "      <td>2012-01-20T00:00:00+00:00</td>\n",
       "      <td>15</td>\n",
       "    </tr>\n",
       "  \n",
       "    <tr>\n",
       "      <td>2012-01-23T00:00:00+00:00</td>\n",
       "      <td>15</td>\n",
       "    </tr>\n",
       "  \n",
       "    <tr>\n",
       "      <td>2012-01-26T00:00:00+00:00</td>\n",
       "      <td>15</td>\n",
       "    </tr>\n",
       "  \n",
       "    <tr>\n",
       "      <td>2012-01-29T00:00:00+00:00</td>\n",
       "      <td>15</td>\n",
       "    </tr>\n",
       "  \n",
       "    <tr>\n",
       "      <td>2012-02-01T00:00:00+00:00</td>\n",
       "      <td>15</td>\n",
       "    </tr>\n",
       "  \n",
       "    <tr>\n",
       "      <td>2012-02-04T00:00:00+00:00</td>\n",
       "      <td>15</td>\n",
       "    </tr>\n",
       "  \n",
       "    <tr>\n",
       "      <td>2012-02-07T00:00:00+00:00</td>\n",
       "      <td>15</td>\n",
       "    </tr>\n",
       "  \n",
       "    <tr>\n",
       "      <td>2012-02-10T00:00:00+00:00</td>\n",
       "      <td>15</td>\n",
       "    </tr>\n",
       "  \n",
       "    <tr>\n",
       "      <td>2012-02-13T00:00:00+00:00</td>\n",
       "      <td>15</td>\n",
       "    </tr>\n",
       "  \n",
       "    <tr>\n",
       "      <td>2012-02-16T00:00:00+00:00</td>\n",
       "      <td>15</td>\n",
       "    </tr>\n",
       "  \n",
       "    <tr>\n",
       "      <td>2012-02-19T00:00:00+00:00</td>\n",
       "      <td>15</td>\n",
       "    </tr>\n",
       "  \n",
       "    <tr>\n",
       "      <td>2012-02-22T00:00:00+00:00</td>\n",
       "      <td>15</td>\n",
       "    </tr>\n",
       "  \n",
       "    <tr>\n",
       "      <td>2012-02-25T00:00:00+00:00</td>\n",
       "      <td>15</td>\n",
       "    </tr>\n",
       "  \n",
       "    <tr>\n",
       "      <td>2012-02-28T00:00:00+00:00</td>\n",
       "      <td>15</td>\n",
       "    </tr>\n",
       "  \n",
       "    <tr>\n",
       "      <td>2012-03-02T00:00:00+00:00</td>\n",
       "      <td>15</td>\n",
       "    </tr>\n",
       "  \n",
       "    <tr>\n",
       "      <td>2012-03-05T00:00:00+00:00</td>\n",
       "      <td>15</td>\n",
       "    </tr>\n",
       "  \n",
       "    <tr>\n",
       "      <td>2012-03-08T00:00:00+00:00</td>\n",
       "      <td>15</td>\n",
       "    </tr>\n",
       "  \n",
       "    <tr>\n",
       "      <td>2012-03-11T00:00:00+00:00</td>\n",
       "      <td>15</td>\n",
       "    </tr>\n",
       "  \n",
       "    <tr>\n",
       "      <td>2012-03-14T00:00:00+00:00</td>\n",
       "      <td>15</td>\n",
       "    </tr>\n",
       "  \n",
       "    <tr>\n",
       "      <td>2012-03-17T00:00:00+00:00</td>\n",
       "      <td>15</td>\n",
       "    </tr>\n",
       "  \n",
       "    <tr>\n",
       "      <td>2012-03-20T00:00:00+00:00</td>\n",
       "      <td>15</td>\n",
       "    </tr>\n",
       "  \n",
       "    <tr>\n",
       "      <td>2012-03-23T00:00:00+00:00</td>\n",
       "      <td>15</td>\n",
       "    </tr>\n",
       "  \n",
       "    <tr>\n",
       "      <td>2012-03-26T00:00:00+00:00</td>\n",
       "      <td>15</td>\n",
       "    </tr>\n",
       "  \n",
       "    <tr>\n",
       "      <td>2012-03-29T00:00:00+00:00</td>\n",
       "      <td>15</td>\n",
       "    </tr>\n",
       "  \n",
       "\n",
       "  \n",
       "    \n",
       "    <tr><td>...</td><td>...</td></tr>\n",
       "    <tr>\n",
       "      <td>121</td>\n",
       "      <td>15</td>\n",
       "    </tr>\n",
       "  \n",
       "</table>"
      ],
      "text/plain": [
       "#<Daru::Vector(122)>\n",
       " 2012-01-02T00:00:00+                   15\n",
       " 2012-01-05T00:00:00+                   15\n",
       " 2012-01-08T00:00:00+                   15\n",
       " 2012-01-11T00:00:00+                   15\n",
       " 2012-01-14T00:00:00+                   15\n",
       " 2012-01-17T00:00:00+                   15\n",
       " 2012-01-20T00:00:00+                   15\n",
       " 2012-01-23T00:00:00+                   15\n",
       " 2012-01-26T00:00:00+                   15\n",
       " 2012-01-29T00:00:00+                   15\n",
       " 2012-02-01T00:00:00+                   15\n",
       " 2012-02-04T00:00:00+                   15\n",
       " 2012-02-07T00:00:00+                   15\n",
       " 2012-02-10T00:00:00+                   15\n",
       " 2012-02-13T00:00:00+                   15\n",
       "                  ...                  ..."
      ]
     },
     "execution_count": 35,
     "metadata": {},
     "output_type": "execute_result"
    }
   ],
   "source": [
    "vec['2012']"
   ]
  },
  {
   "cell_type": "markdown",
   "metadata": {},
   "source": [
    "### Create a dataframe and sort it based on a particular column."
   ]
  },
  {
   "cell_type": "code",
   "execution_count": 36,
   "metadata": {
    "collapsed": false
   },
   "outputs": [
    {
     "data": {
      "text/html": [
       "<table>\n",
       "  <tr>\n",
       "    <th colspan='3'>Daru::DataFrame(5x2)</th>\n",
       "  </tr>\n",
       "\n",
       "  \n",
       "    <tr>\n",
       "      <th></th>\n",
       "      \n",
       "        <th>name</th>\n",
       "      \n",
       "        <th>temp</th>\n",
       "      \n",
       "    </tr>\n",
       "  \n",
       "\n",
       "  \n",
       "    <tr>\n",
       "      <td>0</td>\n",
       "      \n",
       "        <td>Tokyo</td>\n",
       "      \n",
       "        <td>20</td>\n",
       "      \n",
       "    </tr>\n",
       "  \n",
       "    <tr>\n",
       "      <td>4</td>\n",
       "      \n",
       "        <td>Osaka</td>\n",
       "      \n",
       "        <td>24</td>\n",
       "      \n",
       "    </tr>\n",
       "  \n",
       "    <tr>\n",
       "      <td>2</td>\n",
       "      \n",
       "        <td>Kyoto</td>\n",
       "      \n",
       "        <td>25</td>\n",
       "      \n",
       "    </tr>\n",
       "  \n",
       "    <tr>\n",
       "      <td>3</td>\n",
       "      \n",
       "        <td>Singapore</td>\n",
       "      \n",
       "        <td>30</td>\n",
       "      \n",
       "    </tr>\n",
       "  \n",
       "    <tr>\n",
       "      <td>1</td>\n",
       "      \n",
       "        <td>Mumbai</td>\n",
       "      \n",
       "        <td>35</td>\n",
       "      \n",
       "    </tr>\n",
       "  \n",
       "\n",
       "  \n",
       "</table>"
      ],
      "text/plain": [
       "#<Daru::DataFrame(5x2)>\n",
       "                name      temp\n",
       "         0     Tokyo        20\n",
       "         4     Osaka        24\n",
       "         2     Kyoto        25\n",
       "         3 Singapore        30\n",
       "         1    Mumbai        35"
      ]
     },
     "execution_count": 36,
     "metadata": {},
     "output_type": "execute_result"
    }
   ],
   "source": [
    "df = Daru::DataFrame.new({\n",
    "  name: ['Tokyo', 'Mumbai', 'Kyoto', 'Singapore', 'Osaka'],\n",
    "  temp:  [20,35,25,30,24] \n",
    "  }, order: [:name, :temp])\n",
    "\n",
    "df.sort!([:temp])"
   ]
  },
  {
   "cell_type": "markdown",
   "metadata": {},
   "source": [
    "## Plotting can be easily done with daru and nyaplot"
   ]
  },
  {
   "cell_type": "code",
   "execution_count": 38,
   "metadata": {
    "collapsed": false
   },
   "outputs": [
    {
     "data": {
      "text/html": [
       "<div id='vis-01f0c34c-c43f-46b0-a80f-f0baba19ddc5'></div>\n",
       "<script>\n",
       "(function(){\n",
       "    var render = function(){\n",
       "        var model = {\"panes\":[{\"diagrams\":[{\"type\":\"bar\",\"options\":{\"x\":\"name\",\"y\":\"temp\"},\"data\":\"07112e43-271e-4870-8355-9fdd17337438\"}],\"options\":{\"x_label\":\"City\",\"y_label\":\"Temperature\",\"yrange\":[0,50],\"width\":700,\"xrange\":[\"Tokyo\",\"Osaka\",\"Kyoto\",\"Singapore\",\"Mumbai\"]}}],\"data\":{\"07112e43-271e-4870-8355-9fdd17337438\":[{\"name\":\"Tokyo\",\"temp\":20},{\"name\":\"Osaka\",\"temp\":24},{\"name\":\"Kyoto\",\"temp\":25},{\"name\":\"Singapore\",\"temp\":30},{\"name\":\"Mumbai\",\"temp\":35}]},\"extension\":[]}\n",
       "        var id_name = '#vis-01f0c34c-c43f-46b0-a80f-f0baba19ddc5';\n",
       "        Nyaplot.core.parse(model, id_name);\n",
       "\n",
       "        require(['downloadable'], function(downloadable){\n",
       "          var svg = d3.select(id_name).select(\"svg\");\n",
       "\t  if(!svg.empty())\n",
       "\t    svg.call(downloadable().filename('fig'));\n",
       "\t});\n",
       "    };\n",
       "    if(window['Nyaplot']==undefined){\n",
       "        window.addEventListener('load_nyaplot', render, false);\n",
       "\treturn;\n",
       "    } else {\n",
       "       render();\n",
       "    }\n",
       "})();\n",
       "</script>\n"
      ],
      "text/plain": [
       "#<Nyaplot::Frame:0x9a618b0 @properties={:panes=>[#<Nyaplot::Plot:0x9a68610 @properties={:diagrams=>[#<Nyaplot::Diagram:0x9a61d60 @properties={:type=>:bar, :options=>{:x=>:name, :y=>:temp}, :data=>\"07112e43-271e-4870-8355-9fdd17337438\"}, @xrange=[\"Tokyo\", \"Osaka\", \"Kyoto\", \"Singapore\", \"Mumbai\"], @yrange=[0, 35]>], :options=>{:x_label=>\"City\", :y_label=>\"Temperature\", :yrange=>[0, 50], :width=>700, :xrange=>[\"Tokyo\", \"Osaka\", \"Kyoto\", \"Singapore\", \"Mumbai\"]}}>], :data=>{\"07112e43-271e-4870-8355-9fdd17337438\"=>#<Nyaplot::DataFrame:0x9a62170 @name=\"07112e43-271e-4870-8355-9fdd17337438\", @rows=[{:name=>\"Tokyo\", :temp=>20}, {:name=>\"Osaka\", :temp=>24}, {:name=>\"Kyoto\", :temp=>25}, {:name=>\"Singapore\", :temp=>30}, {:name=>\"Mumbai\", :temp=>35}]>}, :extension=>[]}>"
      ]
     },
     "metadata": {},
     "output_type": "display_data"
    }
   ],
   "source": [
    "df.plot type: :bar, x: :name, y: :temp do |plot|\n",
    "  plot.x_label \"City\"\n",
    "  plot.y_label \"Temperature\"\n",
    "  plot.yrange [0,50]\n",
    "end"
   ]
  },
  {
   "cell_type": "code",
   "execution_count": null,
   "metadata": {
    "collapsed": false
   },
   "outputs": [],
   "source": []
  }
 ],
 "metadata": {
  "kernelspec": {
   "display_name": "Ruby 2.2.1",
   "language": "ruby",
   "name": "ruby"
  },
  "language_info": {
   "file_extension": ".rb",
   "mimetype": "application/x-ruby",
   "name": "ruby",
   "version": "2.2.1"
  }
 },
 "nbformat": 4,
 "nbformat_minor": 0
}
